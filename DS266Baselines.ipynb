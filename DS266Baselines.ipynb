{
  "nbformat": 4,
  "nbformat_minor": 0,
  "metadata": {
    "colab": {
      "provenance": [],
      "gpuType": "V100",
      "toc_visible": true
    },
    "kernelspec": {
      "name": "python3",
      "display_name": "Python 3"
    },
    "language_info": {
      "name": "python"
    },
    "accelerator": "GPU"
  },
  "cells": [
    {
      "cell_type": "markdown",
      "source": [
        "## Setup and Libraries"
      ],
      "metadata": {
        "id": "tH5E-X5QLJfw"
      }
    },
    {
      "cell_type": "code",
      "source": [
        "!pip install -U tensorflow-text --quiet\n",
        "!pip install transformers --quiet\n",
        "!pip install tensorflow_decision_forests --quiet\n",
        "!pip install optuna --quiet\n",
        "!pip install --upgrade pandas"
      ],
      "metadata": {
        "colab": {
          "base_uri": "https://localhost:8080/"
        },
        "id": "6kZdZMlLLXYw",
        "outputId": "7d7002dd-cc32-49d7-89a0-4aa102af66d6"
      },
      "execution_count": null,
      "outputs": [
        {
          "output_type": "stream",
          "name": "stdout",
          "text": [
            "\u001b[2K     \u001b[90m━━━━━━━━━━━━━━━━━━━━━━━━━━━━━━━━━━━━━━━━\u001b[0m \u001b[32m5.2/5.2 MB\u001b[0m \u001b[31m13.3 MB/s\u001b[0m eta \u001b[36m0:00:00\u001b[0m\n",
            "\u001b[2K     \u001b[90m━━━━━━━━━━━━━━━━━━━━━━━━━━━━━━━━━━━━━━━━\u001b[0m \u001b[32m589.8/589.8 MB\u001b[0m \u001b[31m1.4 MB/s\u001b[0m eta \u001b[36m0:00:00\u001b[0m\n",
            "\u001b[2K     \u001b[90m━━━━━━━━━━━━━━━━━━━━━━━━━━━━━━━━━━━━━━━━\u001b[0m \u001b[32m5.3/5.3 MB\u001b[0m \u001b[31m42.7 MB/s\u001b[0m eta \u001b[36m0:00:00\u001b[0m\n",
            "\u001b[2K     \u001b[90m━━━━━━━━━━━━━━━━━━━━━━━━━━━━━━━━━━━━━━━━\u001b[0m \u001b[32m2.2/2.2 MB\u001b[0m \u001b[31m56.1 MB/s\u001b[0m eta \u001b[36m0:00:00\u001b[0m\n",
            "\u001b[2K     \u001b[90m━━━━━━━━━━━━━━━━━━━━━━━━━━━━━━━━━━━━━━━━\u001b[0m \u001b[32m5.5/5.5 MB\u001b[0m \u001b[31m47.1 MB/s\u001b[0m eta \u001b[36m0:00:00\u001b[0m\n",
            "\u001b[2K     \u001b[90m━━━━━━━━━━━━━━━━━━━━━━━━━━━━━━━━━━━━━━━━\u001b[0m \u001b[32m1.1/1.1 MB\u001b[0m \u001b[31m42.5 MB/s\u001b[0m eta \u001b[36m0:00:00\u001b[0m\n",
            "\u001b[2K     \u001b[90m━━━━━━━━━━━━━━━━━━━━━━━━━━━━━━━━━━━━━━━━\u001b[0m \u001b[32m311.2/311.2 kB\u001b[0m \u001b[31m33.4 MB/s\u001b[0m eta \u001b[36m0:00:00\u001b[0m\n",
            "\u001b[?25h\u001b[31mERROR: pip's dependency resolver does not currently take into account all the packages that are installed. This behaviour is the source of the following dependency conflicts.\n",
            "tf-keras 2.15.1 requires tensorflow<2.16,>=2.15, but you have tensorflow 2.16.1 which is incompatible.\u001b[0m\u001b[31m\n",
            "\u001b[2K     \u001b[90m━━━━━━━━━━━━━━━━━━━━━━━━━━━━━━━━━━━━━━━━\u001b[0m \u001b[32m15.5/15.5 MB\u001b[0m \u001b[31m44.2 MB/s\u001b[0m eta \u001b[36m0:00:00\u001b[0m\n",
            "\u001b[2K     \u001b[90m━━━━━━━━━━━━━━━━━━━━━━━━━━━━━━━━━━━━━━━━\u001b[0m \u001b[32m1.7/1.7 MB\u001b[0m \u001b[31m59.0 MB/s\u001b[0m eta \u001b[36m0:00:00\u001b[0m\n",
            "\u001b[2K     \u001b[90m━━━━━━━━━━━━━━━━━━━━━━━━━━━━━━━━━━━━━━━━\u001b[0m \u001b[32m380.1/380.1 kB\u001b[0m \u001b[31m3.2 MB/s\u001b[0m eta \u001b[36m0:00:00\u001b[0m\n",
            "\u001b[2K     \u001b[90m━━━━━━━━━━━━━━━━━━━━━━━━━━━━━━━━━━━━━━━━\u001b[0m \u001b[32m233.4/233.4 kB\u001b[0m \u001b[31m17.8 MB/s\u001b[0m eta \u001b[36m0:00:00\u001b[0m\n",
            "\u001b[2K     \u001b[90m━━━━━━━━━━━━━━━━━━━━━━━━━━━━━━━━━━━━━━━━\u001b[0m \u001b[32m78.8/78.8 kB\u001b[0m \u001b[31m10.5 MB/s\u001b[0m eta \u001b[36m0:00:00\u001b[0m\n",
            "\u001b[?25hRequirement already satisfied: pandas in /usr/local/lib/python3.10/dist-packages (2.0.3)\n",
            "Collecting pandas\n",
            "  Downloading pandas-2.2.2-cp310-cp310-manylinux_2_17_x86_64.manylinux2014_x86_64.whl (13.0 MB)\n",
            "\u001b[2K     \u001b[90m━━━━━━━━━━━━━━━━━━━━━━━━━━━━━━━━━━━━━━━━\u001b[0m \u001b[32m13.0/13.0 MB\u001b[0m \u001b[31m52.7 MB/s\u001b[0m eta \u001b[36m0:00:00\u001b[0m\n",
            "\u001b[?25hRequirement already satisfied: numpy>=1.22.4 in /usr/local/lib/python3.10/dist-packages (from pandas) (1.25.2)\n",
            "Requirement already satisfied: python-dateutil>=2.8.2 in /usr/local/lib/python3.10/dist-packages (from pandas) (2.8.2)\n",
            "Requirement already satisfied: pytz>=2020.1 in /usr/local/lib/python3.10/dist-packages (from pandas) (2023.4)\n",
            "Requirement already satisfied: tzdata>=2022.7 in /usr/local/lib/python3.10/dist-packages (from pandas) (2024.1)\n",
            "Requirement already satisfied: six>=1.5 in /usr/local/lib/python3.10/dist-packages (from python-dateutil>=2.8.2->pandas) (1.16.0)\n",
            "Installing collected packages: pandas\n",
            "  Attempting uninstall: pandas\n",
            "    Found existing installation: pandas 2.0.3\n",
            "    Uninstalling pandas-2.0.3:\n",
            "      Successfully uninstalled pandas-2.0.3\n",
            "\u001b[31mERROR: pip's dependency resolver does not currently take into account all the packages that are installed. This behaviour is the source of the following dependency conflicts.\n",
            "google-colab 1.0.0 requires pandas==2.0.3, but you have pandas 2.2.2 which is incompatible.\u001b[0m\u001b[31m\n",
            "\u001b[0mSuccessfully installed pandas-2.2.2\n"
          ]
        }
      ]
    },
    {
      "cell_type": "code",
      "source": [
        "## Library imports\n",
        "import gzip\n",
        "import io\n",
        "import pandas as pd\n",
        "import warnings\n",
        "import math\n",
        "import numpy as np\n",
        "\n",
        "import tensorflow as tf\n",
        "from tensorflow import keras\n",
        "import tensorflow_decision_forests as tfdf\n",
        "import optuna\n",
        "from sklearn.metrics import accuracy_score, precision_score, recall_score\n",
        "\n",
        "import matplotlib.pyplot as plt\n",
        "\n",
        "from google.colab import files\n",
        "\n",
        "# Other options\n",
        "warnings.filterwarnings(\"ignore\", category=DeprecationWarning)"
      ],
      "metadata": {
        "id": "Hf0nk2Zlogms"
      },
      "execution_count": null,
      "outputs": []
    },
    {
      "cell_type": "markdown",
      "source": [
        "## Data load"
      ],
      "metadata": {
        "id": "fJ66RYnyeD6r"
      }
    },
    {
      "cell_type": "code",
      "source": [
        "## Load datasets\n",
        "from google.colab import drive\n",
        "\n",
        "# Mount Google Drive\n",
        "drive.mount('/content/drive')\n",
        "model_checkpoints_path = '/content/drive/My Drive/ds266proj/model_checkpoints'\n",
        "\n",
        "# Read data from to Google Drive\n",
        "hs_all_data = pd.read_csv('/content/drive/My Drive/ds266proj/hs_cards_data_text.csv')\n",
        "nr_all_data = pd.read_csv('/content/drive/My Drive/ds266proj/nr_cards_data_text.csv')"
      ],
      "metadata": {
        "colab": {
          "base_uri": "https://localhost:8080/"
        },
        "id": "8Q4Tj6UneGFG",
        "outputId": "bd414bce-1af4-4a86-9819-bb7714dcb48d"
      },
      "execution_count": null,
      "outputs": [
        {
          "output_type": "stream",
          "name": "stdout",
          "text": [
            "Drive already mounted at /content/drive; to attempt to forcibly remount, call drive.mount(\"/content/drive\", force_remount=True).\n"
          ]
        }
      ]
    },
    {
      "cell_type": "markdown",
      "source": [
        "### Some summary stats"
      ],
      "metadata": {
        "id": "xHAxIUZvV5d-"
      }
    },
    {
      "cell_type": "code",
      "source": [
        "## Average number of words per description\n",
        "nr_desc = list(nr_all_data['description'])\n",
        "nr_desc_lens = [len(desc.split()) for desc in nr_desc]\n",
        "print(f'Average NetRunner Description Word Count: {np.array(nr_desc_lens).mean()}')\n",
        "\n",
        "hs_desc = list(hs_all_data['description'])\n",
        "hs_desc_lens = [len(desc.split()) for desc in hs_desc]\n",
        "print(f'Average HearthStone Description Word Count: {np.array(hs_desc_lens).mean()}')\n",
        "\n",
        "## Card text\n",
        "nr_texts = [desc.split(\"The card text says \")[1].strip() for desc in nr_desc]\n",
        "nr_texts_lens = [len(text.split()) for text in nr_texts]\n",
        "print(f'Average NetRunner Card Text Word Count: {np.array(nr_texts_lens).mean()}')\n",
        "\n",
        "hs_texts = [desc.split(\"The card text says:\")[1].strip() for desc in hs_desc]\n",
        "hs_texts_lens = [len(text.split()) for text in hs_texts]\n",
        "print(f'Average HearthStone Card Text Word Count: {np.array(hs_texts_lens).mean()}')\n",
        "\n",
        "## Total unique words in card vocab\n",
        "hs_split_texts = [text.split() for text in hs_texts]\n",
        "hs_texts_words = set([word for desc in hs_split_texts for word in desc])\n",
        "print(f'Unique HearthStone Card Text Word Count: {len(hs_texts_words)}')\n",
        "\n",
        "nr_split_texts = [text.split() for text in nr_texts]\n",
        "nr_texts_words = set([word for desc in nr_split_texts for word in desc])\n",
        "print(f'Unique NetRunner Card Text Word Count: {len(nr_texts_words)}')"
      ],
      "metadata": {
        "colab": {
          "base_uri": "https://localhost:8080/"
        },
        "id": "YN5NmuyVV5Ob",
        "outputId": "d0a7ba89-cef3-40fe-ef9a-51de3349a20d"
      },
      "execution_count": null,
      "outputs": [
        {
          "output_type": "stream",
          "name": "stdout",
          "text": [
            "Average NetRunner Description Word Count: 55.228450306170515\n",
            "Average HearthStone Description Word Count: 34.44637873754153\n",
            "Average NetRunner Card Text Word Count: 27.457842675459254\n",
            "Average HearthStone Card Text Word Count: 11.282259136212625\n",
            "Unique HearthStone Card Text Word Count: 2034\n",
            "Unique NetRunner Card Text Word Count: 1878\n"
          ]
        }
      ]
    },
    {
      "cell_type": "markdown",
      "source": [
        "## Baseline Model Experimentation\n",
        "\n",
        "The baseline model will be to use a decision tree and random forest approach that also ignores the text of the cards. This is expected to perform quite poorly."
      ],
      "metadata": {
        "id": "WLXuFzjSKV8t"
      }
    },
    {
      "cell_type": "markdown",
      "source": [
        "### Data preparation"
      ],
      "metadata": {
        "id": "_do5yzHUempC"
      }
    },
    {
      "cell_type": "code",
      "source": [
        "## Set up the various subsetdatasets for modeling\n",
        "\n",
        "## Include all the mechanics\n",
        "hs_features_allnontext = hs_all_data[['classes',\n",
        "                                      # Key info\n",
        "                                      'health', 'cost', 'attack', 'durability', 'armor',\n",
        "                                      # Card dscriptors\n",
        "                                      'Hero', 'Location', 'Minion', 'Spell', 'Weapon',\n",
        "                                      # tribes\n",
        "                                      'MECH', 'QUILBOAR', 'DEMON', 'PIRATE', 'TOTEM', 'NAGA', 'ELEMENTAL',\n",
        "                                      'ALL', 'BEAST', 'MURLOC', 'DRAGON', 'UNDEAD',\n",
        "                                      # spell schools\n",
        "                                      'ARCANE', 'FEL', 'FIRE', 'FROST', 'HOLY', 'NATURE', 'SHADOW',\n",
        "                                      # keywords\n",
        "                                      'QUICKDRAW', 'COLLECTIONMANAGER_FILTER_MANA_ODD', 'ADJACENT_BUFF', 'GEARS',\n",
        "                                      'DEAL_DAMAGE', 'FORGETFUL', 'MODULAR', 'SECRET', 'ECHO',\n",
        "                                      'MULTIPLY_BUFF_VALUE', 'CHOOSE_ONE', 'FORGE', 'WHELP', 'HONORABLE_KILL',\n",
        "                                      'TWINSPELL', 'QUEST', 'FRENZY', 'OVERHEAL', 'CHARGE', 'FREEZE',\n",
        "                                      'OVERKILL', 'SPELLPOWER', 'DIVINE_SHIELD', 'AFFECTED_BY_SPELL_POWER',\n",
        "                                      'ENRAGED', 'COMBO', 'DEATHRATTLE', 'REBORN', 'CORRUPT', 'HIDE_STATS',\n",
        "                                      'SILENCE', 'TOPDECK', 'POISONOUS', 'WINDFURY', 'TAUNT', 'KABAL',\n",
        "                                      'COLOSSAL', 'GRIMY_GOONS', 'TRADEABLE', 'OVERLOAD', 'INSPIRE',\n",
        "                                      'NON_KEYWORD_ECHO', 'SUMMON', 'EXCAVATE', 'AURA', 'BATTLECRY',\n",
        "                                      'OUTCAST', 'MANATHIRST', 'RUSH', 'HEROPOWER_DAMAGE',\n",
        "                                      'RECEIVES_DOUBLE_SPELLDAMAGE_BONUS', 'JADE_LOTUS', 'FINALE',\n",
        "                                      'DEATH_KNIGHT', 'DREDGE', 'INFUSE',\n",
        "                                      'COLLECTIONMANAGER_FILTER_MANA_EVEN', 'TRIGGER_VISUAL', 'LIFESTEAL',\n",
        "                                      'START_OF_GAME_KEYWORD', 'IMP', 'RESTORE_HEALTH', 'JADE_GOLEM',\n",
        "                                      'DISCOVER', 'STEALTH', 'FINISH_ATTACK_SPELL_ON_DAMAGE']].copy()\n",
        "\n",
        "nr_features_allnontext = nr_all_data[['faction_code',\n",
        "                                      # Key info\n",
        "                                      'runner', 'corp', 'ice', 'upgrade', 'hardware', 'resource', 'identity',\n",
        "                                      'operation', 'agenda', 'program', 'asset', 'event',\n",
        "                                      # Card dscriptors\n",
        "                                      'influence', 'unique', 'cost', 'trash_cost', 'memory_cost', 'strength',\n",
        "                                      'advancement_cost', 'agenda_points', 'base_link',\n",
        "                                      'influence_limit', 'minimum_deck_size', 'deck_limit',\n",
        "                                      # # keywords\n",
        "                                      'morph', 'job', 'location', 'deepnet', 'ambush', 'blackops',\n",
        "                                      'advertisement', 'lockdown', 'codegate', 'enforcer', 'genetics',\n",
        "                                      'sabotage', 'chip', 'source', 'grayops', 'consumergrade', 'division',\n",
        "                                      'priority', 'killer', 'link', 'directive', 'sensie', 'caissa',\n",
        "                                      'trap', 'remote', 'companion', 'deflector', 'hostile', 'vehicle', 'seedy',\n",
        "                                      'bioroid', 'terminal', 'harmonic', 'deva', 'political', 'decoder', 'beanstalk',\n",
        "                                      'psi', 'megacorp', 'cast', 'orgcrime', 'clone', 'reprisal', 'console', 'mythic',\n",
        "                                      'corporation', 'clan', 'grail', 'ai', 'barrier', 'research', 'character', 'trojan',\n",
        "                                      'stealth', 'triple', 'icebreaker', 'academic', 'securityprotocol', 'cyborg',\n",
        "                                      'digital', 'connection', 'transaction', 'ritzy', 'fracter', 'region', 'expendable',\n",
        "                                      'virus', 'expansion', 'offsite', 'industrial', 'daemon', 'virtual', 'observer',\n",
        "                                      'facility', 'current', 'alliance', 'cloud', 'executive', 'condition', 'policedepartment',\n",
        "                                      'weapon', 'destroyer', 'tracer', 'unorthodox', 'natural', 'sentry', 'subsidiary',\n",
        "                                      'security', 'gear', 'sysop', 'next', 'run', 'double', 'gmod', 'ap',\n",
        "                                      'cybernetic', 'initiative', 'illicit', 'mod', 'government', 'public']].copy()\n"
      ],
      "metadata": {
        "id": "Rn10zxl3_-PF"
      },
      "execution_count": null,
      "outputs": []
    },
    {
      "cell_type": "code",
      "source": [
        "## CODE FOR TRAIN AND TEST SPLITS\n",
        "##===========================================================\n",
        "\n",
        "def splitTrainTest(dataset,\n",
        "                   label,\n",
        "                   test_ratio = 0.3):\n",
        "\n",
        "  # Set up the modeling dataset and classification label\n",
        "  modeling_df = dataset.copy()\n",
        "  classes = modeling_df[label].unique().tolist()\n",
        "  print(f\"Label classes: {classes}\")\n",
        "  # Convert the label to a numeric value\n",
        "  modeling_df.loc[:, label] = modeling_df[label].map(classes.index)\n",
        "\n",
        "  # Split into training and test data\n",
        "  np.random.seed(2319)\n",
        "  test_indices = np.random.rand(len(modeling_df)) < test_ratio\n",
        "  print(\"{} examples in training, {} examples for testing.\".format(\n",
        "    len(modeling_df[~test_indices]), len(modeling_df[test_indices])))\n",
        "\n",
        "  return modeling_df[~test_indices], modeling_df[test_indices]\n",
        "\n",
        "hs_train, hs_test = splitTrainTest(hs_features_allnontext, label = 'classes')\n",
        "nr_train, nr_test = splitTrainTest(nr_features_allnontext, label = 'faction_code')"
      ],
      "metadata": {
        "colab": {
          "base_uri": "https://localhost:8080/"
        },
        "id": "brMNyrHCe_Va",
        "outputId": "ab97fa7f-25ed-4f54-f10e-448059d036c2"
      },
      "execution_count": null,
      "outputs": [
        {
          "output_type": "stream",
          "name": "stdout",
          "text": [
            "Label classes: ['PRIEST', 'WARRIOR', 'WARLOCK', 'SHAMAN', 'DRUID', 'PALADIN', 'MAGE', 'HUNTER', 'ROGUE', 'DEMONHUNTER', 'DEATHKNIGHT', 'NEUTRAL']\n",
            "5234 examples in training, 2291 examples for testing.\n",
            "Label classes: ['neutral-corp', 'neutral-runner', 'weyland-consortium', 'nbn', 'jinteki', 'haas-bioroid', 'shaper', 'criminal', 'anarch']\n",
            "1495 examples in training, 628 examples for testing.\n"
          ]
        }
      ]
    },
    {
      "cell_type": "markdown",
      "source": [
        "### Decision Tree and Gradient Boosted Tree Modeling"
      ],
      "metadata": {
        "id": "egxZ8e_hGgEv"
      }
    },
    {
      "cell_type": "code",
      "source": [
        "## CODE TO GENERATE A TREE MODEL USING AN ARBITRARY DATASET\n",
        "## Basic structure taken from https://www.tensorflow.org/decision_forests/tutorials/beginner_colab\n",
        "##===========================================================\n",
        "\n",
        "def fitTreeModel(training_data,\n",
        "                 test_data,\n",
        "                 label,\n",
        "                 tree_type = 'RandomForest',\n",
        "                 num_trees = 500):\n",
        "  print(\"here\")\n",
        "  # Convert into tensorflow dfs\n",
        "  train_ds = tfdf.keras.pd_dataframe_to_tf_dataset(training_data, label=label)\n",
        "  test_ds = tfdf.keras.pd_dataframe_to_tf_dataset(test_data, label=label)\n",
        "  print(\"there\")\n",
        "\n",
        "  # Specify the model type\n",
        "  if tree_type == 'RandomForest':\n",
        "    model = tfdf.keras.RandomForestModel(num_trees = num_trees)\n",
        "  elif tree_type == 'GBTree':\n",
        "    model = tfdf.keras.GradientBoostedTreesModel(num_trees = num_trees)\n",
        "  else:\n",
        "    print('Unsupported tree type')\n",
        "    return\n",
        "\n",
        "  # Fit the selected model\n",
        "  model.fit(train_ds)\n",
        "\n",
        "  # Model evaluation\n",
        "  model.compile(metrics=[\"accuracy\"])\n",
        "  evaluation = model.evaluate(test_ds, return_dict=True)\n",
        "\n",
        "  return model, evaluation\n"
      ],
      "metadata": {
        "id": "Wwj3pI5KMZRW"
      },
      "execution_count": null,
      "outputs": []
    },
    {
      "cell_type": "code",
      "source": [
        "## Train some models on the input datasets\n",
        "##--------------------------------------------------\n",
        "hs_model, hs_model_eval = fitTreeModel(training_data = hs_train,\n",
        "                                       test_data = hs_test,\n",
        "                                       label = 'classes')\n",
        "\n",
        "hs_model_gb, hs_model_eval_gb = fitTreeModel(training_data = hs_train,\n",
        "                                             test_data = hs_test,\n",
        "                                             label = 'classes',\n",
        "                                             tree_type = 'GBTree')\n",
        "\n",
        "nr_model, nr_model_eval = fitTreeModel(training_data = nr_train,\n",
        "                                       test_data = nr_test,\n",
        "                                       label = 'faction_code')\n",
        "\n",
        "nr_model_gb, nr_model_eval_gb = fitTreeModel(training_data = nr_train,\n",
        "                                             test_data = nr_test,\n",
        "                                             label = 'faction_code',\n",
        "                                             tree_type = 'GBTree')"
      ],
      "metadata": {
        "id": "S7eh_OOyC9Tt",
        "colab": {
          "base_uri": "https://localhost:8080/"
        },
        "outputId": "abc7aa1e-9ed4-4254-e980-e1cb9269506f"
      },
      "execution_count": null,
      "outputs": [
        {
          "output_type": "stream",
          "name": "stdout",
          "text": [
            "here\n",
            "there\n",
            "Use /tmp/tmpw8z_pw6k as temporary training directory\n",
            "Reading training dataset...\n",
            "Training dataset read in 0:00:09.312930. Found 5234 examples.\n",
            "Training model...\n",
            "Model trained in 0:00:21.926987\n",
            "Compiling model...\n",
            "Model compiled.\n",
            "3/3 [==============================] - 6s 135ms/step - loss: 0.0000e+00 - accuracy: 0.3483\n",
            "here\n",
            "there\n",
            "Use /tmp/tmp01ckw1p9 as temporary training directory\n",
            "Reading training dataset...\n",
            "Training dataset read in 0:00:01.517238. Found 5234 examples.\n",
            "Training model...\n",
            "Model trained in 0:01:39.084864\n",
            "Compiling model...\n",
            "Model compiled.\n",
            "3/3 [==============================] - 1s 59ms/step - loss: 0.0000e+00 - accuracy: 0.4107\n",
            "here\n",
            "there\n",
            "Use /tmp/tmpzehoy0qv as temporary training directory\n",
            "Reading training dataset...\n",
            "Training dataset read in 0:00:02.162202. Found 1495 examples.\n",
            "Training model...\n",
            "Model trained in 0:00:08.097361\n",
            "Compiling model...\n",
            "Model compiled.\n",
            "1/1 [==============================] - 1s 519ms/step - loss: 0.0000e+00 - accuracy: 0.4889\n",
            "here\n",
            "there\n",
            "Use /tmp/tmprvqayu5l as temporary training directory\n",
            "Reading training dataset...\n",
            "Training dataset read in 0:00:01.491294. Found 1495 examples.\n",
            "Training model...\n",
            "Model trained in 0:00:09.267025\n",
            "Compiling model...\n",
            "Model compiled.\n",
            "1/1 [==============================] - 0s 455ms/step - loss: 0.0000e+00 - accuracy: 0.5000\n"
          ]
        }
      ]
    },
    {
      "cell_type": "code",
      "source": [
        "## Generate predictions for the validation data:\n",
        "\n",
        "## HS MODELS\n",
        "##-----------------------------------------------------------------\n",
        "## Decision tree\n",
        "hs_test_tf = tfdf.keras.pd_dataframe_to_tf_dataset(hs_test, label='classes')\n",
        "hs_model_pred = hs_model.predict(hs_test_tf)\n",
        "pred_classes_1 = list(np.argmax(hs_model_pred, axis=1))\n",
        "true_classes_hs = list(hs_test['classes'])\n",
        "\n",
        "accuracy_1 = accuracy_score(true_classes_hs, pred_classes_1)\n",
        "precision_1 = precision_score(true_classes_hs, pred_classes_1, average='weighted')\n",
        "recall_1 = recall_score(true_classes_hs, pred_classes_1, average='weighted')\n",
        "\n",
        "print(\"-\"*100)\n",
        "print(f'Hearthstone Tree Model Accuracy: {accuracy_1:.4f}')\n",
        "print(f'Hearthstone Tree Model Precision: {precision_1:.4f}')\n",
        "print(f'Hearthstone Tree Model Recall: {recall_1:.4f}')\n",
        "print(\"-\"*100)\n",
        "\n",
        "## GB Decision Tree\n",
        "hs_model_gb_pred = hs_model_gb.predict(hs_test_tf)\n",
        "pred_classes_2 = list(np.argmax(hs_model_gb_pred, axis=1))\n",
        "\n",
        "accuracy_2 = accuracy_score(true_classes_hs, pred_classes_2)\n",
        "precision_2 = precision_score(true_classes_hs, pred_classes_2, average='weighted')\n",
        "recall_2 = recall_score(true_classes_hs, pred_classes_2, average='weighted')\n",
        "\n",
        "print(f'Hearthstone Tree Model Accuracy: {accuracy_2:.4f}')\n",
        "print(f'Hearthstone Tree Model Precision: {precision_2:.4f}')\n",
        "print(f'Hearthstone Tree Model Recall: {recall_2:.4f}')\n",
        "print(\"-\"*100)\n",
        "\n",
        "## NR MODELS\n",
        "##-----------------------------------------------------------------\n",
        "## Decision tree\n",
        "nr_test_tf = tfdf.keras.pd_dataframe_to_tf_dataset(nr_test, label='faction_code')\n",
        "nr_model_pred = nr_model.predict(nr_test_tf)\n",
        "pred_classes_3 = list(np.argmax(nr_model_pred, axis=1))\n",
        "true_classes_nr = list(nr_test['faction_code'])\n",
        "\n",
        "accuracy_3 = accuracy_score(true_classes_nr, pred_classes_3)\n",
        "precision_3 = precision_score(true_classes_nr, pred_classes_3, average='weighted')\n",
        "recall_3 = recall_score(true_classes_nr, pred_classes_3, average='weighted')\n",
        "\n",
        "print(f'NetRunner Tree Model Accuracy: {accuracy_3:.4f}')\n",
        "print(f'NetRunner Tree Model Precision: {precision_3:.4f}')\n",
        "print(f'NetRunner Tree Model Recall: {recall_3:.4f}')\n",
        "print(\"-\"*100)\n",
        "\n",
        "## GB Tree\n",
        "nr_model_gb_pred = nr_model_gb.predict(nr_test_tf)\n",
        "pred_classes_4 = list(np.argmax(nr_model_gb_pred, axis=1))\n",
        "\n",
        "accuracy_4 = accuracy_score(true_classes_nr, pred_classes_4)\n",
        "precision_4 = precision_score(true_classes_nr, pred_classes_4, average='weighted')\n",
        "recall_4 = recall_score(true_classes_nr, pred_classes_4, average='weighted')\n",
        "\n",
        "print(f'NetRunner Tree Model Accuracy: {accuracy_4:.4f}')\n",
        "print(f'NetRunner Tree Model Precision: {precision_4:.4f}')\n",
        "print(f'NetRunner Tree Model Recall: {recall_4:.4f}')\n",
        "print(\"-\"*100)"
      ],
      "metadata": {
        "colab": {
          "base_uri": "https://localhost:8080/"
        },
        "id": "4y1P_9pYaDC1",
        "outputId": "50a960fb-c9a9-476b-8830-412754a14eb7"
      },
      "execution_count": null,
      "outputs": [
        {
          "output_type": "stream",
          "name": "stdout",
          "text": [
            "3/3 [==============================] - 1s 134ms/step\n",
            "----------------------------------------------------------------------------------------------------\n",
            "Hearthstone Tree Model Accuracy: 0.3483\n",
            "Hearthstone Tree Model Precision: 0.4746\n",
            "Hearthstone Tree Model Recall: 0.3483\n",
            "----------------------------------------------------------------------------------------------------\n",
            "3/3 [==============================] - 1s 102ms/step\n",
            "Hearthstone Tree Model Accuracy: 0.4107\n",
            "Hearthstone Tree Model Precision: 0.4690\n",
            "Hearthstone Tree Model Recall: 0.4107\n",
            "----------------------------------------------------------------------------------------------------\n",
            "1/1 [==============================] - 0s 406ms/step\n",
            "NetRunner Tree Model Accuracy: 0.4889\n",
            "NetRunner Tree Model Precision: 0.4764\n",
            "NetRunner Tree Model Recall: 0.4889\n",
            "----------------------------------------------------------------------------------------------------\n",
            "1/1 [==============================] - 0s 236ms/step\n",
            "NetRunner Tree Model Accuracy: 0.5000\n",
            "NetRunner Tree Model Precision: 0.4879\n",
            "NetRunner Tree Model Recall: 0.5000\n",
            "----------------------------------------------------------------------------------------------------\n"
          ]
        }
      ]
    },
    {
      "cell_type": "markdown",
      "source": [
        "#### Neural Nets"
      ],
      "metadata": {
        "id": "iH_S5elSS3LY"
      }
    },
    {
      "cell_type": "code",
      "source": [
        "## Input features should be arrays\n",
        "\n",
        "def genModelArrays(training_data,\n",
        "                   test_data,\n",
        "                   label_col):\n",
        "  # Split the training data\n",
        "  train_labels = np.array(training_data[label_col])\n",
        "  train_data = np.array(training_data[training_data.columns[training_data.columns != label_col]])\n",
        "  # Split the test data\n",
        "  test_labels = np.array(test_data[label_col])\n",
        "  test_data = np.array(test_data[test_data.columns[test_data.columns != label_col]])\n",
        "  # Cast as floats\n",
        "  train_labels = np.asarray(train_labels).astype('float32')\n",
        "  train_data = np.asarray(train_data).astype('float32')\n",
        "  test_labels = np.asarray(test_labels).astype('float32')\n",
        "  test_data = np.asarray(test_data).astype('float32')\n",
        "\n",
        "  return train_data, train_labels, test_data, test_labels\n",
        "\n",
        "# Generate the input sets\n",
        "hsnn_train_data, hsnn_train_labels, hsnn_test_data, hsnn_test_labels = genModelArrays(hs_train, hs_test, label_col = 'classes')\n",
        "nrnn_train_data, nrnn_train_labels, nrnn_test_data, nrnn_test_labels = genModelArrays(nr_train, nr_test, label_col = 'faction_code')\n",
        "\n",
        "print(hsnn_train_data.shape)\n",
        "print(hsnn_train_labels.shape)\n",
        "\n",
        "print(nrnn_train_data.shape)\n",
        "print(nrnn_train_labels.shape)"
      ],
      "metadata": {
        "colab": {
          "base_uri": "https://localhost:8080/"
        },
        "id": "q-KMnFfexjPW",
        "outputId": "14ee221d-44eb-4114-f4f3-57b0a212033c"
      },
      "execution_count": null,
      "outputs": [
        {
          "output_type": "stream",
          "name": "stdout",
          "text": [
            "(5234, 95)\n",
            "(5234,)\n",
            "(1495, 125)\n",
            "(1495,)\n"
          ]
        }
      ]
    },
    {
      "cell_type": "code",
      "source": [
        "## Code to create a neural net for classification\n",
        "\n",
        "def buildNNClassifier(n_input_features,\n",
        "                      hidden_layer_dims,\n",
        "                      n_classes = 12,\n",
        "                      hidden_activation = 'relu',\n",
        "                      dropout_rate = 0.25,\n",
        "                      learning_rate = 0.001):\n",
        "\n",
        "  ## Set up the input layer\n",
        "  input_layer = tf.keras.layers.Input(shape=(n_input_features,), dtype='int32', name = 'input')\n",
        "\n",
        "  last_hidden_output = input_layer\n",
        "\n",
        "  ## Set up the hidden layers\n",
        "  for i, h_dim in enumerate(hidden_layer_dims):\n",
        "    last_hidden_output = tf.keras.layers.Dense(h_dim, activation=hidden_activation, name='hidden_%d' % i)(last_hidden_output)\n",
        "    last_hidden_output = tf.keras.layers.Dropout(dropout_rate)(last_hidden_output)\n",
        "\n",
        "  ## Set up the classification layer\n",
        "  classification = tf.keras.layers.Dense(12, activation='softmax', name='classification')(last_hidden_output)\n",
        "\n",
        "  ## Compile the model\n",
        "  nn_model = tf.keras.models.Model(inputs=input_layer, outputs=[classification])\n",
        "  nn_model.compile(loss='sparse_categorical_crossentropy',\n",
        "                   optimizer=tf.keras.optimizers.Adam(learning_rate=learning_rate),\n",
        "                   metrics=['accuracy'])\n",
        "\n",
        "  return nn_model"
      ],
      "metadata": {
        "id": "4Q8DkYBWS2Ff"
      },
      "execution_count": null,
      "outputs": []
    },
    {
      "cell_type": "code",
      "source": [
        "## Neural Net Experiment\n",
        "##========================================================\n",
        "\n",
        "## Using the optuna package to search for most performant NN model\n",
        "\n",
        "def objectiveHS(trial):\n",
        "  # First create the search space\n",
        "  #----------------------------------------\n",
        "  # Try activation functions\n",
        "  activation = trial.suggest_categorical(\"hidden_activation\", [\"sigmoid\", \"relu\"])\n",
        "  # Try numbers of layers\n",
        "  num_hidden_layers = trial.suggest_int(\"num_hidden_layers\", 1, 3)\n",
        "  # For the hidden layers try various layer sizes\n",
        "  hidden_layer_dims = []\n",
        "  for layer_n in range(num_hidden_layers):\n",
        "    hidden_size = trial.suggest_int(\"hidden_size\", 10, 20, step=1)\n",
        "    hidden_layer_dims.append(hidden_size)\n",
        "  trial.set_user_attr('hidden_layer_dims', hidden_layer_dims)\n",
        "  # Try some number of epochs\n",
        "  num_epochs = trial.suggest_int(\"num_epochs\", 10, 25, step=1)\n",
        "  # Next set up the model, run it, and check the finalized accuracy\n",
        "  #----------------------------------------\n",
        "  trial_model = buildNNClassifier(n_input_features=hsnn_train_data.shape[1],\n",
        "                                  hidden_layer_dims=hidden_layer_dims,\n",
        "                                  hidden_activation = activation,\n",
        "                                  learning_rate = 0.001)\n",
        "  trial_model_history = trial_model.fit(hsnn_train_data,\n",
        "                                        hsnn_train_labels,\n",
        "                                        validation_data = (hsnn_test_data, hsnn_test_labels),\n",
        "                                        epochs = num_epochs,\n",
        "                                        verbose = 0)\n",
        "  # Save model metrics\n",
        "  trial_pred = trial_model.predict(hsnn_test_data)\n",
        "  pred_classes = list(np.argmax(trial_pred, axis=1))\n",
        "\n",
        "  accuracy = accuracy_score(true_classes_hs, pred_classes)\n",
        "  precision = precision_score(true_classes_hs, pred_classes, average='weighted')\n",
        "  recall = recall_score(true_classes_hs, pred_classes, average='weighted')\n",
        "\n",
        "  trial.set_user_attr('accuracy', accuracy)\n",
        "  trial.set_user_attr('precision', precision)\n",
        "  trial.set_user_attr('recall', recall)\n",
        "\n",
        "  # Finally define the thing to minimize, in this case 1 minus the model validation accuracy\n",
        "  #------------------------------------------\n",
        "  result = 1 - trial_model_history.history['val_accuracy'][-1]\n",
        "\n",
        "  return result\n",
        "\n",
        "def objectiveNR(trial):\n",
        "  # First create the search space\n",
        "  #----------------------------------------\n",
        "  # Try activation functions\n",
        "  activation = trial.suggest_categorical(\"hidden_activation\", [\"sigmoid\", \"relu\"])\n",
        "  # Try numbers of layers\n",
        "  num_hidden_layers = trial.suggest_int(\"num_hidden_layers\", 1, 3)\n",
        "  # For the hidden layers try various layer sizes\n",
        "  hidden_layer_dims = []\n",
        "  for layer_n in range(num_hidden_layers):\n",
        "    hidden_size = trial.suggest_int(\"hidden_size\", 10, 20, step=1)\n",
        "    hidden_layer_dims.append(hidden_size)\n",
        "  trial.set_user_attr('hidden_layer_dims', hidden_layer_dims)\n",
        "  # Try some number of epochs\n",
        "  num_epochs = trial.suggest_int(\"num_epochs\", 10, 25, step=1)\n",
        "  # Next set up the model, run it, and check the finalized accuracy\n",
        "  #----------------------------------------\n",
        "  trial_model = buildNNClassifier(n_input_features=nrnn_train_data.shape[1],\n",
        "                                  hidden_layer_dims=hidden_layer_dims,\n",
        "                                  hidden_activation = activation,\n",
        "                                  learning_rate = 0.001)\n",
        "  trial_model_history = trial_model.fit(nrnn_train_data,\n",
        "                                        nrnn_train_labels,\n",
        "                                        validation_data = (nrnn_test_data, nrnn_test_labels),\n",
        "                                        epochs = num_epochs,\n",
        "                                        verbose = 0)\n",
        "  # Save model metrics\n",
        "  trial_pred = trial_model.predict(nrnn_test_data)\n",
        "  pred_classes = list(np.argmax(trial_pred, axis=1))\n",
        "\n",
        "  accuracy = accuracy_score(true_classes_nr, pred_classes)\n",
        "  precision = precision_score(true_classes_nr, pred_classes, average='weighted')\n",
        "  recall = recall_score(true_classes_nr, pred_classes, average='weighted')\n",
        "\n",
        "  trial.set_user_attr('accuracy', accuracy)\n",
        "  trial.set_user_attr('precision', precision)\n",
        "  trial.set_user_attr('recall', recall)\n",
        "\n",
        "  # Finally define the thing to minimize, in this case 1 minus the model validation accuracy\n",
        "  #------------------------------------------\n",
        "  result = 1 - trial_model_history.history['val_accuracy'][-1]\n",
        "\n",
        "  return result"
      ],
      "metadata": {
        "id": "JtumSJ8z0VsW"
      },
      "execution_count": null,
      "outputs": []
    },
    {
      "cell_type": "code",
      "source": [
        "hsnn_experiment = optuna.create_study(study_name=\"HSNN_Experiment\")\n",
        "hsnn_experiment.optimize(objectiveHS, n_trials=100)"
      ],
      "metadata": {
        "colab": {
          "base_uri": "https://localhost:8080/"
        },
        "id": "KaM3UWzJ6AZC",
        "outputId": "39547980-8257-4b83-ca66-68549caf14e4"
      },
      "execution_count": null,
      "outputs": [
        {
          "output_type": "stream",
          "name": "stderr",
          "text": [
            "[I 2024-04-11 19:13:06,112] A new study created in memory with name: HSNN_Experiment\n"
          ]
        },
        {
          "output_type": "stream",
          "name": "stdout",
          "text": [
            "\u001b[1m72/72\u001b[0m \u001b[32m━━━━━━━━━━━━━━━━━━━━\u001b[0m\u001b[37m\u001b[0m \u001b[1m2s\u001b[0m 20ms/step\n"
          ]
        },
        {
          "output_type": "stream",
          "name": "stderr",
          "text": [
            "/usr/local/lib/python3.10/dist-packages/sklearn/metrics/_classification.py:1344: UndefinedMetricWarning: Precision is ill-defined and being set to 0.0 in labels with no predicted samples. Use `zero_division` parameter to control this behavior.\n",
            "  _warn_prf(average, modifier, msg_start, len(result))\n",
            "[I 2024-04-11 19:13:32,471] Trial 0 finished with value: 0.7001309394836426 and parameters: {'hidden_activation': 'sigmoid', 'num_hidden_layers': 1, 'hidden_size': 16, 'num_epochs': 14}. Best is trial 0 with value: 0.7001309394836426.\n"
          ]
        },
        {
          "output_type": "stream",
          "name": "stdout",
          "text": [
            "\u001b[1m72/72\u001b[0m \u001b[32m━━━━━━━━━━━━━━━━━━━━\u001b[0m\u001b[37m\u001b[0m \u001b[1m1s\u001b[0m 12ms/step\n"
          ]
        },
        {
          "output_type": "stream",
          "name": "stderr",
          "text": [
            "/usr/local/lib/python3.10/dist-packages/sklearn/metrics/_classification.py:1344: UndefinedMetricWarning: Precision is ill-defined and being set to 0.0 in labels with no predicted samples. Use `zero_division` parameter to control this behavior.\n",
            "  _warn_prf(average, modifier, msg_start, len(result))\n",
            "[I 2024-04-11 19:14:09,056] Trial 1 finished with value: 0.6713225543498993 and parameters: {'hidden_activation': 'relu', 'num_hidden_layers': 2, 'hidden_size': 14, 'num_epochs': 22}. Best is trial 1 with value: 0.6713225543498993.\n"
          ]
        },
        {
          "output_type": "stream",
          "name": "stdout",
          "text": [
            "\u001b[1m72/72\u001b[0m \u001b[32m━━━━━━━━━━━━━━━━━━━━\u001b[0m\u001b[37m\u001b[0m \u001b[1m1s\u001b[0m 5ms/step\n"
          ]
        },
        {
          "output_type": "stream",
          "name": "stderr",
          "text": [
            "/usr/local/lib/python3.10/dist-packages/sklearn/metrics/_classification.py:1344: UndefinedMetricWarning: Precision is ill-defined and being set to 0.0 in labels with no predicted samples. Use `zero_division` parameter to control this behavior.\n",
            "  _warn_prf(average, modifier, msg_start, len(result))\n",
            "[I 2024-04-11 19:14:26,458] Trial 2 finished with value: 0.8070711493492126 and parameters: {'hidden_activation': 'sigmoid', 'num_hidden_layers': 2, 'hidden_size': 20, 'num_epochs': 11}. Best is trial 1 with value: 0.6713225543498993.\n"
          ]
        },
        {
          "output_type": "stream",
          "name": "stdout",
          "text": [
            "\u001b[1m72/72\u001b[0m \u001b[32m━━━━━━━━━━━━━━━━━━━━\u001b[0m\u001b[37m\u001b[0m \u001b[1m1s\u001b[0m 13ms/step\n"
          ]
        },
        {
          "output_type": "stream",
          "name": "stderr",
          "text": [
            "/usr/local/lib/python3.10/dist-packages/sklearn/metrics/_classification.py:1344: UndefinedMetricWarning: Precision is ill-defined and being set to 0.0 in labels with no predicted samples. Use `zero_division` parameter to control this behavior.\n",
            "  _warn_prf(average, modifier, msg_start, len(result))\n",
            "[I 2024-04-11 19:14:44,920] Trial 3 finished with value: 0.718900054693222 and parameters: {'hidden_activation': 'relu', 'num_hidden_layers': 2, 'hidden_size': 12, 'num_epochs': 13}. Best is trial 1 with value: 0.6713225543498993.\n"
          ]
        },
        {
          "output_type": "stream",
          "name": "stdout",
          "text": [
            "\u001b[1m72/72\u001b[0m \u001b[32m━━━━━━━━━━━━━━━━━━━━\u001b[0m\u001b[37m\u001b[0m \u001b[1m1s\u001b[0m 6ms/step\n"
          ]
        },
        {
          "output_type": "stream",
          "name": "stderr",
          "text": [
            "/usr/local/lib/python3.10/dist-packages/sklearn/metrics/_classification.py:1344: UndefinedMetricWarning: Precision is ill-defined and being set to 0.0 in labels with no predicted samples. Use `zero_division` parameter to control this behavior.\n",
            "  _warn_prf(average, modifier, msg_start, len(result))\n",
            "[I 2024-04-11 19:14:59,349] Trial 4 finished with value: 0.6569183766841888 and parameters: {'hidden_activation': 'relu', 'num_hidden_layers': 1, 'hidden_size': 20, 'num_epochs': 14}. Best is trial 4 with value: 0.6569183766841888.\n"
          ]
        },
        {
          "output_type": "stream",
          "name": "stdout",
          "text": [
            "\u001b[1m72/72\u001b[0m \u001b[32m━━━━━━━━━━━━━━━━━━━━\u001b[0m\u001b[37m\u001b[0m \u001b[1m1s\u001b[0m 9ms/step\n"
          ]
        },
        {
          "output_type": "stream",
          "name": "stderr",
          "text": [
            "/usr/local/lib/python3.10/dist-packages/sklearn/metrics/_classification.py:1344: UndefinedMetricWarning: Precision is ill-defined and being set to 0.0 in labels with no predicted samples. Use `zero_division` parameter to control this behavior.\n",
            "  _warn_prf(average, modifier, msg_start, len(result))\n",
            "[I 2024-04-11 19:15:17,960] Trial 5 finished with value: 0.7167176008224487 and parameters: {'hidden_activation': 'sigmoid', 'num_hidden_layers': 1, 'hidden_size': 12, 'num_epochs': 13}. Best is trial 4 with value: 0.6569183766841888.\n"
          ]
        },
        {
          "output_type": "stream",
          "name": "stdout",
          "text": [
            "\u001b[1m72/72\u001b[0m \u001b[32m━━━━━━━━━━━━━━━━━━━━\u001b[0m\u001b[37m\u001b[0m \u001b[1m1s\u001b[0m 8ms/step\n"
          ]
        },
        {
          "output_type": "stream",
          "name": "stderr",
          "text": [
            "/usr/local/lib/python3.10/dist-packages/sklearn/metrics/_classification.py:1344: UndefinedMetricWarning: Precision is ill-defined and being set to 0.0 in labels with no predicted samples. Use `zero_division` parameter to control this behavior.\n",
            "  _warn_prf(average, modifier, msg_start, len(result))\n",
            "[I 2024-04-11 19:15:41,917] Trial 6 finished with value: 0.7215189933776855 and parameters: {'hidden_activation': 'relu', 'num_hidden_layers': 2, 'hidden_size': 12, 'num_epochs': 22}. Best is trial 4 with value: 0.6569183766841888.\n"
          ]
        },
        {
          "output_type": "stream",
          "name": "stdout",
          "text": [
            "\u001b[1m72/72\u001b[0m \u001b[32m━━━━━━━━━━━━━━━━━━━━\u001b[0m\u001b[37m\u001b[0m \u001b[1m1s\u001b[0m 10ms/step\n"
          ]
        },
        {
          "output_type": "stream",
          "name": "stderr",
          "text": [
            "/usr/local/lib/python3.10/dist-packages/sklearn/metrics/_classification.py:1344: UndefinedMetricWarning: Precision is ill-defined and being set to 0.0 in labels with no predicted samples. Use `zero_division` parameter to control this behavior.\n",
            "  _warn_prf(average, modifier, msg_start, len(result))\n",
            "[I 2024-04-11 19:16:14,376] Trial 7 finished with value: 0.8153644651174545 and parameters: {'hidden_activation': 'sigmoid', 'num_hidden_layers': 2, 'hidden_size': 11, 'num_epochs': 18}. Best is trial 4 with value: 0.6569183766841888.\n"
          ]
        },
        {
          "output_type": "stream",
          "name": "stdout",
          "text": [
            "\u001b[1m72/72\u001b[0m \u001b[32m━━━━━━━━━━━━━━━━━━━━\u001b[0m\u001b[37m\u001b[0m \u001b[1m1s\u001b[0m 7ms/step\n"
          ]
        },
        {
          "output_type": "stream",
          "name": "stderr",
          "text": [
            "/usr/local/lib/python3.10/dist-packages/sklearn/metrics/_classification.py:1344: UndefinedMetricWarning: Precision is ill-defined and being set to 0.0 in labels with no predicted samples. Use `zero_division` parameter to control this behavior.\n",
            "  _warn_prf(average, modifier, msg_start, len(result))\n",
            "[I 2024-04-11 19:16:30,846] Trial 8 finished with value: 0.8206023573875427 and parameters: {'hidden_activation': 'sigmoid', 'num_hidden_layers': 2, 'hidden_size': 18, 'num_epochs': 11}. Best is trial 4 with value: 0.6569183766841888.\n"
          ]
        },
        {
          "output_type": "stream",
          "name": "stdout",
          "text": [
            "\u001b[1m72/72\u001b[0m \u001b[32m━━━━━━━━━━━━━━━━━━━━\u001b[0m\u001b[37m\u001b[0m \u001b[1m1s\u001b[0m 11ms/step\n"
          ]
        },
        {
          "output_type": "stream",
          "name": "stderr",
          "text": [
            "/usr/local/lib/python3.10/dist-packages/sklearn/metrics/_classification.py:1344: UndefinedMetricWarning: Precision is ill-defined and being set to 0.0 in labels with no predicted samples. Use `zero_division` parameter to control this behavior.\n",
            "  _warn_prf(average, modifier, msg_start, len(result))\n",
            "[I 2024-04-11 19:16:51,589] Trial 9 finished with value: 0.7311217784881592 and parameters: {'hidden_activation': 'relu', 'num_hidden_layers': 3, 'hidden_size': 11, 'num_epochs': 15}. Best is trial 4 with value: 0.6569183766841888.\n"
          ]
        },
        {
          "output_type": "stream",
          "name": "stdout",
          "text": [
            "\u001b[1m72/72\u001b[0m \u001b[32m━━━━━━━━━━━━━━━━━━━━\u001b[0m\u001b[37m\u001b[0m \u001b[1m1s\u001b[0m 5ms/step\n"
          ]
        },
        {
          "output_type": "stream",
          "name": "stderr",
          "text": [
            "[I 2024-04-11 19:17:07,548] Trial 10 finished with value: 0.649061530828476 and parameters: {'hidden_activation': 'relu', 'num_hidden_layers': 1, 'hidden_size': 20, 'num_epochs': 18}. Best is trial 10 with value: 0.649061530828476.\n"
          ]
        },
        {
          "output_type": "stream",
          "name": "stdout",
          "text": [
            "\u001b[1m72/72\u001b[0m \u001b[32m━━━━━━━━━━━━━━━━━━━━\u001b[0m\u001b[37m\u001b[0m \u001b[1m1s\u001b[0m 5ms/step\n"
          ]
        },
        {
          "output_type": "stream",
          "name": "stderr",
          "text": [
            "[I 2024-04-11 19:17:23,571] Trial 11 finished with value: 0.6503710150718689 and parameters: {'hidden_activation': 'relu', 'num_hidden_layers': 1, 'hidden_size': 20, 'num_epochs': 19}. Best is trial 10 with value: 0.649061530828476.\n"
          ]
        },
        {
          "output_type": "stream",
          "name": "stdout",
          "text": [
            "\u001b[1m72/72\u001b[0m \u001b[32m━━━━━━━━━━━━━━━━━━━━\u001b[0m\u001b[37m\u001b[0m \u001b[1m1s\u001b[0m 7ms/step\n"
          ]
        },
        {
          "output_type": "stream",
          "name": "stderr",
          "text": [
            "[I 2024-04-11 19:17:40,809] Trial 12 finished with value: 0.649061530828476 and parameters: {'hidden_activation': 'relu', 'num_hidden_layers': 1, 'hidden_size': 18, 'num_epochs': 19}. Best is trial 10 with value: 0.649061530828476.\n"
          ]
        },
        {
          "output_type": "stream",
          "name": "stdout",
          "text": [
            "\u001b[1m72/72\u001b[0m \u001b[32m━━━━━━━━━━━━━━━━━━━━\u001b[0m\u001b[37m\u001b[0m \u001b[1m1s\u001b[0m 6ms/step\n"
          ]
        },
        {
          "output_type": "stream",
          "name": "stderr",
          "text": [
            "[I 2024-04-11 19:17:59,255] Trial 13 finished with value: 0.6617197692394257 and parameters: {'hidden_activation': 'relu', 'num_hidden_layers': 1, 'hidden_size': 17, 'num_epochs': 20}. Best is trial 10 with value: 0.649061530828476.\n"
          ]
        },
        {
          "output_type": "stream",
          "name": "stdout",
          "text": [
            "\u001b[1m72/72\u001b[0m \u001b[32m━━━━━━━━━━━━━━━━━━━━\u001b[0m\u001b[37m\u001b[0m \u001b[1m1s\u001b[0m 7ms/step\n"
          ]
        },
        {
          "output_type": "stream",
          "name": "stderr",
          "text": [
            "/usr/local/lib/python3.10/dist-packages/sklearn/metrics/_classification.py:1344: UndefinedMetricWarning: Precision is ill-defined and being set to 0.0 in labels with no predicted samples. Use `zero_division` parameter to control this behavior.\n",
            "  _warn_prf(average, modifier, msg_start, len(result))\n",
            "[I 2024-04-11 19:18:26,946] Trial 14 finished with value: 0.6927106082439423 and parameters: {'hidden_activation': 'relu', 'num_hidden_layers': 3, 'hidden_size': 18, 'num_epochs': 25}. Best is trial 10 with value: 0.649061530828476.\n"
          ]
        },
        {
          "output_type": "stream",
          "name": "stdout",
          "text": [
            "\u001b[1m72/72\u001b[0m \u001b[32m━━━━━━━━━━━━━━━━━━━━\u001b[0m\u001b[37m\u001b[0m \u001b[1m1s\u001b[0m 5ms/step\n"
          ]
        },
        {
          "output_type": "stream",
          "name": "stderr",
          "text": [
            "/usr/local/lib/python3.10/dist-packages/sklearn/metrics/_classification.py:1344: UndefinedMetricWarning: Precision is ill-defined and being set to 0.0 in labels with no predicted samples. Use `zero_division` parameter to control this behavior.\n",
            "  _warn_prf(average, modifier, msg_start, len(result))\n",
            "[I 2024-04-11 19:18:41,787] Trial 15 finished with value: 0.6556088924407959 and parameters: {'hidden_activation': 'relu', 'num_hidden_layers': 1, 'hidden_size': 18, 'num_epochs': 16}. Best is trial 10 with value: 0.649061530828476.\n"
          ]
        },
        {
          "output_type": "stream",
          "name": "stdout",
          "text": [
            "\u001b[1m72/72\u001b[0m \u001b[32m━━━━━━━━━━━━━━━━━━━━\u001b[0m\u001b[37m\u001b[0m \u001b[1m1s\u001b[0m 10ms/step\n"
          ]
        },
        {
          "output_type": "stream",
          "name": "stderr",
          "text": [
            "[I 2024-04-11 19:19:00,615] Trial 16 finished with value: 0.6673941612243652 and parameters: {'hidden_activation': 'relu', 'num_hidden_layers': 1, 'hidden_size': 14, 'num_epochs': 21}. Best is trial 10 with value: 0.649061530828476.\n"
          ]
        },
        {
          "output_type": "stream",
          "name": "stdout",
          "text": [
            "\u001b[1m72/72\u001b[0m \u001b[32m━━━━━━━━━━━━━━━━━━━━\u001b[0m\u001b[37m\u001b[0m \u001b[1m1s\u001b[0m 6ms/step\n"
          ]
        },
        {
          "output_type": "stream",
          "name": "stderr",
          "text": [
            "[I 2024-04-11 19:19:27,348] Trial 17 finished with value: 0.649061530828476 and parameters: {'hidden_activation': 'relu', 'num_hidden_layers': 1, 'hidden_size': 19, 'num_epochs': 17}. Best is trial 10 with value: 0.649061530828476.\n"
          ]
        },
        {
          "output_type": "stream",
          "name": "stdout",
          "text": [
            "\u001b[1m72/72\u001b[0m \u001b[32m━━━━━━━━━━━━━━━━━━━━\u001b[0m\u001b[37m\u001b[0m \u001b[1m1s\u001b[0m 7ms/step\n"
          ]
        },
        {
          "output_type": "stream",
          "name": "stderr",
          "text": [
            "/usr/local/lib/python3.10/dist-packages/sklearn/metrics/_classification.py:1344: UndefinedMetricWarning: Precision is ill-defined and being set to 0.0 in labels with no predicted samples. Use `zero_division` parameter to control this behavior.\n",
            "  _warn_prf(average, modifier, msg_start, len(result))\n",
            "[I 2024-04-11 19:19:52,788] Trial 18 finished with value: 0.718900054693222 and parameters: {'hidden_activation': 'relu', 'num_hidden_layers': 3, 'hidden_size': 16, 'num_epochs': 24}. Best is trial 10 with value: 0.649061530828476.\n"
          ]
        },
        {
          "output_type": "stream",
          "name": "stdout",
          "text": [
            "\u001b[1m72/72\u001b[0m \u001b[32m━━━━━━━━━━━━━━━━━━━━\u001b[0m\u001b[37m\u001b[0m \u001b[1m1s\u001b[0m 7ms/step\n"
          ]
        },
        {
          "output_type": "stream",
          "name": "stderr",
          "text": [
            "[I 2024-04-11 19:20:09,856] Trial 19 finished with value: 0.6486250460147858 and parameters: {'hidden_activation': 'relu', 'num_hidden_layers': 1, 'hidden_size': 19, 'num_epochs': 18}. Best is trial 19 with value: 0.6486250460147858.\n"
          ]
        },
        {
          "output_type": "stream",
          "name": "stdout",
          "text": [
            "\u001b[1m72/72\u001b[0m \u001b[32m━━━━━━━━━━━━━━━━━━━━\u001b[0m\u001b[37m\u001b[0m \u001b[1m1s\u001b[0m 7ms/step\n"
          ]
        },
        {
          "output_type": "stream",
          "name": "stderr",
          "text": [
            "/usr/local/lib/python3.10/dist-packages/sklearn/metrics/_classification.py:1344: UndefinedMetricWarning: Precision is ill-defined and being set to 0.0 in labels with no predicted samples. Use `zero_division` parameter to control this behavior.\n",
            "  _warn_prf(average, modifier, msg_start, len(result))\n",
            "[I 2024-04-11 19:20:29,598] Trial 20 finished with value: 0.6726320385932922 and parameters: {'hidden_activation': 'relu', 'num_hidden_layers': 2, 'hidden_size': 19, 'num_epochs': 17}. Best is trial 19 with value: 0.6486250460147858.\n"
          ]
        },
        {
          "output_type": "stream",
          "name": "stdout",
          "text": [
            "\u001b[1m72/72\u001b[0m \u001b[32m━━━━━━━━━━━━━━━━━━━━\u001b[0m\u001b[37m\u001b[0m \u001b[1m1s\u001b[0m 5ms/step\n"
          ]
        },
        {
          "output_type": "stream",
          "name": "stderr",
          "text": [
            "[I 2024-04-11 19:20:52,127] Trial 21 finished with value: 0.6525534689426422 and parameters: {'hidden_activation': 'relu', 'num_hidden_layers': 1, 'hidden_size': 19, 'num_epochs': 19}. Best is trial 19 with value: 0.6486250460147858.\n"
          ]
        },
        {
          "output_type": "stream",
          "name": "stdout",
          "text": [
            "\u001b[1m72/72\u001b[0m \u001b[32m━━━━━━━━━━━━━━━━━━━━\u001b[0m\u001b[37m\u001b[0m \u001b[1m1s\u001b[0m 5ms/step\n"
          ]
        },
        {
          "output_type": "stream",
          "name": "stderr",
          "text": [
            "[I 2024-04-11 19:21:09,392] Trial 22 finished with value: 0.6446966528892517 and parameters: {'hidden_activation': 'relu', 'num_hidden_layers': 1, 'hidden_size': 17, 'num_epochs': 18}. Best is trial 22 with value: 0.6446966528892517.\n"
          ]
        },
        {
          "output_type": "stream",
          "name": "stdout",
          "text": [
            "\u001b[1m72/72\u001b[0m \u001b[32m━━━━━━━━━━━━━━━━━━━━\u001b[0m\u001b[37m\u001b[0m \u001b[1m1s\u001b[0m 6ms/step\n"
          ]
        },
        {
          "output_type": "stream",
          "name": "stderr",
          "text": [
            "/usr/local/lib/python3.10/dist-packages/sklearn/metrics/_classification.py:1344: UndefinedMetricWarning: Precision is ill-defined and being set to 0.0 in labels with no predicted samples. Use `zero_division` parameter to control this behavior.\n",
            "  _warn_prf(average, modifier, msg_start, len(result))\n",
            "[I 2024-04-11 19:21:29,140] Trial 23 finished with value: 0.6704495847225189 and parameters: {'hidden_activation': 'relu', 'num_hidden_layers': 1, 'hidden_size': 16, 'num_epochs': 16}. Best is trial 22 with value: 0.6446966528892517.\n"
          ]
        },
        {
          "output_type": "stream",
          "name": "stdout",
          "text": [
            "\u001b[1m72/72\u001b[0m \u001b[32m━━━━━━━━━━━━━━━━━━━━\u001b[0m\u001b[37m\u001b[0m \u001b[1m1s\u001b[0m 5ms/step\n"
          ]
        },
        {
          "output_type": "stream",
          "name": "stderr",
          "text": [
            "/usr/local/lib/python3.10/dist-packages/sklearn/metrics/_classification.py:1344: UndefinedMetricWarning: Precision is ill-defined and being set to 0.0 in labels with no predicted samples. Use `zero_division` parameter to control this behavior.\n",
            "  _warn_prf(average, modifier, msg_start, len(result))\n",
            "[I 2024-04-11 19:21:46,206] Trial 24 finished with value: 0.6617197692394257 and parameters: {'hidden_activation': 'relu', 'num_hidden_layers': 1, 'hidden_size': 17, 'num_epochs': 21}. Best is trial 22 with value: 0.6446966528892517.\n"
          ]
        },
        {
          "output_type": "stream",
          "name": "stdout",
          "text": [
            "\u001b[1m72/72\u001b[0m \u001b[32m━━━━━━━━━━━━━━━━━━━━\u001b[0m\u001b[37m\u001b[0m \u001b[1m1s\u001b[0m 5ms/step\n"
          ]
        },
        {
          "output_type": "stream",
          "name": "stderr",
          "text": [
            "[I 2024-04-11 19:22:08,095] Trial 25 finished with value: 0.6420776844024658 and parameters: {'hidden_activation': 'relu', 'num_hidden_layers': 1, 'hidden_size': 17, 'num_epochs': 18}. Best is trial 25 with value: 0.6420776844024658.\n"
          ]
        },
        {
          "output_type": "stream",
          "name": "stdout",
          "text": [
            "\u001b[1m72/72\u001b[0m \u001b[32m━━━━━━━━━━━━━━━━━━━━\u001b[0m\u001b[37m\u001b[0m \u001b[1m1s\u001b[0m 9ms/step\n"
          ]
        },
        {
          "output_type": "stream",
          "name": "stderr",
          "text": [
            "/usr/local/lib/python3.10/dist-packages/sklearn/metrics/_classification.py:1344: UndefinedMetricWarning: Precision is ill-defined and being set to 0.0 in labels with no predicted samples. Use `zero_division` parameter to control this behavior.\n",
            "  _warn_prf(average, modifier, msg_start, len(result))\n",
            "[I 2024-04-11 19:22:29,433] Trial 26 finished with value: 0.6996944546699524 and parameters: {'hidden_activation': 'sigmoid', 'num_hidden_layers': 1, 'hidden_size': 15, 'num_epochs': 16}. Best is trial 25 with value: 0.6420776844024658.\n"
          ]
        },
        {
          "output_type": "stream",
          "name": "stdout",
          "text": [
            "\u001b[1m72/72\u001b[0m \u001b[32m━━━━━━━━━━━━━━━━━━━━\u001b[0m\u001b[37m\u001b[0m \u001b[1m1s\u001b[0m 5ms/step\n"
          ]
        },
        {
          "output_type": "stream",
          "name": "stderr",
          "text": [
            "/usr/local/lib/python3.10/dist-packages/sklearn/metrics/_classification.py:1344: UndefinedMetricWarning: Precision is ill-defined and being set to 0.0 in labels with no predicted samples. Use `zero_division` parameter to control this behavior.\n",
            "  _warn_prf(average, modifier, msg_start, len(result))\n",
            "[I 2024-04-11 19:22:46,757] Trial 27 finished with value: 0.6508074998855591 and parameters: {'hidden_activation': 'relu', 'num_hidden_layers': 1, 'hidden_size': 17, 'num_epochs': 20}. Best is trial 25 with value: 0.6420776844024658.\n"
          ]
        },
        {
          "output_type": "stream",
          "name": "stdout",
          "text": [
            "\u001b[1m72/72\u001b[0m \u001b[32m━━━━━━━━━━━━━━━━━━━━\u001b[0m\u001b[37m\u001b[0m \u001b[1m1s\u001b[0m 6ms/step\n"
          ]
        },
        {
          "output_type": "stream",
          "name": "stderr",
          "text": [
            "/usr/local/lib/python3.10/dist-packages/sklearn/metrics/_classification.py:1344: UndefinedMetricWarning: Precision is ill-defined and being set to 0.0 in labels with no predicted samples. Use `zero_division` parameter to control this behavior.\n",
            "  _warn_prf(average, modifier, msg_start, len(result))\n",
            "[I 2024-04-11 19:23:11,467] Trial 28 finished with value: 0.6669576466083527 and parameters: {'hidden_activation': 'relu', 'num_hidden_layers': 2, 'hidden_size': 15, 'num_epochs': 23}. Best is trial 25 with value: 0.6420776844024658.\n"
          ]
        },
        {
          "output_type": "stream",
          "name": "stdout",
          "text": [
            "\u001b[1m72/72\u001b[0m \u001b[32m━━━━━━━━━━━━━━━━━━━━\u001b[0m\u001b[37m\u001b[0m \u001b[1m1s\u001b[0m 5ms/step\n"
          ]
        },
        {
          "output_type": "stream",
          "name": "stderr",
          "text": [
            "/usr/local/lib/python3.10/dist-packages/sklearn/metrics/_classification.py:1344: UndefinedMetricWarning: Precision is ill-defined and being set to 0.0 in labels with no predicted samples. Use `zero_division` parameter to control this behavior.\n",
            "  _warn_prf(average, modifier, msg_start, len(result))\n",
            "[I 2024-04-11 19:23:25,880] Trial 29 finished with value: 0.7066783010959625 and parameters: {'hidden_activation': 'sigmoid', 'num_hidden_layers': 1, 'hidden_size': 17, 'num_epochs': 15}. Best is trial 25 with value: 0.6420776844024658.\n"
          ]
        },
        {
          "output_type": "stream",
          "name": "stdout",
          "text": [
            "\u001b[1m72/72\u001b[0m \u001b[32m━━━━━━━━━━━━━━━━━━━━\u001b[0m\u001b[37m\u001b[0m \u001b[1m1s\u001b[0m 8ms/step\n"
          ]
        },
        {
          "output_type": "stream",
          "name": "stderr",
          "text": [
            "[I 2024-04-11 19:23:42,575] Trial 30 finished with value: 0.6717590689659119 and parameters: {'hidden_activation': 'relu', 'num_hidden_layers': 1, 'hidden_size': 14, 'num_epochs': 18}. Best is trial 25 with value: 0.6420776844024658.\n"
          ]
        },
        {
          "output_type": "stream",
          "name": "stdout",
          "text": [
            "\u001b[1m72/72\u001b[0m \u001b[32m━━━━━━━━━━━━━━━━━━━━\u001b[0m\u001b[37m\u001b[0m \u001b[1m1s\u001b[0m 8ms/step\n"
          ]
        },
        {
          "output_type": "stream",
          "name": "stderr",
          "text": [
            "/usr/local/lib/python3.10/dist-packages/sklearn/metrics/_classification.py:1344: UndefinedMetricWarning: Precision is ill-defined and being set to 0.0 in labels with no predicted samples. Use `zero_division` parameter to control this behavior.\n",
            "  _warn_prf(average, modifier, msg_start, len(result))\n",
            "[I 2024-04-11 19:24:00,232] Trial 31 finished with value: 0.6604103147983551 and parameters: {'hidden_activation': 'relu', 'num_hidden_layers': 1, 'hidden_size': 19, 'num_epochs': 18}. Best is trial 25 with value: 0.6420776844024658.\n"
          ]
        },
        {
          "output_type": "stream",
          "name": "stdout",
          "text": [
            "\u001b[1m72/72\u001b[0m \u001b[32m━━━━━━━━━━━━━━━━━━━━\u001b[0m\u001b[37m\u001b[0m \u001b[1m1s\u001b[0m 5ms/step\n"
          ]
        },
        {
          "output_type": "stream",
          "name": "stderr",
          "text": [
            "[I 2024-04-11 19:24:16,636] Trial 32 finished with value: 0.6390222609043121 and parameters: {'hidden_activation': 'relu', 'num_hidden_layers': 1, 'hidden_size': 20, 'num_epochs': 20}. Best is trial 32 with value: 0.6390222609043121.\n"
          ]
        },
        {
          "output_type": "stream",
          "name": "stdout",
          "text": [
            "\u001b[1m72/72\u001b[0m \u001b[32m━━━━━━━━━━━━━━━━━━━━\u001b[0m\u001b[37m\u001b[0m \u001b[1m1s\u001b[0m 5ms/step\n"
          ]
        },
        {
          "output_type": "stream",
          "name": "stderr",
          "text": [
            "/usr/local/lib/python3.10/dist-packages/sklearn/metrics/_classification.py:1344: UndefinedMetricWarning: Precision is ill-defined and being set to 0.0 in labels with no predicted samples. Use `zero_division` parameter to control this behavior.\n",
            "  _warn_prf(average, modifier, msg_start, len(result))\n",
            "[I 2024-04-11 19:24:33,383] Trial 33 finished with value: 0.6621562540531158 and parameters: {'hidden_activation': 'relu', 'num_hidden_layers': 1, 'hidden_size': 16, 'num_epochs': 20}. Best is trial 32 with value: 0.6390222609043121.\n"
          ]
        },
        {
          "output_type": "stream",
          "name": "stdout",
          "text": [
            "\u001b[1m72/72\u001b[0m \u001b[32m━━━━━━━━━━━━━━━━━━━━\u001b[0m\u001b[37m\u001b[0m \u001b[1m1s\u001b[0m 5ms/step\n"
          ]
        },
        {
          "output_type": "stream",
          "name": "stderr",
          "text": [
            "/usr/local/lib/python3.10/dist-packages/sklearn/metrics/_classification.py:1344: UndefinedMetricWarning: Precision is ill-defined and being set to 0.0 in labels with no predicted samples. Use `zero_division` parameter to control this behavior.\n",
            "  _warn_prf(average, modifier, msg_start, len(result))\n",
            "[I 2024-04-11 19:24:54,471] Trial 34 finished with value: 0.6704495847225189 and parameters: {'hidden_activation': 'relu', 'num_hidden_layers': 2, 'hidden_size': 19, 'num_epochs': 21}. Best is trial 32 with value: 0.6390222609043121.\n"
          ]
        },
        {
          "output_type": "stream",
          "name": "stdout",
          "text": [
            "\u001b[1m72/72\u001b[0m \u001b[32m━━━━━━━━━━━━━━━━━━━━\u001b[0m\u001b[37m\u001b[0m \u001b[1m1s\u001b[0m 5ms/step\n"
          ]
        },
        {
          "output_type": "stream",
          "name": "stderr",
          "text": [
            "[I 2024-04-11 19:25:09,778] Trial 35 finished with value: 0.6464425921440125 and parameters: {'hidden_activation': 'relu', 'num_hidden_layers': 1, 'hidden_size': 20, 'num_epochs': 17}. Best is trial 32 with value: 0.6390222609043121.\n"
          ]
        },
        {
          "output_type": "stream",
          "name": "stdout",
          "text": [
            "\u001b[1m72/72\u001b[0m \u001b[32m━━━━━━━━━━━━━━━━━━━━\u001b[0m\u001b[37m\u001b[0m \u001b[1m1s\u001b[0m 7ms/step\n"
          ]
        },
        {
          "output_type": "stream",
          "name": "stderr",
          "text": [
            "/usr/local/lib/python3.10/dist-packages/sklearn/metrics/_classification.py:1344: UndefinedMetricWarning: Precision is ill-defined and being set to 0.0 in labels with no predicted samples. Use `zero_division` parameter to control this behavior.\n",
            "  _warn_prf(average, modifier, msg_start, len(result))\n",
            "[I 2024-04-11 19:25:26,425] Trial 36 finished with value: 0.6879092156887054 and parameters: {'hidden_activation': 'sigmoid', 'num_hidden_layers': 1, 'hidden_size': 20, 'num_epochs': 17}. Best is trial 32 with value: 0.6390222609043121.\n"
          ]
        },
        {
          "output_type": "stream",
          "name": "stdout",
          "text": [
            "\u001b[1m72/72\u001b[0m \u001b[32m━━━━━━━━━━━━━━━━━━━━\u001b[0m\u001b[37m\u001b[0m \u001b[1m1s\u001b[0m 17ms/step\n"
          ]
        },
        {
          "output_type": "stream",
          "name": "stderr",
          "text": [
            "[I 2024-04-11 19:25:41,388] Trial 37 finished with value: 0.6612832844257355 and parameters: {'hidden_activation': 'relu', 'num_hidden_layers': 1, 'hidden_size': 20, 'num_epochs': 13}. Best is trial 32 with value: 0.6390222609043121.\n"
          ]
        },
        {
          "output_type": "stream",
          "name": "stdout",
          "text": [
            "\u001b[1m72/72\u001b[0m \u001b[32m━━━━━━━━━━━━━━━━━━━━\u001b[0m\u001b[37m\u001b[0m \u001b[1m1s\u001b[0m 7ms/step\n"
          ]
        },
        {
          "output_type": "stream",
          "name": "stderr",
          "text": [
            "/usr/local/lib/python3.10/dist-packages/sklearn/metrics/_classification.py:1344: UndefinedMetricWarning: Precision is ill-defined and being set to 0.0 in labels with no predicted samples. Use `zero_division` parameter to control this behavior.\n",
            "  _warn_prf(average, modifier, msg_start, len(result))\n",
            "[I 2024-04-11 19:26:05,416] Trial 38 finished with value: 0.6931470930576324 and parameters: {'hidden_activation': 'relu', 'num_hidden_layers': 2, 'hidden_size': 13, 'num_epochs': 22}. Best is trial 32 with value: 0.6390222609043121.\n"
          ]
        },
        {
          "output_type": "stream",
          "name": "stdout",
          "text": [
            "\u001b[1m72/72\u001b[0m \u001b[32m━━━━━━━━━━━━━━━━━━━━\u001b[0m\u001b[37m\u001b[0m \u001b[1m1s\u001b[0m 5ms/step\n"
          ]
        },
        {
          "output_type": "stream",
          "name": "stderr",
          "text": [
            "/usr/local/lib/python3.10/dist-packages/sklearn/metrics/_classification.py:1344: UndefinedMetricWarning: Precision is ill-defined and being set to 0.0 in labels with no predicted samples. Use `zero_division` parameter to control this behavior.\n",
            "  _warn_prf(average, modifier, msg_start, len(result))\n",
            "[I 2024-04-11 19:26:20,049] Trial 39 finished with value: 0.6975120007991791 and parameters: {'hidden_activation': 'sigmoid', 'num_hidden_layers': 1, 'hidden_size': 15, 'num_epochs': 15}. Best is trial 32 with value: 0.6390222609043121.\n"
          ]
        },
        {
          "output_type": "stream",
          "name": "stdout",
          "text": [
            "\u001b[1m72/72\u001b[0m \u001b[32m━━━━━━━━━━━━━━━━━━━━\u001b[0m\u001b[37m\u001b[0m \u001b[1m1s\u001b[0m 7ms/step\n"
          ]
        },
        {
          "output_type": "stream",
          "name": "stderr",
          "text": [
            "[I 2024-04-11 19:26:40,736] Trial 40 finished with value: 0.6992579698562622 and parameters: {'hidden_activation': 'relu', 'num_hidden_layers': 2, 'hidden_size': 18, 'num_epochs': 19}. Best is trial 32 with value: 0.6390222609043121.\n"
          ]
        },
        {
          "output_type": "stream",
          "name": "stdout",
          "text": [
            "\u001b[1m72/72\u001b[0m \u001b[32m━━━━━━━━━━━━━━━━━━━━\u001b[0m\u001b[37m\u001b[0m \u001b[1m1s\u001b[0m 5ms/step\n"
          ]
        },
        {
          "output_type": "stream",
          "name": "stderr",
          "text": [
            "[I 2024-04-11 19:26:56,316] Trial 41 finished with value: 0.6542994379997253 and parameters: {'hidden_activation': 'relu', 'num_hidden_layers': 1, 'hidden_size': 19, 'num_epochs': 17}. Best is trial 32 with value: 0.6390222609043121.\n"
          ]
        },
        {
          "output_type": "stream",
          "name": "stdout",
          "text": [
            "\u001b[1m72/72\u001b[0m \u001b[32m━━━━━━━━━━━━━━━━━━━━\u001b[0m\u001b[37m\u001b[0m \u001b[1m1s\u001b[0m 5ms/step\n"
          ]
        },
        {
          "output_type": "stream",
          "name": "stderr",
          "text": [
            "/usr/local/lib/python3.10/dist-packages/sklearn/metrics/_classification.py:1344: UndefinedMetricWarning: Precision is ill-defined and being set to 0.0 in labels with no predicted samples. Use `zero_division` parameter to control this behavior.\n",
            "  _warn_prf(average, modifier, msg_start, len(result))\n",
            "[I 2024-04-11 19:27:19,156] Trial 42 finished with value: 0.6599738001823425 and parameters: {'hidden_activation': 'relu', 'num_hidden_layers': 1, 'hidden_size': 20, 'num_epochs': 20}. Best is trial 32 with value: 0.6390222609043121.\n"
          ]
        },
        {
          "output_type": "stream",
          "name": "stdout",
          "text": [
            "\u001b[1m72/72\u001b[0m \u001b[32m━━━━━━━━━━━━━━━━━━━━\u001b[0m\u001b[37m\u001b[0m \u001b[1m1s\u001b[0m 5ms/step\n"
          ]
        },
        {
          "output_type": "stream",
          "name": "stderr",
          "text": [
            "[I 2024-04-11 19:27:34,853] Trial 43 finished with value: 0.6503710150718689 and parameters: {'hidden_activation': 'relu', 'num_hidden_layers': 1, 'hidden_size': 20, 'num_epochs': 18}. Best is trial 32 with value: 0.6390222609043121.\n"
          ]
        },
        {
          "output_type": "stream",
          "name": "stdout",
          "text": [
            "\u001b[1m72/72\u001b[0m \u001b[32m━━━━━━━━━━━━━━━━━━━━\u001b[0m\u001b[37m\u001b[0m \u001b[1m1s\u001b[0m 5ms/step\n"
          ]
        },
        {
          "output_type": "stream",
          "name": "stderr",
          "text": [
            "[I 2024-04-11 19:27:51,183] Trial 44 finished with value: 0.6577913463115692 and parameters: {'hidden_activation': 'relu', 'num_hidden_layers': 1, 'hidden_size': 19, 'num_epochs': 19}. Best is trial 32 with value: 0.6390222609043121.\n"
          ]
        },
        {
          "output_type": "stream",
          "name": "stdout",
          "text": [
            "\u001b[1m72/72\u001b[0m \u001b[32m━━━━━━━━━━━━━━━━━━━━\u001b[0m\u001b[37m\u001b[0m \u001b[1m1s\u001b[0m 8ms/step\n"
          ]
        },
        {
          "output_type": "stream",
          "name": "stderr",
          "text": [
            "/usr/local/lib/python3.10/dist-packages/sklearn/metrics/_classification.py:1344: UndefinedMetricWarning: Precision is ill-defined and being set to 0.0 in labels with no predicted samples. Use `zero_division` parameter to control this behavior.\n",
            "  _warn_prf(average, modifier, msg_start, len(result))\n",
            "[I 2024-04-11 19:28:06,339] Trial 45 finished with value: 0.663902223110199 and parameters: {'hidden_activation': 'relu', 'num_hidden_layers': 1, 'hidden_size': 17, 'num_epochs': 16}. Best is trial 32 with value: 0.6390222609043121.\n"
          ]
        },
        {
          "output_type": "stream",
          "name": "stdout",
          "text": [
            "\u001b[1m72/72\u001b[0m \u001b[32m━━━━━━━━━━━━━━━━━━━━\u001b[0m\u001b[37m\u001b[0m \u001b[1m1s\u001b[0m 5ms/step\n"
          ]
        },
        {
          "output_type": "stream",
          "name": "stderr",
          "text": [
            "/usr/local/lib/python3.10/dist-packages/sklearn/metrics/_classification.py:1344: UndefinedMetricWarning: Precision is ill-defined and being set to 0.0 in labels with no predicted samples. Use `zero_division` parameter to control this behavior.\n",
            "  _warn_prf(average, modifier, msg_start, len(result))\n",
            "[I 2024-04-11 19:28:25,625] Trial 46 finished with value: 0.6927106082439423 and parameters: {'hidden_activation': 'relu', 'num_hidden_layers': 2, 'hidden_size': 18, 'num_epochs': 18}. Best is trial 32 with value: 0.6390222609043121.\n"
          ]
        },
        {
          "output_type": "stream",
          "name": "stdout",
          "text": [
            "\u001b[1m72/72\u001b[0m \u001b[32m━━━━━━━━━━━━━━━━━━━━\u001b[0m\u001b[37m\u001b[0m \u001b[1m1s\u001b[0m 5ms/step\n"
          ]
        },
        {
          "output_type": "stream",
          "name": "stderr",
          "text": [
            "/usr/local/lib/python3.10/dist-packages/sklearn/metrics/_classification.py:1344: UndefinedMetricWarning: Precision is ill-defined and being set to 0.0 in labels with no predicted samples. Use `zero_division` parameter to control this behavior.\n",
            "  _warn_prf(average, modifier, msg_start, len(result))\n",
            "[I 2024-04-11 19:28:39,218] Trial 47 finished with value: 0.7031863927841187 and parameters: {'hidden_activation': 'sigmoid', 'num_hidden_layers': 1, 'hidden_size': 20, 'num_epochs': 14}. Best is trial 32 with value: 0.6390222609043121.\n"
          ]
        },
        {
          "output_type": "stream",
          "name": "stdout",
          "text": [
            "\u001b[1m72/72\u001b[0m \u001b[32m━━━━━━━━━━━━━━━━━━━━\u001b[0m\u001b[37m\u001b[0m \u001b[1m1s\u001b[0m 11ms/step\n"
          ]
        },
        {
          "output_type": "stream",
          "name": "stderr",
          "text": [
            "/usr/local/lib/python3.10/dist-packages/sklearn/metrics/_classification.py:1344: UndefinedMetricWarning: Precision is ill-defined and being set to 0.0 in labels with no predicted samples. Use `zero_division` parameter to control this behavior.\n",
            "  _warn_prf(average, modifier, msg_start, len(result))\n",
            "[I 2024-04-11 19:28:57,871] Trial 48 finished with value: 0.7180270552635193 and parameters: {'hidden_activation': 'relu', 'num_hidden_layers': 1, 'hidden_size': 10, 'num_epochs': 10}. Best is trial 32 with value: 0.6390222609043121.\n"
          ]
        },
        {
          "output_type": "stream",
          "name": "stdout",
          "text": [
            "\u001b[1m72/72\u001b[0m \u001b[32m━━━━━━━━━━━━━━━━━━━━\u001b[0m\u001b[37m\u001b[0m \u001b[1m1s\u001b[0m 5ms/step\n"
          ]
        },
        {
          "output_type": "stream",
          "name": "stderr",
          "text": [
            "[I 2024-04-11 19:29:16,607] Trial 49 finished with value: 0.6481885612010956 and parameters: {'hidden_activation': 'relu', 'num_hidden_layers': 1, 'hidden_size': 16, 'num_epochs': 21}. Best is trial 32 with value: 0.6390222609043121.\n"
          ]
        },
        {
          "output_type": "stream",
          "name": "stdout",
          "text": [
            "\u001b[1m72/72\u001b[0m \u001b[32m━━━━━━━━━━━━━━━━━━━━\u001b[0m\u001b[37m\u001b[0m \u001b[1m1s\u001b[0m 5ms/step\n"
          ]
        },
        {
          "output_type": "stream",
          "name": "stderr",
          "text": [
            "[I 2024-04-11 19:29:34,908] Trial 50 finished with value: 0.6556088924407959 and parameters: {'hidden_activation': 'relu', 'num_hidden_layers': 1, 'hidden_size': 16, 'num_epochs': 23}. Best is trial 32 with value: 0.6390222609043121.\n"
          ]
        },
        {
          "output_type": "stream",
          "name": "stdout",
          "text": [
            "\u001b[1m72/72\u001b[0m \u001b[32m━━━━━━━━━━━━━━━━━━━━\u001b[0m\u001b[37m\u001b[0m \u001b[1m1s\u001b[0m 5ms/step\n"
          ]
        },
        {
          "output_type": "stream",
          "name": "stderr",
          "text": [
            "[I 2024-04-11 19:29:57,514] Trial 51 finished with value: 0.6564818918704987 and parameters: {'hidden_activation': 'relu', 'num_hidden_layers': 1, 'hidden_size': 18, 'num_epochs': 21}. Best is trial 32 with value: 0.6390222609043121.\n"
          ]
        },
        {
          "output_type": "stream",
          "name": "stdout",
          "text": [
            "\u001b[1m72/72\u001b[0m \u001b[32m━━━━━━━━━━━━━━━━━━━━\u001b[0m\u001b[37m\u001b[0m \u001b[1m1s\u001b[0m 5ms/step\n"
          ]
        },
        {
          "output_type": "stream",
          "name": "stderr",
          "text": [
            "/usr/local/lib/python3.10/dist-packages/sklearn/metrics/_classification.py:1344: UndefinedMetricWarning: Precision is ill-defined and being set to 0.0 in labels with no predicted samples. Use `zero_division` parameter to control this behavior.\n",
            "  _warn_prf(average, modifier, msg_start, len(result))\n",
            "[I 2024-04-11 19:30:14,317] Trial 52 finished with value: 0.678742915391922 and parameters: {'hidden_activation': 'relu', 'num_hidden_layers': 1, 'hidden_size': 16, 'num_epochs': 19}. Best is trial 32 with value: 0.6390222609043121.\n"
          ]
        },
        {
          "output_type": "stream",
          "name": "stdout",
          "text": [
            "\u001b[1m72/72\u001b[0m \u001b[32m━━━━━━━━━━━━━━━━━━━━\u001b[0m\u001b[37m\u001b[0m \u001b[1m1s\u001b[0m 5ms/step\n"
          ]
        },
        {
          "output_type": "stream",
          "name": "stderr",
          "text": [
            "[I 2024-04-11 19:30:37,065] Trial 53 finished with value: 0.6512439846992493 and parameters: {'hidden_activation': 'relu', 'num_hidden_layers': 1, 'hidden_size': 17, 'num_epochs': 20}. Best is trial 32 with value: 0.6390222609043121.\n"
          ]
        },
        {
          "output_type": "stream",
          "name": "stdout",
          "text": [
            "\u001b[1m72/72\u001b[0m \u001b[32m━━━━━━━━━━━━━━━━━━━━\u001b[0m\u001b[37m\u001b[0m \u001b[1m1s\u001b[0m 5ms/step\n"
          ]
        },
        {
          "output_type": "stream",
          "name": "stderr",
          "text": [
            "[I 2024-04-11 19:30:59,721] Trial 54 finished with value: 0.6695766150951385 and parameters: {'hidden_activation': 'relu', 'num_hidden_layers': 1, 'hidden_size': 18, 'num_epochs': 22}. Best is trial 32 with value: 0.6390222609043121.\n"
          ]
        },
        {
          "output_type": "stream",
          "name": "stdout",
          "text": [
            "\u001b[1m72/72\u001b[0m \u001b[32m━━━━━━━━━━━━━━━━━━━━\u001b[0m\u001b[37m\u001b[0m \u001b[1m1s\u001b[0m 5ms/step\n"
          ]
        },
        {
          "output_type": "stream",
          "name": "stderr",
          "text": [
            "[I 2024-04-11 19:31:16,467] Trial 55 finished with value: 0.6551724076271057 and parameters: {'hidden_activation': 'relu', 'num_hidden_layers': 1, 'hidden_size': 19, 'num_epochs': 17}. Best is trial 32 with value: 0.6390222609043121.\n"
          ]
        },
        {
          "output_type": "stream",
          "name": "stdout",
          "text": [
            "\u001b[1m72/72\u001b[0m \u001b[32m━━━━━━━━━━━━━━━━━━━━\u001b[0m\u001b[37m\u001b[0m \u001b[1m1s\u001b[0m 5ms/step\n"
          ]
        },
        {
          "output_type": "stream",
          "name": "stderr",
          "text": [
            "[I 2024-04-11 19:31:38,088] Trial 56 finished with value: 0.6582278609275818 and parameters: {'hidden_activation': 'relu', 'num_hidden_layers': 1, 'hidden_size': 20, 'num_epochs': 19}. Best is trial 32 with value: 0.6390222609043121.\n"
          ]
        },
        {
          "output_type": "stream",
          "name": "stdout",
          "text": [
            "\u001b[1m72/72\u001b[0m \u001b[32m━━━━━━━━━━━━━━━━━━━━\u001b[0m\u001b[37m\u001b[0m \u001b[1m1s\u001b[0m 11ms/step\n"
          ]
        },
        {
          "output_type": "stream",
          "name": "stderr",
          "text": [
            "/usr/local/lib/python3.10/dist-packages/sklearn/metrics/_classification.py:1344: UndefinedMetricWarning: Precision is ill-defined and being set to 0.0 in labels with no predicted samples. Use `zero_division` parameter to control this behavior.\n",
            "  _warn_prf(average, modifier, msg_start, len(result))\n",
            "[I 2024-04-11 19:32:14,647] Trial 57 finished with value: 0.7023133933544159 and parameters: {'hidden_activation': 'relu', 'num_hidden_layers': 3, 'hidden_size': 17, 'num_epochs': 21}. Best is trial 32 with value: 0.6390222609043121.\n"
          ]
        },
        {
          "output_type": "stream",
          "name": "stdout",
          "text": [
            "\u001b[1m72/72\u001b[0m \u001b[32m━━━━━━━━━━━━━━━━━━━━\u001b[0m\u001b[37m\u001b[0m \u001b[1m1s\u001b[0m 7ms/step\n"
          ]
        },
        {
          "output_type": "stream",
          "name": "stderr",
          "text": [
            "/usr/local/lib/python3.10/dist-packages/sklearn/metrics/_classification.py:1344: UndefinedMetricWarning: Precision is ill-defined and being set to 0.0 in labels with no predicted samples. Use `zero_division` parameter to control this behavior.\n",
            "  _warn_prf(average, modifier, msg_start, len(result))\n",
            "[I 2024-04-11 19:32:35,686] Trial 58 finished with value: 0.6621562540531158 and parameters: {'hidden_activation': 'relu', 'num_hidden_layers': 1, 'hidden_size': 15, 'num_epochs': 20}. Best is trial 32 with value: 0.6390222609043121.\n"
          ]
        },
        {
          "output_type": "stream",
          "name": "stdout",
          "text": [
            "\u001b[1m72/72\u001b[0m \u001b[32m━━━━━━━━━━━━━━━━━━━━\u001b[0m\u001b[37m\u001b[0m \u001b[1m1s\u001b[0m 7ms/step\n"
          ]
        },
        {
          "output_type": "stream",
          "name": "stderr",
          "text": [
            "/usr/local/lib/python3.10/dist-packages/sklearn/metrics/_classification.py:1344: UndefinedMetricWarning: Precision is ill-defined and being set to 0.0 in labels with no predicted samples. Use `zero_division` parameter to control this behavior.\n",
            "  _warn_prf(average, modifier, msg_start, len(result))\n",
            "[I 2024-04-11 19:32:58,345] Trial 59 finished with value: 0.7450894713401794 and parameters: {'hidden_activation': 'sigmoid', 'num_hidden_layers': 2, 'hidden_size': 19, 'num_epochs': 18}. Best is trial 32 with value: 0.6390222609043121.\n"
          ]
        },
        {
          "output_type": "stream",
          "name": "stdout",
          "text": [
            "\u001b[1m72/72\u001b[0m \u001b[32m━━━━━━━━━━━━━━━━━━━━\u001b[0m\u001b[37m\u001b[0m \u001b[1m1s\u001b[0m 8ms/step\n"
          ]
        },
        {
          "output_type": "stream",
          "name": "stderr",
          "text": [
            "[I 2024-04-11 19:33:17,178] Trial 60 finished with value: 0.6538629531860352 and parameters: {'hidden_activation': 'relu', 'num_hidden_layers': 1, 'hidden_size': 16, 'num_epochs': 23}. Best is trial 32 with value: 0.6390222609043121.\n"
          ]
        },
        {
          "output_type": "stream",
          "name": "stdout",
          "text": [
            "\u001b[1m72/72\u001b[0m \u001b[32m━━━━━━━━━━━━━━━━━━━━\u001b[0m\u001b[37m\u001b[0m \u001b[1m1s\u001b[0m 5ms/step\n"
          ]
        },
        {
          "output_type": "stream",
          "name": "stderr",
          "text": [
            "[I 2024-04-11 19:33:32,404] Trial 61 finished with value: 0.6534264385700226 and parameters: {'hidden_activation': 'relu', 'num_hidden_layers': 1, 'hidden_size': 20, 'num_epochs': 16}. Best is trial 32 with value: 0.6390222609043121.\n"
          ]
        },
        {
          "output_type": "stream",
          "name": "stdout",
          "text": [
            "\u001b[1m72/72\u001b[0m \u001b[32m━━━━━━━━━━━━━━━━━━━━\u001b[0m\u001b[37m\u001b[0m \u001b[1m1s\u001b[0m 5ms/step\n"
          ]
        },
        {
          "output_type": "stream",
          "name": "stderr",
          "text": [
            "[I 2024-04-11 19:33:48,229] Trial 62 finished with value: 0.6713225543498993 and parameters: {'hidden_activation': 'relu', 'num_hidden_layers': 1, 'hidden_size': 20, 'num_epochs': 18}. Best is trial 32 with value: 0.6390222609043121.\n"
          ]
        },
        {
          "output_type": "stream",
          "name": "stdout",
          "text": [
            "\u001b[1m72/72\u001b[0m \u001b[32m━━━━━━━━━━━━━━━━━━━━\u001b[0m\u001b[37m\u001b[0m \u001b[1m1s\u001b[0m 5ms/step\n"
          ]
        },
        {
          "output_type": "stream",
          "name": "stderr",
          "text": [
            "[I 2024-04-11 19:34:03,979] Trial 63 finished with value: 0.6538629531860352 and parameters: {'hidden_activation': 'relu', 'num_hidden_layers': 1, 'hidden_size': 19, 'num_epochs': 17}. Best is trial 32 with value: 0.6390222609043121.\n"
          ]
        },
        {
          "output_type": "stream",
          "name": "stdout",
          "text": [
            "\u001b[1m72/72\u001b[0m \u001b[32m━━━━━━━━━━━━━━━━━━━━\u001b[0m\u001b[37m\u001b[0m \u001b[1m1s\u001b[0m 5ms/step\n"
          ]
        },
        {
          "output_type": "stream",
          "name": "stderr",
          "text": [
            "[I 2024-04-11 19:34:24,724] Trial 64 finished with value: 0.6534264385700226 and parameters: {'hidden_activation': 'relu', 'num_hidden_layers': 1, 'hidden_size': 17, 'num_epochs': 19}. Best is trial 32 with value: 0.6390222609043121.\n"
          ]
        },
        {
          "output_type": "stream",
          "name": "stdout",
          "text": [
            "\u001b[1m72/72\u001b[0m \u001b[32m━━━━━━━━━━━━━━━━━━━━\u001b[0m\u001b[37m\u001b[0m \u001b[1m1s\u001b[0m 5ms/step\n"
          ]
        },
        {
          "output_type": "stream",
          "name": "stderr",
          "text": [
            "[I 2024-04-11 19:34:39,631] Trial 65 finished with value: 0.657354861497879 and parameters: {'hidden_activation': 'relu', 'num_hidden_layers': 1, 'hidden_size': 20, 'num_epochs': 16}. Best is trial 32 with value: 0.6390222609043121.\n"
          ]
        },
        {
          "output_type": "stream",
          "name": "stdout",
          "text": [
            "\u001b[1m72/72\u001b[0m \u001b[32m━━━━━━━━━━━━━━━━━━━━\u001b[0m\u001b[37m\u001b[0m \u001b[1m1s\u001b[0m 5ms/step\n"
          ]
        },
        {
          "output_type": "stream",
          "name": "stderr",
          "text": [
            "[I 2024-04-11 19:34:54,425] Trial 66 finished with value: 0.6508074998855591 and parameters: {'hidden_activation': 'relu', 'num_hidden_layers': 1, 'hidden_size': 18, 'num_epochs': 17}. Best is trial 32 with value: 0.6390222609043121.\n"
          ]
        },
        {
          "output_type": "stream",
          "name": "stdout",
          "text": [
            "\u001b[1m72/72\u001b[0m \u001b[32m━━━━━━━━━━━━━━━━━━━━\u001b[0m\u001b[37m\u001b[0m \u001b[1m1s\u001b[0m 5ms/step\n"
          ]
        },
        {
          "output_type": "stream",
          "name": "stderr",
          "text": [
            "[I 2024-04-11 19:35:11,869] Trial 67 finished with value: 0.6630292534828186 and parameters: {'hidden_activation': 'relu', 'num_hidden_layers': 1, 'hidden_size': 19, 'num_epochs': 18}. Best is trial 32 with value: 0.6390222609043121.\n"
          ]
        },
        {
          "output_type": "stream",
          "name": "stdout",
          "text": [
            "\u001b[1m72/72\u001b[0m \u001b[32m━━━━━━━━━━━━━━━━━━━━\u001b[0m\u001b[37m\u001b[0m \u001b[1m1s\u001b[0m 8ms/step\n"
          ]
        },
        {
          "output_type": "stream",
          "name": "stderr",
          "text": [
            "[I 2024-04-11 19:35:29,102] Trial 68 finished with value: 0.6538629531860352 and parameters: {'hidden_activation': 'relu', 'num_hidden_layers': 1, 'hidden_size': 14, 'num_epochs': 20}. Best is trial 32 with value: 0.6390222609043121.\n"
          ]
        },
        {
          "output_type": "stream",
          "name": "stdout",
          "text": [
            "\u001b[1m72/72\u001b[0m \u001b[32m━━━━━━━━━━━━━━━━━━━━\u001b[0m\u001b[37m\u001b[0m \u001b[1m1s\u001b[0m 5ms/step\n"
          ]
        },
        {
          "output_type": "stream",
          "name": "stderr",
          "text": [
            "[I 2024-04-11 19:35:43,503] Trial 69 finished with value: 0.6665211617946625 and parameters: {'hidden_activation': 'relu', 'num_hidden_layers': 1, 'hidden_size': 16, 'num_epochs': 15}. Best is trial 32 with value: 0.6390222609043121.\n"
          ]
        },
        {
          "output_type": "stream",
          "name": "stdout",
          "text": [
            "\u001b[1m72/72\u001b[0m \u001b[32m━━━━━━━━━━━━━━━━━━━━\u001b[0m\u001b[37m\u001b[0m \u001b[1m1s\u001b[0m 5ms/step\n"
          ]
        },
        {
          "output_type": "stream",
          "name": "stderr",
          "text": [
            "[I 2024-04-11 19:36:01,019] Trial 70 finished with value: 0.6804888546466827 and parameters: {'hidden_activation': 'sigmoid', 'num_hidden_layers': 1, 'hidden_size': 18, 'num_epochs': 21}. Best is trial 32 with value: 0.6390222609043121.\n"
          ]
        },
        {
          "output_type": "stream",
          "name": "stdout",
          "text": [
            "\u001b[1m72/72\u001b[0m \u001b[32m━━━━━━━━━━━━━━━━━━━━\u001b[0m\u001b[37m\u001b[0m \u001b[1m1s\u001b[0m 5ms/step\n"
          ]
        },
        {
          "output_type": "stream",
          "name": "stderr",
          "text": [
            "[I 2024-04-11 19:36:22,511] Trial 71 finished with value: 0.6473155915737152 and parameters: {'hidden_activation': 'relu', 'num_hidden_layers': 1, 'hidden_size': 18, 'num_epochs': 19}. Best is trial 32 with value: 0.6390222609043121.\n"
          ]
        },
        {
          "output_type": "stream",
          "name": "stdout",
          "text": [
            "\u001b[1m72/72\u001b[0m \u001b[32m━━━━━━━━━━━━━━━━━━━━\u001b[0m\u001b[37m\u001b[0m \u001b[1m1s\u001b[0m 5ms/step\n"
          ]
        },
        {
          "output_type": "stream",
          "name": "stderr",
          "text": [
            "[I 2024-04-11 19:36:40,024] Trial 72 finished with value: 0.6529899537563324 and parameters: {'hidden_activation': 'relu', 'num_hidden_layers': 1, 'hidden_size': 17, 'num_epochs': 19}. Best is trial 32 with value: 0.6390222609043121.\n"
          ]
        },
        {
          "output_type": "stream",
          "name": "stdout",
          "text": [
            "\u001b[1m72/72\u001b[0m \u001b[32m━━━━━━━━━━━━━━━━━━━━\u001b[0m\u001b[37m\u001b[0m \u001b[1m1s\u001b[0m 7ms/step\n"
          ]
        },
        {
          "output_type": "stream",
          "name": "stderr",
          "text": [
            "/usr/local/lib/python3.10/dist-packages/sklearn/metrics/_classification.py:1344: UndefinedMetricWarning: Precision is ill-defined and being set to 0.0 in labels with no predicted samples. Use `zero_division` parameter to control this behavior.\n",
            "  _warn_prf(average, modifier, msg_start, len(result))\n",
            "[I 2024-04-11 19:37:03,837] Trial 73 finished with value: 0.7088607549667358 and parameters: {'hidden_activation': 'relu', 'num_hidden_layers': 3, 'hidden_size': 19, 'num_epochs': 18}. Best is trial 32 with value: 0.6390222609043121.\n"
          ]
        },
        {
          "output_type": "stream",
          "name": "stdout",
          "text": [
            "\u001b[1m72/72\u001b[0m \u001b[32m━━━━━━━━━━━━━━━━━━━━\u001b[0m\u001b[37m\u001b[0m \u001b[1m1s\u001b[0m 5ms/step\n"
          ]
        },
        {
          "output_type": "stream",
          "name": "stderr",
          "text": [
            "[I 2024-04-11 19:37:19,139] Trial 74 finished with value: 0.6512439846992493 and parameters: {'hidden_activation': 'relu', 'num_hidden_layers': 1, 'hidden_size': 20, 'num_epochs': 17}. Best is trial 32 with value: 0.6390222609043121.\n"
          ]
        },
        {
          "output_type": "stream",
          "name": "stdout",
          "text": [
            "\u001b[1m72/72\u001b[0m \u001b[32m━━━━━━━━━━━━━━━━━━━━\u001b[0m\u001b[37m\u001b[0m \u001b[1m1s\u001b[0m 7ms/step\n"
          ]
        },
        {
          "output_type": "stream",
          "name": "stderr",
          "text": [
            "[I 2024-04-11 19:37:37,675] Trial 75 finished with value: 0.657354861497879 and parameters: {'hidden_activation': 'relu', 'num_hidden_layers': 1, 'hidden_size': 18, 'num_epochs': 22}. Best is trial 32 with value: 0.6390222609043121.\n"
          ]
        },
        {
          "output_type": "stream",
          "name": "stdout",
          "text": [
            "\u001b[1m72/72\u001b[0m \u001b[32m━━━━━━━━━━━━━━━━━━━━\u001b[0m\u001b[37m\u001b[0m \u001b[1m1s\u001b[0m 5ms/step\n"
          ]
        },
        {
          "output_type": "stream",
          "name": "stderr",
          "text": [
            "[I 2024-04-11 19:37:54,088] Trial 76 finished with value: 0.6556088924407959 and parameters: {'hidden_activation': 'relu', 'num_hidden_layers': 1, 'hidden_size': 18, 'num_epochs': 20}. Best is trial 32 with value: 0.6390222609043121.\n"
          ]
        },
        {
          "output_type": "stream",
          "name": "stdout",
          "text": [
            "\u001b[1m72/72\u001b[0m \u001b[32m━━━━━━━━━━━━━━━━━━━━\u001b[0m\u001b[37m\u001b[0m \u001b[1m1s\u001b[0m 5ms/step\n"
          ]
        },
        {
          "output_type": "stream",
          "name": "stderr",
          "text": [
            "[I 2024-04-11 19:38:10,635] Trial 77 finished with value: 0.6604103147983551 and parameters: {'hidden_activation': 'relu', 'num_hidden_layers': 1, 'hidden_size': 20, 'num_epochs': 19}. Best is trial 32 with value: 0.6390222609043121.\n"
          ]
        },
        {
          "output_type": "stream",
          "name": "stdout",
          "text": [
            "\u001b[1m72/72\u001b[0m \u001b[32m━━━━━━━━━━━━━━━━━━━━\u001b[0m\u001b[37m\u001b[0m \u001b[1m1s\u001b[0m 6ms/step\n"
          ]
        },
        {
          "output_type": "stream",
          "name": "stderr",
          "text": [
            "[I 2024-04-11 19:38:29,477] Trial 78 finished with value: 0.6595373153686523 and parameters: {'hidden_activation': 'relu', 'num_hidden_layers': 1, 'hidden_size': 17, 'num_epochs': 18}. Best is trial 32 with value: 0.6390222609043121.\n"
          ]
        },
        {
          "output_type": "stream",
          "name": "stdout",
          "text": [
            "\u001b[1m72/72\u001b[0m \u001b[32m━━━━━━━━━━━━━━━━━━━━\u001b[0m\u001b[37m\u001b[0m \u001b[1m1s\u001b[0m 5ms/step\n"
          ]
        },
        {
          "output_type": "stream",
          "name": "stderr",
          "text": [
            "[I 2024-04-11 19:38:44,989] Trial 79 finished with value: 0.6512439846992493 and parameters: {'hidden_activation': 'relu', 'num_hidden_layers': 1, 'hidden_size': 19, 'num_epochs': 18}. Best is trial 32 with value: 0.6390222609043121.\n"
          ]
        },
        {
          "output_type": "stream",
          "name": "stdout",
          "text": [
            "\u001b[1m72/72\u001b[0m \u001b[32m━━━━━━━━━━━━━━━━━━━━\u001b[0m\u001b[37m\u001b[0m \u001b[1m1s\u001b[0m 5ms/step\n"
          ]
        },
        {
          "output_type": "stream",
          "name": "stderr",
          "text": [
            "[I 2024-04-11 19:39:02,209] Trial 80 finished with value: 0.646879106760025 and parameters: {'hidden_activation': 'relu', 'num_hidden_layers': 1, 'hidden_size': 16, 'num_epochs': 19}. Best is trial 32 with value: 0.6390222609043121.\n"
          ]
        },
        {
          "output_type": "stream",
          "name": "stdout",
          "text": [
            "\u001b[1m72/72\u001b[0m \u001b[32m━━━━━━━━━━━━━━━━━━━━\u001b[0m\u001b[37m\u001b[0m \u001b[1m1s\u001b[0m 5ms/step\n"
          ]
        },
        {
          "output_type": "stream",
          "name": "stderr",
          "text": [
            "/usr/local/lib/python3.10/dist-packages/sklearn/metrics/_classification.py:1344: UndefinedMetricWarning: Precision is ill-defined and being set to 0.0 in labels with no predicted samples. Use `zero_division` parameter to control this behavior.\n",
            "  _warn_prf(average, modifier, msg_start, len(result))\n",
            "[I 2024-04-11 19:39:23,309] Trial 81 finished with value: 0.6608467996120453 and parameters: {'hidden_activation': 'relu', 'num_hidden_layers': 1, 'hidden_size': 16, 'num_epochs': 19}. Best is trial 32 with value: 0.6390222609043121.\n"
          ]
        },
        {
          "output_type": "stream",
          "name": "stdout",
          "text": [
            "\u001b[1m72/72\u001b[0m \u001b[32m━━━━━━━━━━━━━━━━━━━━\u001b[0m\u001b[37m\u001b[0m \u001b[1m1s\u001b[0m 5ms/step\n"
          ]
        },
        {
          "output_type": "stream",
          "name": "stderr",
          "text": [
            "[I 2024-04-11 19:39:41,463] Trial 82 finished with value: 0.6534264385700226 and parameters: {'hidden_activation': 'relu', 'num_hidden_layers': 1, 'hidden_size': 16, 'num_epochs': 20}. Best is trial 32 with value: 0.6390222609043121.\n"
          ]
        },
        {
          "output_type": "stream",
          "name": "stdout",
          "text": [
            "\u001b[1m72/72\u001b[0m \u001b[32m━━━━━━━━━━━━━━━━━━━━\u001b[0m\u001b[37m\u001b[0m \u001b[1m1s\u001b[0m 5ms/step\n"
          ]
        },
        {
          "output_type": "stream",
          "name": "stderr",
          "text": [
            "/usr/local/lib/python3.10/dist-packages/sklearn/metrics/_classification.py:1344: UndefinedMetricWarning: Precision is ill-defined and being set to 0.0 in labels with no predicted samples. Use `zero_division` parameter to control this behavior.\n",
            "  _warn_prf(average, modifier, msg_start, len(result))\n",
            "[I 2024-04-11 19:40:03,409] Trial 83 finished with value: 0.677433431148529 and parameters: {'hidden_activation': 'relu', 'num_hidden_layers': 1, 'hidden_size': 15, 'num_epochs': 17}. Best is trial 32 with value: 0.6390222609043121.\n"
          ]
        },
        {
          "output_type": "stream",
          "name": "stdout",
          "text": [
            "\u001b[1m72/72\u001b[0m \u001b[32m━━━━━━━━━━━━━━━━━━━━\u001b[0m\u001b[37m\u001b[0m \u001b[1m1s\u001b[0m 5ms/step\n"
          ]
        },
        {
          "output_type": "stream",
          "name": "stderr",
          "text": [
            "[I 2024-04-11 19:40:20,141] Trial 84 finished with value: 0.6556088924407959 and parameters: {'hidden_activation': 'relu', 'num_hidden_layers': 1, 'hidden_size': 17, 'num_epochs': 19}. Best is trial 32 with value: 0.6390222609043121.\n"
          ]
        },
        {
          "output_type": "stream",
          "name": "stdout",
          "text": [
            "\u001b[1m72/72\u001b[0m \u001b[32m━━━━━━━━━━━━━━━━━━━━\u001b[0m\u001b[37m\u001b[0m \u001b[1m1s\u001b[0m 5ms/step\n"
          ]
        },
        {
          "output_type": "stream",
          "name": "stderr",
          "text": [
            "/usr/local/lib/python3.10/dist-packages/sklearn/metrics/_classification.py:1344: UndefinedMetricWarning: Precision is ill-defined and being set to 0.0 in labels with no predicted samples. Use `zero_division` parameter to control this behavior.\n",
            "  _warn_prf(average, modifier, msg_start, len(result))\n",
            "[I 2024-04-11 19:40:41,163] Trial 85 finished with value: 0.6425141990184784 and parameters: {'hidden_activation': 'relu', 'num_hidden_layers': 1, 'hidden_size': 15, 'num_epochs': 18}. Best is trial 32 with value: 0.6390222609043121.\n"
          ]
        },
        {
          "output_type": "stream",
          "name": "stdout",
          "text": [
            "\u001b[1m72/72\u001b[0m \u001b[32m━━━━━━━━━━━━━━━━━━━━\u001b[0m\u001b[37m\u001b[0m \u001b[1m1s\u001b[0m 8ms/step\n"
          ]
        },
        {
          "output_type": "stream",
          "name": "stderr",
          "text": [
            "[I 2024-04-11 19:40:58,397] Trial 86 finished with value: 0.6534264385700226 and parameters: {'hidden_activation': 'relu', 'num_hidden_layers': 1, 'hidden_size': 14, 'num_epochs': 21}. Best is trial 32 with value: 0.6390222609043121.\n"
          ]
        },
        {
          "output_type": "stream",
          "name": "stdout",
          "text": [
            "\u001b[1m72/72\u001b[0m \u001b[32m━━━━━━━━━━━━━━━━━━━━\u001b[0m\u001b[37m\u001b[0m \u001b[1m1s\u001b[0m 5ms/step\n"
          ]
        },
        {
          "output_type": "stream",
          "name": "stderr",
          "text": [
            "/usr/local/lib/python3.10/dist-packages/sklearn/metrics/_classification.py:1344: UndefinedMetricWarning: Precision is ill-defined and being set to 0.0 in labels with no predicted samples. Use `zero_division` parameter to control this behavior.\n",
            "  _warn_prf(average, modifier, msg_start, len(result))\n",
            "[I 2024-04-11 19:41:13,217] Trial 87 finished with value: 0.7058053314685822 and parameters: {'hidden_activation': 'sigmoid', 'num_hidden_layers': 1, 'hidden_size': 15, 'num_epochs': 16}. Best is trial 32 with value: 0.6390222609043121.\n"
          ]
        },
        {
          "output_type": "stream",
          "name": "stdout",
          "text": [
            "\u001b[1m72/72\u001b[0m \u001b[32m━━━━━━━━━━━━━━━━━━━━\u001b[0m\u001b[37m\u001b[0m \u001b[1m1s\u001b[0m 5ms/step\n"
          ]
        },
        {
          "output_type": "stream",
          "name": "stderr",
          "text": [
            "[I 2024-04-11 19:41:35,056] Trial 88 finished with value: 0.6634657382965088 and parameters: {'hidden_activation': 'relu', 'num_hidden_layers': 1, 'hidden_size': 16, 'num_epochs': 17}. Best is trial 32 with value: 0.6390222609043121.\n"
          ]
        },
        {
          "output_type": "stream",
          "name": "stdout",
          "text": [
            "\u001b[1m72/72\u001b[0m \u001b[32m━━━━━━━━━━━━━━━━━━━━\u001b[0m\u001b[37m\u001b[0m \u001b[1m1s\u001b[0m 5ms/step\n"
          ]
        },
        {
          "output_type": "stream",
          "name": "stderr",
          "text": [
            "/usr/local/lib/python3.10/dist-packages/sklearn/metrics/_classification.py:1344: UndefinedMetricWarning: Precision is ill-defined and being set to 0.0 in labels with no predicted samples. Use `zero_division` parameter to control this behavior.\n",
            "  _warn_prf(average, modifier, msg_start, len(result))\n",
            "[I 2024-04-11 19:41:50,931] Trial 89 finished with value: 0.6621562540531158 and parameters: {'hidden_activation': 'relu', 'num_hidden_layers': 1, 'hidden_size': 15, 'num_epochs': 19}. Best is trial 32 with value: 0.6390222609043121.\n"
          ]
        },
        {
          "output_type": "stream",
          "name": "stdout",
          "text": [
            "\u001b[1m72/72\u001b[0m \u001b[32m━━━━━━━━━━━━━━━━━━━━\u001b[0m\u001b[37m\u001b[0m \u001b[1m1s\u001b[0m 5ms/step\n"
          ]
        },
        {
          "output_type": "stream",
          "name": "stderr",
          "text": [
            "/usr/local/lib/python3.10/dist-packages/sklearn/metrics/_classification.py:1344: UndefinedMetricWarning: Precision is ill-defined and being set to 0.0 in labels with no predicted samples. Use `zero_division` parameter to control this behavior.\n",
            "  _warn_prf(average, modifier, msg_start, len(result))\n",
            "[I 2024-04-11 19:42:14,340] Trial 90 finished with value: 0.6652117073535919 and parameters: {'hidden_activation': 'relu', 'num_hidden_layers': 2, 'hidden_size': 15, 'num_epochs': 20}. Best is trial 32 with value: 0.6390222609043121.\n"
          ]
        },
        {
          "output_type": "stream",
          "name": "stdout",
          "text": [
            "\u001b[1m72/72\u001b[0m \u001b[32m━━━━━━━━━━━━━━━━━━━━\u001b[0m\u001b[37m\u001b[0m \u001b[1m1s\u001b[0m 5ms/step\n"
          ]
        },
        {
          "output_type": "stream",
          "name": "stderr",
          "text": [
            "[I 2024-04-11 19:42:30,309] Trial 91 finished with value: 0.6477520763874054 and parameters: {'hidden_activation': 'relu', 'num_hidden_layers': 1, 'hidden_size': 17, 'num_epochs': 18}. Best is trial 32 with value: 0.6390222609043121.\n"
          ]
        },
        {
          "output_type": "stream",
          "name": "stdout",
          "text": [
            "\u001b[1m72/72\u001b[0m \u001b[32m━━━━━━━━━━━━━━━━━━━━\u001b[0m\u001b[37m\u001b[0m \u001b[1m1s\u001b[0m 8ms/step\n"
          ]
        },
        {
          "output_type": "stream",
          "name": "stderr",
          "text": [
            "[I 2024-04-11 19:42:47,911] Trial 92 finished with value: 0.6442601382732391 and parameters: {'hidden_activation': 'relu', 'num_hidden_layers': 1, 'hidden_size': 17, 'num_epochs': 18}. Best is trial 32 with value: 0.6390222609043121.\n"
          ]
        },
        {
          "output_type": "stream",
          "name": "stdout",
          "text": [
            "\u001b[1m72/72\u001b[0m \u001b[32m━━━━━━━━━━━━━━━━━━━━\u001b[0m\u001b[37m\u001b[0m \u001b[1m1s\u001b[0m 5ms/step\n"
          ]
        },
        {
          "output_type": "stream",
          "name": "stderr",
          "text": [
            "[I 2024-04-11 19:43:04,553] Trial 93 finished with value: 0.6529899537563324 and parameters: {'hidden_activation': 'relu', 'num_hidden_layers': 1, 'hidden_size': 17, 'num_epochs': 18}. Best is trial 32 with value: 0.6390222609043121.\n"
          ]
        },
        {
          "output_type": "stream",
          "name": "stdout",
          "text": [
            "\u001b[1m72/72\u001b[0m \u001b[32m━━━━━━━━━━━━━━━━━━━━\u001b[0m\u001b[37m\u001b[0m \u001b[1m1s\u001b[0m 10ms/step\n"
          ]
        },
        {
          "output_type": "stream",
          "name": "stderr",
          "text": [
            "/usr/local/lib/python3.10/dist-packages/sklearn/metrics/_classification.py:1344: UndefinedMetricWarning: Precision is ill-defined and being set to 0.0 in labels with no predicted samples. Use `zero_division` parameter to control this behavior.\n",
            "  _warn_prf(average, modifier, msg_start, len(result))\n",
            "[I 2024-04-11 19:43:25,253] Trial 94 finished with value: 0.6617197692394257 and parameters: {'hidden_activation': 'relu', 'num_hidden_layers': 1, 'hidden_size': 13, 'num_epochs': 17}. Best is trial 32 with value: 0.6390222609043121.\n"
          ]
        },
        {
          "output_type": "stream",
          "name": "stdout",
          "text": [
            "\u001b[1m72/72\u001b[0m \u001b[32m━━━━━━━━━━━━━━━━━━━━\u001b[0m\u001b[37m\u001b[0m \u001b[1m1s\u001b[0m 5ms/step\n"
          ]
        },
        {
          "output_type": "stream",
          "name": "stderr",
          "text": [
            "[I 2024-04-11 19:43:42,558] Trial 95 finished with value: 0.6542994379997253 and parameters: {'hidden_activation': 'relu', 'num_hidden_layers': 1, 'hidden_size': 16, 'num_epochs': 19}. Best is trial 32 with value: 0.6390222609043121.\n"
          ]
        },
        {
          "output_type": "stream",
          "name": "stdout",
          "text": [
            "\u001b[1m72/72\u001b[0m \u001b[32m━━━━━━━━━━━━━━━━━━━━\u001b[0m\u001b[37m\u001b[0m \u001b[1m1s\u001b[0m 5ms/step\n"
          ]
        },
        {
          "output_type": "stream",
          "name": "stderr",
          "text": [
            "/usr/local/lib/python3.10/dist-packages/sklearn/metrics/_classification.py:1344: UndefinedMetricWarning: Precision is ill-defined and being set to 0.0 in labels with no predicted samples. Use `zero_division` parameter to control this behavior.\n",
            "  _warn_prf(average, modifier, msg_start, len(result))\n",
            "[I 2024-04-11 19:43:58,633] Trial 96 finished with value: 0.6599738001823425 and parameters: {'hidden_activation': 'relu', 'num_hidden_layers': 1, 'hidden_size': 17, 'num_epochs': 18}. Best is trial 32 with value: 0.6390222609043121.\n"
          ]
        },
        {
          "output_type": "stream",
          "name": "stdout",
          "text": [
            "\u001b[1m72/72\u001b[0m \u001b[32m━━━━━━━━━━━━━━━━━━━━\u001b[0m\u001b[37m\u001b[0m \u001b[1m1s\u001b[0m 5ms/step\n"
          ]
        },
        {
          "output_type": "stream",
          "name": "stderr",
          "text": [
            "/usr/local/lib/python3.10/dist-packages/sklearn/metrics/_classification.py:1344: UndefinedMetricWarning: Precision is ill-defined and being set to 0.0 in labels with no predicted samples. Use `zero_division` parameter to control this behavior.\n",
            "  _warn_prf(average, modifier, msg_start, len(result))\n",
            "[I 2024-04-11 19:44:20,976] Trial 97 finished with value: 0.6621562540531158 and parameters: {'hidden_activation': 'relu', 'num_hidden_layers': 1, 'hidden_size': 17, 'num_epochs': 19}. Best is trial 32 with value: 0.6390222609043121.\n"
          ]
        },
        {
          "output_type": "stream",
          "name": "stdout",
          "text": [
            "\u001b[1m72/72\u001b[0m \u001b[32m━━━━━━━━━━━━━━━━━━━━\u001b[0m\u001b[37m\u001b[0m \u001b[1m1s\u001b[0m 5ms/step\n"
          ]
        },
        {
          "output_type": "stream",
          "name": "stderr",
          "text": [
            "[I 2024-04-11 19:44:36,263] Trial 98 finished with value: 0.6534264385700226 and parameters: {'hidden_activation': 'relu', 'num_hidden_layers': 1, 'hidden_size': 16, 'num_epochs': 18}. Best is trial 32 with value: 0.6390222609043121.\n"
          ]
        },
        {
          "output_type": "stream",
          "name": "stdout",
          "text": [
            "\u001b[1m72/72\u001b[0m \u001b[32m━━━━━━━━━━━━━━━━━━━━\u001b[0m\u001b[37m\u001b[0m \u001b[1m1s\u001b[0m 5ms/step\n"
          ]
        },
        {
          "output_type": "stream",
          "name": "stderr",
          "text": [
            "[I 2024-04-11 19:44:52,335] Trial 99 finished with value: 0.6460061073303223 and parameters: {'hidden_activation': 'relu', 'num_hidden_layers': 1, 'hidden_size': 16, 'num_epochs': 18}. Best is trial 32 with value: 0.6390222609043121.\n"
          ]
        }
      ]
    },
    {
      "cell_type": "code",
      "source": [
        "print(hsnn_experiment.best_trial.params)\n",
        "print(hsnn_experiment.best_trial.user_attrs)\n",
        "print(f\"Validation Acc: {1 - hsnn_experiment.best_trial.values[0]}\")\n"
      ],
      "metadata": {
        "colab": {
          "base_uri": "https://localhost:8080/"
        },
        "id": "kHQ93ohm7TPh",
        "outputId": "7ccaaa8c-ef24-44a4-c717-11969face539"
      },
      "execution_count": null,
      "outputs": [
        {
          "output_type": "stream",
          "name": "stdout",
          "text": [
            "{'hidden_activation': 'relu', 'num_hidden_layers': 1, 'hidden_size': 20, 'num_epochs': 20}\n",
            "{'hidden_layer_dims': [20], 'accuracy': 0.36097773897861196, 'precision': 0.4376747138091939, 'recall': 0.36097773897861196}\n",
            "Validation Acc: 0.36097773909568787\n"
          ]
        }
      ]
    },
    {
      "cell_type": "code",
      "source": [
        "nrnn_experiment = optuna.create_study(study_name=\"NRNN_Experiment\")\n",
        "nrnn_experiment.optimize(objectiveNR, n_trials=100)"
      ],
      "metadata": {
        "colab": {
          "base_uri": "https://localhost:8080/"
        },
        "id": "l5MDdQB7JriW",
        "outputId": "5f0773d3-29ee-41cc-b972-3f3e976c31a3"
      },
      "execution_count": null,
      "outputs": [
        {
          "output_type": "stream",
          "name": "stderr",
          "text": [
            "[I 2024-04-11 20:01:29,003] A new study created in memory with name: NRNN_Experiment\n"
          ]
        },
        {
          "output_type": "stream",
          "name": "stdout",
          "text": [
            "\u001b[1m20/20\u001b[0m \u001b[32m━━━━━━━━━━━━━━━━━━━━\u001b[0m\u001b[37m\u001b[0m \u001b[1m1s\u001b[0m 24ms/step\n"
          ]
        },
        {
          "output_type": "stream",
          "name": "stderr",
          "text": [
            "/usr/local/lib/python3.10/dist-packages/sklearn/metrics/_classification.py:1344: UndefinedMetricWarning: Precision is ill-defined and being set to 0.0 in labels with no predicted samples. Use `zero_division` parameter to control this behavior.\n",
            "  _warn_prf(average, modifier, msg_start, len(result))\n",
            "[I 2024-04-11 20:01:52,732] Trial 0 finished with value: 0.7643312066793442 and parameters: {'hidden_activation': 'sigmoid', 'num_hidden_layers': 3, 'hidden_size': 15, 'num_epochs': 18}. Best is trial 0 with value: 0.7643312066793442.\n"
          ]
        },
        {
          "output_type": "stream",
          "name": "stdout",
          "text": [
            "\u001b[1m20/20\u001b[0m \u001b[32m━━━━━━━━━━━━━━━━━━━━\u001b[0m\u001b[37m\u001b[0m \u001b[1m1s\u001b[0m 22ms/step\n"
          ]
        },
        {
          "output_type": "stream",
          "name": "stderr",
          "text": [
            "/usr/local/lib/python3.10/dist-packages/sklearn/metrics/_classification.py:1344: UndefinedMetricWarning: Precision is ill-defined and being set to 0.0 in labels with no predicted samples. Use `zero_division` parameter to control this behavior.\n",
            "  _warn_prf(average, modifier, msg_start, len(result))\n",
            "[I 2024-04-11 20:02:10,431] Trial 1 finished with value: 0.6257961690425873 and parameters: {'hidden_activation': 'relu', 'num_hidden_layers': 2, 'hidden_size': 12, 'num_epochs': 11}. Best is trial 1 with value: 0.6257961690425873.\n"
          ]
        },
        {
          "output_type": "stream",
          "name": "stdout",
          "text": [
            "\u001b[1m20/20\u001b[0m \u001b[32m━━━━━━━━━━━━━━━━━━━━\u001b[0m\u001b[37m\u001b[0m \u001b[1m2s\u001b[0m 96ms/step\n"
          ]
        },
        {
          "output_type": "stream",
          "name": "stderr",
          "text": [
            "/usr/local/lib/python3.10/dist-packages/sklearn/metrics/_classification.py:1344: UndefinedMetricWarning: Precision is ill-defined and being set to 0.0 in labels with no predicted samples. Use `zero_division` parameter to control this behavior.\n",
            "  _warn_prf(average, modifier, msg_start, len(result))\n",
            "[I 2024-04-11 20:02:39,388] Trial 2 finished with value: 0.5828025341033936 and parameters: {'hidden_activation': 'relu', 'num_hidden_layers': 3, 'hidden_size': 14, 'num_epochs': 25}. Best is trial 2 with value: 0.5828025341033936.\n"
          ]
        },
        {
          "output_type": "stream",
          "name": "stdout",
          "text": [
            "\u001b[1m20/20\u001b[0m \u001b[32m━━━━━━━━━━━━━━━━━━━━\u001b[0m\u001b[37m\u001b[0m \u001b[1m1s\u001b[0m 35ms/step\n"
          ]
        },
        {
          "output_type": "stream",
          "name": "stderr",
          "text": [
            "/usr/local/lib/python3.10/dist-packages/sklearn/metrics/_classification.py:1344: UndefinedMetricWarning: Precision is ill-defined and being set to 0.0 in labels with no predicted samples. Use `zero_division` parameter to control this behavior.\n",
            "  _warn_prf(average, modifier, msg_start, len(result))\n",
            "[I 2024-04-11 20:02:57,358] Trial 3 finished with value: 0.6289809048175812 and parameters: {'hidden_activation': 'sigmoid', 'num_hidden_layers': 1, 'hidden_size': 13, 'num_epochs': 16}. Best is trial 2 with value: 0.5828025341033936.\n"
          ]
        },
        {
          "output_type": "stream",
          "name": "stdout",
          "text": [
            "\u001b[1m20/20\u001b[0m \u001b[32m━━━━━━━━━━━━━━━━━━━━\u001b[0m\u001b[37m\u001b[0m \u001b[1m1s\u001b[0m 29ms/step\n"
          ]
        },
        {
          "output_type": "stream",
          "name": "stderr",
          "text": [
            "[I 2024-04-11 20:03:23,995] Trial 4 finished with value: 0.5668789744377136 and parameters: {'hidden_activation': 'relu', 'num_hidden_layers': 1, 'hidden_size': 10, 'num_epochs': 17}. Best is trial 4 with value: 0.5668789744377136.\n"
          ]
        },
        {
          "output_type": "stream",
          "name": "stdout",
          "text": [
            "\u001b[1m20/20\u001b[0m \u001b[32m━━━━━━━━━━━━━━━━━━━━\u001b[0m\u001b[37m\u001b[0m \u001b[1m1s\u001b[0m 17ms/step\n"
          ]
        },
        {
          "output_type": "stream",
          "name": "stderr",
          "text": [
            "/usr/local/lib/python3.10/dist-packages/sklearn/metrics/_classification.py:1344: UndefinedMetricWarning: Precision is ill-defined and being set to 0.0 in labels with no predicted samples. Use `zero_division` parameter to control this behavior.\n",
            "  _warn_prf(average, modifier, msg_start, len(result))\n",
            "[I 2024-04-11 20:03:51,639] Trial 5 finished with value: 0.5621019005775452 and parameters: {'hidden_activation': 'relu', 'num_hidden_layers': 2, 'hidden_size': 17, 'num_epochs': 23}. Best is trial 5 with value: 0.5621019005775452.\n"
          ]
        },
        {
          "output_type": "stream",
          "name": "stdout",
          "text": [
            "\u001b[1m20/20\u001b[0m \u001b[32m━━━━━━━━━━━━━━━━━━━━\u001b[0m\u001b[37m\u001b[0m \u001b[1m1s\u001b[0m 33ms/step\n"
          ]
        },
        {
          "output_type": "stream",
          "name": "stderr",
          "text": [
            "[I 2024-04-11 20:04:16,664] Trial 6 finished with value: 0.573248416185379 and parameters: {'hidden_activation': 'relu', 'num_hidden_layers': 1, 'hidden_size': 11, 'num_epochs': 12}. Best is trial 5 with value: 0.5621019005775452.\n"
          ]
        },
        {
          "output_type": "stream",
          "name": "stdout",
          "text": [
            "\u001b[1m20/20\u001b[0m \u001b[32m━━━━━━━━━━━━━━━━━━━━\u001b[0m\u001b[37m\u001b[0m \u001b[1m1s\u001b[0m 21ms/step\n"
          ]
        },
        {
          "output_type": "stream",
          "name": "stderr",
          "text": [
            "/usr/local/lib/python3.10/dist-packages/sklearn/metrics/_classification.py:1344: UndefinedMetricWarning: Precision is ill-defined and being set to 0.0 in labels with no predicted samples. Use `zero_division` parameter to control this behavior.\n",
            "  _warn_prf(average, modifier, msg_start, len(result))\n",
            "[I 2024-04-11 20:04:27,927] Trial 7 finished with value: 0.5987261235713959 and parameters: {'hidden_activation': 'sigmoid', 'num_hidden_layers': 1, 'hidden_size': 12, 'num_epochs': 24}. Best is trial 5 with value: 0.5621019005775452.\n"
          ]
        },
        {
          "output_type": "stream",
          "name": "stdout",
          "text": [
            "\u001b[1m20/20\u001b[0m \u001b[32m━━━━━━━━━━━━━━━━━━━━\u001b[0m\u001b[37m\u001b[0m \u001b[1m1s\u001b[0m 35ms/step\n"
          ]
        },
        {
          "output_type": "stream",
          "name": "stderr",
          "text": [
            "/usr/local/lib/python3.10/dist-packages/sklearn/metrics/_classification.py:1344: UndefinedMetricWarning: Precision is ill-defined and being set to 0.0 in labels with no predicted samples. Use `zero_division` parameter to control this behavior.\n",
            "  _warn_prf(average, modifier, msg_start, len(result))\n",
            "[I 2024-04-11 20:04:42,596] Trial 8 finished with value: 0.7085987329483032 and parameters: {'hidden_activation': 'sigmoid', 'num_hidden_layers': 2, 'hidden_size': 10, 'num_epochs': 23}. Best is trial 5 with value: 0.5621019005775452.\n"
          ]
        },
        {
          "output_type": "stream",
          "name": "stdout",
          "text": [
            "\u001b[1m20/20\u001b[0m \u001b[32m━━━━━━━━━━━━━━━━━━━━\u001b[0m\u001b[37m\u001b[0m \u001b[1m1s\u001b[0m 22ms/step\n"
          ]
        },
        {
          "output_type": "stream",
          "name": "stderr",
          "text": [
            "/usr/local/lib/python3.10/dist-packages/sklearn/metrics/_classification.py:1344: UndefinedMetricWarning: Precision is ill-defined and being set to 0.0 in labels with no predicted samples. Use `zero_division` parameter to control this behavior.\n",
            "  _warn_prf(average, modifier, msg_start, len(result))\n",
            "[I 2024-04-11 20:04:57,901] Trial 9 finished with value: 0.7515923529863358 and parameters: {'hidden_activation': 'relu', 'num_hidden_layers': 3, 'hidden_size': 12, 'num_epochs': 12}. Best is trial 5 with value: 0.5621019005775452.\n"
          ]
        },
        {
          "output_type": "stream",
          "name": "stdout",
          "text": [
            "\u001b[1m20/20\u001b[0m \u001b[32m━━━━━━━━━━━━━━━━━━━━\u001b[0m\u001b[37m\u001b[0m \u001b[1m1s\u001b[0m 22ms/step\n"
          ]
        },
        {
          "output_type": "stream",
          "name": "stderr",
          "text": [
            "[I 2024-04-11 20:05:23,621] Trial 10 finished with value: 0.595541387796402 and parameters: {'hidden_activation': 'relu', 'num_hidden_layers': 2, 'hidden_size': 19, 'num_epochs': 21}. Best is trial 5 with value: 0.5621019005775452.\n"
          ]
        },
        {
          "output_type": "stream",
          "name": "stdout",
          "text": [
            "\u001b[1m20/20\u001b[0m \u001b[32m━━━━━━━━━━━━━━━━━━━━\u001b[0m\u001b[37m\u001b[0m \u001b[1m1s\u001b[0m 24ms/step\n"
          ]
        },
        {
          "output_type": "stream",
          "name": "stderr",
          "text": [
            "[I 2024-04-11 20:05:33,852] Trial 11 finished with value: 0.5445859730243683 and parameters: {'hidden_activation': 'relu', 'num_hidden_layers': 1, 'hidden_size': 17, 'num_epochs': 17}. Best is trial 11 with value: 0.5445859730243683.\n"
          ]
        },
        {
          "output_type": "stream",
          "name": "stdout",
          "text": [
            "\u001b[1m20/20\u001b[0m \u001b[32m━━━━━━━━━━━━━━━━━━━━\u001b[0m\u001b[37m\u001b[0m \u001b[1m1s\u001b[0m 22ms/step\n"
          ]
        },
        {
          "output_type": "stream",
          "name": "stderr",
          "text": [
            "/usr/local/lib/python3.10/dist-packages/sklearn/metrics/_classification.py:1344: UndefinedMetricWarning: Precision is ill-defined and being set to 0.0 in labels with no predicted samples. Use `zero_division` parameter to control this behavior.\n",
            "  _warn_prf(average, modifier, msg_start, len(result))\n",
            "[I 2024-04-11 20:05:58,657] Trial 12 finished with value: 0.5573248267173767 and parameters: {'hidden_activation': 'relu', 'num_hidden_layers': 2, 'hidden_size': 18, 'num_epochs': 20}. Best is trial 11 with value: 0.5445859730243683.\n"
          ]
        },
        {
          "output_type": "stream",
          "name": "stdout",
          "text": [
            "\u001b[1m20/20\u001b[0m \u001b[32m━━━━━━━━━━━━━━━━━━━━\u001b[0m\u001b[37m\u001b[0m \u001b[1m1s\u001b[0m 20ms/step\n"
          ]
        },
        {
          "output_type": "stream",
          "name": "stderr",
          "text": [
            "[I 2024-04-11 20:06:20,813] Trial 13 finished with value: 0.5493630468845367 and parameters: {'hidden_activation': 'relu', 'num_hidden_layers': 1, 'hidden_size': 20, 'num_epochs': 20}. Best is trial 11 with value: 0.5445859730243683.\n"
          ]
        },
        {
          "output_type": "stream",
          "name": "stdout",
          "text": [
            "\u001b[1m20/20\u001b[0m \u001b[32m━━━━━━━━━━━━━━━━━━━━\u001b[0m\u001b[37m\u001b[0m \u001b[1m1s\u001b[0m 16ms/step\n"
          ]
        },
        {
          "output_type": "stream",
          "name": "stderr",
          "text": [
            "[I 2024-04-11 20:06:30,410] Trial 14 finished with value: 0.5382165610790253 and parameters: {'hidden_activation': 'relu', 'num_hidden_layers': 1, 'hidden_size': 20, 'num_epochs': 15}. Best is trial 14 with value: 0.5382165610790253.\n"
          ]
        },
        {
          "output_type": "stream",
          "name": "stdout",
          "text": [
            "\u001b[1m20/20\u001b[0m \u001b[32m━━━━━━━━━━━━━━━━━━━━\u001b[0m\u001b[37m\u001b[0m \u001b[1m1s\u001b[0m 20ms/step\n"
          ]
        },
        {
          "output_type": "stream",
          "name": "stderr",
          "text": [
            "[I 2024-04-11 20:06:47,050] Trial 15 finished with value: 0.5668789744377136 and parameters: {'hidden_activation': 'relu', 'num_hidden_layers': 1, 'hidden_size': 16, 'num_epochs': 14}. Best is trial 14 with value: 0.5382165610790253.\n"
          ]
        },
        {
          "output_type": "stream",
          "name": "stdout",
          "text": [
            "\u001b[1m20/20\u001b[0m \u001b[32m━━━━━━━━━━━━━━━━━━━━\u001b[0m\u001b[37m\u001b[0m \u001b[1m1s\u001b[0m 15ms/step\n"
          ]
        },
        {
          "output_type": "stream",
          "name": "stderr",
          "text": [
            "[I 2024-04-11 20:06:56,132] Trial 16 finished with value: 0.5621019005775452 and parameters: {'hidden_activation': 'relu', 'num_hidden_layers': 1, 'hidden_size': 20, 'num_epochs': 15}. Best is trial 14 with value: 0.5382165610790253.\n"
          ]
        },
        {
          "output_type": "stream",
          "name": "stdout",
          "text": [
            "\u001b[1m20/20\u001b[0m \u001b[32m━━━━━━━━━━━━━━━━━━━━\u001b[0m\u001b[37m\u001b[0m \u001b[1m1s\u001b[0m 21ms/step\n"
          ]
        },
        {
          "output_type": "stream",
          "name": "stderr",
          "text": [
            "[I 2024-04-11 20:07:10,291] Trial 17 finished with value: 0.5621019005775452 and parameters: {'hidden_activation': 'relu', 'num_hidden_layers': 1, 'hidden_size': 18, 'num_epochs': 14}. Best is trial 14 with value: 0.5382165610790253.\n"
          ]
        },
        {
          "output_type": "stream",
          "name": "stdout",
          "text": [
            "\u001b[1m20/20\u001b[0m \u001b[32m━━━━━━━━━━━━━━━━━━━━\u001b[0m\u001b[37m\u001b[0m \u001b[1m1s\u001b[0m 20ms/step\n"
          ]
        },
        {
          "output_type": "stream",
          "name": "stderr",
          "text": [
            "/usr/local/lib/python3.10/dist-packages/sklearn/metrics/_classification.py:1344: UndefinedMetricWarning: Precision is ill-defined and being set to 0.0 in labels with no predicted samples. Use `zero_division` parameter to control this behavior.\n",
            "  _warn_prf(average, modifier, msg_start, len(result))\n",
            "[I 2024-04-11 20:07:21,827] Trial 18 finished with value: 0.581210196018219 and parameters: {'hidden_activation': 'sigmoid', 'num_hidden_layers': 1, 'hidden_size': 16, 'num_epochs': 18}. Best is trial 14 with value: 0.5382165610790253.\n"
          ]
        },
        {
          "output_type": "stream",
          "name": "stdout",
          "text": [
            "\u001b[1m20/20\u001b[0m \u001b[32m━━━━━━━━━━━━━━━━━━━━\u001b[0m\u001b[37m\u001b[0m \u001b[1m1s\u001b[0m 17ms/step\n"
          ]
        },
        {
          "output_type": "stream",
          "name": "stderr",
          "text": [
            "/usr/local/lib/python3.10/dist-packages/sklearn/metrics/_classification.py:1344: UndefinedMetricWarning: Precision is ill-defined and being set to 0.0 in labels with no predicted samples. Use `zero_division` parameter to control this behavior.\n",
            "  _warn_prf(average, modifier, msg_start, len(result))\n",
            "[I 2024-04-11 20:07:35,302] Trial 19 finished with value: 0.6242038309574127 and parameters: {'hidden_activation': 'relu', 'num_hidden_layers': 2, 'hidden_size': 18, 'num_epochs': 10}. Best is trial 14 with value: 0.5382165610790253.\n"
          ]
        },
        {
          "output_type": "stream",
          "name": "stdout",
          "text": [
            "\u001b[1m20/20\u001b[0m \u001b[32m━━━━━━━━━━━━━━━━━━━━\u001b[0m\u001b[37m\u001b[0m \u001b[1m1s\u001b[0m 16ms/step\n"
          ]
        },
        {
          "output_type": "stream",
          "name": "stderr",
          "text": [
            "/usr/local/lib/python3.10/dist-packages/sklearn/metrics/_classification.py:1344: UndefinedMetricWarning: Precision is ill-defined and being set to 0.0 in labels with no predicted samples. Use `zero_division` parameter to control this behavior.\n",
            "  _warn_prf(average, modifier, msg_start, len(result))\n",
            "[I 2024-04-11 20:07:49,972] Trial 20 finished with value: 0.6050955355167389 and parameters: {'hidden_activation': 'relu', 'num_hidden_layers': 2, 'hidden_size': 19, 'num_epochs': 14}. Best is trial 14 with value: 0.5382165610790253.\n"
          ]
        },
        {
          "output_type": "stream",
          "name": "stdout",
          "text": [
            "\u001b[1m20/20\u001b[0m \u001b[32m━━━━━━━━━━━━━━━━━━━━\u001b[0m\u001b[37m\u001b[0m \u001b[1m1s\u001b[0m 16ms/step\n"
          ]
        },
        {
          "output_type": "stream",
          "name": "stderr",
          "text": [
            "[I 2024-04-11 20:08:00,322] Trial 21 finished with value: 0.5398089289665222 and parameters: {'hidden_activation': 'relu', 'num_hidden_layers': 1, 'hidden_size': 20, 'num_epochs': 20}. Best is trial 14 with value: 0.5382165610790253.\n"
          ]
        },
        {
          "output_type": "stream",
          "name": "stdout",
          "text": [
            "\u001b[1m20/20\u001b[0m \u001b[32m━━━━━━━━━━━━━━━━━━━━\u001b[0m\u001b[37m\u001b[0m \u001b[1m1s\u001b[0m 15ms/step\n"
          ]
        },
        {
          "output_type": "stream",
          "name": "stderr",
          "text": [
            "[I 2024-04-11 20:08:10,507] Trial 22 finished with value: 0.5398089289665222 and parameters: {'hidden_activation': 'relu', 'num_hidden_layers': 1, 'hidden_size': 20, 'num_epochs': 19}. Best is trial 14 with value: 0.5382165610790253.\n"
          ]
        },
        {
          "output_type": "stream",
          "name": "stdout",
          "text": [
            "\u001b[1m20/20\u001b[0m \u001b[32m━━━━━━━━━━━━━━━━━━━━\u001b[0m\u001b[37m\u001b[0m \u001b[1m1s\u001b[0m 26ms/step\n"
          ]
        },
        {
          "output_type": "stream",
          "name": "stderr",
          "text": [
            "[I 2024-04-11 20:08:21,681] Trial 23 finished with value: 0.5445859730243683 and parameters: {'hidden_activation': 'relu', 'num_hidden_layers': 1, 'hidden_size': 20, 'num_epochs': 20}. Best is trial 14 with value: 0.5382165610790253.\n"
          ]
        },
        {
          "output_type": "stream",
          "name": "stdout",
          "text": [
            "\u001b[1m20/20\u001b[0m \u001b[32m━━━━━━━━━━━━━━━━━━━━\u001b[0m\u001b[37m\u001b[0m \u001b[1m1s\u001b[0m 21ms/step\n"
          ]
        },
        {
          "output_type": "stream",
          "name": "stderr",
          "text": [
            "[I 2024-04-11 20:08:32,528] Trial 24 finished with value: 0.5382165610790253 and parameters: {'hidden_activation': 'relu', 'num_hidden_layers': 1, 'hidden_size': 19, 'num_epochs': 19}. Best is trial 14 with value: 0.5382165610790253.\n"
          ]
        },
        {
          "output_type": "stream",
          "name": "stdout",
          "text": [
            "\u001b[1m20/20\u001b[0m \u001b[32m━━━━━━━━━━━━━━━━━━━━\u001b[0m\u001b[37m\u001b[0m \u001b[1m1s\u001b[0m 15ms/step\n"
          ]
        },
        {
          "output_type": "stream",
          "name": "stderr",
          "text": [
            "[I 2024-04-11 20:08:43,045] Trial 25 finished with value: 0.5286624133586884 and parameters: {'hidden_activation': 'relu', 'num_hidden_layers': 1, 'hidden_size': 19, 'num_epochs': 21}. Best is trial 25 with value: 0.5286624133586884.\n"
          ]
        },
        {
          "output_type": "stream",
          "name": "stdout",
          "text": [
            "\u001b[1m20/20\u001b[0m \u001b[32m━━━━━━━━━━━━━━━━━━━━\u001b[0m\u001b[37m\u001b[0m \u001b[1m1s\u001b[0m 15ms/step\n"
          ]
        },
        {
          "output_type": "stream",
          "name": "stderr",
          "text": [
            "[I 2024-04-11 20:08:54,082] Trial 26 finished with value: 0.5445859730243683 and parameters: {'hidden_activation': 'relu', 'num_hidden_layers': 1, 'hidden_size': 19, 'num_epochs': 22}. Best is trial 25 with value: 0.5286624133586884.\n"
          ]
        },
        {
          "output_type": "stream",
          "name": "stdout",
          "text": [
            "\u001b[1m20/20\u001b[0m \u001b[32m━━━━━━━━━━━━━━━━━━━━\u001b[0m\u001b[37m\u001b[0m \u001b[1m1s\u001b[0m 17ms/step\n"
          ]
        },
        {
          "output_type": "stream",
          "name": "stderr",
          "text": [
            "/usr/local/lib/python3.10/dist-packages/sklearn/metrics/_classification.py:1344: UndefinedMetricWarning: Precision is ill-defined and being set to 0.0 in labels with no predicted samples. Use `zero_division` parameter to control this behavior.\n",
            "  _warn_prf(average, modifier, msg_start, len(result))\n",
            "[I 2024-04-11 20:09:08,974] Trial 27 finished with value: 0.6528662443161011 and parameters: {'hidden_activation': 'sigmoid', 'num_hidden_layers': 2, 'hidden_size': 17, 'num_epochs': 16}. Best is trial 25 with value: 0.5286624133586884.\n"
          ]
        },
        {
          "output_type": "stream",
          "name": "stdout",
          "text": [
            "\u001b[1m20/20\u001b[0m \u001b[32m━━━━━━━━━━━━━━━━━━━━\u001b[0m\u001b[37m\u001b[0m \u001b[1m1s\u001b[0m 15ms/step\n"
          ]
        },
        {
          "output_type": "stream",
          "name": "stderr",
          "text": [
            "[I 2024-04-11 20:09:23,894] Trial 28 finished with value: 0.5541401207447052 and parameters: {'hidden_activation': 'relu', 'num_hidden_layers': 1, 'hidden_size': 19, 'num_epochs': 18}. Best is trial 25 with value: 0.5286624133586884.\n"
          ]
        },
        {
          "output_type": "stream",
          "name": "stdout",
          "text": [
            "\u001b[1m20/20\u001b[0m \u001b[32m━━━━━━━━━━━━━━━━━━━━\u001b[0m\u001b[37m\u001b[0m \u001b[1m1s\u001b[0m 13ms/step\n"
          ]
        },
        {
          "output_type": "stream",
          "name": "stderr",
          "text": [
            "/usr/local/lib/python3.10/dist-packages/sklearn/metrics/_classification.py:1344: UndefinedMetricWarning: Precision is ill-defined and being set to 0.0 in labels with no predicted samples. Use `zero_division` parameter to control this behavior.\n",
            "  _warn_prf(average, modifier, msg_start, len(result))\n",
            "[I 2024-04-11 20:09:42,892] Trial 29 finished with value: 0.7595541328191757 and parameters: {'hidden_activation': 'sigmoid', 'num_hidden_layers': 3, 'hidden_size': 15, 'num_epochs': 22}. Best is trial 25 with value: 0.5286624133586884.\n"
          ]
        },
        {
          "output_type": "stream",
          "name": "stdout",
          "text": [
            "\u001b[1m20/20\u001b[0m \u001b[32m━━━━━━━━━━━━━━━━━━━━\u001b[0m\u001b[37m\u001b[0m \u001b[1m1s\u001b[0m 26ms/step\n"
          ]
        },
        {
          "output_type": "stream",
          "name": "stderr",
          "text": [
            "[I 2024-04-11 20:09:54,286] Trial 30 finished with value: 0.5493630468845367 and parameters: {'hidden_activation': 'relu', 'num_hidden_layers': 1, 'hidden_size': 16, 'num_epochs': 19}. Best is trial 25 with value: 0.5286624133586884.\n"
          ]
        },
        {
          "output_type": "stream",
          "name": "stdout",
          "text": [
            "\u001b[1m20/20\u001b[0m \u001b[32m━━━━━━━━━━━━━━━━━━━━\u001b[0m\u001b[37m\u001b[0m \u001b[1m1s\u001b[0m 26ms/step\n"
          ]
        },
        {
          "output_type": "stream",
          "name": "stderr",
          "text": [
            "[I 2024-04-11 20:10:05,314] Trial 31 finished with value: 0.5286624133586884 and parameters: {'hidden_activation': 'relu', 'num_hidden_layers': 1, 'hidden_size': 19, 'num_epochs': 21}. Best is trial 25 with value: 0.5286624133586884.\n"
          ]
        },
        {
          "output_type": "stream",
          "name": "stdout",
          "text": [
            "\u001b[1m20/20\u001b[0m \u001b[32m━━━━━━━━━━━━━━━━━━━━\u001b[0m\u001b[37m\u001b[0m \u001b[1m1s\u001b[0m 16ms/step\n"
          ]
        },
        {
          "output_type": "stream",
          "name": "stderr",
          "text": [
            "[I 2024-04-11 20:10:16,332] Trial 32 finished with value: 0.5589171946048737 and parameters: {'hidden_activation': 'relu', 'num_hidden_layers': 1, 'hidden_size': 18, 'num_epochs': 21}. Best is trial 25 with value: 0.5286624133586884.\n"
          ]
        },
        {
          "output_type": "stream",
          "name": "stdout",
          "text": [
            "\u001b[1m20/20\u001b[0m \u001b[32m━━━━━━━━━━━━━━━━━━━━\u001b[0m\u001b[37m\u001b[0m \u001b[1m1s\u001b[0m 15ms/step\n"
          ]
        },
        {
          "output_type": "stream",
          "name": "stderr",
          "text": [
            "[I 2024-04-11 20:10:27,152] Trial 33 finished with value: 0.5509554147720337 and parameters: {'hidden_activation': 'relu', 'num_hidden_layers': 1, 'hidden_size': 19, 'num_epochs': 19}. Best is trial 25 with value: 0.5286624133586884.\n"
          ]
        },
        {
          "output_type": "stream",
          "name": "stdout",
          "text": [
            "\u001b[1m20/20\u001b[0m \u001b[32m━━━━━━━━━━━━━━━━━━━━\u001b[0m\u001b[37m\u001b[0m \u001b[1m1s\u001b[0m 15ms/step\n"
          ]
        },
        {
          "output_type": "stream",
          "name": "stderr",
          "text": [
            "[I 2024-04-11 20:10:42,734] Trial 34 finished with value: 0.5350318551063538 and parameters: {'hidden_activation': 'relu', 'num_hidden_layers': 1, 'hidden_size': 18, 'num_epochs': 22}. Best is trial 25 with value: 0.5286624133586884.\n"
          ]
        },
        {
          "output_type": "stream",
          "name": "stdout",
          "text": [
            "\u001b[1m20/20\u001b[0m \u001b[32m━━━━━━━━━━━━━━━━━━━━\u001b[0m\u001b[37m\u001b[0m \u001b[1m1s\u001b[0m 24ms/step\n"
          ]
        },
        {
          "output_type": "stream",
          "name": "stderr",
          "text": [
            "/usr/local/lib/python3.10/dist-packages/sklearn/metrics/_classification.py:1344: UndefinedMetricWarning: Precision is ill-defined and being set to 0.0 in labels with no predicted samples. Use `zero_division` parameter to control this behavior.\n",
            "  _warn_prf(average, modifier, msg_start, len(result))\n",
            "[I 2024-04-11 20:10:57,688] Trial 35 finished with value: 0.573248416185379 and parameters: {'hidden_activation': 'relu', 'num_hidden_layers': 2, 'hidden_size': 18, 'num_epochs': 24}. Best is trial 25 with value: 0.5286624133586884.\n"
          ]
        },
        {
          "output_type": "stream",
          "name": "stdout",
          "text": [
            "\u001b[1m20/20\u001b[0m \u001b[32m━━━━━━━━━━━━━━━━━━━━\u001b[0m\u001b[37m\u001b[0m \u001b[1m0s\u001b[0m 11ms/step\n"
          ]
        },
        {
          "output_type": "stream",
          "name": "stderr",
          "text": [
            "[I 2024-04-11 20:11:08,345] Trial 36 finished with value: 0.5382165610790253 and parameters: {'hidden_activation': 'relu', 'num_hidden_layers': 1, 'hidden_size': 17, 'num_epochs': 25}. Best is trial 25 with value: 0.5286624133586884.\n"
          ]
        },
        {
          "output_type": "stream",
          "name": "stdout",
          "text": [
            "\u001b[1m20/20\u001b[0m \u001b[32m━━━━━━━━━━━━━━━━━━━━\u001b[0m\u001b[37m\u001b[0m \u001b[1m1s\u001b[0m 34ms/step\n"
          ]
        },
        {
          "output_type": "stream",
          "name": "stderr",
          "text": [
            "[I 2024-04-11 20:11:25,351] Trial 37 finished with value: 0.5700636804103851 and parameters: {'hidden_activation': 'relu', 'num_hidden_layers': 1, 'hidden_size': 14, 'num_epochs': 22}. Best is trial 25 with value: 0.5286624133586884.\n"
          ]
        },
        {
          "output_type": "stream",
          "name": "stdout",
          "text": [
            "\u001b[1m20/20\u001b[0m \u001b[32m━━━━━━━━━━━━━━━━━━━━\u001b[0m\u001b[37m\u001b[0m \u001b[1m1s\u001b[0m 21ms/step\n"
          ]
        },
        {
          "output_type": "stream",
          "name": "stderr",
          "text": [
            "/usr/local/lib/python3.10/dist-packages/sklearn/metrics/_classification.py:1344: UndefinedMetricWarning: Precision is ill-defined and being set to 0.0 in labels with no predicted samples. Use `zero_division` parameter to control this behavior.\n",
            "  _warn_prf(average, modifier, msg_start, len(result))\n",
            "[I 2024-04-11 20:11:41,700] Trial 38 finished with value: 0.5493630468845367 and parameters: {'hidden_activation': 'sigmoid', 'num_hidden_layers': 1, 'hidden_size': 20, 'num_epochs': 23}. Best is trial 25 with value: 0.5286624133586884.\n"
          ]
        },
        {
          "output_type": "stream",
          "name": "stdout",
          "text": [
            "\u001b[1m20/20\u001b[0m \u001b[32m━━━━━━━━━━━━━━━━━━━━\u001b[0m\u001b[37m\u001b[0m \u001b[1m1s\u001b[0m 25ms/step\n"
          ]
        },
        {
          "output_type": "stream",
          "name": "stderr",
          "text": [
            "/usr/local/lib/python3.10/dist-packages/sklearn/metrics/_classification.py:1344: UndefinedMetricWarning: Precision is ill-defined and being set to 0.0 in labels with no predicted samples. Use `zero_division` parameter to control this behavior.\n",
            "  _warn_prf(average, modifier, msg_start, len(result))\n",
            "[I 2024-04-11 20:12:09,356] Trial 39 finished with value: 0.5971337556838989 and parameters: {'hidden_activation': 'relu', 'num_hidden_layers': 3, 'hidden_size': 19, 'num_epochs': 24}. Best is trial 25 with value: 0.5286624133586884.\n"
          ]
        },
        {
          "output_type": "stream",
          "name": "stdout",
          "text": [
            "\u001b[1m20/20\u001b[0m \u001b[32m━━━━━━━━━━━━━━━━━━━━\u001b[0m\u001b[37m\u001b[0m \u001b[1m1s\u001b[0m 16ms/step\n"
          ]
        },
        {
          "output_type": "stream",
          "name": "stderr",
          "text": [
            "[I 2024-04-11 20:12:24,864] Trial 40 finished with value: 0.5461783409118652 and parameters: {'hidden_activation': 'relu', 'num_hidden_layers': 1, 'hidden_size': 18, 'num_epochs': 21}. Best is trial 25 with value: 0.5286624133586884.\n"
          ]
        },
        {
          "output_type": "stream",
          "name": "stdout",
          "text": [
            "\u001b[1m20/20\u001b[0m \u001b[32m━━━━━━━━━━━━━━━━━━━━\u001b[0m\u001b[37m\u001b[0m \u001b[1m1s\u001b[0m 15ms/step\n"
          ]
        },
        {
          "output_type": "stream",
          "name": "stderr",
          "text": [
            "[I 2024-04-11 20:12:39,358] Trial 41 finished with value: 0.5414012670516968 and parameters: {'hidden_activation': 'relu', 'num_hidden_layers': 1, 'hidden_size': 19, 'num_epochs': 17}. Best is trial 25 with value: 0.5286624133586884.\n"
          ]
        },
        {
          "output_type": "stream",
          "name": "stdout",
          "text": [
            "\u001b[1m20/20\u001b[0m \u001b[32m━━━━━━━━━━━━━━━━━━━━\u001b[0m\u001b[37m\u001b[0m \u001b[1m1s\u001b[0m 25ms/step\n"
          ]
        },
        {
          "output_type": "stream",
          "name": "stderr",
          "text": [
            "[I 2024-04-11 20:12:55,555] Trial 42 finished with value: 0.5302547812461853 and parameters: {'hidden_activation': 'relu', 'num_hidden_layers': 1, 'hidden_size': 19, 'num_epochs': 21}. Best is trial 25 with value: 0.5286624133586884.\n"
          ]
        },
        {
          "output_type": "stream",
          "name": "stdout",
          "text": [
            "\u001b[1m20/20\u001b[0m \u001b[32m━━━━━━━━━━━━━━━━━━━━\u001b[0m\u001b[37m\u001b[0m \u001b[1m1s\u001b[0m 15ms/step\n"
          ]
        },
        {
          "output_type": "stream",
          "name": "stderr",
          "text": [
            "[I 2024-04-11 20:13:05,508] Trial 43 finished with value: 0.5238853394985199 and parameters: {'hidden_activation': 'relu', 'num_hidden_layers': 1, 'hidden_size': 20, 'num_epochs': 22}. Best is trial 43 with value: 0.5238853394985199.\n"
          ]
        },
        {
          "output_type": "stream",
          "name": "stdout",
          "text": [
            "\u001b[1m20/20\u001b[0m \u001b[32m━━━━━━━━━━━━━━━━━━━━\u001b[0m\u001b[37m\u001b[0m \u001b[1m0s\u001b[0m 10ms/step\n"
          ]
        },
        {
          "output_type": "stream",
          "name": "stderr",
          "text": [
            "[I 2024-04-11 20:13:16,563] Trial 44 finished with value: 0.5159235596656799 and parameters: {'hidden_activation': 'relu', 'num_hidden_layers': 1, 'hidden_size': 17, 'num_epochs': 23}. Best is trial 44 with value: 0.5159235596656799.\n"
          ]
        },
        {
          "output_type": "stream",
          "name": "stdout",
          "text": [
            "\u001b[1m20/20\u001b[0m \u001b[32m━━━━━━━━━━━━━━━━━━━━\u001b[0m\u001b[37m\u001b[0m \u001b[1m0s\u001b[0m 10ms/step\n"
          ]
        },
        {
          "output_type": "stream",
          "name": "stderr",
          "text": [
            "/usr/local/lib/python3.10/dist-packages/sklearn/metrics/_classification.py:1344: UndefinedMetricWarning: Precision is ill-defined and being set to 0.0 in labels with no predicted samples. Use `zero_division` parameter to control this behavior.\n",
            "  _warn_prf(average, modifier, msg_start, len(result))\n",
            "[I 2024-04-11 20:13:32,182] Trial 45 finished with value: 0.5414012670516968 and parameters: {'hidden_activation': 'relu', 'num_hidden_layers': 1, 'hidden_size': 17, 'num_epochs': 23}. Best is trial 44 with value: 0.5159235596656799.\n"
          ]
        },
        {
          "output_type": "stream",
          "name": "stdout",
          "text": [
            "\u001b[1m20/20\u001b[0m \u001b[32m━━━━━━━━━━━━━━━━━━━━\u001b[0m\u001b[37m\u001b[0m \u001b[1m1s\u001b[0m 15ms/step\n"
          ]
        },
        {
          "output_type": "stream",
          "name": "stderr",
          "text": [
            "/usr/local/lib/python3.10/dist-packages/sklearn/metrics/_classification.py:1344: UndefinedMetricWarning: Precision is ill-defined and being set to 0.0 in labels with no predicted samples. Use `zero_division` parameter to control this behavior.\n",
            "  _warn_prf(average, modifier, msg_start, len(result))\n",
            "[I 2024-04-11 20:13:50,089] Trial 46 finished with value: 0.6019108295440674 and parameters: {'hidden_activation': 'sigmoid', 'num_hidden_layers': 2, 'hidden_size': 15, 'num_epochs': 23}. Best is trial 44 with value: 0.5159235596656799.\n"
          ]
        },
        {
          "output_type": "stream",
          "name": "stdout",
          "text": [
            "\u001b[1m20/20\u001b[0m \u001b[32m━━━━━━━━━━━━━━━━━━━━\u001b[0m\u001b[37m\u001b[0m \u001b[1m1s\u001b[0m 23ms/step\n"
          ]
        },
        {
          "output_type": "stream",
          "name": "stderr",
          "text": [
            "/usr/local/lib/python3.10/dist-packages/sklearn/metrics/_classification.py:1344: UndefinedMetricWarning: Precision is ill-defined and being set to 0.0 in labels with no predicted samples. Use `zero_division` parameter to control this behavior.\n",
            "  _warn_prf(average, modifier, msg_start, len(result))\n",
            "[I 2024-04-11 20:14:05,133] Trial 47 finished with value: 0.5780254900455475 and parameters: {'hidden_activation': 'relu', 'num_hidden_layers': 2, 'hidden_size': 14, 'num_epochs': 24}. Best is trial 44 with value: 0.5159235596656799.\n"
          ]
        },
        {
          "output_type": "stream",
          "name": "stdout",
          "text": [
            "\u001b[1m20/20\u001b[0m \u001b[32m━━━━━━━━━━━━━━━━━━━━\u001b[0m\u001b[37m\u001b[0m \u001b[1m1s\u001b[0m 15ms/step\n"
          ]
        },
        {
          "output_type": "stream",
          "name": "stderr",
          "text": [
            "[I 2024-04-11 20:14:15,603] Trial 48 finished with value: 0.5318471193313599 and parameters: {'hidden_activation': 'relu', 'num_hidden_layers': 1, 'hidden_size': 19, 'num_epochs': 21}. Best is trial 44 with value: 0.5159235596656799.\n"
          ]
        },
        {
          "output_type": "stream",
          "name": "stdout",
          "text": [
            "\u001b[1m20/20\u001b[0m \u001b[32m━━━━━━━━━━━━━━━━━━━━\u001b[0m\u001b[37m\u001b[0m \u001b[1m0s\u001b[0m 11ms/step\n"
          ]
        },
        {
          "output_type": "stream",
          "name": "stderr",
          "text": [
            "[I 2024-04-11 20:14:27,029] Trial 49 finished with value: 0.5461783409118652 and parameters: {'hidden_activation': 'relu', 'num_hidden_layers': 1, 'hidden_size': 17, 'num_epochs': 25}. Best is trial 44 with value: 0.5159235596656799.\n"
          ]
        },
        {
          "output_type": "stream",
          "name": "stdout",
          "text": [
            "\u001b[1m20/20\u001b[0m \u001b[32m━━━━━━━━━━━━━━━━━━━━\u001b[0m\u001b[37m\u001b[0m \u001b[1m1s\u001b[0m 15ms/step\n"
          ]
        },
        {
          "output_type": "stream",
          "name": "stderr",
          "text": [
            "[I 2024-04-11 20:14:36,419] Trial 50 finished with value: 0.5366241931915283 and parameters: {'hidden_activation': 'relu', 'num_hidden_layers': 1, 'hidden_size': 16, 'num_epochs': 22}. Best is trial 44 with value: 0.5159235596656799.\n"
          ]
        },
        {
          "output_type": "stream",
          "name": "stdout",
          "text": [
            "\u001b[1m20/20\u001b[0m \u001b[32m━━━━━━━━━━━━━━━━━━━━\u001b[0m\u001b[37m\u001b[0m \u001b[1m1s\u001b[0m 15ms/step\n"
          ]
        },
        {
          "output_type": "stream",
          "name": "stderr",
          "text": [
            "[I 2024-04-11 20:14:47,015] Trial 51 finished with value: 0.5493630468845367 and parameters: {'hidden_activation': 'relu', 'num_hidden_layers': 1, 'hidden_size': 19, 'num_epochs': 21}. Best is trial 44 with value: 0.5159235596656799.\n"
          ]
        },
        {
          "output_type": "stream",
          "name": "stdout",
          "text": [
            "\u001b[1m20/20\u001b[0m \u001b[32m━━━━━━━━━━━━━━━━━━━━\u001b[0m\u001b[37m\u001b[0m \u001b[1m1s\u001b[0m 16ms/step\n"
          ]
        },
        {
          "output_type": "stream",
          "name": "stderr",
          "text": [
            "[I 2024-04-11 20:15:02,515] Trial 52 finished with value: 0.5318471193313599 and parameters: {'hidden_activation': 'relu', 'num_hidden_layers': 1, 'hidden_size': 20, 'num_epochs': 21}. Best is trial 44 with value: 0.5159235596656799.\n"
          ]
        },
        {
          "output_type": "stream",
          "name": "stdout",
          "text": [
            "\u001b[1m20/20\u001b[0m \u001b[32m━━━━━━━━━━━━━━━━━━━━\u001b[0m\u001b[37m\u001b[0m \u001b[1m1s\u001b[0m 20ms/step\n"
          ]
        },
        {
          "output_type": "stream",
          "name": "stderr",
          "text": [
            "[I 2024-04-11 20:15:19,191] Trial 53 finished with value: 0.5350318551063538 and parameters: {'hidden_activation': 'relu', 'num_hidden_layers': 1, 'hidden_size': 18, 'num_epochs': 20}. Best is trial 44 with value: 0.5159235596656799.\n"
          ]
        },
        {
          "output_type": "stream",
          "name": "stdout",
          "text": [
            "\u001b[1m20/20\u001b[0m \u001b[32m━━━━━━━━━━━━━━━━━━━━\u001b[0m\u001b[37m\u001b[0m \u001b[1m1s\u001b[0m 25ms/step\n"
          ]
        },
        {
          "output_type": "stream",
          "name": "stderr",
          "text": [
            "[I 2024-04-11 20:15:29,716] Trial 54 finished with value: 0.5302547812461853 and parameters: {'hidden_activation': 'relu', 'num_hidden_layers': 1, 'hidden_size': 20, 'num_epochs': 23}. Best is trial 44 with value: 0.5159235596656799.\n"
          ]
        },
        {
          "output_type": "stream",
          "name": "stdout",
          "text": [
            "\u001b[1m20/20\u001b[0m \u001b[32m━━━━━━━━━━━━━━━━━━━━\u001b[0m\u001b[37m\u001b[0m \u001b[1m1s\u001b[0m 16ms/step\n"
          ]
        },
        {
          "output_type": "stream",
          "name": "stderr",
          "text": [
            "[I 2024-04-11 20:15:40,402] Trial 55 finished with value: 0.5445859730243683 and parameters: {'hidden_activation': 'relu', 'num_hidden_layers': 1, 'hidden_size': 20, 'num_epochs': 23}. Best is trial 44 with value: 0.5159235596656799.\n"
          ]
        },
        {
          "output_type": "stream",
          "name": "stdout",
          "text": [
            "\u001b[1m20/20\u001b[0m \u001b[32m━━━━━━━━━━━━━━━━━━━━\u001b[0m\u001b[37m\u001b[0m \u001b[1m1s\u001b[0m 15ms/step\n"
          ]
        },
        {
          "output_type": "stream",
          "name": "stderr",
          "text": [
            "[I 2024-04-11 20:15:51,735] Trial 56 finished with value: 0.5350318551063538 and parameters: {'hidden_activation': 'relu', 'num_hidden_layers': 1, 'hidden_size': 20, 'num_epochs': 24}. Best is trial 44 with value: 0.5159235596656799.\n"
          ]
        },
        {
          "output_type": "stream",
          "name": "stdout",
          "text": [
            "\u001b[1m20/20\u001b[0m \u001b[32m━━━━━━━━━━━━━━━━━━━━\u001b[0m\u001b[37m\u001b[0m \u001b[1m1s\u001b[0m 15ms/step\n"
          ]
        },
        {
          "output_type": "stream",
          "name": "stderr",
          "text": [
            "[I 2024-04-11 20:16:06,890] Trial 57 finished with value: 0.5780254900455475 and parameters: {'hidden_activation': 'sigmoid', 'num_hidden_layers': 1, 'hidden_size': 20, 'num_epochs': 22}. Best is trial 44 with value: 0.5159235596656799.\n"
          ]
        },
        {
          "output_type": "stream",
          "name": "stdout",
          "text": [
            "\u001b[1m20/20\u001b[0m \u001b[32m━━━━━━━━━━━━━━━━━━━━\u001b[0m\u001b[37m\u001b[0m \u001b[1m1s\u001b[0m 33ms/step\n"
          ]
        },
        {
          "output_type": "stream",
          "name": "stderr",
          "text": [
            "[I 2024-04-11 20:16:23,460] Trial 58 finished with value: 0.5700636804103851 and parameters: {'hidden_activation': 'relu', 'num_hidden_layers': 1, 'hidden_size': 13, 'num_epochs': 23}. Best is trial 44 with value: 0.5159235596656799.\n"
          ]
        },
        {
          "output_type": "stream",
          "name": "stdout",
          "text": [
            "\u001b[1m20/20\u001b[0m \u001b[32m━━━━━━━━━━━━━━━━━━━━\u001b[0m\u001b[37m\u001b[0m \u001b[1m1s\u001b[0m 15ms/step\n"
          ]
        },
        {
          "output_type": "stream",
          "name": "stderr",
          "text": [
            "[I 2024-04-11 20:16:33,607] Trial 59 finished with value: 0.5318471193313599 and parameters: {'hidden_activation': 'relu', 'num_hidden_layers': 1, 'hidden_size': 18, 'num_epochs': 20}. Best is trial 44 with value: 0.5159235596656799.\n"
          ]
        },
        {
          "output_type": "stream",
          "name": "stdout",
          "text": [
            "\u001b[1m20/20\u001b[0m \u001b[32m━━━━━━━━━━━━━━━━━━━━\u001b[0m\u001b[37m\u001b[0m \u001b[1m1s\u001b[0m 16ms/step\n"
          ]
        },
        {
          "output_type": "stream",
          "name": "stderr",
          "text": [
            "[I 2024-04-11 20:16:51,078] Trial 60 finished with value: 0.5716560482978821 and parameters: {'hidden_activation': 'relu', 'num_hidden_layers': 2, 'hidden_size': 19, 'num_epochs': 25}. Best is trial 44 with value: 0.5159235596656799.\n"
          ]
        },
        {
          "output_type": "stream",
          "name": "stdout",
          "text": [
            "\u001b[1m20/20\u001b[0m \u001b[32m━━━━━━━━━━━━━━━━━━━━\u001b[0m\u001b[37m\u001b[0m \u001b[1m1s\u001b[0m 25ms/step\n"
          ]
        },
        {
          "output_type": "stream",
          "name": "stderr",
          "text": [
            "[I 2024-04-11 20:17:03,346] Trial 61 finished with value: 0.5222930014133453 and parameters: {'hidden_activation': 'relu', 'num_hidden_layers': 1, 'hidden_size': 19, 'num_epochs': 21}. Best is trial 44 with value: 0.5159235596656799.\n"
          ]
        },
        {
          "output_type": "stream",
          "name": "stdout",
          "text": [
            "\u001b[1m20/20\u001b[0m \u001b[32m━━━━━━━━━━━━━━━━━━━━\u001b[0m\u001b[37m\u001b[0m \u001b[1m1s\u001b[0m 24ms/step\n"
          ]
        },
        {
          "output_type": "stream",
          "name": "stderr",
          "text": [
            "[I 2024-04-11 20:17:14,307] Trial 62 finished with value: 0.5238853394985199 and parameters: {'hidden_activation': 'relu', 'num_hidden_layers': 1, 'hidden_size': 19, 'num_epochs': 22}. Best is trial 44 with value: 0.5159235596656799.\n"
          ]
        },
        {
          "output_type": "stream",
          "name": "stdout",
          "text": [
            "\u001b[1m20/20\u001b[0m \u001b[32m━━━━━━━━━━━━━━━━━━━━\u001b[0m\u001b[37m\u001b[0m \u001b[1m1s\u001b[0m 15ms/step\n"
          ]
        },
        {
          "output_type": "stream",
          "name": "stderr",
          "text": [
            "[I 2024-04-11 20:17:25,169] Trial 63 finished with value: 0.5350318551063538 and parameters: {'hidden_activation': 'relu', 'num_hidden_layers': 1, 'hidden_size': 19, 'num_epochs': 22}. Best is trial 44 with value: 0.5159235596656799.\n"
          ]
        },
        {
          "output_type": "stream",
          "name": "stdout",
          "text": [
            "\u001b[1m20/20\u001b[0m \u001b[32m━━━━━━━━━━━━━━━━━━━━\u001b[0m\u001b[37m\u001b[0m \u001b[1m1s\u001b[0m 16ms/step\n"
          ]
        },
        {
          "output_type": "stream",
          "name": "stderr",
          "text": [
            "[I 2024-04-11 20:17:35,948] Trial 64 finished with value: 0.5429936349391937 and parameters: {'hidden_activation': 'relu', 'num_hidden_layers': 1, 'hidden_size': 18, 'num_epochs': 21}. Best is trial 44 with value: 0.5159235596656799.\n"
          ]
        },
        {
          "output_type": "stream",
          "name": "stdout",
          "text": [
            "\u001b[1m20/20\u001b[0m \u001b[32m━━━━━━━━━━━━━━━━━━━━\u001b[0m\u001b[37m\u001b[0m \u001b[1m1s\u001b[0m 16ms/step\n"
          ]
        },
        {
          "output_type": "stream",
          "name": "stderr",
          "text": [
            "[I 2024-04-11 20:17:51,334] Trial 65 finished with value: 0.573248416185379 and parameters: {'hidden_activation': 'relu', 'num_hidden_layers': 1, 'hidden_size': 19, 'num_epochs': 20}. Best is trial 44 with value: 0.5159235596656799.\n"
          ]
        },
        {
          "output_type": "stream",
          "name": "stdout",
          "text": [
            "\u001b[1m20/20\u001b[0m \u001b[32m━━━━━━━━━━━━━━━━━━━━\u001b[0m\u001b[37m\u001b[0m \u001b[1m1s\u001b[0m 25ms/step\n"
          ]
        },
        {
          "output_type": "stream",
          "name": "stderr",
          "text": [
            "[I 2024-04-11 20:18:08,171] Trial 66 finished with value: 0.5429936349391937 and parameters: {'hidden_activation': 'relu', 'num_hidden_layers': 1, 'hidden_size': 19, 'num_epochs': 22}. Best is trial 44 with value: 0.5159235596656799.\n"
          ]
        },
        {
          "output_type": "stream",
          "name": "stdout",
          "text": [
            "\u001b[1m20/20\u001b[0m \u001b[32m━━━━━━━━━━━━━━━━━━━━\u001b[0m\u001b[37m\u001b[0m \u001b[1m1s\u001b[0m 15ms/step\n"
          ]
        },
        {
          "output_type": "stream",
          "name": "stderr",
          "text": [
            "[I 2024-04-11 20:18:17,483] Trial 67 finished with value: 0.5382165610790253 and parameters: {'hidden_activation': 'relu', 'num_hidden_layers': 1, 'hidden_size': 18, 'num_epochs': 19}. Best is trial 44 with value: 0.5159235596656799.\n"
          ]
        },
        {
          "output_type": "stream",
          "name": "stdout",
          "text": [
            "\u001b[1m20/20\u001b[0m \u001b[32m━━━━━━━━━━━━━━━━━━━━\u001b[0m\u001b[37m\u001b[0m \u001b[1m1s\u001b[0m 24ms/step\n"
          ]
        },
        {
          "output_type": "stream",
          "name": "stderr",
          "text": [
            "[I 2024-04-11 20:18:33,245] Trial 68 finished with value: 0.589171975851059 and parameters: {'hidden_activation': 'sigmoid', 'num_hidden_layers': 1, 'hidden_size': 17, 'num_epochs': 21}. Best is trial 44 with value: 0.5159235596656799.\n"
          ]
        },
        {
          "output_type": "stream",
          "name": "stdout",
          "text": [
            "\u001b[1m20/20\u001b[0m \u001b[32m━━━━━━━━━━━━━━━━━━━━\u001b[0m\u001b[37m\u001b[0m \u001b[1m1s\u001b[0m 15ms/step\n"
          ]
        },
        {
          "output_type": "stream",
          "name": "stderr",
          "text": [
            "[I 2024-04-11 20:18:43,480] Trial 69 finished with value: 0.5111464858055115 and parameters: {'hidden_activation': 'relu', 'num_hidden_layers': 1, 'hidden_size': 20, 'num_epochs': 18}. Best is trial 69 with value: 0.5111464858055115.\n"
          ]
        },
        {
          "output_type": "stream",
          "name": "stdout",
          "text": [
            "\u001b[1m20/20\u001b[0m \u001b[32m━━━━━━━━━━━━━━━━━━━━\u001b[0m\u001b[37m\u001b[0m \u001b[1m1s\u001b[0m 26ms/step\n"
          ]
        },
        {
          "output_type": "stream",
          "name": "stderr",
          "text": [
            "[I 2024-04-11 20:18:59,351] Trial 70 finished with value: 0.5350318551063538 and parameters: {'hidden_activation': 'relu', 'num_hidden_layers': 1, 'hidden_size': 20, 'num_epochs': 18}. Best is trial 69 with value: 0.5111464858055115.\n"
          ]
        },
        {
          "output_type": "stream",
          "name": "stdout",
          "text": [
            "\u001b[1m20/20\u001b[0m \u001b[32m━━━━━━━━━━━━━━━━━━━━\u001b[0m\u001b[37m\u001b[0m \u001b[1m1s\u001b[0m 16ms/step\n"
          ]
        },
        {
          "output_type": "stream",
          "name": "stderr",
          "text": [
            "[I 2024-04-11 20:19:09,562] Trial 71 finished with value: 0.5700636804103851 and parameters: {'hidden_activation': 'relu', 'num_hidden_layers': 1, 'hidden_size': 11, 'num_epochs': 20}. Best is trial 69 with value: 0.5111464858055115.\n"
          ]
        },
        {
          "output_type": "stream",
          "name": "stdout",
          "text": [
            "\u001b[1m20/20\u001b[0m \u001b[32m━━━━━━━━━━━━━━━━━━━━\u001b[0m\u001b[37m\u001b[0m \u001b[1m1s\u001b[0m 25ms/step\n"
          ]
        },
        {
          "output_type": "stream",
          "name": "stderr",
          "text": [
            "[I 2024-04-11 20:19:25,435] Trial 72 finished with value: 0.5461783409118652 and parameters: {'hidden_activation': 'relu', 'num_hidden_layers': 1, 'hidden_size': 20, 'num_epochs': 22}. Best is trial 69 with value: 0.5111464858055115.\n"
          ]
        },
        {
          "output_type": "stream",
          "name": "stdout",
          "text": [
            "\u001b[1m20/20\u001b[0m \u001b[32m━━━━━━━━━━━━━━━━━━━━\u001b[0m\u001b[37m\u001b[0m \u001b[1m1s\u001b[0m 16ms/step\n"
          ]
        },
        {
          "output_type": "stream",
          "name": "stderr",
          "text": [
            "[I 2024-04-11 20:19:35,801] Trial 73 finished with value: 0.5366241931915283 and parameters: {'hidden_activation': 'relu', 'num_hidden_layers': 1, 'hidden_size': 19, 'num_epochs': 21}. Best is trial 69 with value: 0.5111464858055115.\n"
          ]
        },
        {
          "output_type": "stream",
          "name": "stdout",
          "text": [
            "\u001b[1m20/20\u001b[0m \u001b[32m━━━━━━━━━━━━━━━━━━━━\u001b[0m\u001b[37m\u001b[0m \u001b[1m1s\u001b[0m 15ms/step\n"
          ]
        },
        {
          "output_type": "stream",
          "name": "stderr",
          "text": [
            "[I 2024-04-11 20:19:49,967] Trial 74 finished with value: 0.5414012670516968 and parameters: {'hidden_activation': 'relu', 'num_hidden_layers': 1, 'hidden_size': 20, 'num_epochs': 16}. Best is trial 69 with value: 0.5111464858055115.\n"
          ]
        },
        {
          "output_type": "stream",
          "name": "stdout",
          "text": [
            "\u001b[1m20/20\u001b[0m \u001b[32m━━━━━━━━━━━━━━━━━━━━\u001b[0m\u001b[37m\u001b[0m \u001b[1m1s\u001b[0m 15ms/step\n"
          ]
        },
        {
          "output_type": "stream",
          "name": "stderr",
          "text": [
            "[I 2024-04-11 20:20:00,401] Trial 75 finished with value: 0.5445859730243683 and parameters: {'hidden_activation': 'relu', 'num_hidden_layers': 1, 'hidden_size': 19, 'num_epochs': 20}. Best is trial 69 with value: 0.5111464858055115.\n"
          ]
        },
        {
          "output_type": "stream",
          "name": "stdout",
          "text": [
            "\u001b[1m20/20\u001b[0m \u001b[32m━━━━━━━━━━━━━━━━━━━━\u001b[0m\u001b[37m\u001b[0m \u001b[1m1s\u001b[0m 16ms/step\n"
          ]
        },
        {
          "output_type": "stream",
          "name": "stderr",
          "text": [
            "[I 2024-04-11 20:20:14,233] Trial 76 finished with value: 0.5461783409118652 and parameters: {'hidden_activation': 'relu', 'num_hidden_layers': 1, 'hidden_size': 19, 'num_epochs': 13}. Best is trial 69 with value: 0.5111464858055115.\n"
          ]
        },
        {
          "output_type": "stream",
          "name": "stdout",
          "text": [
            "\u001b[1m20/20\u001b[0m \u001b[32m━━━━━━━━━━━━━━━━━━━━\u001b[0m\u001b[37m\u001b[0m \u001b[1m1s\u001b[0m 38ms/step\n"
          ]
        },
        {
          "output_type": "stream",
          "name": "stderr",
          "text": [
            "/usr/local/lib/python3.10/dist-packages/sklearn/metrics/_classification.py:1344: UndefinedMetricWarning: Precision is ill-defined and being set to 0.0 in labels with no predicted samples. Use `zero_division` parameter to control this behavior.\n",
            "  _warn_prf(average, modifier, msg_start, len(result))\n",
            "[I 2024-04-11 20:20:33,356] Trial 77 finished with value: 0.6050955355167389 and parameters: {'hidden_activation': 'relu', 'num_hidden_layers': 3, 'hidden_size': 20, 'num_epochs': 23}. Best is trial 69 with value: 0.5111464858055115.\n"
          ]
        },
        {
          "output_type": "stream",
          "name": "stdout",
          "text": [
            "\u001b[1m20/20\u001b[0m \u001b[32m━━━━━━━━━━━━━━━━━━━━\u001b[0m\u001b[37m\u001b[0m \u001b[1m1s\u001b[0m 26ms/step\n"
          ]
        },
        {
          "output_type": "stream",
          "name": "stderr",
          "text": [
            "[I 2024-04-11 20:20:44,063] Trial 78 finished with value: 0.5366241931915283 and parameters: {'hidden_activation': 'relu', 'num_hidden_layers': 1, 'hidden_size': 19, 'num_epochs': 24}. Best is trial 69 with value: 0.5111464858055115.\n"
          ]
        },
        {
          "output_type": "stream",
          "name": "stdout",
          "text": [
            "\u001b[1m20/20\u001b[0m \u001b[32m━━━━━━━━━━━━━━━━━━━━\u001b[0m\u001b[37m\u001b[0m \u001b[1m1s\u001b[0m 16ms/step\n"
          ]
        },
        {
          "output_type": "stream",
          "name": "stderr",
          "text": [
            "[I 2024-04-11 20:20:54,576] Trial 79 finished with value: 0.5589171946048737 and parameters: {'hidden_activation': 'relu', 'num_hidden_layers': 1, 'hidden_size': 18, 'num_epochs': 22}. Best is trial 69 with value: 0.5111464858055115.\n"
          ]
        },
        {
          "output_type": "stream",
          "name": "stdout",
          "text": [
            "\u001b[1m20/20\u001b[0m \u001b[32m━━━━━━━━━━━━━━━━━━━━\u001b[0m\u001b[37m\u001b[0m \u001b[1m1s\u001b[0m 16ms/step\n"
          ]
        },
        {
          "output_type": "stream",
          "name": "stderr",
          "text": [
            "[I 2024-04-11 20:21:04,913] Trial 80 finished with value: 0.6035031974315643 and parameters: {'hidden_activation': 'sigmoid', 'num_hidden_layers': 1, 'hidden_size': 20, 'num_epochs': 17}. Best is trial 69 with value: 0.5111464858055115.\n"
          ]
        },
        {
          "output_type": "stream",
          "name": "stdout",
          "text": [
            "\u001b[1m20/20\u001b[0m \u001b[32m━━━━━━━━━━━━━━━━━━━━\u001b[0m\u001b[37m\u001b[0m \u001b[1m1s\u001b[0m 15ms/step\n"
          ]
        },
        {
          "output_type": "stream",
          "name": "stderr",
          "text": [
            "[I 2024-04-11 20:21:15,838] Trial 81 finished with value: 0.5398089289665222 and parameters: {'hidden_activation': 'relu', 'num_hidden_layers': 1, 'hidden_size': 20, 'num_epochs': 23}. Best is trial 69 with value: 0.5111464858055115.\n"
          ]
        },
        {
          "output_type": "stream",
          "name": "stdout",
          "text": [
            "\u001b[1m20/20\u001b[0m \u001b[32m━━━━━━━━━━━━━━━━━━━━\u001b[0m\u001b[37m\u001b[0m \u001b[1m1s\u001b[0m 15ms/step\n"
          ]
        },
        {
          "output_type": "stream",
          "name": "stderr",
          "text": [
            "[I 2024-04-11 20:21:26,954] Trial 82 finished with value: 0.5302547812461853 and parameters: {'hidden_activation': 'relu', 'num_hidden_layers': 1, 'hidden_size': 20, 'num_epochs': 21}. Best is trial 69 with value: 0.5111464858055115.\n"
          ]
        },
        {
          "output_type": "stream",
          "name": "stdout",
          "text": [
            "\u001b[1m20/20\u001b[0m \u001b[32m━━━━━━━━━━━━━━━━━━━━\u001b[0m\u001b[37m\u001b[0m \u001b[1m1s\u001b[0m 15ms/step\n"
          ]
        },
        {
          "output_type": "stream",
          "name": "stderr",
          "text": [
            "[I 2024-04-11 20:21:38,674] Trial 83 finished with value: 0.5286624133586884 and parameters: {'hidden_activation': 'relu', 'num_hidden_layers': 1, 'hidden_size': 19, 'num_epochs': 23}. Best is trial 69 with value: 0.5111464858055115.\n"
          ]
        },
        {
          "output_type": "stream",
          "name": "stdout",
          "text": [
            "\u001b[1m20/20\u001b[0m \u001b[32m━━━━━━━━━━━━━━━━━━━━\u001b[0m\u001b[37m\u001b[0m \u001b[1m1s\u001b[0m 25ms/step\n"
          ]
        },
        {
          "output_type": "stream",
          "name": "stderr",
          "text": [
            "[I 2024-04-11 20:21:48,981] Trial 84 finished with value: 0.5541401207447052 and parameters: {'hidden_activation': 'relu', 'num_hidden_layers': 1, 'hidden_size': 18, 'num_epochs': 19}. Best is trial 69 with value: 0.5111464858055115.\n"
          ]
        },
        {
          "output_type": "stream",
          "name": "stdout",
          "text": [
            "\u001b[1m20/20\u001b[0m \u001b[32m━━━━━━━━━━━━━━━━━━━━\u001b[0m\u001b[37m\u001b[0m \u001b[1m1s\u001b[0m 15ms/step\n"
          ]
        },
        {
          "output_type": "stream",
          "name": "stderr",
          "text": [
            "[I 2024-04-11 20:21:58,782] Trial 85 finished with value: 0.5525477826595306 and parameters: {'hidden_activation': 'relu', 'num_hidden_layers': 1, 'hidden_size': 19, 'num_epochs': 21}. Best is trial 69 with value: 0.5111464858055115.\n"
          ]
        },
        {
          "output_type": "stream",
          "name": "stdout",
          "text": [
            "\u001b[1m20/20\u001b[0m \u001b[32m━━━━━━━━━━━━━━━━━━━━\u001b[0m\u001b[37m\u001b[0m \u001b[1m1s\u001b[0m 15ms/step\n"
          ]
        },
        {
          "output_type": "stream",
          "name": "stderr",
          "text": [
            "[I 2024-04-11 20:22:09,429] Trial 86 finished with value: 0.5700636804103851 and parameters: {'hidden_activation': 'relu', 'num_hidden_layers': 1, 'hidden_size': 19, 'num_epochs': 22}. Best is trial 69 with value: 0.5111464858055115.\n"
          ]
        },
        {
          "output_type": "stream",
          "name": "stdout",
          "text": [
            "\u001b[1m20/20\u001b[0m \u001b[32m━━━━━━━━━━━━━━━━━━━━\u001b[0m\u001b[37m\u001b[0m \u001b[1m1s\u001b[0m 16ms/step\n"
          ]
        },
        {
          "output_type": "stream",
          "name": "stderr",
          "text": [
            "[I 2024-04-11 20:22:20,712] Trial 87 finished with value: 0.5700636804103851 and parameters: {'hidden_activation': 'relu', 'num_hidden_layers': 1, 'hidden_size': 18, 'num_epochs': 22}. Best is trial 69 with value: 0.5111464858055115.\n"
          ]
        },
        {
          "output_type": "stream",
          "name": "stdout",
          "text": [
            "\u001b[1m20/20\u001b[0m \u001b[32m━━━━━━━━━━━━━━━━━━━━\u001b[0m\u001b[37m\u001b[0m \u001b[1m1s\u001b[0m 16ms/step\n"
          ]
        },
        {
          "output_type": "stream",
          "name": "stderr",
          "text": [
            "[I 2024-04-11 20:22:32,269] Trial 88 finished with value: 0.5238853394985199 and parameters: {'hidden_activation': 'relu', 'num_hidden_layers': 1, 'hidden_size': 18, 'num_epochs': 24}. Best is trial 69 with value: 0.5111464858055115.\n"
          ]
        },
        {
          "output_type": "stream",
          "name": "stdout",
          "text": [
            "\u001b[1m20/20\u001b[0m \u001b[32m━━━━━━━━━━━━━━━━━━━━\u001b[0m\u001b[37m\u001b[0m \u001b[1m1s\u001b[0m 15ms/step\n"
          ]
        },
        {
          "output_type": "stream",
          "name": "stderr",
          "text": [
            "[I 2024-04-11 20:22:42,904] Trial 89 finished with value: 0.5254777073860168 and parameters: {'hidden_activation': 'relu', 'num_hidden_layers': 1, 'hidden_size': 18, 'num_epochs': 24}. Best is trial 69 with value: 0.5111464858055115.\n"
          ]
        },
        {
          "output_type": "stream",
          "name": "stdout",
          "text": [
            "\u001b[1m20/20\u001b[0m \u001b[32m━━━━━━━━━━━━━━━━━━━━\u001b[0m\u001b[37m\u001b[0m \u001b[1m1s\u001b[0m 17ms/step\n"
          ]
        },
        {
          "output_type": "stream",
          "name": "stderr",
          "text": [
            "[I 2024-04-11 20:22:54,446] Trial 90 finished with value: 0.5429936349391937 and parameters: {'hidden_activation': 'relu', 'num_hidden_layers': 1, 'hidden_size': 17, 'num_epochs': 25}. Best is trial 69 with value: 0.5111464858055115.\n"
          ]
        },
        {
          "output_type": "stream",
          "name": "stdout",
          "text": [
            "\u001b[1m20/20\u001b[0m \u001b[32m━━━━━━━━━━━━━━━━━━━━\u001b[0m\u001b[37m\u001b[0m \u001b[1m1s\u001b[0m 15ms/step\n"
          ]
        },
        {
          "output_type": "stream",
          "name": "stderr",
          "text": [
            "[I 2024-04-11 20:23:04,151] Trial 91 finished with value: 0.5334394872188568 and parameters: {'hidden_activation': 'relu', 'num_hidden_layers': 1, 'hidden_size': 18, 'num_epochs': 24}. Best is trial 69 with value: 0.5111464858055115.\n"
          ]
        },
        {
          "output_type": "stream",
          "name": "stdout",
          "text": [
            "\u001b[1m20/20\u001b[0m \u001b[32m━━━━━━━━━━━━━━━━━━━━\u001b[0m\u001b[37m\u001b[0m \u001b[1m1s\u001b[0m 15ms/step\n"
          ]
        },
        {
          "output_type": "stream",
          "name": "stderr",
          "text": [
            "[I 2024-04-11 20:23:21,280] Trial 92 finished with value: 0.5238853394985199 and parameters: {'hidden_activation': 'relu', 'num_hidden_layers': 1, 'hidden_size': 19, 'num_epochs': 24}. Best is trial 69 with value: 0.5111464858055115.\n"
          ]
        },
        {
          "output_type": "stream",
          "name": "stdout",
          "text": [
            "\u001b[1m20/20\u001b[0m \u001b[32m━━━━━━━━━━━━━━━━━━━━\u001b[0m\u001b[37m\u001b[0m \u001b[1m1s\u001b[0m 17ms/step\n"
          ]
        },
        {
          "output_type": "stream",
          "name": "stderr",
          "text": [
            "[I 2024-04-11 20:23:32,480] Trial 93 finished with value: 0.5334394872188568 and parameters: {'hidden_activation': 'relu', 'num_hidden_layers': 1, 'hidden_size': 17, 'num_epochs': 24}. Best is trial 69 with value: 0.5111464858055115.\n"
          ]
        },
        {
          "output_type": "stream",
          "name": "stdout",
          "text": [
            "\u001b[1m20/20\u001b[0m \u001b[32m━━━━━━━━━━━━━━━━━━━━\u001b[0m\u001b[37m\u001b[0m \u001b[1m1s\u001b[0m 16ms/step\n"
          ]
        },
        {
          "output_type": "stream",
          "name": "stderr",
          "text": [
            "[I 2024-04-11 20:23:43,198] Trial 94 finished with value: 0.5382165610790253 and parameters: {'hidden_activation': 'relu', 'num_hidden_layers': 1, 'hidden_size': 16, 'num_epochs': 24}. Best is trial 69 with value: 0.5111464858055115.\n"
          ]
        },
        {
          "output_type": "stream",
          "name": "stdout",
          "text": [
            "\u001b[1m20/20\u001b[0m \u001b[32m━━━━━━━━━━━━━━━━━━━━\u001b[0m\u001b[37m\u001b[0m \u001b[1m1s\u001b[0m 15ms/step\n"
          ]
        },
        {
          "output_type": "stream",
          "name": "stderr",
          "text": [
            "[I 2024-04-11 20:23:54,934] Trial 95 finished with value: 0.5429936349391937 and parameters: {'hidden_activation': 'relu', 'num_hidden_layers': 1, 'hidden_size': 18, 'num_epochs': 25}. Best is trial 69 with value: 0.5111464858055115.\n"
          ]
        },
        {
          "output_type": "stream",
          "name": "stdout",
          "text": [
            "\u001b[1m20/20\u001b[0m \u001b[32m━━━━━━━━━━━━━━━━━━━━\u001b[0m\u001b[37m\u001b[0m \u001b[1m1s\u001b[0m 16ms/step\n"
          ]
        },
        {
          "output_type": "stream",
          "name": "stderr",
          "text": [
            "[I 2024-04-11 20:24:04,545] Trial 96 finished with value: 0.5382165610790253 and parameters: {'hidden_activation': 'relu', 'num_hidden_layers': 1, 'hidden_size': 19, 'num_epochs': 15}. Best is trial 69 with value: 0.5111464858055115.\n"
          ]
        },
        {
          "output_type": "stream",
          "name": "stdout",
          "text": [
            "\u001b[1m20/20\u001b[0m \u001b[32m━━━━━━━━━━━━━━━━━━━━\u001b[0m\u001b[37m\u001b[0m \u001b[1m1s\u001b[0m 15ms/step\n"
          ]
        },
        {
          "output_type": "stream",
          "name": "stderr",
          "text": [
            "[I 2024-04-11 20:24:15,682] Trial 97 finished with value: 0.5318471193313599 and parameters: {'hidden_activation': 'relu', 'num_hidden_layers': 1, 'hidden_size': 18, 'num_epochs': 24}. Best is trial 69 with value: 0.5111464858055115.\n"
          ]
        },
        {
          "output_type": "stream",
          "name": "stdout",
          "text": [
            "\u001b[1m20/20\u001b[0m \u001b[32m━━━━━━━━━━━━━━━━━━━━\u001b[0m\u001b[37m\u001b[0m \u001b[1m1s\u001b[0m 21ms/step\n"
          ]
        },
        {
          "output_type": "stream",
          "name": "stderr",
          "text": [
            "/usr/local/lib/python3.10/dist-packages/sklearn/metrics/_classification.py:1344: UndefinedMetricWarning: Precision is ill-defined and being set to 0.0 in labels with no predicted samples. Use `zero_division` parameter to control this behavior.\n",
            "  _warn_prf(average, modifier, msg_start, len(result))\n",
            "[I 2024-04-11 20:24:31,006] Trial 98 finished with value: 0.5987261235713959 and parameters: {'hidden_activation': 'sigmoid', 'num_hidden_layers': 1, 'hidden_size': 19, 'num_epochs': 23}. Best is trial 69 with value: 0.5111464858055115.\n"
          ]
        },
        {
          "output_type": "stream",
          "name": "stdout",
          "text": [
            "\u001b[1m20/20\u001b[0m \u001b[32m━━━━━━━━━━━━━━━━━━━━\u001b[0m\u001b[37m\u001b[0m \u001b[1m1s\u001b[0m 16ms/step\n"
          ]
        },
        {
          "output_type": "stream",
          "name": "stderr",
          "text": [
            "[I 2024-04-11 20:24:46,887] Trial 99 finished with value: 0.5350318551063538 and parameters: {'hidden_activation': 'relu', 'num_hidden_layers': 1, 'hidden_size': 18, 'num_epochs': 25}. Best is trial 69 with value: 0.5111464858055115.\n"
          ]
        }
      ]
    },
    {
      "cell_type": "code",
      "source": [
        "print(nrnn_experiment.best_trial.params)\n",
        "print(nrnn_experiment.best_trial.user_attrs)\n",
        "print(f\"Validation Acc: {1 - nrnn_experiment.best_trial.values[0]}\")"
      ],
      "metadata": {
        "id": "dIUPaa_q2RuQ",
        "outputId": "7e8a0776-052f-4f8c-fb90-9bad81877eb2",
        "colab": {
          "base_uri": "https://localhost:8080/"
        }
      },
      "execution_count": null,
      "outputs": [
        {
          "output_type": "stream",
          "name": "stdout",
          "text": [
            "{'hidden_activation': 'relu', 'num_hidden_layers': 1, 'hidden_size': 20, 'num_epochs': 18}\n",
            "{'hidden_layer_dims': [20], 'accuracy': 0.4888535031847134, 'precision': 0.475513944938763, 'recall': 0.4888535031847134}\n",
            "Validation Acc: 0.4888535141944885\n"
          ]
        }
      ]
    }
  ]
}