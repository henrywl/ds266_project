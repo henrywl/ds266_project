{
  "nbformat": 4,
  "nbformat_minor": 0,
  "metadata": {
    "colab": {
      "provenance": [],
      "gpuType": "V100",
      "toc_visible": true
    },
    "kernelspec": {
      "name": "python3",
      "display_name": "Python 3"
    },
    "language_info": {
      "name": "python"
    },
    "accelerator": "GPU"
  },
  "cells": [
    {
      "cell_type": "markdown",
      "source": [
        "## Setup and Libraries"
      ],
      "metadata": {
        "id": "tH5E-X5QLJfw"
      }
    },
    {
      "cell_type": "code",
      "source": [
        "!pip install -U tensorflow-text --quiet\n",
        "!pip install transformers --quiet\n",
        "!pip install tensorflow_decision_forests --quiet\n",
        "!pip install optuna --quiet\n",
        "!pip install --upgrade pandas"
      ],
      "metadata": {
        "colab": {
          "base_uri": "https://localhost:8080/"
        },
        "id": "6kZdZMlLLXYw",
        "outputId": "9a542d6b-4a69-4f3f-982a-bc2b4f37cdb4"
      },
      "execution_count": null,
      "outputs": [
        {
          "output_type": "stream",
          "name": "stdout",
          "text": [
            "Requirement already satisfied: pandas in /usr/local/lib/python3.10/dist-packages (2.2.1)\n",
            "Requirement already satisfied: numpy<2,>=1.22.4 in /usr/local/lib/python3.10/dist-packages (from pandas) (1.25.2)\n",
            "Requirement already satisfied: python-dateutil>=2.8.2 in /usr/local/lib/python3.10/dist-packages (from pandas) (2.8.2)\n",
            "Requirement already satisfied: pytz>=2020.1 in /usr/local/lib/python3.10/dist-packages (from pandas) (2023.4)\n",
            "Requirement already satisfied: tzdata>=2022.7 in /usr/local/lib/python3.10/dist-packages (from pandas) (2024.1)\n",
            "Requirement already satisfied: six>=1.5 in /usr/local/lib/python3.10/dist-packages (from python-dateutil>=2.8.2->pandas) (1.16.0)\n"
          ]
        }
      ]
    },
    {
      "cell_type": "code",
      "source": [
        "## Library imports\n",
        "import gzip\n",
        "import io\n",
        "import pandas as pd\n",
        "import warnings\n",
        "import math\n",
        "import numpy as np\n",
        "\n",
        "import tensorflow as tf\n",
        "from tensorflow import keras\n",
        "import tensorflow_decision_forests as tfdf\n",
        "import optuna\n",
        "\n",
        "import matplotlib.pyplot as plt\n",
        "\n",
        "from google.colab import files\n",
        "\n",
        "# Other options\n",
        "warnings.filterwarnings(\"ignore\", category=DeprecationWarning)"
      ],
      "metadata": {
        "id": "Hf0nk2Zlogms"
      },
      "execution_count": null,
      "outputs": []
    },
    {
      "cell_type": "markdown",
      "source": [
        "## Data load"
      ],
      "metadata": {
        "id": "fJ66RYnyeD6r"
      }
    },
    {
      "cell_type": "code",
      "source": [
        "## Load datasets\n",
        "from google.colab import drive\n",
        "\n",
        "# Mount Google Drive\n",
        "drive.mount('/content/drive')\n",
        "model_checkpoints_path = '/content/drive/My Drive/ds266proj/model_checkpoints'\n",
        "\n",
        "# Read data from to Google Drive\n",
        "hs_all_data = pd.read_csv('/content/drive/My Drive/ds266proj/hs_cards_data_text.csv')\n",
        "nr_all_data = pd.read_csv('/content/drive/My Drive/ds266proj/nr_cards_data_text.csv')"
      ],
      "metadata": {
        "colab": {
          "base_uri": "https://localhost:8080/"
        },
        "id": "8Q4Tj6UneGFG",
        "outputId": "1c69c375-be60-4c63-a57a-013e36b3c307"
      },
      "execution_count": null,
      "outputs": [
        {
          "output_type": "stream",
          "name": "stdout",
          "text": [
            "Drive already mounted at /content/drive; to attempt to forcibly remount, call drive.mount(\"/content/drive\", force_remount=True).\n"
          ]
        }
      ]
    },
    {
      "cell_type": "markdown",
      "source": [
        "## Baseline Model Experimentation\n",
        "\n",
        "The baseline model will be to use a decision tree and random forest approach that also ignores the text of the cards. This is expected to perform quite poorly."
      ],
      "metadata": {
        "id": "WLXuFzjSKV8t"
      }
    },
    {
      "cell_type": "markdown",
      "source": [
        "### Data preparation"
      ],
      "metadata": {
        "id": "_do5yzHUempC"
      }
    },
    {
      "cell_type": "code",
      "source": [
        "## Set up the various subsetdatasets for modeling\n",
        "\n",
        "## Include all the mechanics\n",
        "hs_features_allnontext = hs_all_data[['classes',\n",
        "                                      # Key info\n",
        "                                      'health', 'cost', 'attack', 'durability', 'armor',\n",
        "                                      # Card dscriptors\n",
        "                                      'Hero', 'Location', 'Minion', 'Spell', 'Weapon',\n",
        "                                      # tribes\n",
        "                                      'MECH', 'QUILBOAR', 'DEMON', 'PIRATE', 'TOTEM', 'NAGA', 'ELEMENTAL',\n",
        "                                      'ALL', 'BEAST', 'MURLOC', 'DRAGON', 'UNDEAD',\n",
        "                                      # spell schools\n",
        "                                      'ARCANE', 'FEL', 'FIRE', 'FROST', 'HOLY', 'NATURE', 'SHADOW',\n",
        "                                      # keywords\n",
        "                                      'QUICKDRAW', 'COLLECTIONMANAGER_FILTER_MANA_ODD', 'ADJACENT_BUFF', 'GEARS',\n",
        "                                      'DEAL_DAMAGE', 'FORGETFUL', 'MODULAR', 'SECRET', 'ECHO',\n",
        "                                      'MULTIPLY_BUFF_VALUE', 'CHOOSE_ONE', 'FORGE', 'WHELP', 'HONORABLE_KILL',\n",
        "                                      'TWINSPELL', 'QUEST', 'FRENZY', 'OVERHEAL', 'CHARGE', 'FREEZE',\n",
        "                                      'OVERKILL', 'SPELLPOWER', 'DIVINE_SHIELD', 'AFFECTED_BY_SPELL_POWER',\n",
        "                                      'ENRAGED', 'COMBO', 'DEATHRATTLE', 'REBORN', 'CORRUPT', 'HIDE_STATS',\n",
        "                                      'SILENCE', 'TOPDECK', 'POISONOUS', 'WINDFURY', 'TAUNT', 'KABAL',\n",
        "                                      'COLOSSAL', 'GRIMY_GOONS', 'TRADEABLE', 'OVERLOAD', 'INSPIRE',\n",
        "                                      'NON_KEYWORD_ECHO', 'SUMMON', 'EXCAVATE', 'AURA', 'BATTLECRY',\n",
        "                                      'OUTCAST', 'MANATHIRST', 'RUSH', 'HEROPOWER_DAMAGE',\n",
        "                                      'RECEIVES_DOUBLE_SPELLDAMAGE_BONUS', 'JADE_LOTUS', 'FINALE',\n",
        "                                      'DEATH_KNIGHT', 'DREDGE', 'INFUSE',\n",
        "                                      'COLLECTIONMANAGER_FILTER_MANA_EVEN', 'TRIGGER_VISUAL', 'LIFESTEAL',\n",
        "                                      'START_OF_GAME_KEYWORD', 'IMP', 'RESTORE_HEALTH', 'JADE_GOLEM',\n",
        "                                      'DISCOVER', 'STEALTH', 'FINISH_ATTACK_SPELL_ON_DAMAGE']].copy()\n",
        "\n",
        "nr_features_allnontext = nr_all_data[['faction_code',\n",
        "                                      # Key info\n",
        "                                      'runner', 'corp', 'ice', 'upgrade', 'hardware', 'resource', 'identity',\n",
        "                                      'operation', 'agenda', 'program', 'asset', 'event',\n",
        "                                      # Card dscriptors\n",
        "                                      'influence', 'unique', 'cost', 'trash_cost', 'memory_cost', 'strength',\n",
        "                                      'advancement_cost', 'agenda_points', 'base_link',\n",
        "                                      'influence_limit', 'minimum_deck_size', 'deck_limit',\n",
        "                                      # # keywords\n",
        "                                      'morph', 'job', 'location', 'deepnet', 'ambush', 'blackops',\n",
        "                                      'advertisement', 'lockdown', 'codegate', 'enforcer', 'genetics',\n",
        "                                      'sabotage', 'chip', 'source', 'grayops', 'consumergrade', 'division',\n",
        "                                      'priority', 'killer', 'link', 'directive', 'sensie', 'caissa',\n",
        "                                      'trap', 'remote', 'companion', 'deflector', 'hostile', 'vehicle', 'seedy',\n",
        "                                      'bioroid', 'terminal', 'harmonic', 'deva', 'political', 'decoder', 'beanstalk',\n",
        "                                      'psi', 'megacorp', 'cast', 'orgcrime', 'clone', 'reprisal', 'console', 'mythic',\n",
        "                                      'corporation', 'clan', 'grail', 'ai', 'barrier', 'research', 'character', 'trojan',\n",
        "                                      'stealth', 'triple', 'icebreaker', 'academic', 'securityprotocol', 'cyborg',\n",
        "                                      'digital', 'connection', 'transaction', 'ritzy', 'fracter', 'region', 'expendable',\n",
        "                                      'virus', 'expansion', 'offsite', 'industrial', 'daemon', 'virtual', 'observer',\n",
        "                                      'facility', 'current', 'alliance', 'cloud', 'executive', 'condition', 'policedepartment',\n",
        "                                      'weapon', 'destroyer', 'tracer', 'unorthodox', 'natural', 'sentry', 'subsidiary',\n",
        "                                      'security', 'gear', 'sysop', 'next', 'run', 'double', 'gmod', 'ap',\n",
        "                                      'cybernetic', 'initiative', 'illicit', 'mod', 'government', 'public']].copy()\n"
      ],
      "metadata": {
        "id": "Rn10zxl3_-PF"
      },
      "execution_count": null,
      "outputs": []
    },
    {
      "cell_type": "code",
      "source": [
        "## CODE FOR TRAIN AND TEST SPLITS\n",
        "##===========================================================\n",
        "\n",
        "def splitTrainTest(dataset,\n",
        "                   label,\n",
        "                   test_ratio = 0.3):\n",
        "\n",
        "  # Set up the modeling dataset and classification label\n",
        "  modeling_df = dataset.copy()\n",
        "  classes = modeling_df[label].unique().tolist()\n",
        "  print(f\"Label classes: {classes}\")\n",
        "  # Convert the label to a numeric value\n",
        "  modeling_df.loc[:, label] = modeling_df[label].map(classes.index)\n",
        "\n",
        "  # Split into training and test data\n",
        "  np.random.seed(2319)\n",
        "  test_indices = np.random.rand(len(modeling_df)) < test_ratio\n",
        "  print(\"{} examples in training, {} examples for testing.\".format(\n",
        "    len(modeling_df[~test_indices]), len(modeling_df[test_indices])))\n",
        "\n",
        "  return modeling_df[~test_indices], modeling_df[test_indices]\n",
        "\n",
        "hs_train, hs_test = splitTrainTest(hs_features_allnontext, label = 'classes')\n",
        "nr_train, nr_test = splitTrainTest(nr_features_allnontext, label = 'faction_code')"
      ],
      "metadata": {
        "colab": {
          "base_uri": "https://localhost:8080/"
        },
        "id": "brMNyrHCe_Va",
        "outputId": "3c8ab8f0-d2ff-4da7-91fb-fffc7316d078"
      },
      "execution_count": null,
      "outputs": [
        {
          "output_type": "stream",
          "name": "stdout",
          "text": [
            "Label classes: ['PRIEST', 'WARRIOR', 'WARLOCK', 'SHAMAN', 'DRUID', 'PALADIN', 'MAGE', 'HUNTER', 'ROGUE', 'DEMONHUNTER', 'DEATHKNIGHT', 'NEUTRAL']\n",
            "5234 examples in training, 2291 examples for testing.\n",
            "Label classes: ['neutral-corp', 'neutral-runner', 'weyland-consortium', 'nbn', 'jinteki', 'haas-bioroid', 'shaper', 'criminal', 'anarch']\n",
            "1495 examples in training, 628 examples for testing.\n"
          ]
        }
      ]
    },
    {
      "cell_type": "markdown",
      "source": [
        "### Decision Tree and Gradient Boosted Tree Modeling"
      ],
      "metadata": {
        "id": "egxZ8e_hGgEv"
      }
    },
    {
      "cell_type": "code",
      "source": [
        "## CODE TO GENERATE A TREE MODEL USING AN ARBITRARY DATASET\n",
        "## Basic structure taken from https://www.tensorflow.org/decision_forests/tutorials/beginner_colab\n",
        "##===========================================================\n",
        "\n",
        "def fitTreeModel(training_data,\n",
        "                 test_data,\n",
        "                 label,\n",
        "                 tree_type = 'RandomForest',\n",
        "                 num_trees = 500):\n",
        "  print(\"here\")\n",
        "  # Convert into tensorflow dfs\n",
        "  train_ds = tfdf.keras.pd_dataframe_to_tf_dataset(training_data, label=label)\n",
        "  test_ds = tfdf.keras.pd_dataframe_to_tf_dataset(test_data, label=label)\n",
        "  print(\"there\")\n",
        "\n",
        "  # Specify the model type\n",
        "  if tree_type == 'RandomForest':\n",
        "    model = tfdf.keras.RandomForestModel(num_trees = num_trees)\n",
        "  elif tree_type == 'GBTree':\n",
        "    model = tfdf.keras.GradientBoostedTreesModel(num_trees = num_trees)\n",
        "  else:\n",
        "    print('Unsupported tree type')\n",
        "    return\n",
        "\n",
        "  # Fit the selected model\n",
        "  model.fit(train_ds)\n",
        "\n",
        "  # Model evaluation\n",
        "  model.compile(metrics=[\"accuracy\"])\n",
        "  evaluation = model.evaluate(test_ds, return_dict=True)\n",
        "\n",
        "  return model, evaluation\n"
      ],
      "metadata": {
        "id": "Wwj3pI5KMZRW"
      },
      "execution_count": null,
      "outputs": []
    },
    {
      "cell_type": "code",
      "source": [
        "## Train some models on the input datasets\n",
        "##--------------------------------------------------\n",
        "# hs_model, hs_model_eval = fitTreeModel(training_data = hs_train,\n",
        "#                                        test_data = hs_test,\n",
        "#                                        label = 'classes')\n",
        "\n",
        "# hs_model_gb, hs_model_eval_gb = fitTreeModel(training_data = hs_train,\n",
        "#                                              test_data = hs_test,\n",
        "#                                              label = 'classes',\n",
        "#                                              tree_type = 'GBTree')\n",
        "\n",
        "# nr_model, nr_model_eval = fitTreeModel(training_data = nr_train,\n",
        "#                                        test_data = nr_test,\n",
        "#                                        label = 'faction_code')\n",
        "\n",
        "# nr_model_gb, nr_model_eval_gb = fitTreeModel(training_data = nr_train,\n",
        "#                                              test_data = nr_test,\n",
        "#                                              label = 'faction_code',\n",
        "#                                              tree_type = 'GBTree')"
      ],
      "metadata": {
        "id": "S7eh_OOyC9Tt"
      },
      "execution_count": null,
      "outputs": []
    },
    {
      "cell_type": "markdown",
      "source": [
        "#### Neural Nets"
      ],
      "metadata": {
        "id": "iH_S5elSS3LY"
      }
    },
    {
      "cell_type": "code",
      "source": [
        "## Input features should be arrays\n",
        "\n",
        "def genModelArrays(training_data,\n",
        "                   test_data,\n",
        "                   label_col):\n",
        "  # Split the training data\n",
        "  train_labels = np.array(training_data[label_col])\n",
        "  train_data = np.array(training_data[training_data.columns[training_data.columns != label_col]])\n",
        "  # Split the test data\n",
        "  test_labels = np.array(test_data[label_col])\n",
        "  test_data = np.array(test_data[test_data.columns[test_data.columns != label_col]])\n",
        "  # Cast as floats\n",
        "  train_labels = np.asarray(train_labels).astype('float32')\n",
        "  train_data = np.asarray(train_data).astype('float32')\n",
        "  test_labels = np.asarray(test_labels).astype('float32')\n",
        "  test_data = np.asarray(test_data).astype('float32')\n",
        "\n",
        "  return train_data, train_labels, test_data, test_labels\n",
        "\n",
        "# Generate the input sets\n",
        "hsnn_train_data, hsnn_train_labels, hsnn_test_data, hsnn_test_labels = genModelArrays(hs_train, hs_test, label_col = 'classes')\n",
        "nrnn_train_data, nrnn_train_labels, nrnn_test_data, nrnn_test_labels = genModelArrays(nr_train, nr_test, label_col = 'faction_code')\n",
        "\n",
        "print(hsnn_train_data.shape)\n",
        "print(hsnn_train_labels.shape)\n",
        "\n",
        "print(nrnn_train_data.shape)\n",
        "print(nrnn_train_labels.shape)"
      ],
      "metadata": {
        "colab": {
          "base_uri": "https://localhost:8080/"
        },
        "id": "q-KMnFfexjPW",
        "outputId": "63f38cc6-5ba0-4b49-a10e-20bbe3d3f078"
      },
      "execution_count": null,
      "outputs": [
        {
          "output_type": "stream",
          "name": "stdout",
          "text": [
            "(5234, 95)\n",
            "(5234,)\n",
            "(1495, 125)\n",
            "(1495,)\n"
          ]
        }
      ]
    },
    {
      "cell_type": "code",
      "source": [
        "## Code to create a neural net for classification\n",
        "\n",
        "def buildNNClassifier(n_input_features,\n",
        "                      hidden_layer_dims,\n",
        "                      n_classes = 12,\n",
        "                      hidden_activation = 'relu',\n",
        "                      dropout_rate = 0.25,\n",
        "                      learning_rate = 0.001):\n",
        "\n",
        "  ## Set up the input layer\n",
        "  input_layer = tf.keras.layers.Input(shape=(n_input_features,), dtype='int32', name = 'input')\n",
        "\n",
        "  last_hidden_output = input_layer\n",
        "\n",
        "  ## Set up the hidden layers\n",
        "  for i, h_dim in enumerate(hidden_layer_dims):\n",
        "    last_hidden_output = tf.keras.layers.Dense(h_dim, activation=hidden_activation, name='hidden_%d' % i)(last_hidden_output)\n",
        "    last_hidden_output = tf.keras.layers.Dropout(dropout_rate)(last_hidden_output)\n",
        "\n",
        "  ## Set up the classification layer\n",
        "  classification = tf.keras.layers.Dense(12, activation='softmax', name='classification')(last_hidden_output)\n",
        "\n",
        "  ## Compile the model\n",
        "  nn_model = tf.keras.models.Model(inputs=input_layer, outputs=[classification])\n",
        "  nn_model.compile(loss='sparse_categorical_crossentropy',\n",
        "                   optimizer=tf.keras.optimizers.Adam(learning_rate=learning_rate),\n",
        "                   metrics=['accuracy'])\n",
        "\n",
        "  return nn_model"
      ],
      "metadata": {
        "id": "4Q8DkYBWS2Ff"
      },
      "execution_count": null,
      "outputs": []
    },
    {
      "cell_type": "code",
      "source": [
        "## Neural Net Experiment\n",
        "##========================================================\n",
        "\n",
        "## Using the optuna package to search for most performant NN model\n",
        "\n",
        "def objectiveHS(trial):\n",
        "  # First create the search space\n",
        "  #----------------------------------------\n",
        "  # Try activation functions\n",
        "  activation = trial.suggest_categorical(\"hidden_activation\", [\"sigmoid\", \"relu\"])\n",
        "  # Try numbers of layers\n",
        "  num_hidden_layers = trial.suggest_int(\"num_hidden_layers\", 1, 3)\n",
        "  # For the hidden layers try various layer sizes\n",
        "  hidden_layer_dims = []\n",
        "  for layer_n in range(num_hidden_layers):\n",
        "    hidden_size = trial.suggest_int(\"hidden_size\", 10, 20, step=1)\n",
        "    hidden_layer_dims.append(hidden_size)\n",
        "  trial.set_user_attr('hidden_layer_dims', hidden_layer_dims)\n",
        "  # Try some number of epochs\n",
        "  num_epochs = trial.suggest_int(\"num_epochs\", 10, 25, step=1)\n",
        "  # Next set up the model, run it, and check the finalized accuracy\n",
        "  #----------------------------------------\n",
        "  trial_model = buildNNClassifier(n_input_features=hsnn_train_data.shape[1],\n",
        "                                  hidden_layer_dims=hidden_layer_dims,\n",
        "                                  hidden_activation = activation,\n",
        "                                  learning_rate = 0.001)\n",
        "  trial_model_history = trial_model.fit(hsnn_train_data,\n",
        "                                        hsnn_train_labels,\n",
        "                                        validation_data = (hsnn_test_data, hsnn_test_labels),\n",
        "                                        epochs = num_epochs,\n",
        "                                        verbose = 0)\n",
        "  # Save model info\n",
        "  # trial.set_user_attr('trial_model', trial_model)\n",
        "  # trial.set_user_attr('trial_model_history', trial_model_history)\n",
        "  # Finally define the thing to minimize, in this case 1 minus the model validation accuracy\n",
        "  #------------------------------------------\n",
        "  result = 1 - trial_model_history.history['val_accuracy'][-1]\n",
        "\n",
        "  return result\n",
        "\n",
        "def objectiveNR(trial):\n",
        "  # First create the search space\n",
        "  #----------------------------------------\n",
        "  # Try activation functions\n",
        "  activation = trial.suggest_categorical(\"hidden_activation\", [\"sigmoid\", \"relu\"])\n",
        "  # Try numbers of layers\n",
        "  num_hidden_layers = trial.suggest_int(\"num_hidden_layers\", 1, 3)\n",
        "  # For the hidden layers try various layer sizes\n",
        "  hidden_layer_dims = []\n",
        "  for layer_n in range(num_hidden_layers):\n",
        "    hidden_size = trial.suggest_int(\"hidden_size\", 10, 20, step=1)\n",
        "    hidden_layer_dims.append(hidden_size)\n",
        "  trial.set_user_attr('hidden_layer_dims', hidden_layer_dims)\n",
        "  # Try some number of epochs\n",
        "  num_epochs = trial.suggest_int(\"num_epochs\", 10, 25, step=1)\n",
        "  # Next set up the model, run it, and check the finalized accuracy\n",
        "  #----------------------------------------\n",
        "  trial_model = buildNNClassifier(n_input_features=nrnn_train_data.shape[1],\n",
        "                                  hidden_layer_dims=hidden_layer_dims,\n",
        "                                  hidden_activation = activation,\n",
        "                                  learning_rate = 0.001)\n",
        "  trial_model_history = trial_model.fit(nrnn_train_data,\n",
        "                                        nrnn_train_labels,\n",
        "                                        validation_data = (nrnn_test_data, nrnn_test_labels),\n",
        "                                        epochs = num_epochs,\n",
        "                                        verbose = 0)\n",
        "  # Save model info\n",
        "  # trial.set_user_attr('trial_model', trial_model)\n",
        "  # trial.set_user_attr('trial_model_history', trial_model_history)\n",
        "  # Finally define the thing to minimize, in this case 1 minus the model validation accuracy\n",
        "  #------------------------------------------\n",
        "  result = 1 - trial_model_history.history['val_accuracy'][-1]\n",
        "\n",
        "  return result"
      ],
      "metadata": {
        "id": "JtumSJ8z0VsW"
      },
      "execution_count": null,
      "outputs": []
    },
    {
      "cell_type": "code",
      "source": [
        "hsnn_experiment = optuna.create_study(study_name=\"HSNN_Experiment\")\n",
        "hsnn_experiment.optimize(objectiveHS, n_trials=100)"
      ],
      "metadata": {
        "colab": {
          "base_uri": "https://localhost:8080/"
        },
        "id": "KaM3UWzJ6AZC",
        "outputId": "0cefa116-3772-4dae-f0aa-db24b80df366"
      },
      "execution_count": null,
      "outputs": [
        {
          "output_type": "stream",
          "name": "stderr",
          "text": [
            "[I 2024-03-19 01:07:41,074] A new study created in memory with name: HSNN_Experiment\n",
            "[I 2024-03-19 01:08:11,961] Trial 0 finished with value: 0.6769969463348389 and parameters: {'hidden_activation': 'relu', 'num_hidden_layers': 2, 'hidden_size': 19, 'num_epochs': 15}. Best is trial 0 with value: 0.6769969463348389.\n",
            "[I 2024-03-19 01:08:40,125] Trial 1 finished with value: 0.7145351469516754 and parameters: {'hidden_activation': 'sigmoid', 'num_hidden_layers': 1, 'hidden_size': 14, 'num_epochs': 14}. Best is trial 0 with value: 0.6769969463348389.\n",
            "[I 2024-03-19 01:09:04,758] Trial 2 finished with value: 0.7066783010959625 and parameters: {'hidden_activation': 'sigmoid', 'num_hidden_layers': 1, 'hidden_size': 10, 'num_epochs': 19}. Best is trial 0 with value: 0.6769969463348389.\n",
            "[I 2024-03-19 01:09:33,501] Trial 3 finished with value: 0.6983849704265594 and parameters: {'hidden_activation': 'relu', 'num_hidden_layers': 2, 'hidden_size': 11, 'num_epochs': 15}. Best is trial 0 with value: 0.6769969463348389.\n",
            "[I 2024-03-19 01:09:58,518] Trial 4 finished with value: 0.6783064305782318 and parameters: {'hidden_activation': 'relu', 'num_hidden_layers': 2, 'hidden_size': 13, 'num_epochs': 20}. Best is trial 0 with value: 0.6769969463348389.\n",
            "[I 2024-03-19 01:10:29,342] Trial 5 finished with value: 0.6499345302581787 and parameters: {'hidden_activation': 'relu', 'num_hidden_layers': 1, 'hidden_size': 17, 'num_epochs': 20}. Best is trial 5 with value: 0.6499345302581787.\n",
            "[I 2024-03-19 01:10:58,361] Trial 6 finished with value: 0.6748144924640656 and parameters: {'hidden_activation': 'sigmoid', 'num_hidden_layers': 1, 'hidden_size': 20, 'num_epochs': 21}. Best is trial 5 with value: 0.6499345302581787.\n",
            "[I 2024-03-19 01:11:32,103] Trial 7 finished with value: 0.8402444273233414 and parameters: {'hidden_activation': 'sigmoid', 'num_hidden_layers': 3, 'hidden_size': 11, 'num_epochs': 19}. Best is trial 5 with value: 0.6499345302581787.\n",
            "[I 2024-03-19 01:11:53,166] Trial 8 finished with value: 0.690528154373169 and parameters: {'hidden_activation': 'relu', 'num_hidden_layers': 2, 'hidden_size': 14, 'num_epochs': 16}. Best is trial 5 with value: 0.6499345302581787.\n",
            "[I 2024-03-19 01:12:13,113] Trial 9 finished with value: 0.690528154373169 and parameters: {'hidden_activation': 'relu', 'num_hidden_layers': 1, 'hidden_size': 10, 'num_epochs': 18}. Best is trial 5 with value: 0.6499345302581787.\n",
            "[I 2024-03-19 01:12:46,278] Trial 10 finished with value: 0.6975120007991791 and parameters: {'hidden_activation': 'relu', 'num_hidden_layers': 3, 'hidden_size': 17, 'num_epochs': 25}. Best is trial 5 with value: 0.6499345302581787.\n",
            "[I 2024-03-19 01:13:04,070] Trial 11 finished with value: 0.6704495847225189 and parameters: {'hidden_activation': 'sigmoid', 'num_hidden_layers': 1, 'hidden_size': 20, 'num_epochs': 23}. Best is trial 5 with value: 0.6499345302581787.\n",
            "[I 2024-03-19 01:13:27,083] Trial 12 finished with value: 0.6791794002056122 and parameters: {'hidden_activation': 'sigmoid', 'num_hidden_layers': 1, 'hidden_size': 17, 'num_epochs': 24}. Best is trial 5 with value: 0.6499345302581787.\n",
            "[I 2024-03-19 01:13:42,757] Trial 13 finished with value: 0.725447416305542 and parameters: {'hidden_activation': 'sigmoid', 'num_hidden_layers': 1, 'hidden_size': 17, 'num_epochs': 10}. Best is trial 5 with value: 0.6499345302581787.\n",
            "[I 2024-03-19 01:14:06,029] Trial 14 finished with value: 0.6713225543498993 and parameters: {'hidden_activation': 'sigmoid', 'num_hidden_layers': 1, 'hidden_size': 19, 'num_epochs': 22}. Best is trial 5 with value: 0.6499345302581787.\n",
            "[I 2024-03-19 01:14:39,558] Trial 15 finished with value: 0.6783064305782318 and parameters: {'hidden_activation': 'relu', 'num_hidden_layers': 2, 'hidden_size': 16, 'num_epochs': 23}. Best is trial 5 with value: 0.6499345302581787.\n",
            "[I 2024-03-19 01:14:59,522] Trial 16 finished with value: 0.6451331377029419 and parameters: {'hidden_activation': 'relu', 'num_hidden_layers': 1, 'hidden_size': 20, 'num_epochs': 23}. Best is trial 16 with value: 0.6451331377029419.\n",
            "[I 2024-03-19 01:15:53,838] Trial 17 finished with value: 0.6682671308517456 and parameters: {'hidden_activation': 'relu', 'num_hidden_layers': 2, 'hidden_size': 18, 'num_epochs': 21}. Best is trial 16 with value: 0.6451331377029419.\n",
            "[I 2024-03-19 01:16:21,235] Trial 18 finished with value: 0.7752073258161545 and parameters: {'hidden_activation': 'relu', 'num_hidden_layers': 3, 'hidden_size': 15, 'num_epochs': 12}. Best is trial 16 with value: 0.6451331377029419.\n",
            "[I 2024-03-19 01:16:45,948] Trial 19 finished with value: 0.6481885612010956 and parameters: {'hidden_activation': 'relu', 'num_hidden_layers': 1, 'hidden_size': 19, 'num_epochs': 25}. Best is trial 16 with value: 0.6451331377029419.\n",
            "[I 2024-03-19 01:17:10,832] Trial 20 finished with value: 0.657354861497879 and parameters: {'hidden_activation': 'relu', 'num_hidden_layers': 2, 'hidden_size': 19, 'num_epochs': 23}. Best is trial 16 with value: 0.6451331377029419.\n",
            "[I 2024-03-19 01:17:36,184] Trial 21 finished with value: 0.6398952305316925 and parameters: {'hidden_activation': 'relu', 'num_hidden_layers': 1, 'hidden_size': 18, 'num_epochs': 25}. Best is trial 21 with value: 0.6398952305316925.\n",
            "[I 2024-03-19 01:17:57,580] Trial 22 finished with value: 0.6499345302581787 and parameters: {'hidden_activation': 'relu', 'num_hidden_layers': 1, 'hidden_size': 20, 'num_epochs': 25}. Best is trial 21 with value: 0.6398952305316925.\n",
            "[I 2024-03-19 01:18:17,935] Trial 23 finished with value: 0.6481885612010956 and parameters: {'hidden_activation': 'relu', 'num_hidden_layers': 1, 'hidden_size': 18, 'num_epochs': 25}. Best is trial 21 with value: 0.6398952305316925.\n",
            "[I 2024-03-19 01:18:42,123] Trial 24 finished with value: 0.6534264385700226 and parameters: {'hidden_activation': 'relu', 'num_hidden_layers': 1, 'hidden_size': 18, 'num_epochs': 24}. Best is trial 21 with value: 0.6398952305316925.\n",
            "[I 2024-03-19 01:19:01,945] Trial 25 finished with value: 0.6442601382732391 and parameters: {'hidden_activation': 'relu', 'num_hidden_layers': 1, 'hidden_size': 19, 'num_epochs': 22}. Best is trial 21 with value: 0.6398952305316925.\n",
            "[I 2024-03-19 01:19:24,035] Trial 26 finished with value: 0.6516804993152618 and parameters: {'hidden_activation': 'relu', 'num_hidden_layers': 1, 'hidden_size': 20, 'num_epochs': 22}. Best is trial 21 with value: 0.6398952305316925.\n",
            "[I 2024-03-19 01:19:47,131] Trial 27 finished with value: 0.6442601382732391 and parameters: {'hidden_activation': 'relu', 'num_hidden_layers': 1, 'hidden_size': 16, 'num_epochs': 22}. Best is trial 21 with value: 0.6398952305316925.\n",
            "[I 2024-03-19 01:20:06,667] Trial 28 finished with value: 0.7023133933544159 and parameters: {'hidden_activation': 'relu', 'num_hidden_layers': 2, 'hidden_size': 16, 'num_epochs': 17}. Best is trial 21 with value: 0.6398952305316925.\n",
            "[I 2024-03-19 01:20:29,238] Trial 29 finished with value: 0.6927106082439423 and parameters: {'hidden_activation': 'relu', 'num_hidden_layers': 2, 'hidden_size': 16, 'num_epochs': 21}. Best is trial 21 with value: 0.6398952305316925.\n",
            "[I 2024-03-19 01:20:52,549] Trial 30 finished with value: 0.649061530828476 and parameters: {'hidden_activation': 'relu', 'num_hidden_layers': 1, 'hidden_size': 15, 'num_epochs': 22}. Best is trial 21 with value: 0.6398952305316925.\n",
            "[I 2024-03-19 01:21:17,340] Trial 31 finished with value: 0.6390222609043121 and parameters: {'hidden_activation': 'relu', 'num_hidden_layers': 1, 'hidden_size': 19, 'num_epochs': 24}. Best is trial 31 with value: 0.6390222609043121.\n",
            "[I 2024-03-19 01:21:41,734] Trial 32 finished with value: 0.6525534689426422 and parameters: {'hidden_activation': 'relu', 'num_hidden_layers': 1, 'hidden_size': 18, 'num_epochs': 24}. Best is trial 31 with value: 0.6390222609043121.\n",
            "[I 2024-03-19 01:22:02,280] Trial 33 finished with value: 0.6560454070568085 and parameters: {'hidden_activation': 'relu', 'num_hidden_layers': 1, 'hidden_size': 19, 'num_epochs': 24}. Best is trial 31 with value: 0.6390222609043121.\n",
            "[I 2024-03-19 01:22:18,794] Trial 34 finished with value: 0.6577913463115692 and parameters: {'hidden_activation': 'relu', 'num_hidden_layers': 1, 'hidden_size': 18, 'num_epochs': 20}. Best is trial 31 with value: 0.6390222609043121.\n",
            "[I 2024-03-19 01:22:41,328] Trial 35 finished with value: 0.6508074998855591 and parameters: {'hidden_activation': 'relu', 'num_hidden_layers': 1, 'hidden_size': 13, 'num_epochs': 22}. Best is trial 31 with value: 0.6390222609043121.\n",
            "[I 2024-03-19 01:22:57,995] Trial 36 finished with value: 0.6652117073535919 and parameters: {'hidden_activation': 'relu', 'num_hidden_layers': 1, 'hidden_size': 16, 'num_epochs': 19}. Best is trial 31 with value: 0.6390222609043121.\n",
            "[I 2024-03-19 01:23:10,965] Trial 37 finished with value: 0.6599738001823425 and parameters: {'hidden_activation': 'relu', 'num_hidden_layers': 1, 'hidden_size': 19, 'num_epochs': 13}. Best is trial 31 with value: 0.6390222609043121.\n",
            "[I 2024-03-19 01:23:36,459] Trial 38 finished with value: 0.6647751927375793 and parameters: {'hidden_activation': 'relu', 'num_hidden_layers': 2, 'hidden_size': 17, 'num_epochs': 24}. Best is trial 31 with value: 0.6390222609043121.\n",
            "[I 2024-03-19 01:23:58,545] Trial 39 finished with value: 0.6612832844257355 and parameters: {'hidden_activation': 'relu', 'num_hidden_layers': 1, 'hidden_size': 14, 'num_epochs': 20}. Best is trial 31 with value: 0.6390222609043121.\n",
            "[I 2024-03-19 01:24:19,816] Trial 40 finished with value: 0.7420340478420258 and parameters: {'hidden_activation': 'sigmoid', 'num_hidden_layers': 2, 'hidden_size': 15, 'num_epochs': 21}. Best is trial 31 with value: 0.6390222609043121.\n",
            "[I 2024-03-19 01:24:40,045] Trial 41 finished with value: 0.6529899537563324 and parameters: {'hidden_activation': 'relu', 'num_hidden_layers': 1, 'hidden_size': 20, 'num_epochs': 23}. Best is trial 31 with value: 0.6390222609043121.\n",
            "[I 2024-03-19 01:25:03,567] Trial 42 finished with value: 0.6512439846992493 and parameters: {'hidden_activation': 'relu', 'num_hidden_layers': 1, 'hidden_size': 19, 'num_epochs': 23}. Best is trial 31 with value: 0.6390222609043121.\n",
            "[I 2024-03-19 01:25:22,366] Trial 43 finished with value: 0.6359668374061584 and parameters: {'hidden_activation': 'relu', 'num_hidden_layers': 1, 'hidden_size': 20, 'num_epochs': 25}. Best is trial 43 with value: 0.6359668374061584.\n",
            "[I 2024-03-19 01:25:46,491] Trial 44 finished with value: 0.657354861497879 and parameters: {'hidden_activation': 'relu', 'num_hidden_layers': 1, 'hidden_size': 18, 'num_epochs': 25}. Best is trial 43 with value: 0.6359668374061584.\n",
            "[I 2024-03-19 01:26:12,743] Trial 45 finished with value: 0.6547359228134155 and parameters: {'hidden_activation': 'relu', 'num_hidden_layers': 1, 'hidden_size': 19, 'num_epochs': 24}. Best is trial 43 with value: 0.6359668374061584.\n",
            "[I 2024-03-19 01:26:35,101] Trial 46 finished with value: 0.6429506838321686 and parameters: {'hidden_activation': 'relu', 'num_hidden_layers': 1, 'hidden_size': 17, 'num_epochs': 25}. Best is trial 43 with value: 0.6359668374061584.\n",
            "[I 2024-03-19 01:26:54,472] Trial 47 finished with value: 0.6713225543498993 and parameters: {'hidden_activation': 'sigmoid', 'num_hidden_layers': 1, 'hidden_size': 17, 'num_epochs': 25}. Best is trial 43 with value: 0.6359668374061584.\n",
            "[I 2024-03-19 01:27:24,878] Trial 48 finished with value: 0.6940200924873352 and parameters: {'hidden_activation': 'relu', 'num_hidden_layers': 3, 'hidden_size': 20, 'num_epochs': 25}. Best is trial 43 with value: 0.6359668374061584.\n",
            "[I 2024-03-19 01:27:44,785] Trial 49 finished with value: 0.6416411995887756 and parameters: {'hidden_activation': 'relu', 'num_hidden_layers': 1, 'hidden_size': 18, 'num_epochs': 24}. Best is trial 43 with value: 0.6359668374061584.\n",
            "[I 2024-03-19 01:28:06,079] Trial 50 finished with value: 0.6660846769809723 and parameters: {'hidden_activation': 'sigmoid', 'num_hidden_layers': 1, 'hidden_size': 18, 'num_epochs': 24}. Best is trial 43 with value: 0.6359668374061584.\n",
            "[I 2024-03-19 01:28:29,943] Trial 51 finished with value: 0.652116984128952 and parameters: {'hidden_activation': 'relu', 'num_hidden_layers': 1, 'hidden_size': 19, 'num_epochs': 24}. Best is trial 43 with value: 0.6359668374061584.\n",
            "[I 2024-03-19 01:28:52,116] Trial 52 finished with value: 0.6534264385700226 and parameters: {'hidden_activation': 'relu', 'num_hidden_layers': 1, 'hidden_size': 17, 'num_epochs': 25}. Best is trial 43 with value: 0.6359668374061584.\n",
            "[I 2024-03-19 01:29:10,822] Trial 53 finished with value: 0.6499345302581787 and parameters: {'hidden_activation': 'relu', 'num_hidden_layers': 1, 'hidden_size': 20, 'num_epochs': 23}. Best is trial 43 with value: 0.6359668374061584.\n",
            "[I 2024-03-19 01:29:29,194] Trial 54 finished with value: 0.663902223110199 and parameters: {'hidden_activation': 'relu', 'num_hidden_layers': 1, 'hidden_size': 18, 'num_epochs': 15}. Best is trial 43 with value: 0.6359668374061584.\n",
            "[I 2024-03-19 01:29:54,369] Trial 55 finished with value: 0.6494980454444885 and parameters: {'hidden_activation': 'relu', 'num_hidden_layers': 1, 'hidden_size': 17, 'num_epochs': 25}. Best is trial 43 with value: 0.6359668374061584.\n",
            "[I 2024-03-19 01:30:13,833] Trial 56 finished with value: 0.6529899537563324 and parameters: {'hidden_activation': 'relu', 'num_hidden_layers': 1, 'hidden_size': 19, 'num_epochs': 23}. Best is trial 43 with value: 0.6359668374061584.\n",
            "[I 2024-03-19 01:30:32,919] Trial 57 finished with value: 0.6455696225166321 and parameters: {'hidden_activation': 'relu', 'num_hidden_layers': 1, 'hidden_size': 19, 'num_epochs': 24}. Best is trial 43 with value: 0.6359668374061584.\n",
            "[I 2024-03-19 01:30:54,000] Trial 58 finished with value: 0.6503710150718689 and parameters: {'hidden_activation': 'relu', 'num_hidden_layers': 1, 'hidden_size': 18, 'num_epochs': 25}. Best is trial 43 with value: 0.6359668374061584.\n",
            "[I 2024-03-19 01:31:16,588] Trial 59 finished with value: 0.7123526930809021 and parameters: {'hidden_activation': 'sigmoid', 'num_hidden_layers': 2, 'hidden_size': 20, 'num_epochs': 23}. Best is trial 43 with value: 0.6359668374061584.\n",
            "[I 2024-03-19 01:31:34,066] Trial 60 finished with value: 0.6503710150718689 and parameters: {'hidden_activation': 'relu', 'num_hidden_layers': 1, 'hidden_size': 19, 'num_epochs': 21}. Best is trial 43 with value: 0.6359668374061584.\n",
            "[I 2024-03-19 01:31:55,752] Trial 61 finished with value: 0.6503710150718689 and parameters: {'hidden_activation': 'relu', 'num_hidden_layers': 1, 'hidden_size': 16, 'num_epochs': 18}. Best is trial 43 with value: 0.6359668374061584.\n",
            "[I 2024-03-19 01:32:17,560] Trial 62 finished with value: 0.6525534689426422 and parameters: {'hidden_activation': 'relu', 'num_hidden_layers': 1, 'hidden_size': 17, 'num_epochs': 22}. Best is trial 43 with value: 0.6359668374061584.\n",
            "[I 2024-03-19 01:32:37,916] Trial 63 finished with value: 0.6464425921440125 and parameters: {'hidden_activation': 'relu', 'num_hidden_layers': 1, 'hidden_size': 18, 'num_epochs': 24}. Best is trial 43 with value: 0.6359668374061584.\n",
            "[I 2024-03-19 01:33:00,831] Trial 64 finished with value: 0.646879106760025 and parameters: {'hidden_activation': 'relu', 'num_hidden_layers': 1, 'hidden_size': 16, 'num_epochs': 22}. Best is trial 43 with value: 0.6359668374061584.\n",
            "[I 2024-03-19 01:33:20,522] Trial 65 finished with value: 0.6569183766841888 and parameters: {'hidden_activation': 'relu', 'num_hidden_layers': 1, 'hidden_size': 17, 'num_epochs': 24}. Best is trial 43 with value: 0.6359668374061584.\n",
            "[I 2024-03-19 01:33:41,933] Trial 66 finished with value: 0.646879106760025 and parameters: {'hidden_activation': 'relu', 'num_hidden_layers': 1, 'hidden_size': 18, 'num_epochs': 25}. Best is trial 43 with value: 0.6359668374061584.\n",
            "[I 2024-03-19 01:33:57,613] Trial 67 finished with value: 0.6896551847457886 and parameters: {'hidden_activation': 'relu', 'num_hidden_layers': 1, 'hidden_size': 17, 'num_epochs': 10}. Best is trial 43 with value: 0.6359668374061584.\n",
            "[I 2024-03-19 01:34:21,225] Trial 68 finished with value: 0.6547359228134155 and parameters: {'hidden_activation': 'relu', 'num_hidden_layers': 1, 'hidden_size': 10, 'num_epochs': 23}. Best is trial 43 with value: 0.6359668374061584.\n",
            "[I 2024-03-19 01:34:41,540] Trial 69 finished with value: 0.6577913463115692 and parameters: {'hidden_activation': 'relu', 'num_hidden_layers': 1, 'hidden_size': 16, 'num_epochs': 21}. Best is trial 43 with value: 0.6359668374061584.\n",
            "[I 2024-03-19 01:35:06,152] Trial 70 finished with value: 0.6311654150485992 and parameters: {'hidden_activation': 'relu', 'num_hidden_layers': 1, 'hidden_size': 20, 'num_epochs': 24}. Best is trial 70 with value: 0.6311654150485992.\n",
            "[I 2024-03-19 01:35:25,492] Trial 71 finished with value: 0.6542994379997253 and parameters: {'hidden_activation': 'relu', 'num_hidden_layers': 1, 'hidden_size': 20, 'num_epochs': 24}. Best is trial 70 with value: 0.6311654150485992.\n",
            "[I 2024-03-19 01:35:45,171] Trial 72 finished with value: 0.6547359228134155 and parameters: {'hidden_activation': 'relu', 'num_hidden_layers': 1, 'hidden_size': 20, 'num_epochs': 16}. Best is trial 70 with value: 0.6311654150485992.\n",
            "[I 2024-03-19 01:36:05,843] Trial 73 finished with value: 0.6394587457180023 and parameters: {'hidden_activation': 'relu', 'num_hidden_layers': 1, 'hidden_size': 19, 'num_epochs': 25}. Best is trial 70 with value: 0.6311654150485992.\n",
            "[I 2024-03-19 01:36:28,761] Trial 74 finished with value: 0.6394587457180023 and parameters: {'hidden_activation': 'relu', 'num_hidden_layers': 1, 'hidden_size': 19, 'num_epochs': 25}. Best is trial 70 with value: 0.6311654150485992.\n",
            "[I 2024-03-19 01:36:48,423] Trial 75 finished with value: 0.652116984128952 and parameters: {'hidden_activation': 'relu', 'num_hidden_layers': 1, 'hidden_size': 19, 'num_epochs': 25}. Best is trial 70 with value: 0.6311654150485992.\n",
            "[I 2024-03-19 01:37:08,289] Trial 76 finished with value: 0.6591008305549622 and parameters: {'hidden_activation': 'relu', 'num_hidden_layers': 1, 'hidden_size': 20, 'num_epochs': 25}. Best is trial 70 with value: 0.6311654150485992.\n",
            "[I 2024-03-19 01:37:33,320] Trial 77 finished with value: 0.6713225543498993 and parameters: {'hidden_activation': 'sigmoid', 'num_hidden_layers': 1, 'hidden_size': 19, 'num_epochs': 24}. Best is trial 70 with value: 0.6311654150485992.\n",
            "[I 2024-03-19 01:37:59,138] Trial 78 finished with value: 0.6599738001823425 and parameters: {'hidden_activation': 'relu', 'num_hidden_layers': 2, 'hidden_size': 20, 'num_epochs': 25}. Best is trial 70 with value: 0.6311654150485992.\n",
            "[I 2024-03-19 01:38:28,850] Trial 79 finished with value: 0.6852902770042419 and parameters: {'hidden_activation': 'relu', 'num_hidden_layers': 3, 'hidden_size': 19, 'num_epochs': 25}. Best is trial 70 with value: 0.6311654150485992.\n",
            "[I 2024-03-19 01:38:55,218] Trial 80 finished with value: 0.6647751927375793 and parameters: {'hidden_activation': 'relu', 'num_hidden_layers': 1, 'hidden_size': 12, 'num_epochs': 24}. Best is trial 70 with value: 0.6311654150485992.\n",
            "[I 2024-03-19 01:39:17,992] Trial 81 finished with value: 0.6556088924407959 and parameters: {'hidden_activation': 'relu', 'num_hidden_layers': 1, 'hidden_size': 18, 'num_epochs': 23}. Best is trial 70 with value: 0.6311654150485992.\n",
            "[I 2024-03-19 01:39:42,613] Trial 82 finished with value: 0.6494980454444885 and parameters: {'hidden_activation': 'relu', 'num_hidden_layers': 1, 'hidden_size': 19, 'num_epochs': 24}. Best is trial 70 with value: 0.6311654150485992.\n",
            "[I 2024-03-19 01:40:04,855] Trial 83 finished with value: 0.6455696225166321 and parameters: {'hidden_activation': 'relu', 'num_hidden_layers': 1, 'hidden_size': 19, 'num_epochs': 25}. Best is trial 70 with value: 0.6311654150485992.\n",
            "[I 2024-03-19 01:40:25,469] Trial 84 finished with value: 0.6460061073303223 and parameters: {'hidden_activation': 'relu', 'num_hidden_layers': 1, 'hidden_size': 20, 'num_epochs': 24}. Best is trial 70 with value: 0.6311654150485992.\n",
            "[I 2024-03-19 01:40:46,171] Trial 85 finished with value: 0.6477520763874054 and parameters: {'hidden_activation': 'relu', 'num_hidden_layers': 1, 'hidden_size': 18, 'num_epochs': 25}. Best is trial 70 with value: 0.6311654150485992.\n",
            "[I 2024-03-19 01:41:01,890] Trial 86 finished with value: 0.6730685234069824 and parameters: {'hidden_activation': 'relu', 'num_hidden_layers': 1, 'hidden_size': 20, 'num_epochs': 11}. Best is trial 70 with value: 0.6311654150485992.\n",
            "[I 2024-03-19 01:41:25,584] Trial 87 finished with value: 0.6416411995887756 and parameters: {'hidden_activation': 'relu', 'num_hidden_layers': 1, 'hidden_size': 18, 'num_epochs': 23}. Best is trial 70 with value: 0.6311654150485992.\n",
            "[I 2024-03-19 01:41:46,650] Trial 88 finished with value: 0.657354861497879 and parameters: {'hidden_activation': 'relu', 'num_hidden_layers': 1, 'hidden_size': 18, 'num_epochs': 23}. Best is trial 70 with value: 0.6311654150485992.\n",
            "[I 2024-03-19 01:42:05,459] Trial 89 finished with value: 0.6769969463348389 and parameters: {'hidden_activation': 'sigmoid', 'num_hidden_layers': 1, 'hidden_size': 18, 'num_epochs': 25}. Best is trial 70 with value: 0.6311654150485992.\n",
            "[I 2024-03-19 01:42:30,058] Trial 90 finished with value: 0.6564818918704987 and parameters: {'hidden_activation': 'relu', 'num_hidden_layers': 1, 'hidden_size': 19, 'num_epochs': 24}. Best is trial 70 with value: 0.6311654150485992.\n",
            "[I 2024-03-19 01:42:55,556] Trial 91 finished with value: 0.6420776844024658 and parameters: {'hidden_activation': 'relu', 'num_hidden_layers': 1, 'hidden_size': 19, 'num_epochs': 23}. Best is trial 70 with value: 0.6311654150485992.\n",
            "[I 2024-03-19 01:43:14,403] Trial 92 finished with value: 0.6407682299613953 and parameters: {'hidden_activation': 'relu', 'num_hidden_layers': 1, 'hidden_size': 18, 'num_epochs': 23}. Best is trial 70 with value: 0.6311654150485992.\n",
            "[I 2024-03-19 01:43:33,721] Trial 93 finished with value: 0.6486250460147858 and parameters: {'hidden_activation': 'relu', 'num_hidden_layers': 1, 'hidden_size': 18, 'num_epochs': 23}. Best is trial 70 with value: 0.6311654150485992.\n",
            "[I 2024-03-19 01:43:58,509] Trial 94 finished with value: 0.6512439846992493 and parameters: {'hidden_activation': 'relu', 'num_hidden_layers': 1, 'hidden_size': 19, 'num_epochs': 23}. Best is trial 70 with value: 0.6311654150485992.\n",
            "[I 2024-03-19 01:44:16,386] Trial 95 finished with value: 0.6416411995887756 and parameters: {'hidden_activation': 'relu', 'num_hidden_layers': 1, 'hidden_size': 19, 'num_epochs': 22}. Best is trial 70 with value: 0.6311654150485992.\n",
            "[I 2024-03-19 01:44:39,223] Trial 96 finished with value: 0.6582278609275818 and parameters: {'hidden_activation': 'relu', 'num_hidden_layers': 1, 'hidden_size': 20, 'num_epochs': 22}. Best is trial 70 with value: 0.6311654150485992.\n",
            "[I 2024-03-19 01:45:04,350] Trial 97 finished with value: 0.658664345741272 and parameters: {'hidden_activation': 'relu', 'num_hidden_layers': 1, 'hidden_size': 19, 'num_epochs': 24}. Best is trial 70 with value: 0.6311654150485992.\n",
            "[I 2024-03-19 01:45:25,267] Trial 98 finished with value: 0.652116984128952 and parameters: {'hidden_activation': 'relu', 'num_hidden_layers': 1, 'hidden_size': 18, 'num_epochs': 24}. Best is trial 70 with value: 0.6311654150485992.\n",
            "[I 2024-03-19 01:45:46,242] Trial 99 finished with value: 0.646879106760025 and parameters: {'hidden_activation': 'relu', 'num_hidden_layers': 1, 'hidden_size': 20, 'num_epochs': 23}. Best is trial 70 with value: 0.6311654150485992.\n"
          ]
        }
      ]
    },
    {
      "cell_type": "code",
      "source": [
        "print(hsnn_experiment.best_trial.params)\n",
        "print(hsnn_experiment.best_trial.user_attrs)\n",
        "print(f\"Validation Acc: {1 - hsnn_experiment.best_trial.values[0]}\")\n"
      ],
      "metadata": {
        "colab": {
          "base_uri": "https://localhost:8080/"
        },
        "id": "kHQ93ohm7TPh",
        "outputId": "5d9b50be-2cbd-4020-ff62-2c9c0710362a"
      },
      "execution_count": null,
      "outputs": [
        {
          "output_type": "stream",
          "name": "stdout",
          "text": [
            "{'hidden_activation': 'relu', 'num_hidden_layers': 1, 'hidden_size': 20, 'num_epochs': 24}\n",
            "{'hidden_layer_dims': [20]}\n",
            "Validation Acc: 0.36883458495140076\n"
          ]
        }
      ]
    },
    {
      "cell_type": "code",
      "source": [
        "nrnn_experiment = optuna.create_study(study_name=\"NRNN_Experiment\")\n",
        "nrnn_experiment.optimize(objectiveNR, n_trials=100)"
      ],
      "metadata": {
        "colab": {
          "base_uri": "https://localhost:8080/"
        },
        "id": "l5MDdQB7JriW",
        "outputId": "856cd6d0-bf55-4a75-bd58-ce8d3ad9036a"
      },
      "execution_count": null,
      "outputs": [
        {
          "output_type": "stream",
          "name": "stderr",
          "text": [
            "[I 2024-03-19 01:51:37,291] A new study created in memory with name: NRNN_Experiment\n",
            "[I 2024-03-19 01:51:56,662] Trial 0 finished with value: 0.579617828130722 and parameters: {'hidden_activation': 'relu', 'num_hidden_layers': 2, 'hidden_size': 12, 'num_epochs': 14}. Best is trial 0 with value: 0.579617828130722.\n",
            "[I 2024-03-19 01:52:26,593] Trial 1 finished with value: 0.7659235596656799 and parameters: {'hidden_activation': 'sigmoid', 'num_hidden_layers': 3, 'hidden_size': 20, 'num_epochs': 25}. Best is trial 0 with value: 0.579617828130722.\n",
            "[I 2024-03-19 01:52:41,442] Trial 2 finished with value: 0.6815286576747894 and parameters: {'hidden_activation': 'sigmoid', 'num_hidden_layers': 2, 'hidden_size': 20, 'num_epochs': 16}. Best is trial 0 with value: 0.579617828130722.\n",
            "[I 2024-03-19 01:53:06,229] Trial 3 finished with value: 0.5971337556838989 and parameters: {'hidden_activation': 'sigmoid', 'num_hidden_layers': 1, 'hidden_size': 13, 'num_epochs': 16}. Best is trial 0 with value: 0.579617828130722.\n",
            "[I 2024-03-19 01:53:29,751] Trial 4 finished with value: 0.6289809048175812 and parameters: {'hidden_activation': 'sigmoid', 'num_hidden_layers': 1, 'hidden_size': 18, 'num_epochs': 13}. Best is trial 0 with value: 0.579617828130722.\n",
            "[I 2024-03-19 01:53:55,264] Trial 5 finished with value: 0.5350318551063538 and parameters: {'hidden_activation': 'relu', 'num_hidden_layers': 1, 'hidden_size': 14, 'num_epochs': 19}. Best is trial 5 with value: 0.5350318551063538.\n",
            "[I 2024-03-19 01:54:20,366] Trial 6 finished with value: 0.8837579637765884 and parameters: {'hidden_activation': 'sigmoid', 'num_hidden_layers': 3, 'hidden_size': 13, 'num_epochs': 15}. Best is trial 5 with value: 0.5350318551063538.\n",
            "[I 2024-03-19 01:54:33,795] Trial 7 finished with value: 0.6656050980091095 and parameters: {'hidden_activation': 'sigmoid', 'num_hidden_layers': 2, 'hidden_size': 18, 'num_epochs': 10}. Best is trial 5 with value: 0.5350318551063538.\n",
            "[I 2024-03-19 01:54:48,130] Trial 8 finished with value: 0.5748407542705536 and parameters: {'hidden_activation': 'relu', 'num_hidden_layers': 2, 'hidden_size': 18, 'num_epochs': 15}. Best is trial 5 with value: 0.5350318551063538.\n",
            "[I 2024-03-19 01:55:14,185] Trial 9 finished with value: 0.6162420511245728 and parameters: {'hidden_activation': 'relu', 'num_hidden_layers': 3, 'hidden_size': 16, 'num_epochs': 20}. Best is trial 5 with value: 0.5350318551063538.\n",
            "[I 2024-03-19 01:55:32,304] Trial 10 finished with value: 0.6019108295440674 and parameters: {'hidden_activation': 'relu', 'num_hidden_layers': 1, 'hidden_size': 10, 'num_epochs': 20}. Best is trial 5 with value: 0.5350318551063538.\n",
            "[I 2024-03-19 01:55:48,364] Trial 11 finished with value: 0.5493630468845367 and parameters: {'hidden_activation': 'relu', 'num_hidden_layers': 1, 'hidden_size': 16, 'num_epochs': 20}. Best is trial 5 with value: 0.5350318551063538.\n",
            "[I 2024-03-19 01:56:05,520] Trial 12 finished with value: 0.5509554147720337 and parameters: {'hidden_activation': 'relu', 'num_hidden_layers': 1, 'hidden_size': 15, 'num_epochs': 20}. Best is trial 5 with value: 0.5350318551063538.\n",
            "[I 2024-03-19 01:56:16,358] Trial 13 finished with value: 0.5652866363525391 and parameters: {'hidden_activation': 'relu', 'num_hidden_layers': 1, 'hidden_size': 15, 'num_epochs': 23}. Best is trial 5 with value: 0.5350318551063538.\n",
            "[I 2024-03-19 01:56:27,060] Trial 14 finished with value: 0.5222930014133453 and parameters: {'hidden_activation': 'relu', 'num_hidden_layers': 1, 'hidden_size': 16, 'num_epochs': 19}. Best is trial 14 with value: 0.5222930014133453.\n",
            "[I 2024-03-19 01:56:42,568] Trial 15 finished with value: 0.5923566818237305 and parameters: {'hidden_activation': 'relu', 'num_hidden_layers': 2, 'hidden_size': 14, 'num_epochs': 18}. Best is trial 14 with value: 0.5222930014133453.\n",
            "[I 2024-03-19 01:57:03,827] Trial 16 finished with value: 0.6003184616565704 and parameters: {'hidden_activation': 'relu', 'num_hidden_layers': 1, 'hidden_size': 11, 'num_epochs': 22}. Best is trial 14 with value: 0.5222930014133453.\n",
            "[I 2024-03-19 01:57:29,081] Trial 17 finished with value: 0.5461783409118652 and parameters: {'hidden_activation': 'relu', 'num_hidden_layers': 1, 'hidden_size': 17, 'num_epochs': 18}. Best is trial 14 with value: 0.5222930014133453.\n",
            "[I 2024-03-19 01:57:40,626] Trial 18 finished with value: 0.5589171946048737 and parameters: {'hidden_activation': 'relu', 'num_hidden_layers': 1, 'hidden_size': 14, 'num_epochs': 22}. Best is trial 14 with value: 0.5222930014133453.\n",
            "[I 2024-03-19 01:57:53,936] Trial 19 finished with value: 0.6003184616565704 and parameters: {'hidden_activation': 'relu', 'num_hidden_layers': 2, 'hidden_size': 16, 'num_epochs': 12}. Best is trial 14 with value: 0.5222930014133453.\n",
            "[I 2024-03-19 01:58:09,146] Trial 20 finished with value: 0.6114649772644043 and parameters: {'hidden_activation': 'relu', 'num_hidden_layers': 2, 'hidden_size': 12, 'num_epochs': 18}. Best is trial 14 with value: 0.5222930014133453.\n",
            "[I 2024-03-19 01:58:19,895] Trial 21 finished with value: 0.5429936349391937 and parameters: {'hidden_activation': 'relu', 'num_hidden_layers': 1, 'hidden_size': 17, 'num_epochs': 18}. Best is trial 14 with value: 0.5222930014133453.\n",
            "[I 2024-03-19 01:58:34,181] Trial 22 finished with value: 0.5605095624923706 and parameters: {'hidden_activation': 'relu', 'num_hidden_layers': 1, 'hidden_size': 17, 'num_epochs': 17}. Best is trial 14 with value: 0.5222930014133453.\n",
            "[I 2024-03-19 01:58:49,359] Trial 23 finished with value: 0.5222930014133453 and parameters: {'hidden_activation': 'relu', 'num_hidden_layers': 1, 'hidden_size': 15, 'num_epochs': 19}. Best is trial 14 with value: 0.5222930014133453.\n",
            "[I 2024-03-19 01:59:01,099] Trial 24 finished with value: 0.5509554147720337 and parameters: {'hidden_activation': 'relu', 'num_hidden_layers': 1, 'hidden_size': 14, 'num_epochs': 21}. Best is trial 14 with value: 0.5222930014133453.\n",
            "[I 2024-03-19 01:59:12,607] Trial 25 finished with value: 0.5398089289665222 and parameters: {'hidden_activation': 'relu', 'num_hidden_layers': 1, 'hidden_size': 15, 'num_epochs': 24}. Best is trial 14 with value: 0.5222930014133453.\n",
            "[I 2024-03-19 01:59:24,330] Trial 26 finished with value: 0.5318471193313599 and parameters: {'hidden_activation': 'relu', 'num_hidden_layers': 1, 'hidden_size': 13, 'num_epochs': 19}. Best is trial 14 with value: 0.5222930014133453.\n",
            "[I 2024-03-19 01:59:38,124] Trial 27 finished with value: 0.5780254900455475 and parameters: {'hidden_activation': 'relu', 'num_hidden_layers': 2, 'hidden_size': 12, 'num_epochs': 22}. Best is trial 14 with value: 0.5222930014133453.\n",
            "[I 2024-03-19 01:59:52,903] Trial 28 finished with value: 0.5525477826595306 and parameters: {'hidden_activation': 'relu', 'num_hidden_layers': 1, 'hidden_size': 13, 'num_epochs': 19}. Best is trial 14 with value: 0.5222930014133453.\n",
            "[I 2024-03-19 02:00:18,260] Trial 29 finished with value: 0.5859872698783875 and parameters: {'hidden_activation': 'relu', 'num_hidden_layers': 2, 'hidden_size': 11, 'num_epochs': 17}. Best is trial 14 with value: 0.5222930014133453.\n",
            "[I 2024-03-19 02:00:40,699] Trial 30 finished with value: 0.5541401207447052 and parameters: {'hidden_activation': 'relu', 'num_hidden_layers': 1, 'hidden_size': 19, 'num_epochs': 21}. Best is trial 14 with value: 0.5222930014133453.\n",
            "[I 2024-03-19 02:00:51,568] Trial 31 finished with value: 0.5636942684650421 and parameters: {'hidden_activation': 'relu', 'num_hidden_layers': 1, 'hidden_size': 14, 'num_epochs': 19}. Best is trial 14 with value: 0.5222930014133453.\n",
            "[I 2024-03-19 02:01:01,782] Trial 32 finished with value: 0.5780254900455475 and parameters: {'hidden_activation': 'relu', 'num_hidden_layers': 1, 'hidden_size': 13, 'num_epochs': 19}. Best is trial 14 with value: 0.5222930014133453.\n",
            "[I 2024-03-19 02:01:12,103] Trial 33 finished with value: 0.5509554147720337 and parameters: {'hidden_activation': 'relu', 'num_hidden_layers': 1, 'hidden_size': 15, 'num_epochs': 21}. Best is trial 14 with value: 0.5222930014133453.\n",
            "[I 2024-03-19 02:01:26,414] Trial 34 finished with value: 0.6066879034042358 and parameters: {'hidden_activation': 'sigmoid', 'num_hidden_layers': 1, 'hidden_size': 16, 'num_epochs': 16}. Best is trial 14 with value: 0.5222930014133453.\n",
            "[I 2024-03-19 02:01:39,756] Trial 35 finished with value: 0.5605095624923706 and parameters: {'hidden_activation': 'sigmoid', 'num_hidden_layers': 1, 'hidden_size': 14, 'num_epochs': 25}. Best is trial 14 with value: 0.5222930014133453.\n",
            "[I 2024-03-19 02:01:54,082] Trial 36 finished with value: 0.573248416185379 and parameters: {'hidden_activation': 'relu', 'num_hidden_layers': 1, 'hidden_size': 13, 'num_epochs': 17}. Best is trial 14 with value: 0.5222930014133453.\n",
            "[I 2024-03-19 02:02:21,411] Trial 37 finished with value: 0.7643312066793442 and parameters: {'hidden_activation': 'sigmoid', 'num_hidden_layers': 3, 'hidden_size': 12, 'num_epochs': 19}. Best is trial 14 with value: 0.5222930014133453.\n",
            "[I 2024-03-19 02:02:37,035] Trial 38 finished with value: 0.6019108295440674 and parameters: {'hidden_activation': 'relu', 'num_hidden_layers': 2, 'hidden_size': 14, 'num_epochs': 16}. Best is trial 14 with value: 0.5222930014133453.\n",
            "[I 2024-03-19 02:02:51,143] Trial 39 finished with value: 0.6114649772644043 and parameters: {'hidden_activation': 'sigmoid', 'num_hidden_layers': 1, 'hidden_size': 15, 'num_epochs': 14}. Best is trial 14 with value: 0.5222930014133453.\n",
            "[I 2024-03-19 02:03:01,542] Trial 40 finished with value: 0.5684713423252106 and parameters: {'hidden_activation': 'relu', 'num_hidden_layers': 1, 'hidden_size': 16, 'num_epochs': 15}. Best is trial 14 with value: 0.5222930014133453.\n",
            "[I 2024-03-19 02:03:12,729] Trial 41 finished with value: 0.5541401207447052 and parameters: {'hidden_activation': 'relu', 'num_hidden_layers': 1, 'hidden_size': 15, 'num_epochs': 24}. Best is trial 14 with value: 0.5222930014133453.\n",
            "[I 2024-03-19 02:03:23,343] Trial 42 finished with value: 0.5302547812461853 and parameters: {'hidden_activation': 'relu', 'num_hidden_layers': 1, 'hidden_size': 17, 'num_epochs': 24}. Best is trial 14 with value: 0.5222930014133453.\n",
            "[I 2024-03-19 02:03:39,504] Trial 43 finished with value: 0.5254777073860168 and parameters: {'hidden_activation': 'relu', 'num_hidden_layers': 1, 'hidden_size': 19, 'num_epochs': 23}. Best is trial 14 with value: 0.5222930014133453.\n",
            "[I 2024-03-19 02:03:51,468] Trial 44 finished with value: 0.5286624133586884 and parameters: {'hidden_activation': 'relu', 'num_hidden_layers': 1, 'hidden_size': 20, 'num_epochs': 24}. Best is trial 14 with value: 0.5222930014133453.\n",
            "[I 2024-03-19 02:04:03,682] Trial 45 finished with value: 0.5398089289665222 and parameters: {'hidden_activation': 'relu', 'num_hidden_layers': 1, 'hidden_size': 20, 'num_epochs': 24}. Best is trial 14 with value: 0.5222930014133453.\n",
            "[I 2024-03-19 02:04:19,169] Trial 46 finished with value: 0.5859872698783875 and parameters: {'hidden_activation': 'relu', 'num_hidden_layers': 2, 'hidden_size': 19, 'num_epochs': 23}. Best is trial 14 with value: 0.5222930014133453.\n",
            "[I 2024-03-19 02:04:31,012] Trial 47 finished with value: 0.5254777073860168 and parameters: {'hidden_activation': 'relu', 'num_hidden_layers': 1, 'hidden_size': 19, 'num_epochs': 25}. Best is trial 14 with value: 0.5222930014133453.\n",
            "[I 2024-03-19 02:04:42,999] Trial 48 finished with value: 0.5509554147720337 and parameters: {'hidden_activation': 'sigmoid', 'num_hidden_layers': 1, 'hidden_size': 19, 'num_epochs': 25}. Best is trial 14 with value: 0.5222930014133453.\n",
            "[I 2024-03-19 02:04:54,639] Trial 49 finished with value: 0.5605095624923706 and parameters: {'hidden_activation': 'relu', 'num_hidden_layers': 1, 'hidden_size': 20, 'num_epochs': 23}. Best is trial 14 with value: 0.5222930014133453.\n",
            "[I 2024-03-19 02:05:15,061] Trial 50 finished with value: 0.587579607963562 and parameters: {'hidden_activation': 'relu', 'num_hidden_layers': 3, 'hidden_size': 18, 'num_epochs': 25}. Best is trial 14 with value: 0.5222930014133453.\n",
            "[I 2024-03-19 02:05:27,124] Trial 51 finished with value: 0.5302547812461853 and parameters: {'hidden_activation': 'relu', 'num_hidden_layers': 1, 'hidden_size': 19, 'num_epochs': 24}. Best is trial 14 with value: 0.5222930014133453.\n",
            "[I 2024-03-19 02:05:42,736] Trial 52 finished with value: 0.5557324886322021 and parameters: {'hidden_activation': 'relu', 'num_hidden_layers': 1, 'hidden_size': 18, 'num_epochs': 23}. Best is trial 14 with value: 0.5222930014133453.\n",
            "[I 2024-03-19 02:05:55,861] Trial 53 finished with value: 0.5429936349391937 and parameters: {'hidden_activation': 'relu', 'num_hidden_layers': 1, 'hidden_size': 20, 'num_epochs': 24}. Best is trial 14 with value: 0.5222930014133453.\n",
            "[I 2024-03-19 02:06:07,746] Trial 54 finished with value: 0.5429936349391937 and parameters: {'hidden_activation': 'relu', 'num_hidden_layers': 1, 'hidden_size': 17, 'num_epochs': 22}. Best is trial 14 with value: 0.5222930014133453.\n",
            "[I 2024-03-19 02:06:25,015] Trial 55 finished with value: 0.5461783409118652 and parameters: {'hidden_activation': 'relu', 'num_hidden_layers': 1, 'hidden_size': 19, 'num_epochs': 25}. Best is trial 14 with value: 0.5222930014133453.\n",
            "[I 2024-03-19 02:06:41,857] Trial 56 finished with value: 0.5254777073860168 and parameters: {'hidden_activation': 'relu', 'num_hidden_layers': 1, 'hidden_size': 18, 'num_epochs': 23}. Best is trial 14 with value: 0.5222930014133453.\n",
            "[I 2024-03-19 02:06:58,043] Trial 57 finished with value: 0.5573248267173767 and parameters: {'hidden_activation': 'relu', 'num_hidden_layers': 2, 'hidden_size': 18, 'num_epochs': 23}. Best is trial 14 with value: 0.5222930014133453.\n",
            "[I 2024-03-19 02:07:08,548] Trial 58 finished with value: 0.5318471193313599 and parameters: {'hidden_activation': 'relu', 'num_hidden_layers': 1, 'hidden_size': 20, 'num_epochs': 21}. Best is trial 14 with value: 0.5222930014133453.\n",
            "[I 2024-03-19 02:07:19,162] Trial 59 finished with value: 0.5398089289665222 and parameters: {'hidden_activation': 'relu', 'num_hidden_layers': 1, 'hidden_size': 19, 'num_epochs': 22}. Best is trial 14 with value: 0.5222930014133453.\n",
            "[I 2024-03-19 02:07:29,151] Trial 60 finished with value: 0.5207006335258484 and parameters: {'hidden_activation': 'relu', 'num_hidden_layers': 1, 'hidden_size': 18, 'num_epochs': 20}. Best is trial 60 with value: 0.5207006335258484.\n",
            "[I 2024-03-19 02:07:39,930] Trial 61 finished with value: 0.5191082656383514 and parameters: {'hidden_activation': 'relu', 'num_hidden_layers': 1, 'hidden_size': 18, 'num_epochs': 20}. Best is trial 61 with value: 0.5191082656383514.\n",
            "[I 2024-03-19 02:07:55,556] Trial 62 finished with value: 0.5493630468845367 and parameters: {'hidden_activation': 'relu', 'num_hidden_layers': 1, 'hidden_size': 18, 'num_epochs': 20}. Best is trial 61 with value: 0.5191082656383514.\n",
            "[I 2024-03-19 02:08:06,353] Trial 63 finished with value: 0.5716560482978821 and parameters: {'hidden_activation': 'relu', 'num_hidden_layers': 1, 'hidden_size': 18, 'num_epochs': 20}. Best is trial 61 with value: 0.5191082656383514.\n",
            "[I 2024-03-19 02:08:16,640] Trial 64 finished with value: 0.5286624133586884 and parameters: {'hidden_activation': 'relu', 'num_hidden_layers': 1, 'hidden_size': 17, 'num_epochs': 20}. Best is trial 61 with value: 0.5191082656383514.\n",
            "[I 2024-03-19 02:08:26,667] Trial 65 finished with value: 0.5636942684650421 and parameters: {'hidden_activation': 'relu', 'num_hidden_layers': 1, 'hidden_size': 16, 'num_epochs': 18}. Best is trial 61 with value: 0.5191082656383514.\n",
            "[I 2024-03-19 02:08:43,717] Trial 66 finished with value: 0.5541401207447052 and parameters: {'hidden_activation': 'relu', 'num_hidden_layers': 1, 'hidden_size': 19, 'num_epochs': 21}. Best is trial 61 with value: 0.5191082656383514.\n",
            "[I 2024-03-19 02:08:58,990] Trial 67 finished with value: 0.5334394872188568 and parameters: {'hidden_activation': 'relu', 'num_hidden_layers': 1, 'hidden_size': 18, 'num_epochs': 19}. Best is trial 61 with value: 0.5191082656383514.\n",
            "[I 2024-03-19 02:09:09,545] Trial 68 finished with value: 0.5684713423252106 and parameters: {'hidden_activation': 'sigmoid', 'num_hidden_layers': 1, 'hidden_size': 19, 'num_epochs': 20}. Best is trial 61 with value: 0.5191082656383514.\n",
            "[I 2024-03-19 02:09:25,220] Trial 69 finished with value: 0.5382165610790253 and parameters: {'hidden_activation': 'relu', 'num_hidden_layers': 1, 'hidden_size': 17, 'num_epochs': 22}. Best is trial 61 with value: 0.5191082656383514.\n",
            "[I 2024-03-19 02:09:40,167] Trial 70 finished with value: 0.5318471193313599 and parameters: {'hidden_activation': 'relu', 'num_hidden_layers': 1, 'hidden_size': 18, 'num_epochs': 21}. Best is trial 61 with value: 0.5191082656383514.\n",
            "[I 2024-03-19 02:09:56,606] Trial 71 finished with value: 0.5493630468845367 and parameters: {'hidden_activation': 'relu', 'num_hidden_layers': 1, 'hidden_size': 20, 'num_epochs': 23}. Best is trial 61 with value: 0.5191082656383514.\n",
            "[I 2024-03-19 02:10:07,642] Trial 72 finished with value: 0.5398089289665222 and parameters: {'hidden_activation': 'relu', 'num_hidden_layers': 1, 'hidden_size': 20, 'num_epochs': 24}. Best is trial 61 with value: 0.5191082656383514.\n",
            "[I 2024-03-19 02:10:17,618] Trial 73 finished with value: 0.5350318551063538 and parameters: {'hidden_activation': 'relu', 'num_hidden_layers': 1, 'hidden_size': 19, 'num_epochs': 25}. Best is trial 61 with value: 0.5191082656383514.\n",
            "[I 2024-03-19 02:10:27,577] Trial 74 finished with value: 0.5477707087993622 and parameters: {'hidden_activation': 'relu', 'num_hidden_layers': 1, 'hidden_size': 18, 'num_epochs': 18}. Best is trial 61 with value: 0.5191082656383514.\n",
            "[I 2024-03-19 02:10:41,994] Trial 75 finished with value: 0.5414012670516968 and parameters: {'hidden_activation': 'relu', 'num_hidden_layers': 1, 'hidden_size': 19, 'num_epochs': 19}. Best is trial 61 with value: 0.5191082656383514.\n",
            "[I 2024-03-19 02:10:54,865] Trial 76 finished with value: 0.5764331221580505 and parameters: {'hidden_activation': 'relu', 'num_hidden_layers': 1, 'hidden_size': 17, 'num_epochs': 10}. Best is trial 61 with value: 0.5191082656383514.\n",
            "[I 2024-03-19 02:11:11,126] Trial 77 finished with value: 0.5207006335258484 and parameters: {'hidden_activation': 'relu', 'num_hidden_layers': 1, 'hidden_size': 20, 'num_epochs': 23}. Best is trial 61 with value: 0.5191082656383514.\n",
            "[I 2024-03-19 02:11:22,747] Trial 78 finished with value: 0.5191082656383514 and parameters: {'hidden_activation': 'relu', 'num_hidden_layers': 1, 'hidden_size': 18, 'num_epochs': 22}. Best is trial 61 with value: 0.5191082656383514.\n",
            "[I 2024-03-19 02:11:33,709] Trial 79 finished with value: 0.5605095624923706 and parameters: {'hidden_activation': 'sigmoid', 'num_hidden_layers': 1, 'hidden_size': 19, 'num_epochs': 20}. Best is trial 61 with value: 0.5191082656383514.\n",
            "[I 2024-03-19 02:11:48,645] Trial 80 finished with value: 0.5573248267173767 and parameters: {'hidden_activation': 'relu', 'num_hidden_layers': 1, 'hidden_size': 16, 'num_epochs': 21}. Best is trial 61 with value: 0.5191082656383514.\n",
            "[I 2024-03-19 02:12:03,881] Trial 81 finished with value: 0.5525477826595306 and parameters: {'hidden_activation': 'relu', 'num_hidden_layers': 1, 'hidden_size': 18, 'num_epochs': 22}. Best is trial 61 with value: 0.5191082656383514.\n",
            "[I 2024-03-19 02:12:20,190] Trial 82 finished with value: 0.5445859730243683 and parameters: {'hidden_activation': 'relu', 'num_hidden_layers': 1, 'hidden_size': 17, 'num_epochs': 23}. Best is trial 61 with value: 0.5191082656383514.\n",
            "[I 2024-03-19 02:12:30,201] Trial 83 finished with value: 0.5238853394985199 and parameters: {'hidden_activation': 'relu', 'num_hidden_layers': 1, 'hidden_size': 18, 'num_epochs': 22}. Best is trial 61 with value: 0.5191082656383514.\n",
            "[I 2024-03-19 02:12:57,465] Trial 84 finished with value: 0.6082802414894104 and parameters: {'hidden_activation': 'relu', 'num_hidden_layers': 3, 'hidden_size': 20, 'num_epochs': 22}. Best is trial 61 with value: 0.5191082656383514.\n",
            "[I 2024-03-19 02:13:07,299] Trial 85 finished with value: 0.5429936349391937 and parameters: {'hidden_activation': 'relu', 'num_hidden_layers': 1, 'hidden_size': 15, 'num_epochs': 20}. Best is trial 61 with value: 0.5191082656383514.\n",
            "[I 2024-03-19 02:13:18,000] Trial 86 finished with value: 0.5493630468845367 and parameters: {'hidden_activation': 'relu', 'num_hidden_layers': 1, 'hidden_size': 19, 'num_epochs': 21}. Best is trial 61 with value: 0.5191082656383514.\n",
            "[I 2024-03-19 02:13:30,454] Trial 87 finished with value: 0.5382165610790253 and parameters: {'hidden_activation': 'relu', 'num_hidden_layers': 1, 'hidden_size': 18, 'num_epochs': 21}. Best is trial 61 with value: 0.5191082656383514.\n",
            "[I 2024-03-19 02:13:40,567] Trial 88 finished with value: 0.5398089289665222 and parameters: {'hidden_activation': 'relu', 'num_hidden_layers': 1, 'hidden_size': 16, 'num_epochs': 19}. Best is trial 61 with value: 0.5191082656383514.\n",
            "[I 2024-03-19 02:13:49,677] Trial 89 finished with value: 0.5621019005775452 and parameters: {'hidden_activation': 'relu', 'num_hidden_layers': 1, 'hidden_size': 19, 'num_epochs': 17}. Best is trial 61 with value: 0.5191082656383514.\n",
            "[I 2024-03-19 02:14:03,237] Trial 90 finished with value: 0.5923566818237305 and parameters: {'hidden_activation': 'relu', 'num_hidden_layers': 2, 'hidden_size': 10, 'num_epochs': 22}. Best is trial 61 with value: 0.5191082656383514.\n",
            "[I 2024-03-19 02:14:13,867] Trial 91 finished with value: 0.5286624133586884 and parameters: {'hidden_activation': 'relu', 'num_hidden_layers': 1, 'hidden_size': 18, 'num_epochs': 23}. Best is trial 61 with value: 0.5191082656383514.\n",
            "[I 2024-03-19 02:14:30,223] Trial 92 finished with value: 0.5605095624923706 and parameters: {'hidden_activation': 'relu', 'num_hidden_layers': 1, 'hidden_size': 18, 'num_epochs': 23}. Best is trial 61 with value: 0.5191082656383514.\n",
            "[I 2024-03-19 02:14:45,934] Trial 93 finished with value: 0.5493630468845367 and parameters: {'hidden_activation': 'relu', 'num_hidden_layers': 1, 'hidden_size': 18, 'num_epochs': 24}. Best is trial 61 with value: 0.5191082656383514.\n",
            "[I 2024-03-19 02:15:01,326] Trial 94 finished with value: 0.5414012670516968 and parameters: {'hidden_activation': 'relu', 'num_hidden_layers': 1, 'hidden_size': 17, 'num_epochs': 23}. Best is trial 61 with value: 0.5191082656383514.\n",
            "[I 2024-03-19 02:15:12,251] Trial 95 finished with value: 0.5047770738601685 and parameters: {'hidden_activation': 'relu', 'num_hidden_layers': 1, 'hidden_size': 19, 'num_epochs': 22}. Best is trial 95 with value: 0.5047770738601685.\n",
            "[I 2024-03-19 02:15:23,081] Trial 96 finished with value: 0.5684713423252106 and parameters: {'hidden_activation': 'sigmoid', 'num_hidden_layers': 1, 'hidden_size': 19, 'num_epochs': 22}. Best is trial 95 with value: 0.5047770738601685.\n",
            "[I 2024-03-19 02:15:32,948] Trial 97 finished with value: 0.5318471193313599 and parameters: {'hidden_activation': 'relu', 'num_hidden_layers': 1, 'hidden_size': 20, 'num_epochs': 20}. Best is trial 95 with value: 0.5047770738601685.\n",
            "[I 2024-03-19 02:15:47,857] Trial 98 finished with value: 0.5716560482978821 and parameters: {'hidden_activation': 'relu', 'num_hidden_layers': 1, 'hidden_size': 19, 'num_epochs': 18}. Best is trial 95 with value: 0.5047770738601685.\n",
            "[I 2024-03-19 02:15:58,728] Trial 99 finished with value: 0.5382165610790253 and parameters: {'hidden_activation': 'relu', 'num_hidden_layers': 1, 'hidden_size': 20, 'num_epochs': 22}. Best is trial 95 with value: 0.5047770738601685.\n"
          ]
        }
      ]
    },
    {
      "cell_type": "markdown",
      "source": [
        "## Transformer Models\n",
        "\n"
      ],
      "metadata": {
        "id": "IqF4Evafve_j"
      }
    },
    {
      "cell_type": "markdown",
      "source": [
        "### Data Preparation"
      ],
      "metadata": {
        "id": "KbpgOKk2zN1j"
      }
    },
    {
      "cell_type": "code",
      "source": [
        "## HEARTHSTONE LANGUAGE DATA PREP\n",
        "#===============================================================\n",
        "# The various pieces of the the card need to be stuck together to create something sensible\n",
        "\n",
        "# Constants\n",
        "TRIBES = ['MECH', 'QUILBOAR', 'DEMON', 'PIRATE', 'TOTEM', 'NAGA', 'ELEMENTAL', 'ALL', 'BEAST', 'MURLOC', 'DRAGON', 'UNDEAD']\n",
        "SPELLSCHOOLS = ['ARCANE', 'FEL', 'FIRE', 'FROST', 'HOLY', 'NATURE', 'SHADOW']\n",
        "MECHANICS = ['QUICKDRAW', 'COLLECTIONMANAGER_FILTER_MANA_ODD', 'ADJACENT_BUFF', 'GEARS',\n",
        "            'DEAL_DAMAGE', 'FORGETFUL', 'MODULAR', 'SECRET', 'ECHO',\n",
        "            'MULTIPLY_BUFF_VALUE', 'CHOOSE_ONE', 'FORGE', 'WHELP', 'HONORABLE_KILL',\n",
        "            'TWINSPELL', 'QUEST', 'FRENZY', 'OVERHEAL', 'CHARGE', 'FREEZE',\n",
        "            'OVERKILL', 'SPELLPOWER', 'DIVINE_SHIELD', 'AFFECTED_BY_SPELL_POWER',\n",
        "            'ENRAGED', 'COMBO', 'DEATHRATTLE', 'REBORN', 'CORRUPT', 'HIDE_STATS',\n",
        "            'SILENCE', 'TOPDECK', 'POISONOUS', 'WINDFURY', 'TAUNT', 'KABAL',\n",
        "            'COLOSSAL', 'GRIMY_GOONS', 'TRADEABLE', 'OVERLOAD', 'INSPIRE',\n",
        "            'NON_KEYWORD_ECHO', 'SUMMON', 'EXCAVATE', 'AURA', 'BATTLECRY',\n",
        "            'OUTCAST', 'MANATHIRST', 'RUSH', 'HEROPOWER_DAMAGE',\n",
        "            'RECEIVES_DOUBLE_SPELLDAMAGE_BONUS', 'JADE_LOTUS', 'FINALE',\n",
        "            'DEATH_KNIGHT', 'DREDGE', 'INFUSE',\n",
        "            'COLLECTIONMANAGER_FILTER_MANA_EVEN', 'TRIGGER_VISUAL', 'LIFESTEAL',\n",
        "            'START_OF_GAME_KEYWORD', 'IMP', 'RESTORE_HEALTH', 'JADE_GOLEM',\n",
        "            'DISCOVER', 'STEALTH', 'FINISH_ATTACK_SPELL_ON_DAMAGE']\n",
        "\n",
        "def extendDescription(desc, tag):\n",
        "  if desc == \"\":\n",
        "    desc = desc + tag.lower().replace(\"_\", \" \")\n",
        "  else:\n",
        "    desc = desc + \", \" + tag.lower().replace(\"_\", \" \")\n",
        "  return desc\n",
        "\n",
        "def generateDescriptionHSData(row):\n",
        "  ## Get together the subtype for minions/spell schools, or otherwise\n",
        "  type_modifier = \"\"\n",
        "  stats_modifier = \"\"\n",
        "  if row['Minion'] == 1:\n",
        "    for tribe in TRIBES:\n",
        "      if row[tribe] == 1:\n",
        "        type_modifier = extendDescription(type_modifier, tribe)\n",
        "    type_modifier = type_modifier + \" minion\"\n",
        "    stats_modifier = stats_modifier + f\"with {row['health']} health and {row['attack']} attack\"\n",
        "    if row['armor'] > 0:\n",
        "      stats_modifier = stats_modifier + f\" and {row['armor']} armor\"\n",
        "  elif row['Spell'] == 1:\n",
        "    for spellschool in SPELLSCHOOLS:\n",
        "      if row[spellschool] == 1:\n",
        "        type_modifier = extendDescription(type_modifier, spellschool)\n",
        "    type_modifier = type_modifier + \" spell\"\n",
        "  elif row['Weapon'] == 1:\n",
        "    type_modifier = type_modifier + \" weapon\"\n",
        "    stats_modifier = stats_modifier + f\"with {row['attack']} attack and {row['durability']} durability\"\n",
        "  elif row['Hero'] == 1:\n",
        "    type_modifier = type_modifier + \" hero\"\n",
        "    stats_modifier = stats_modifier + f\"with {row['armor']} armor\"\n",
        "  elif row['Location'] == 1:\n",
        "    type_modifier = type_modifier + \" location\"\n",
        "    stats_modifier = stats_modifier + f\"with {row['health']} health\"\n",
        "  ## Add info about various special mechanics\n",
        "  special_effects = \"\"\n",
        "  has_special_effects = False\n",
        "  for mechanic in MECHANICS:\n",
        "    if row[mechanic] == 1:\n",
        "      has_special_effects = True\n",
        "      special_effects = extendDescription(special_effects, mechanic)\n",
        "  ## Pull together the pieces of the description\n",
        "  finaldesc = f\"The card named {row['name']} is a {row['cost']} cost {type_modifier} {stats_modifier}\"\n",
        "  if has_special_effects:\n",
        "    finaldesc = finaldesc + \", and includes the effects \" + special_effects\n",
        "  cleansed_text = str(row['text']).replace('\\n', ' ')\n",
        "  finaldesc = finaldesc + f\". The card text says: {cleansed_text}\"\n",
        "\n",
        "  return finaldesc\n",
        "\n",
        "hs_cards_data_text = hs_cards_data_augment.copy()\n",
        "hs_cards_data_text['description'] = hs_cards_data_text.apply(lambda row: generateDescriptionHSData(row), axis=1)\n"
      ],
      "metadata": {
        "colab": {
          "base_uri": "https://localhost:8080/"
        },
        "id": "zURtUJjg0UuV",
        "outputId": "f16b2303-c950-49b3-e20d-51d05d6ec085"
      },
      "execution_count": null,
      "outputs": [
        {
          "output_type": "stream",
          "name": "stderr",
          "text": [
            "/usr/local/lib/python3.10/dist-packages/ipykernel/ipkernel.py:283: DeprecationWarning: `should_run_async` will not call `transform_cell` automatically in the future. Please pass the result to `transformed_cell` argument and any exception that happen during thetransform in `preprocessing_exc_tuple` in IPython 7.17 and above.\n",
            "  and should_run_async(code)\n",
            "/usr/local/lib/python3.10/dist-packages/pandas/core/dtypes/cast.py:1641: DeprecationWarning: np.find_common_type is deprecated.  Please use `np.result_type` or `np.promote_types`.\n",
            "See https://numpy.org/devdocs/release/1.25.0-notes.html and the docs for more information.  (Deprecated NumPy 1.25)\n",
            "  return np.find_common_type(types, [])\n"
          ]
        }
      ]
    },
    {
      "cell_type": "code",
      "source": [
        "## Saving the dataset to look at elsewhere\n",
        "##------------------------------------------------------------\n",
        "hs_cards_data_text.to_csv('hs_cards_data_text.csv', index=False)\n",
        "files.download('hs_cards_data_text.csv')\n"
      ],
      "metadata": {
        "colab": {
          "base_uri": "https://localhost:8080/",
          "height": 139
        },
        "id": "lLivHmn52oC5",
        "outputId": "640557f0-3750-4675-b631-3060b7bde56f"
      },
      "execution_count": null,
      "outputs": [
        {
          "output_type": "stream",
          "name": "stderr",
          "text": [
            "<frozen importlib._bootstrap>:914: ImportWarning: _PyDrive2ImportHook.find_spec() not found; falling back to find_module()\n",
            "<frozen importlib._bootstrap>:914: ImportWarning: _PyDriveImportHook.find_spec() not found; falling back to find_module()\n",
            "<frozen importlib._bootstrap>:914: ImportWarning: _GenerativeAIImportHook.find_spec() not found; falling back to find_module()\n",
            "<frozen importlib._bootstrap>:914: ImportWarning: _OpenCVImportHook.find_spec() not found; falling back to find_module()\n",
            "<frozen importlib._bootstrap>:914: ImportWarning: APICoreClientInfoImportHook.find_spec() not found; falling back to find_module()\n",
            "<frozen importlib._bootstrap>:914: ImportWarning: _BokehImportHook.find_spec() not found; falling back to find_module()\n",
            "<frozen importlib._bootstrap>:914: ImportWarning: _AltairImportHook.find_spec() not found; falling back to find_module()\n"
          ]
        },
        {
          "output_type": "display_data",
          "data": {
            "text/plain": [
              "<IPython.core.display.Javascript object>"
            ],
            "application/javascript": [
              "\n",
              "    async function download(id, filename, size) {\n",
              "      if (!google.colab.kernel.accessAllowed) {\n",
              "        return;\n",
              "      }\n",
              "      const div = document.createElement('div');\n",
              "      const label = document.createElement('label');\n",
              "      label.textContent = `Downloading \"${filename}\": `;\n",
              "      div.appendChild(label);\n",
              "      const progress = document.createElement('progress');\n",
              "      progress.max = size;\n",
              "      div.appendChild(progress);\n",
              "      document.body.appendChild(div);\n",
              "\n",
              "      const buffers = [];\n",
              "      let downloaded = 0;\n",
              "\n",
              "      const channel = await google.colab.kernel.comms.open(id);\n",
              "      // Send a message to notify the kernel that we're ready.\n",
              "      channel.send({})\n",
              "\n",
              "      for await (const message of channel.messages) {\n",
              "        // Send a message to notify the kernel that we're ready.\n",
              "        channel.send({})\n",
              "        if (message.buffers) {\n",
              "          for (const buffer of message.buffers) {\n",
              "            buffers.push(buffer);\n",
              "            downloaded += buffer.byteLength;\n",
              "            progress.value = downloaded;\n",
              "          }\n",
              "        }\n",
              "      }\n",
              "      const blob = new Blob(buffers, {type: 'application/binary'});\n",
              "      const a = document.createElement('a');\n",
              "      a.href = window.URL.createObjectURL(blob);\n",
              "      a.download = filename;\n",
              "      div.appendChild(a);\n",
              "      a.click();\n",
              "      div.remove();\n",
              "    }\n",
              "  "
            ]
          },
          "metadata": {}
        },
        {
          "output_type": "display_data",
          "data": {
            "text/plain": [
              "<IPython.core.display.Javascript object>"
            ],
            "application/javascript": [
              "download(\"download_af8c48ad-fbbb-4d44-b1c3-548128d2f67a\", \"hs_cards_data_text.csv\", 3866093)"
            ]
          },
          "metadata": {}
        }
      ]
    },
    {
      "cell_type": "markdown",
      "source": [
        "#### BERT Classification"
      ],
      "metadata": {
        "id": "8BKe_w0poj7c"
      }
    },
    {
      "cell_type": "code",
      "source": [
        "from transformers import BertTokenizer, TFBertModel, AutoTokenizer\n",
        "\n",
        "from transformers import logging\n",
        "logging.set_verbosity_error()\n"
      ],
      "metadata": {
        "id": "QdA2ns1DzbfE"
      },
      "execution_count": null,
      "outputs": []
    },
    {
      "cell_type": "code",
      "source": [
        "# import tensorflow_datasets as tfds\n",
        "# train_data, test_data = tfds.load(\n",
        "#     name=\"imdb_reviews\",\n",
        "#     split=('train[:80%]', 'test[80%:]'),\n",
        "#     as_supervised=True)\n",
        "# train_examples, train_labels = next(iter(train_data.batch(20000)))\n",
        "# test_examples, test_labels = next(iter(test_data.batch(5000)))"
      ],
      "metadata": {
        "id": "kB7VruH7z1US"
      },
      "execution_count": null,
      "outputs": []
    },
    {
      "cell_type": "code",
      "source": [
        "checkpoint = 'bert-base-cased'\n",
        "bert_tokenizer = BertTokenizer.from_pretrained(checkpoint)\n",
        "auto_tokenizer = AutoTokenizer.from_pretrained(checkpoint)"
      ],
      "metadata": {
        "id": "Yube6uh0vj-S",
        "colab": {
          "base_uri": "https://localhost:8080/"
        },
        "outputId": "3aa52e4f-9928-4f86-ad1d-ffd61810963b"
      },
      "execution_count": null,
      "outputs": [
        {
          "output_type": "stream",
          "name": "stderr",
          "text": [
            "/usr/local/lib/python3.10/dist-packages/ipykernel/ipkernel.py:283: DeprecationWarning: `should_run_async` will not call `transform_cell` automatically in the future. Please pass the result to `transformed_cell` argument and any exception that happen during thetransform in `preprocessing_exc_tuple` in IPython 7.17 and above.\n",
            "  and should_run_async(code)\n"
          ]
        }
      ]
    },
    {
      "cell_type": "code",
      "source": [
        "## good testing vals: 4, 7\n",
        "pd.reset_option('display.max_colwidth')\n",
        "test_str = train_ds_hs_desc['description'][7]\n",
        "print(test_str)\n",
        "print(bert_tokenizer.tokenize(train_ds_hs_desc['description'].tolist()[5]))"
      ],
      "metadata": {
        "colab": {
          "base_uri": "https://localhost:8080/"
        },
        "id": "3VjdnRrlpb2X",
        "outputId": "713c50c6-036d-43b5-9d60-0a80a55ce064"
      },
      "execution_count": null,
      "outputs": [
        {
          "output_type": "stream",
          "name": "stdout",
          "text": [
            "The card named Cenarius is a 8 cost  minion with 8 health and 5 attack, and includes the effects choose one. The card text says: Choose One plus Give your other minions plus 2 dash plus 2; or Summon two 2 dash 2 Treants with Taunt.\n",
            "['The', 'card', 'named', 'Ce', '##nar', '##ius', 'is', 'a', '8', 'cost', 'mini', '##on', 'with', '8', 'health', 'and', '5', 'attack', ',', 'and', 'includes', 'the', 'effects', 'choose', 'one', '.', 'The', 'card', 'text', 'says', ':', 'Cho', '##ose', 'One', 'plus', 'Give', 'your', 'other', 'mini', '##ons', 'plus', '2', 'dash', 'plus', '2', ';', 'or', 'Su', '##mm', '##on', 'two', '2', 'dash', '2', 'T', '##rea', '##nts', 'with', 'Tau', '##nt', '.']\n"
          ]
        }
      ]
    },
    {
      "cell_type": "code",
      "source": [
        "# print(train_ds_hs_desc['description'].tolist())\n",
        "# print(train_ds_hs_desc['description'])\n",
        "# print(train_ds_hs_desc['classes'].tolist())\n",
        "# print(train_ds_hs_desc['classes'])"
      ],
      "metadata": {
        "id": "zydAs6-6uItc"
      },
      "execution_count": null,
      "outputs": []
    },
    {
      "cell_type": "code",
      "source": [
        "## Inspiration taken from https://colab.research.google.com/github/NielsRogge/Transformers-Tutorials/blob/master/BERT/Fine_tuning_BERT_(and_friends)_for_multi_label_text_classification.ipynb#scrollTo=AFWlSsbZaRLc\n",
        "MAX_SEQ_LENGTH = 512\n",
        "## Encode the descriptions\n",
        "encoding = bert_tokenizer(train_ds_hs_desc['description'].tolist(),\n",
        "                          padding=\"max_length\",\n",
        "                          truncation=True,\n",
        "                          max_length=MAX_SEQ_LENGTH,\n",
        "                          return_tensors = 'tf')\n",
        "encoding['labels'] = train_ds_hs_desc['classes'].tolist()\n"
      ],
      "metadata": {
        "id": "VvCUCaUvo7pG"
      },
      "execution_count": null,
      "outputs": []
    },
    {
      "cell_type": "code",
      "source": [
        "print(encoding['input_ids'])"
      ],
      "metadata": {
        "colab": {
          "base_uri": "https://localhost:8080/"
        },
        "id": "-AFDCdymrFQ5",
        "outputId": "b8426129-87af-47ac-87de-5904932321b2"
      },
      "execution_count": null,
      "outputs": [
        {
          "output_type": "stream",
          "name": "stdout",
          "text": [
            "tf.Tensor(\n",
            "[[ 101 1109 3621 ...    0    0    0]\n",
            " [ 101 1109 3621 ...    0    0    0]\n",
            " [ 101 1109 3621 ...    0    0    0]\n",
            " ...\n",
            " [ 101 1109 3621 ...    0    0    0]\n",
            " [ 101 1109 3621 ...    0    0    0]\n",
            " [ 101 1109 3621 ...    0    0    0]], shape=(5071, 512), dtype=int32)\n"
          ]
        },
        {
          "output_type": "stream",
          "name": "stderr",
          "text": [
            "/usr/local/lib/python3.10/dist-packages/ipykernel/ipkernel.py:283: DeprecationWarning: `should_run_async` will not call `transform_cell` automatically in the future. Please pass the result to `transformed_cell` argument and any exception that happen during thetransform in `preprocessing_exc_tuple` in IPython 7.17 and above.\n",
            "  and should_run_async(code)\n"
          ]
        }
      ]
    },
    {
      "cell_type": "code",
      "source": [
        "## Simplistic BERT model creation\n",
        "def create_bert_classification_model(bert_model,\n",
        "                                     num_train_layers = 0,\n",
        "                                     hidden_size = 200,\n",
        "                                     dropout = 0.3,\n",
        "                                     learning_rate = 0.00005):\n",
        "    \"\"\"\n",
        "    Build a simple classification model with BERT. Use the Pooler Output for classification purposes\n",
        "    \"\"\"\n",
        "    if num_train_layers == 0:\n",
        "        # Freeze all layers of pre-trained BERT model\n",
        "        bert_model.trainable = False\n",
        "    elif num_train_layers == 12:\n",
        "        # Train all layers of the BERT model\n",
        "        bert_model.trainable = True\n",
        "    else:\n",
        "        # Restrict training to the num_train_layers outer transformer layers\n",
        "        retrain_layers = []\n",
        "        for retrain_layer_number in range(num_train_layers):\n",
        "            layer_code = '_' + str(11 - retrain_layer_number)\n",
        "            retrain_layers.append(layer_code)\n",
        "        print('retrain layers: ', retrain_layers)\n",
        "\n",
        "        for w in bert_model.weights:\n",
        "            if not any([x in w.name for x in retrain_layers]):\n",
        "                #print('freezing: ', w)\n",
        "                w._trainable = False\n",
        "\n",
        "    input_ids = tf.keras.layers.Input(shape=(MAX_SEQ_LENGTH,), dtype=tf.int64, name='input_ids_layer')\n",
        "    token_type_ids = tf.keras.layers.Input(shape=(MAX_SEQ_LENGTH,), dtype=tf.int64, name='token_type_ids_layer')\n",
        "    attention_mask = tf.keras.layers.Input(shape=(MAX_SEQ_LENGTH,), dtype=tf.int64, name='attention_mask_layer')\n",
        "\n",
        "    ## Set up the BERT model; this will use the CLS token input\n",
        "    bert_inputs = {'input_ids': input_ids,\n",
        "                   'token_type_ids': token_type_ids,\n",
        "                   'attention_mask': attention_mask}\n",
        "    bert_out = bert_model(bert_inputs)\n",
        "    cls_token = bert_out[0][:, 0, :]\n",
        "\n",
        "    hidden = tf.keras.layers.Dense(hidden_size, activation='relu', name='hidden_layer')(cls_token)\n",
        "    hidden = tf.keras.layers.Dropout(dropout)(hidden)\n",
        "\n",
        "    classification = tf.keras.layers.Dense(12, activation='softmax',name='classification')(hidden)\n",
        "    classification_model = tf.keras.Model(inputs=[input_ids, token_type_ids, attention_mask], outputs=[classification])\n",
        "    classification_model.compile(optimizer=tf.keras.optimizers.Adam(learning_rate=learning_rate),\n",
        "                                 loss='sparse_categorical_crossentropy',\n",
        "                                 metrics='accuracy')\n",
        "\n",
        "    return classification_model"
      ],
      "metadata": {
        "id": "C6A7EVgdvVgv"
      },
      "execution_count": null,
      "outputs": []
    },
    {
      "cell_type": "code",
      "source": [
        "bert_model = TFBertModel.from_pretrained(checkpoint)\n",
        "bert_classification_model = create_bert_classification_model(bert_model, num_train_layers=0)"
      ],
      "metadata": {
        "colab": {
          "base_uri": "https://localhost:8080/",
          "height": 807
        },
        "id": "kVyn3wtCyN3O",
        "outputId": "19eecc39-b612-419d-823b-97289c0384ae"
      },
      "execution_count": null,
      "outputs": [
        {
          "output_type": "stream",
          "name": "stderr",
          "text": [
            "<frozen importlib._bootstrap>:914: ImportWarning: _PyDrive2ImportHook.find_spec() not found; falling back to find_module()\n",
            "<frozen importlib._bootstrap>:914: ImportWarning: _PyDriveImportHook.find_spec() not found; falling back to find_module()\n",
            "<frozen importlib._bootstrap>:914: ImportWarning: _GenerativeAIImportHook.find_spec() not found; falling back to find_module()\n",
            "<frozen importlib._bootstrap>:914: ImportWarning: _OpenCVImportHook.find_spec() not found; falling back to find_module()\n",
            "<frozen importlib._bootstrap>:914: ImportWarning: APICoreClientInfoImportHook.find_spec() not found; falling back to find_module()\n",
            "<frozen importlib._bootstrap>:914: ImportWarning: _BokehImportHook.find_spec() not found; falling back to find_module()\n",
            "<frozen importlib._bootstrap>:914: ImportWarning: _AltairImportHook.find_spec() not found; falling back to find_module()\n"
          ]
        },
        {
          "output_type": "error",
          "ename": "ValueError",
          "evalue": "Exception encountered when calling layer 'tf_bert_model_3' (type TFBertModel).\n\nData of type <class 'keras.src.engine.keras_tensor.KerasTensor'> is not allowed only (<class 'tensorflow.python.framework.tensor.Tensor'>, <class 'bool'>, <class 'int'>, <class 'transformers.utils.generic.ModelOutput'>, <class 'tuple'>, <class 'list'>, <class 'dict'>, <class 'numpy.ndarray'>) is accepted for input_ids.\n\nCall arguments received by layer 'tf_bert_model_3' (type TFBertModel):\n  • input_ids={'input_ids': \"<KerasTensor: shape=(None, 512) dtype=int64 (created by layer 'input_ids_layer')>\", 'token_type_ids': \"<KerasTensor: shape=(None, 512) dtype=int64 (created by layer 'token_type_ids_layer')>\", 'attention_mask': \"<KerasTensor: shape=(None, 512) dtype=int64 (created by layer 'attention_mask_layer')>\"}\n  • attention_mask=None\n  • token_type_ids=None\n  • position_ids=None\n  • head_mask=None\n  • inputs_embeds=None\n  • encoder_hidden_states=None\n  • encoder_attention_mask=None\n  • past_key_values=None\n  • use_cache=None\n  • output_attentions=None\n  • output_hidden_states=None\n  • return_dict=None\n  • training=False",
          "traceback": [
            "\u001b[0;31m---------------------------------------------------------------------------\u001b[0m",
            "\u001b[0;31mValueError\u001b[0m                                Traceback (most recent call last)",
            "\u001b[0;32m<ipython-input-68-4596f9fa878d>\u001b[0m in \u001b[0;36m<cell line: 2>\u001b[0;34m()\u001b[0m\n\u001b[1;32m      1\u001b[0m \u001b[0mbert_model\u001b[0m \u001b[0;34m=\u001b[0m \u001b[0mTFBertModel\u001b[0m\u001b[0;34m.\u001b[0m\u001b[0mfrom_pretrained\u001b[0m\u001b[0;34m(\u001b[0m\u001b[0mcheckpoint\u001b[0m\u001b[0;34m)\u001b[0m\u001b[0;34m\u001b[0m\u001b[0;34m\u001b[0m\u001b[0m\n\u001b[0;32m----> 2\u001b[0;31m \u001b[0mbert_classification_model\u001b[0m \u001b[0;34m=\u001b[0m \u001b[0mcreate_bert_classification_model\u001b[0m\u001b[0;34m(\u001b[0m\u001b[0mbert_model\u001b[0m\u001b[0;34m,\u001b[0m \u001b[0mnum_train_layers\u001b[0m\u001b[0;34m=\u001b[0m\u001b[0;36m0\u001b[0m\u001b[0;34m)\u001b[0m\u001b[0;34m\u001b[0m\u001b[0;34m\u001b[0m\u001b[0m\n\u001b[0m",
            "\u001b[0;32m<ipython-input-65-f6bc29b83e8e>\u001b[0m in \u001b[0;36mcreate_bert_classification_model\u001b[0;34m(bert_model, num_train_layers, hidden_size, dropout, learning_rate)\u001b[0m\n\u001b[1;32m     35\u001b[0m                    \u001b[0;34m'token_type_ids'\u001b[0m\u001b[0;34m:\u001b[0m \u001b[0mtoken_type_ids\u001b[0m\u001b[0;34m,\u001b[0m\u001b[0;34m\u001b[0m\u001b[0;34m\u001b[0m\u001b[0m\n\u001b[1;32m     36\u001b[0m                    'attention_mask': attention_mask}\n\u001b[0;32m---> 37\u001b[0;31m     \u001b[0mbert_out\u001b[0m \u001b[0;34m=\u001b[0m \u001b[0mbert_model\u001b[0m\u001b[0;34m(\u001b[0m\u001b[0mbert_inputs\u001b[0m\u001b[0;34m)\u001b[0m\u001b[0;34m\u001b[0m\u001b[0;34m\u001b[0m\u001b[0m\n\u001b[0m\u001b[1;32m     38\u001b[0m     \u001b[0mcls_token\u001b[0m \u001b[0;34m=\u001b[0m \u001b[0mbert_out\u001b[0m\u001b[0;34m[\u001b[0m\u001b[0;36m0\u001b[0m\u001b[0;34m]\u001b[0m\u001b[0;34m[\u001b[0m\u001b[0;34m:\u001b[0m\u001b[0;34m,\u001b[0m \u001b[0;36m0\u001b[0m\u001b[0;34m,\u001b[0m \u001b[0;34m:\u001b[0m\u001b[0;34m]\u001b[0m\u001b[0;34m\u001b[0m\u001b[0;34m\u001b[0m\u001b[0m\n\u001b[1;32m     39\u001b[0m \u001b[0;34m\u001b[0m\u001b[0m\n",
            "\u001b[0;32m/usr/local/lib/python3.10/dist-packages/tf_keras/src/utils/traceback_utils.py\u001b[0m in \u001b[0;36merror_handler\u001b[0;34m(*args, **kwargs)\u001b[0m\n\u001b[1;32m     68\u001b[0m             \u001b[0;31m# To get the full stack trace, call:\u001b[0m\u001b[0;34m\u001b[0m\u001b[0;34m\u001b[0m\u001b[0m\n\u001b[1;32m     69\u001b[0m             \u001b[0;31m# `tf.debugging.disable_traceback_filtering()`\u001b[0m\u001b[0;34m\u001b[0m\u001b[0;34m\u001b[0m\u001b[0m\n\u001b[0;32m---> 70\u001b[0;31m             \u001b[0;32mraise\u001b[0m \u001b[0me\u001b[0m\u001b[0;34m.\u001b[0m\u001b[0mwith_traceback\u001b[0m\u001b[0;34m(\u001b[0m\u001b[0mfiltered_tb\u001b[0m\u001b[0;34m)\u001b[0m \u001b[0;32mfrom\u001b[0m \u001b[0;32mNone\u001b[0m\u001b[0;34m\u001b[0m\u001b[0;34m\u001b[0m\u001b[0m\n\u001b[0m\u001b[1;32m     71\u001b[0m         \u001b[0;32mfinally\u001b[0m\u001b[0;34m:\u001b[0m\u001b[0;34m\u001b[0m\u001b[0;34m\u001b[0m\u001b[0m\n\u001b[1;32m     72\u001b[0m             \u001b[0;32mdel\u001b[0m \u001b[0mfiltered_tb\u001b[0m\u001b[0;34m\u001b[0m\u001b[0;34m\u001b[0m\u001b[0m\n",
            "\u001b[0;32m/usr/local/lib/python3.10/dist-packages/transformers/modeling_tf_utils.py\u001b[0m in \u001b[0;36mrun_call_with_unpacked_inputs\u001b[0;34m(self, *args, **kwargs)\u001b[0m\n\u001b[1;32m    425\u001b[0m             \u001b[0mconfig\u001b[0m \u001b[0;34m=\u001b[0m \u001b[0mself\u001b[0m\u001b[0;34m.\u001b[0m\u001b[0mconfig\u001b[0m\u001b[0;34m\u001b[0m\u001b[0;34m\u001b[0m\u001b[0m\n\u001b[1;32m    426\u001b[0m \u001b[0;34m\u001b[0m\u001b[0m\n\u001b[0;32m--> 427\u001b[0;31m         \u001b[0munpacked_inputs\u001b[0m \u001b[0;34m=\u001b[0m \u001b[0minput_processing\u001b[0m\u001b[0;34m(\u001b[0m\u001b[0mfunc\u001b[0m\u001b[0;34m,\u001b[0m \u001b[0mconfig\u001b[0m\u001b[0;34m,\u001b[0m \u001b[0;34m**\u001b[0m\u001b[0mfn_args_and_kwargs\u001b[0m\u001b[0;34m)\u001b[0m\u001b[0;34m\u001b[0m\u001b[0;34m\u001b[0m\u001b[0m\n\u001b[0m\u001b[1;32m    428\u001b[0m         \u001b[0;32mreturn\u001b[0m \u001b[0mfunc\u001b[0m\u001b[0;34m(\u001b[0m\u001b[0mself\u001b[0m\u001b[0;34m,\u001b[0m \u001b[0;34m**\u001b[0m\u001b[0munpacked_inputs\u001b[0m\u001b[0;34m)\u001b[0m\u001b[0;34m\u001b[0m\u001b[0;34m\u001b[0m\u001b[0m\n\u001b[1;32m    429\u001b[0m \u001b[0;34m\u001b[0m\u001b[0m\n",
            "\u001b[0;32m/usr/local/lib/python3.10/dist-packages/transformers/modeling_tf_utils.py\u001b[0m in \u001b[0;36minput_processing\u001b[0;34m(func, config, **kwargs)\u001b[0m\n\u001b[1;32m    550\u001b[0m                 \u001b[0;32mcontinue\u001b[0m\u001b[0;34m\u001b[0m\u001b[0;34m\u001b[0m\u001b[0m\n\u001b[1;32m    551\u001b[0m             \u001b[0;32melse\u001b[0m\u001b[0;34m:\u001b[0m\u001b[0;34m\u001b[0m\u001b[0;34m\u001b[0m\u001b[0m\n\u001b[0;32m--> 552\u001b[0;31m                 \u001b[0;32mraise\u001b[0m \u001b[0mValueError\u001b[0m\u001b[0;34m(\u001b[0m\u001b[0;34mf\"Data of type {type(v)} is not allowed only {allowed_types} is accepted for {k}.\"\u001b[0m\u001b[0;34m)\u001b[0m\u001b[0;34m\u001b[0m\u001b[0;34m\u001b[0m\u001b[0m\n\u001b[0m\u001b[1;32m    553\u001b[0m     \u001b[0;32melse\u001b[0m\u001b[0;34m:\u001b[0m\u001b[0;34m\u001b[0m\u001b[0;34m\u001b[0m\u001b[0m\n\u001b[1;32m    554\u001b[0m         \u001b[0;32mif\u001b[0m \u001b[0mtf\u001b[0m\u001b[0;34m.\u001b[0m\u001b[0mis_tensor\u001b[0m\u001b[0;34m(\u001b[0m\u001b[0mmain_input\u001b[0m\u001b[0;34m)\u001b[0m \u001b[0;32mor\u001b[0m \u001b[0mmain_input\u001b[0m \u001b[0;32mis\u001b[0m \u001b[0;32mNone\u001b[0m\u001b[0;34m:\u001b[0m\u001b[0;34m\u001b[0m\u001b[0;34m\u001b[0m\u001b[0m\n",
            "\u001b[0;31mValueError\u001b[0m: Exception encountered when calling layer 'tf_bert_model_3' (type TFBertModel).\n\nData of type <class 'keras.src.engine.keras_tensor.KerasTensor'> is not allowed only (<class 'tensorflow.python.framework.tensor.Tensor'>, <class 'bool'>, <class 'int'>, <class 'transformers.utils.generic.ModelOutput'>, <class 'tuple'>, <class 'list'>, <class 'dict'>, <class 'numpy.ndarray'>) is accepted for input_ids.\n\nCall arguments received by layer 'tf_bert_model_3' (type TFBertModel):\n  • input_ids={'input_ids': \"<KerasTensor: shape=(None, 512) dtype=int64 (created by layer 'input_ids_layer')>\", 'token_type_ids': \"<KerasTensor: shape=(None, 512) dtype=int64 (created by layer 'token_type_ids_layer')>\", 'attention_mask': \"<KerasTensor: shape=(None, 512) dtype=int64 (created by layer 'attention_mask_layer')>\"}\n  • attention_mask=None\n  • token_type_ids=None\n  • position_ids=None\n  • head_mask=None\n  • inputs_embeds=None\n  • encoder_hidden_states=None\n  • encoder_attention_mask=None\n  • past_key_values=None\n  • use_cache=None\n  • output_attentions=None\n  • output_hidden_states=None\n  • return_dict=None\n  • training=False"
          ]
        }
      ]
    }
  ]
}