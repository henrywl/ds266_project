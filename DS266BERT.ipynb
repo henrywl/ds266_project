{
  "nbformat": 4,
  "nbformat_minor": 0,
  "metadata": {
    "colab": {
      "provenance": [],
      "gpuType": "V100"
    },
    "kernelspec": {
      "name": "python3",
      "display_name": "Python 3"
    },
    "language_info": {
      "name": "python"
    },
    "accelerator": "GPU",
    "widgets": {
      "application/vnd.jupyter.widget-state+json": {
        "0d810ddb8067466db6ec2602569d4d78": {
          "model_module": "@jupyter-widgets/controls",
          "model_name": "HBoxModel",
          "model_module_version": "1.5.0",
          "state": {
            "_dom_classes": [],
            "_model_module": "@jupyter-widgets/controls",
            "_model_module_version": "1.5.0",
            "_model_name": "HBoxModel",
            "_view_count": null,
            "_view_module": "@jupyter-widgets/controls",
            "_view_module_version": "1.5.0",
            "_view_name": "HBoxView",
            "box_style": "",
            "children": [
              "IPY_MODEL_f7d5189849144d3ab3e1300e93c68474",
              "IPY_MODEL_be5a6d79864b4c8b8fccd199ae339366",
              "IPY_MODEL_446d2e0408c24fbe8b2dd32156e7ee56"
            ],
            "layout": "IPY_MODEL_662a872468bc44b985911d38d3471e2e"
          }
        },
        "f7d5189849144d3ab3e1300e93c68474": {
          "model_module": "@jupyter-widgets/controls",
          "model_name": "HTMLModel",
          "model_module_version": "1.5.0",
          "state": {
            "_dom_classes": [],
            "_model_module": "@jupyter-widgets/controls",
            "_model_module_version": "1.5.0",
            "_model_name": "HTMLModel",
            "_view_count": null,
            "_view_module": "@jupyter-widgets/controls",
            "_view_module_version": "1.5.0",
            "_view_name": "HTMLView",
            "description": "",
            "description_tooltip": null,
            "layout": "IPY_MODEL_f833cb2bd3834105966bec186bc183e1",
            "placeholder": "​",
            "style": "IPY_MODEL_15c9d47d1b694fbdb269a5de2f125414",
            "value": "model.safetensors: 100%"
          }
        },
        "be5a6d79864b4c8b8fccd199ae339366": {
          "model_module": "@jupyter-widgets/controls",
          "model_name": "FloatProgressModel",
          "model_module_version": "1.5.0",
          "state": {
            "_dom_classes": [],
            "_model_module": "@jupyter-widgets/controls",
            "_model_module_version": "1.5.0",
            "_model_name": "FloatProgressModel",
            "_view_count": null,
            "_view_module": "@jupyter-widgets/controls",
            "_view_module_version": "1.5.0",
            "_view_name": "ProgressView",
            "bar_style": "success",
            "description": "",
            "description_tooltip": null,
            "layout": "IPY_MODEL_9f94ef158fb84cc39a169013c8b3c483",
            "max": 435755784,
            "min": 0,
            "orientation": "horizontal",
            "style": "IPY_MODEL_564c3d4acc904b86bc291bd99b186ce2",
            "value": 435755784
          }
        },
        "446d2e0408c24fbe8b2dd32156e7ee56": {
          "model_module": "@jupyter-widgets/controls",
          "model_name": "HTMLModel",
          "model_module_version": "1.5.0",
          "state": {
            "_dom_classes": [],
            "_model_module": "@jupyter-widgets/controls",
            "_model_module_version": "1.5.0",
            "_model_name": "HTMLModel",
            "_view_count": null,
            "_view_module": "@jupyter-widgets/controls",
            "_view_module_version": "1.5.0",
            "_view_name": "HTMLView",
            "description": "",
            "description_tooltip": null,
            "layout": "IPY_MODEL_4b12007c3f694cfe901924ba7896c7a3",
            "placeholder": "​",
            "style": "IPY_MODEL_06f4944985ae456da4a0aeb9ecfd5ae1",
            "value": " 436M/436M [00:02&lt;00:00, 210MB/s]"
          }
        },
        "662a872468bc44b985911d38d3471e2e": {
          "model_module": "@jupyter-widgets/base",
          "model_name": "LayoutModel",
          "model_module_version": "1.2.0",
          "state": {
            "_model_module": "@jupyter-widgets/base",
            "_model_module_version": "1.2.0",
            "_model_name": "LayoutModel",
            "_view_count": null,
            "_view_module": "@jupyter-widgets/base",
            "_view_module_version": "1.2.0",
            "_view_name": "LayoutView",
            "align_content": null,
            "align_items": null,
            "align_self": null,
            "border": null,
            "bottom": null,
            "display": null,
            "flex": null,
            "flex_flow": null,
            "grid_area": null,
            "grid_auto_columns": null,
            "grid_auto_flow": null,
            "grid_auto_rows": null,
            "grid_column": null,
            "grid_gap": null,
            "grid_row": null,
            "grid_template_areas": null,
            "grid_template_columns": null,
            "grid_template_rows": null,
            "height": null,
            "justify_content": null,
            "justify_items": null,
            "left": null,
            "margin": null,
            "max_height": null,
            "max_width": null,
            "min_height": null,
            "min_width": null,
            "object_fit": null,
            "object_position": null,
            "order": null,
            "overflow": null,
            "overflow_x": null,
            "overflow_y": null,
            "padding": null,
            "right": null,
            "top": null,
            "visibility": null,
            "width": null
          }
        },
        "f833cb2bd3834105966bec186bc183e1": {
          "model_module": "@jupyter-widgets/base",
          "model_name": "LayoutModel",
          "model_module_version": "1.2.0",
          "state": {
            "_model_module": "@jupyter-widgets/base",
            "_model_module_version": "1.2.0",
            "_model_name": "LayoutModel",
            "_view_count": null,
            "_view_module": "@jupyter-widgets/base",
            "_view_module_version": "1.2.0",
            "_view_name": "LayoutView",
            "align_content": null,
            "align_items": null,
            "align_self": null,
            "border": null,
            "bottom": null,
            "display": null,
            "flex": null,
            "flex_flow": null,
            "grid_area": null,
            "grid_auto_columns": null,
            "grid_auto_flow": null,
            "grid_auto_rows": null,
            "grid_column": null,
            "grid_gap": null,
            "grid_row": null,
            "grid_template_areas": null,
            "grid_template_columns": null,
            "grid_template_rows": null,
            "height": null,
            "justify_content": null,
            "justify_items": null,
            "left": null,
            "margin": null,
            "max_height": null,
            "max_width": null,
            "min_height": null,
            "min_width": null,
            "object_fit": null,
            "object_position": null,
            "order": null,
            "overflow": null,
            "overflow_x": null,
            "overflow_y": null,
            "padding": null,
            "right": null,
            "top": null,
            "visibility": null,
            "width": null
          }
        },
        "15c9d47d1b694fbdb269a5de2f125414": {
          "model_module": "@jupyter-widgets/controls",
          "model_name": "DescriptionStyleModel",
          "model_module_version": "1.5.0",
          "state": {
            "_model_module": "@jupyter-widgets/controls",
            "_model_module_version": "1.5.0",
            "_model_name": "DescriptionStyleModel",
            "_view_count": null,
            "_view_module": "@jupyter-widgets/base",
            "_view_module_version": "1.2.0",
            "_view_name": "StyleView",
            "description_width": ""
          }
        },
        "9f94ef158fb84cc39a169013c8b3c483": {
          "model_module": "@jupyter-widgets/base",
          "model_name": "LayoutModel",
          "model_module_version": "1.2.0",
          "state": {
            "_model_module": "@jupyter-widgets/base",
            "_model_module_version": "1.2.0",
            "_model_name": "LayoutModel",
            "_view_count": null,
            "_view_module": "@jupyter-widgets/base",
            "_view_module_version": "1.2.0",
            "_view_name": "LayoutView",
            "align_content": null,
            "align_items": null,
            "align_self": null,
            "border": null,
            "bottom": null,
            "display": null,
            "flex": null,
            "flex_flow": null,
            "grid_area": null,
            "grid_auto_columns": null,
            "grid_auto_flow": null,
            "grid_auto_rows": null,
            "grid_column": null,
            "grid_gap": null,
            "grid_row": null,
            "grid_template_areas": null,
            "grid_template_columns": null,
            "grid_template_rows": null,
            "height": null,
            "justify_content": null,
            "justify_items": null,
            "left": null,
            "margin": null,
            "max_height": null,
            "max_width": null,
            "min_height": null,
            "min_width": null,
            "object_fit": null,
            "object_position": null,
            "order": null,
            "overflow": null,
            "overflow_x": null,
            "overflow_y": null,
            "padding": null,
            "right": null,
            "top": null,
            "visibility": null,
            "width": null
          }
        },
        "564c3d4acc904b86bc291bd99b186ce2": {
          "model_module": "@jupyter-widgets/controls",
          "model_name": "ProgressStyleModel",
          "model_module_version": "1.5.0",
          "state": {
            "_model_module": "@jupyter-widgets/controls",
            "_model_module_version": "1.5.0",
            "_model_name": "ProgressStyleModel",
            "_view_count": null,
            "_view_module": "@jupyter-widgets/base",
            "_view_module_version": "1.2.0",
            "_view_name": "StyleView",
            "bar_color": null,
            "description_width": ""
          }
        },
        "4b12007c3f694cfe901924ba7896c7a3": {
          "model_module": "@jupyter-widgets/base",
          "model_name": "LayoutModel",
          "model_module_version": "1.2.0",
          "state": {
            "_model_module": "@jupyter-widgets/base",
            "_model_module_version": "1.2.0",
            "_model_name": "LayoutModel",
            "_view_count": null,
            "_view_module": "@jupyter-widgets/base",
            "_view_module_version": "1.2.0",
            "_view_name": "LayoutView",
            "align_content": null,
            "align_items": null,
            "align_self": null,
            "border": null,
            "bottom": null,
            "display": null,
            "flex": null,
            "flex_flow": null,
            "grid_area": null,
            "grid_auto_columns": null,
            "grid_auto_flow": null,
            "grid_auto_rows": null,
            "grid_column": null,
            "grid_gap": null,
            "grid_row": null,
            "grid_template_areas": null,
            "grid_template_columns": null,
            "grid_template_rows": null,
            "height": null,
            "justify_content": null,
            "justify_items": null,
            "left": null,
            "margin": null,
            "max_height": null,
            "max_width": null,
            "min_height": null,
            "min_width": null,
            "object_fit": null,
            "object_position": null,
            "order": null,
            "overflow": null,
            "overflow_x": null,
            "overflow_y": null,
            "padding": null,
            "right": null,
            "top": null,
            "visibility": null,
            "width": null
          }
        },
        "06f4944985ae456da4a0aeb9ecfd5ae1": {
          "model_module": "@jupyter-widgets/controls",
          "model_name": "DescriptionStyleModel",
          "model_module_version": "1.5.0",
          "state": {
            "_model_module": "@jupyter-widgets/controls",
            "_model_module_version": "1.5.0",
            "_model_name": "DescriptionStyleModel",
            "_view_count": null,
            "_view_module": "@jupyter-widgets/base",
            "_view_module_version": "1.2.0",
            "_view_name": "StyleView",
            "description_width": ""
          }
        }
      }
    }
  },
  "cells": [
    {
      "cell_type": "markdown",
      "source": [
        "## Setup"
      ],
      "metadata": {
        "id": "N7XjkzeHhqt9"
      }
    },
    {
      "cell_type": "code",
      "execution_count": null,
      "metadata": {
        "id": "A6oRzWwv1Op6",
        "colab": {
          "base_uri": "https://localhost:8080/"
        },
        "outputId": "7fdc8d9d-28e0-4c9f-e4ee-f6ab9fffea68"
      },
      "outputs": [
        {
          "output_type": "stream",
          "name": "stdout",
          "text": [
            "Requirement already satisfied: numba in /usr/local/lib/python3.10/dist-packages (0.58.1)\n",
            "Requirement already satisfied: llvmlite<0.42,>=0.41.0dev0 in /usr/local/lib/python3.10/dist-packages (from numba) (0.41.1)\n",
            "Requirement already satisfied: numpy<1.27,>=1.22 in /usr/local/lib/python3.10/dist-packages (from numba) (1.25.2)\n"
          ]
        }
      ],
      "source": [
        "!pip install -q transformers==4.37.2\n",
        "!pip install numba"
      ]
    },
    {
      "cell_type": "code",
      "source": [
        "import numpy as np\n",
        "import tensorflow as tf\n",
        "from tensorflow import keras\n",
        "from tensorflow.keras import mixed_precision\n",
        "\n",
        "from tensorflow.keras.layers import Embedding, Input, Dense, Lambda\n",
        "from tensorflow.keras.models import Model\n",
        "import tensorflow.keras.backend as K\n",
        "from numba import cuda\n",
        "\n",
        "import sklearn as sk\n",
        "import os\n",
        "import nltk\n",
        "from nltk.data import find\n",
        "import pandas as pd\n",
        "import gc\n",
        "\n",
        "import matplotlib.pyplot as plt\n",
        "\n",
        "import re"
      ],
      "metadata": {
        "id": "JpLQdZpV1Vp-"
      },
      "execution_count": null,
      "outputs": []
    },
    {
      "cell_type": "markdown",
      "source": [
        "## Load datasets"
      ],
      "metadata": {
        "id": "i3zi_MmAhol_"
      }
    },
    {
      "cell_type": "code",
      "source": [
        "## Load datasets\n",
        "from google.colab import drive\n",
        "\n",
        "# Mount Google Drive\n",
        "drive.mount('/content/drive')\n",
        "model_checkpoints_path = '/content/drive/My Drive/ds266proj/model_checkpoints'\n",
        "\n",
        "# Read data from to Google Drive\n",
        "hs_all_data = pd.read_csv('/content/drive/My Drive/ds266proj/hs_cards_data_text.csv')\n",
        "nr_all_data = pd.read_csv('/content/drive/My Drive/ds266proj/nr_cards_data_text.csv')"
      ],
      "metadata": {
        "colab": {
          "base_uri": "https://localhost:8080/"
        },
        "id": "0K1IrHZM1mg9",
        "outputId": "12c158a7-c0db-4a9f-89da-396c547f6252"
      },
      "execution_count": null,
      "outputs": [
        {
          "output_type": "stream",
          "name": "stdout",
          "text": [
            "Drive already mounted at /content/drive; to attempt to forcibly remount, call drive.mount(\"/content/drive\", force_remount=True).\n"
          ]
        }
      ]
    },
    {
      "cell_type": "code",
      "source": [
        "## CODE FOR TRAIN AND TEST SPLITS\n",
        "##===========================================================\n",
        "\n",
        "def splitTrainTest(dataset,\n",
        "                   label,\n",
        "                   test_ratio = 0.3):\n",
        "\n",
        "  # Set up the modeling dataset and classification label\n",
        "  modeling_df = dataset.copy()\n",
        "  classes = modeling_df[label].unique().tolist()\n",
        "  print(f\"Label classes: {classes}\")\n",
        "  # Convert the label to a numeric value\n",
        "  modeling_df.loc[:, label] = modeling_df[label].map(classes.index)\n",
        "\n",
        "  # Split into training and test data\n",
        "  np.random.seed(2319)\n",
        "  test_indices = np.random.rand(len(modeling_df)) < test_ratio\n",
        "  print(\"{} examples in training, {} examples for testing.\".format(\n",
        "    len(modeling_df[~test_indices]), len(modeling_df[test_indices])))\n",
        "\n",
        "  return modeling_df[~test_indices], modeling_df[test_indices]\n",
        "\n",
        "hs_train, hs_test = splitTrainTest(hs_all_data, label = 'classes')\n",
        "nr_train, nr_test = splitTrainTest(nr_all_data, label = 'faction_code')"
      ],
      "metadata": {
        "colab": {
          "base_uri": "https://localhost:8080/"
        },
        "id": "mUkEUnXY1wls",
        "outputId": "8c4a472c-6fbd-4920-99a9-c3a135bd9328"
      },
      "execution_count": null,
      "outputs": [
        {
          "output_type": "stream",
          "name": "stdout",
          "text": [
            "Label classes: ['PRIEST', 'WARRIOR', 'WARLOCK', 'SHAMAN', 'DRUID', 'PALADIN', 'MAGE', 'HUNTER', 'ROGUE', 'DEMONHUNTER', 'DEATHKNIGHT', 'NEUTRAL']\n",
            "5234 examples in training, 2291 examples for testing.\n",
            "Label classes: ['neutral-corp', 'neutral-runner', 'weyland-consortium', 'nbn', 'jinteki', 'haas-bioroid', 'shaper', 'criminal', 'anarch']\n",
            "1495 examples in training, 628 examples for testing.\n"
          ]
        },
        {
          "output_type": "stream",
          "name": "stderr",
          "text": [
            "<ipython-input-4-75ccadce797d>:13: DeprecationWarning: In a future version, `df.iloc[:, i] = newvals` will attempt to set the values inplace instead of always setting a new array. To retain the old behavior, use either `df[df.columns[i]] = newvals` or, if columns are non-unique, `df.isetitem(i, newvals)`\n",
            "  modeling_df.loc[:, label] = modeling_df[label].map(classes.index)\n"
          ]
        }
      ]
    },
    {
      "cell_type": "code",
      "source": [
        "from transformers import BertTokenizer, TFBertModel, BertModel, AutoTokenizer\n",
        "from transformers import logging\n",
        "logging.set_verbosity_error()"
      ],
      "metadata": {
        "id": "SksoXeSF2J-0"
      },
      "execution_count": null,
      "outputs": []
    },
    {
      "cell_type": "code",
      "source": [
        "MAX_SEQ_LENGTH = 512\n",
        "checkpoint = 'bert-base-cased'"
      ],
      "metadata": {
        "id": "KLI9YfrmqjhY"
      },
      "execution_count": null,
      "outputs": []
    },
    {
      "cell_type": "code",
      "source": [
        "bert_tokenizer = BertTokenizer.from_pretrained(checkpoint)"
      ],
      "metadata": {
        "id": "dr5vWcKQ2bFL",
        "colab": {
          "base_uri": "https://localhost:8080/"
        },
        "outputId": "2037627d-410c-46e8-953e-cdee61a8be7f"
      },
      "execution_count": null,
      "outputs": [
        {
          "output_type": "stream",
          "name": "stderr",
          "text": [
            "/usr/local/lib/python3.10/dist-packages/huggingface_hub/utils/_token.py:88: UserWarning: \n",
            "The secret `HF_TOKEN` does not exist in your Colab secrets.\n",
            "To authenticate with the Hugging Face Hub, create a token in your settings tab (https://huggingface.co/settings/tokens), set it as secret in your Google Colab and restart your session.\n",
            "You will be able to reuse this secret in all of your notebooks.\n",
            "Please note that authentication is recommended but still optional to access public models or datasets.\n",
            "  warnings.warn(\n"
          ]
        }
      ]
    },
    {
      "cell_type": "markdown",
      "source": [
        "## Define functions for modeling"
      ],
      "metadata": {
        "id": "ZppKk0Z9hlxi"
      }
    },
    {
      "cell_type": "code",
      "source": [
        "## Simplistic BERT model creation\n",
        "## Tensorflow version\n",
        "##-----------------------------------------------------\n",
        "def create_bert_classification_model(bert_model,\n",
        "                                     checkpoint_name = 'DEFAULT',\n",
        "                                     model_checkpoints_path = '/content/drive/My Drive/ds266proj/model_checkpoints/',\n",
        "                                     num_train_layers = 0,\n",
        "                                     retrain_layers = None,\n",
        "                                     hidden_size = 200,\n",
        "                                     dropout = 0.3,\n",
        "                                     chkpt_period = 1,\n",
        "                                     learning_rate = 0.00005):\n",
        "    \"\"\"\n",
        "    Build a simple classification model with BERT. Use the Pooler Output for classification purposes\n",
        "    \"\"\"\n",
        "    if num_train_layers == 0:\n",
        "        # Freeze all layers of pre-trained BERT model\n",
        "        bert_model.trainable = False\n",
        "    elif num_train_layers == 12 and retrain_layers is None:\n",
        "        # Train all layers of the BERT model\n",
        "        bert_model.trainable = True\n",
        "    else:\n",
        "        # Restrict training to the num_train_layers outer transformer layers\n",
        "        if retrain_layers is not None:\n",
        "          print('retrain layers: ', retrain_layers)\n",
        "        else:\n",
        "          retrain_layers = []\n",
        "          for retrain_layer_number in range(num_train_layers):\n",
        "              layer_code = '_' + str(11 - retrain_layer_number)\n",
        "              retrain_layers.append(layer_code)\n",
        "          print('retrain layers: ', retrain_layers)\n",
        "\n",
        "        for w in bert_model.weights:\n",
        "            if not any([x in w.name for x in retrain_layers]):\n",
        "                # print('freezing: ', w.name)\n",
        "                w._trainable = False\n",
        "\n",
        "    input_ids = tf.keras.layers.Input(shape=(MAX_SEQ_LENGTH,), dtype=tf.int64, name='input_ids_layer')\n",
        "    token_type_ids = tf.keras.layers.Input(shape=(MAX_SEQ_LENGTH,), dtype=tf.int64, name='token_type_ids_layer')\n",
        "    attention_mask = tf.keras.layers.Input(shape=(MAX_SEQ_LENGTH,), dtype=tf.int64, name='attention_mask_layer')\n",
        "\n",
        "    ## Set up the BERT model; this will use the CLS token input\n",
        "    bert_inputs = {'input_ids': input_ids,\n",
        "                   'token_type_ids': token_type_ids,\n",
        "                   'attention_mask': attention_mask}\n",
        "    bert_out = bert_model(bert_inputs)\n",
        "    cls_token = bert_out[0][:, 0, :]\n",
        "\n",
        "    hidden = tf.keras.layers.Dense(hidden_size, activation='relu', name='hidden_layer')(cls_token)\n",
        "    hidden = tf.keras.layers.Dropout(dropout)(hidden)\n",
        "\n",
        "    classification = tf.keras.layers.Dense(12, activation='softmax',name='classification')(hidden)\n",
        "    classification_model = tf.keras.Model(inputs=[input_ids, token_type_ids, attention_mask], outputs=[classification])\n",
        "    classification_model.compile(optimizer=tf.keras.optimizers.Adam(learning_rate=learning_rate),\n",
        "                                 loss='sparse_categorical_crossentropy',\n",
        "                                 metrics='accuracy')\n",
        "\n",
        "    ## Set up the checkpointing for the model\n",
        "    checkpoint_filepath = model_checkpoints_path + checkpoint_name + '_tfweights.{epoch:02d}-{val_accuracy:.2f}.hdf5'\n",
        "    model_checkpoint_callback = tf.keras.callbacks.ModelCheckpoint(filepath=checkpoint_filepath, save_weights_only=True, period=chkpt_period)\n",
        "\n",
        "    return classification_model, model_checkpoint_callback"
      ],
      "metadata": {
        "id": "aaO5Y0ZM2b-x"
      },
      "execution_count": null,
      "outputs": []
    },
    {
      "cell_type": "markdown",
      "source": [
        "## Paramteriz Data For Models"
      ],
      "metadata": {
        "id": "l8DCYo95hiop"
      }
    },
    {
      "cell_type": "code",
      "source": [
        "## Set up the model inputs\n",
        "HS_LABEL_NAMES = ['PRIEST', 'WARRIOR', 'WARLOCK', 'SHAMAN', 'DRUID', 'PALADIN', 'MAGE', 'HUNTER', 'ROGUE', 'DEMONHUNTER', 'DEATHKNIGHT', 'NEUTRAL']\n",
        "\n",
        "def genBERTInputs(train_data, test_data, desc_field, label_field, return_tensors):\n",
        "  # Tokenize the training and test data\n",
        "  x_train = bert_tokenizer(train_data[desc_field].tolist(),\n",
        "                           padding = \"max_length\",\n",
        "                           truncation = True,\n",
        "                           max_length = MAX_SEQ_LENGTH,\n",
        "                           return_tensors = return_tensors)\n",
        "  x_test = bert_tokenizer(test_data[desc_field].tolist(),\n",
        "                          padding = \"max_length\",\n",
        "                          truncation = True,\n",
        "                          max_length = MAX_SEQ_LENGTH,\n",
        "                          return_tensors = return_tensors)\n",
        "  # Return array versions of the labels\n",
        "  y_train = np.array(train_data[label_field].tolist())\n",
        "  y_test = np.array(test_data[label_field].tolist())\n",
        "  # Return all data\n",
        "  return x_train, x_test, y_train, y_test\n",
        "\n",
        "# Create the datasets\n",
        "x_hs_train_tf, x_hs_test_tf, y_hs_train_tf, y_hs_test_tf = genBERTInputs(hs_train, hs_test, 'description', 'classes', 'tf')\n",
        "x_nr_train_tf, x_nr_test_tf, y_nr_train_tf, y_nr_test_tf = genBERTInputs(nr_train, nr_test, 'description', 'faction_code', 'tf')"
      ],
      "metadata": {
        "id": "Q0jHuZoE7tJi"
      },
      "execution_count": null,
      "outputs": []
    },
    {
      "cell_type": "markdown",
      "source": [
        "## Run Models"
      ],
      "metadata": {
        "id": "VWAa5Jn5jtgD"
      }
    },
    {
      "cell_type": "markdown",
      "source": [
        "### Base Models"
      ],
      "metadata": {
        "id": "YWBxJoeijwG2"
      }
    },
    {
      "cell_type": "markdown",
      "source": [
        "#### BERT, TF"
      ],
      "metadata": {
        "id": "-32yXjEyjydz"
      }
    },
    {
      "cell_type": "code",
      "source": [
        "## Parametrize\n",
        "EPOCHS = 2\n",
        "tf_bert_model = TFBertModel.from_pretrained(checkpoint)\n",
        "\n",
        "hs_bert_1, hs_bert_1_chkpt = create_bert_classification_model(tf_bert_model, checkpoint_name = 'BERT_base_HS', num_train_layers=0, chkpt_period = EPOCHS)"
      ],
      "metadata": {
        "id": "adidWxI3i_Up",
        "colab": {
          "base_uri": "https://localhost:8080/",
          "height": 66,
          "referenced_widgets": [
            "0d810ddb8067466db6ec2602569d4d78",
            "f7d5189849144d3ab3e1300e93c68474",
            "be5a6d79864b4c8b8fccd199ae339366",
            "446d2e0408c24fbe8b2dd32156e7ee56",
            "662a872468bc44b985911d38d3471e2e",
            "f833cb2bd3834105966bec186bc183e1",
            "15c9d47d1b694fbdb269a5de2f125414",
            "9f94ef158fb84cc39a169013c8b3c483",
            "564c3d4acc904b86bc291bd99b186ce2",
            "4b12007c3f694cfe901924ba7896c7a3",
            "06f4944985ae456da4a0aeb9ecfd5ae1"
          ]
        },
        "outputId": "4285459a-737a-46f9-a820-40375fb9b6e6"
      },
      "execution_count": null,
      "outputs": [
        {
          "output_type": "display_data",
          "data": {
            "text/plain": [
              "model.safetensors:   0%|          | 0.00/436M [00:00<?, ?B/s]"
            ],
            "application/vnd.jupyter.widget-view+json": {
              "version_major": 2,
              "version_minor": 0,
              "model_id": "0d810ddb8067466db6ec2602569d4d78"
            }
          },
          "metadata": {}
        },
        {
          "output_type": "stream",
          "name": "stderr",
          "text": [
            "WARNING:tensorflow:`period` argument is deprecated. Please use `save_freq` to specify the frequency in number of batches seen.\n"
          ]
        }
      ]
    },
    {
      "cell_type": "code",
      "source": [
        "## Train the model\n",
        "hs_bert_1_history = hs_bert_1.fit(\n",
        "    [x_hs_train_tf.input_ids, x_hs_train_tf.token_type_ids, x_hs_train_tf.attention_mask],\n",
        "    y_hs_train_tf,\n",
        "    validation_data=([x_hs_test_tf.input_ids, x_hs_test_tf.token_type_ids, x_hs_test_tf.attention_mask], y_hs_test_tf),\n",
        "    batch_size=32,\n",
        "    epochs=EPOCHS,\n",
        "    callbacks=[hs_bert_1_chkpt]\n",
        ")"
      ],
      "metadata": {
        "colab": {
          "base_uri": "https://localhost:8080/"
        },
        "id": "isouWuPG7pLY",
        "outputId": "8c274d82-232a-4879-8c6c-74c79926662c"
      },
      "execution_count": null,
      "outputs": [
        {
          "output_type": "stream",
          "name": "stdout",
          "text": [
            "Epoch 1/2\n",
            "164/164 [==============================] - 136s 722ms/step - loss: 2.5890 - accuracy: 0.0940 - val_loss: 2.4481 - val_accuracy: 0.1336\n",
            "Epoch 2/2\n",
            "164/164 [==============================] - 104s 634ms/step - loss: 2.5082 - accuracy: 0.0974 - val_loss: 2.4381 - val_accuracy: 0.1279\n"
          ]
        }
      ]
    },
    {
      "cell_type": "code",
      "source": [
        "# Clear out the previous model to make RAM space for a bigger pass\n",
        "# Delete the variable holding the NLP model\n",
        "del tf_bert_model\n",
        "del hs_bert_1\n",
        "del hs_bert_1_chkpt\n",
        "gc.collect()"
      ],
      "metadata": {
        "id": "KCdp7781-Whi"
      },
      "execution_count": null,
      "outputs": []
    },
    {
      "cell_type": "code",
      "source": [
        "## Parametrize\n",
        "EPOCHS = 2\n",
        "tf_bert_model = TFBertModel.from_pretrained(checkpoint)\n",
        "\n",
        "nr_bert_1, nr_bert_1_chkpt = create_bert_classification_model(tf_bert_model, checkpoint_name = 'BERT_base_NR', num_train_layers=0, chkpt_period = EPOCHS)"
      ],
      "metadata": {
        "colab": {
          "base_uri": "https://localhost:8080/"
        },
        "id": "M6vx2v1-EjmI",
        "outputId": "0289f822-a6cb-47e6-dc86-d56c3eb674fd"
      },
      "execution_count": null,
      "outputs": [
        {
          "output_type": "stream",
          "name": "stderr",
          "text": [
            "WARNING:tensorflow:`period` argument is deprecated. Please use `save_freq` to specify the frequency in number of batches seen.\n"
          ]
        }
      ]
    },
    {
      "cell_type": "code",
      "source": [
        "## Train the model\n",
        "nr_bert_1_history = nr_bert_1.fit(\n",
        "    [x_nr_train_tf.input_ids, x_nr_train_tf.token_type_ids, x_nr_train_tf.attention_mask],\n",
        "    y_nr_train_tf,\n",
        "    validation_data=([x_nr_test_tf.input_ids, x_nr_test_tf.token_type_ids, x_nr_test_tf.attention_mask], y_nr_test_tf),\n",
        "    batch_size=32,\n",
        "    epochs=EPOCHS,\n",
        "    callbacks=[nr_bert_1_chkpt]\n",
        ")"
      ],
      "metadata": {
        "colab": {
          "base_uri": "https://localhost:8080/"
        },
        "id": "RBiDjnzfFEmR",
        "outputId": "6d928adf-0d01-496c-b301-d45b80ab8f0b"
      },
      "execution_count": null,
      "outputs": [
        {
          "output_type": "stream",
          "name": "stdout",
          "text": [
            "Epoch 1/2\n",
            "47/47 [==============================] - 49s 740ms/step - loss: 2.6914 - accuracy: 0.0963 - val_loss: 2.3771 - val_accuracy: 0.1003\n",
            "Epoch 2/2\n",
            "47/47 [==============================] - 33s 697ms/step - loss: 2.4229 - accuracy: 0.1144 - val_loss: 2.2623 - val_accuracy: 0.1561\n"
          ]
        }
      ]
    },
    {
      "cell_type": "code",
      "source": [
        "# Clear out the previous model to make RAM space for a bigger pass\n",
        "# Delete the variable holding the NLP model\n",
        "del tf_bert_model\n",
        "del nr_bert_1\n",
        "del nr_bert_1_chkpt\n",
        "gc.collect()"
      ],
      "metadata": {
        "colab": {
          "base_uri": "https://localhost:8080/"
        },
        "id": "bfp5o0C-HDLu",
        "outputId": "0b187961-5b47-40fd-80ba-af217414068e"
      },
      "execution_count": null,
      "outputs": [
        {
          "output_type": "execute_result",
          "data": {
            "text/plain": [
              "19041"
            ]
          },
          "metadata": {},
          "execution_count": 16
        }
      ]
    },
    {
      "cell_type": "markdown",
      "source": [
        "#### Bigger Bert, TF"
      ],
      "metadata": {
        "id": "mzEGEGHLEkDs"
      }
    },
    {
      "cell_type": "code",
      "source": [
        "# Train the first layer and allow more epochs -- better?\n",
        "tf_bert_model = TFBertModel.from_pretrained(checkpoint)\n",
        "hs_bert_2, hs_bert_2_chkpt = create_bert_classification_model(tf_bert_model, checkpoint_name = 'BERT_shallow_train_HS', num_train_layers=1)"
      ],
      "metadata": {
        "colab": {
          "base_uri": "https://localhost:8080/"
        },
        "id": "O4XFMk0kE3sE",
        "outputId": "469b2097-3dfd-48b0-f416-f86acee6a991"
      },
      "execution_count": null,
      "outputs": [
        {
          "output_type": "stream",
          "name": "stdout",
          "text": [
            "retrain layers:  ['_11']\n"
          ]
        },
        {
          "output_type": "stream",
          "name": "stderr",
          "text": [
            "WARNING:tensorflow:`period` argument is deprecated. Please use `save_freq` to specify the frequency in number of batches seen.\n"
          ]
        }
      ]
    },
    {
      "cell_type": "code",
      "source": [
        "hs_bert_2_history = hs_bert_2.fit(\n",
        "    [x_hs_train_tf.input_ids, x_hs_train_tf.token_type_ids, x_hs_train_tf.attention_mask],\n",
        "    y_hs_train_tf,\n",
        "    validation_data=([x_hs_test_tf.input_ids, x_hs_test_tf.token_type_ids, x_hs_test_tf.attention_mask], y_hs_test_tf),\n",
        "    batch_size=32,\n",
        "    epochs=4,\n",
        "    callbacks=[hs_bert_2_chkpt]\n",
        ")"
      ],
      "metadata": {
        "colab": {
          "base_uri": "https://localhost:8080/"
        },
        "id": "4FMxVU-XCpnV",
        "outputId": "52084477-861f-4cbf-802f-a5a123d46e76"
      },
      "execution_count": null,
      "outputs": [
        {
          "output_type": "stream",
          "name": "stdout",
          "text": [
            "Epoch 1/4\n"
          ]
        },
        {
          "output_type": "stream",
          "name": "stderr",
          "text": [
            "WARNING:tensorflow:Gradients do not exist for variables ['tf_bert_model_2/bert/embeddings/word_embeddings/weight:0', 'tf_bert_model_2/bert/embeddings/token_type_embeddings/embeddings:0', 'tf_bert_model_2/bert/embeddings/position_embeddings/embeddings:0', 'tf_bert_model_2/bert/embeddings/LayerNorm/gamma:0', 'tf_bert_model_2/bert/embeddings/LayerNorm/beta:0', 'tf_bert_model_2/bert/encoder/layer_._0/attention/self/query/kernel:0', 'tf_bert_model_2/bert/encoder/layer_._0/attention/self/query/bias:0', 'tf_bert_model_2/bert/encoder/layer_._0/attention/self/key/kernel:0', 'tf_bert_model_2/bert/encoder/layer_._0/attention/self/key/bias:0', 'tf_bert_model_2/bert/encoder/layer_._0/attention/self/value/kernel:0', 'tf_bert_model_2/bert/encoder/layer_._0/attention/self/value/bias:0', 'tf_bert_model_2/bert/encoder/layer_._0/attention/output/dense/kernel:0', 'tf_bert_model_2/bert/encoder/layer_._0/attention/output/dense/bias:0', 'tf_bert_model_2/bert/encoder/layer_._0/attention/output/LayerNorm/gamma:0', 'tf_bert_model_2/bert/encoder/layer_._0/attention/output/LayerNorm/beta:0', 'tf_bert_model_2/bert/encoder/layer_._0/intermediate/dense/kernel:0', 'tf_bert_model_2/bert/encoder/layer_._0/intermediate/dense/bias:0', 'tf_bert_model_2/bert/encoder/layer_._0/output/dense/kernel:0', 'tf_bert_model_2/bert/encoder/layer_._0/output/dense/bias:0', 'tf_bert_model_2/bert/encoder/layer_._0/output/LayerNorm/gamma:0', 'tf_bert_model_2/bert/encoder/layer_._0/output/LayerNorm/beta:0', 'tf_bert_model_2/bert/encoder/layer_._1/attention/self/query/kernel:0', 'tf_bert_model_2/bert/encoder/layer_._1/attention/self/query/bias:0', 'tf_bert_model_2/bert/encoder/layer_._1/attention/self/key/kernel:0', 'tf_bert_model_2/bert/encoder/layer_._1/attention/self/key/bias:0', 'tf_bert_model_2/bert/encoder/layer_._1/attention/self/value/kernel:0', 'tf_bert_model_2/bert/encoder/layer_._1/attention/self/value/bias:0', 'tf_bert_model_2/bert/encoder/layer_._1/attention/output/dense/kernel:0', 'tf_bert_model_2/bert/encoder/layer_._1/attention/output/dense/bias:0', 'tf_bert_model_2/bert/encoder/layer_._1/attention/output/LayerNorm/gamma:0', 'tf_bert_model_2/bert/encoder/layer_._1/attention/output/LayerNorm/beta:0', 'tf_bert_model_2/bert/encoder/layer_._1/intermediate/dense/kernel:0', 'tf_bert_model_2/bert/encoder/layer_._1/intermediate/dense/bias:0', 'tf_bert_model_2/bert/encoder/layer_._1/output/dense/kernel:0', 'tf_bert_model_2/bert/encoder/layer_._1/output/dense/bias:0', 'tf_bert_model_2/bert/encoder/layer_._1/output/LayerNorm/gamma:0', 'tf_bert_model_2/bert/encoder/layer_._1/output/LayerNorm/beta:0', 'tf_bert_model_2/bert/encoder/layer_._2/attention/self/query/kernel:0', 'tf_bert_model_2/bert/encoder/layer_._2/attention/self/query/bias:0', 'tf_bert_model_2/bert/encoder/layer_._2/attention/self/key/kernel:0', 'tf_bert_model_2/bert/encoder/layer_._2/attention/self/key/bias:0', 'tf_bert_model_2/bert/encoder/layer_._2/attention/self/value/kernel:0', 'tf_bert_model_2/bert/encoder/layer_._2/attention/self/value/bias:0', 'tf_bert_model_2/bert/encoder/layer_._2/attention/output/dense/kernel:0', 'tf_bert_model_2/bert/encoder/layer_._2/attention/output/dense/bias:0', 'tf_bert_model_2/bert/encoder/layer_._2/attention/output/LayerNorm/gamma:0', 'tf_bert_model_2/bert/encoder/layer_._2/attention/output/LayerNorm/beta:0', 'tf_bert_model_2/bert/encoder/layer_._2/intermediate/dense/kernel:0', 'tf_bert_model_2/bert/encoder/layer_._2/intermediate/dense/bias:0', 'tf_bert_model_2/bert/encoder/layer_._2/output/dense/kernel:0', 'tf_bert_model_2/bert/encoder/layer_._2/output/dense/bias:0', 'tf_bert_model_2/bert/encoder/layer_._2/output/LayerNorm/gamma:0', 'tf_bert_model_2/bert/encoder/layer_._2/output/LayerNorm/beta:0', 'tf_bert_model_2/bert/encoder/layer_._3/attention/self/query/kernel:0', 'tf_bert_model_2/bert/encoder/layer_._3/attention/self/query/bias:0', 'tf_bert_model_2/bert/encoder/layer_._3/attention/self/key/kernel:0', 'tf_bert_model_2/bert/encoder/layer_._3/attention/self/key/bias:0', 'tf_bert_model_2/bert/encoder/layer_._3/attention/self/value/kernel:0', 'tf_bert_model_2/bert/encoder/layer_._3/attention/self/value/bias:0', 'tf_bert_model_2/bert/encoder/layer_._3/attention/output/dense/kernel:0', 'tf_bert_model_2/bert/encoder/layer_._3/attention/output/dense/bias:0', 'tf_bert_model_2/bert/encoder/layer_._3/attention/output/LayerNorm/gamma:0', 'tf_bert_model_2/bert/encoder/layer_._3/attention/output/LayerNorm/beta:0', 'tf_bert_model_2/bert/encoder/layer_._3/intermediate/dense/kernel:0', 'tf_bert_model_2/bert/encoder/layer_._3/intermediate/dense/bias:0', 'tf_bert_model_2/bert/encoder/layer_._3/output/dense/kernel:0', 'tf_bert_model_2/bert/encoder/layer_._3/output/dense/bias:0', 'tf_bert_model_2/bert/encoder/layer_._3/output/LayerNorm/gamma:0', 'tf_bert_model_2/bert/encoder/layer_._3/output/LayerNorm/beta:0', 'tf_bert_model_2/bert/encoder/layer_._4/attention/self/query/kernel:0', 'tf_bert_model_2/bert/encoder/layer_._4/attention/self/query/bias:0', 'tf_bert_model_2/bert/encoder/layer_._4/attention/self/key/kernel:0', 'tf_bert_model_2/bert/encoder/layer_._4/attention/self/key/bias:0', 'tf_bert_model_2/bert/encoder/layer_._4/attention/self/value/kernel:0', 'tf_bert_model_2/bert/encoder/layer_._4/attention/self/value/bias:0', 'tf_bert_model_2/bert/encoder/layer_._4/attention/output/dense/kernel:0', 'tf_bert_model_2/bert/encoder/layer_._4/attention/output/dense/bias:0', 'tf_bert_model_2/bert/encoder/layer_._4/attention/output/LayerNorm/gamma:0', 'tf_bert_model_2/bert/encoder/layer_._4/attention/output/LayerNorm/beta:0', 'tf_bert_model_2/bert/encoder/layer_._4/intermediate/dense/kernel:0', 'tf_bert_model_2/bert/encoder/layer_._4/intermediate/dense/bias:0', 'tf_bert_model_2/bert/encoder/layer_._4/output/dense/kernel:0', 'tf_bert_model_2/bert/encoder/layer_._4/output/dense/bias:0', 'tf_bert_model_2/bert/encoder/layer_._4/output/LayerNorm/gamma:0', 'tf_bert_model_2/bert/encoder/layer_._4/output/LayerNorm/beta:0', 'tf_bert_model_2/bert/encoder/layer_._5/attention/self/query/kernel:0', 'tf_bert_model_2/bert/encoder/layer_._5/attention/self/query/bias:0', 'tf_bert_model_2/bert/encoder/layer_._5/attention/self/key/kernel:0', 'tf_bert_model_2/bert/encoder/layer_._5/attention/self/key/bias:0', 'tf_bert_model_2/bert/encoder/layer_._5/attention/self/value/kernel:0', 'tf_bert_model_2/bert/encoder/layer_._5/attention/self/value/bias:0', 'tf_bert_model_2/bert/encoder/layer_._5/attention/output/dense/kernel:0', 'tf_bert_model_2/bert/encoder/layer_._5/attention/output/dense/bias:0', 'tf_bert_model_2/bert/encoder/layer_._5/attention/output/LayerNorm/gamma:0', 'tf_bert_model_2/bert/encoder/layer_._5/attention/output/LayerNorm/beta:0', 'tf_bert_model_2/bert/encoder/layer_._5/intermediate/dense/kernel:0', 'tf_bert_model_2/bert/encoder/layer_._5/intermediate/dense/bias:0', 'tf_bert_model_2/bert/encoder/layer_._5/output/dense/kernel:0', 'tf_bert_model_2/bert/encoder/layer_._5/output/dense/bias:0', 'tf_bert_model_2/bert/encoder/layer_._5/output/LayerNorm/gamma:0', 'tf_bert_model_2/bert/encoder/layer_._5/output/LayerNorm/beta:0', 'tf_bert_model_2/bert/encoder/layer_._6/attention/self/query/kernel:0', 'tf_bert_model_2/bert/encoder/layer_._6/attention/self/query/bias:0', 'tf_bert_model_2/bert/encoder/layer_._6/attention/self/key/kernel:0', 'tf_bert_model_2/bert/encoder/layer_._6/attention/self/key/bias:0', 'tf_bert_model_2/bert/encoder/layer_._6/attention/self/value/kernel:0', 'tf_bert_model_2/bert/encoder/layer_._6/attention/self/value/bias:0', 'tf_bert_model_2/bert/encoder/layer_._6/attention/output/dense/kernel:0', 'tf_bert_model_2/bert/encoder/layer_._6/attention/output/dense/bias:0', 'tf_bert_model_2/bert/encoder/layer_._6/attention/output/LayerNorm/gamma:0', 'tf_bert_model_2/bert/encoder/layer_._6/attention/output/LayerNorm/beta:0', 'tf_bert_model_2/bert/encoder/layer_._6/intermediate/dense/kernel:0', 'tf_bert_model_2/bert/encoder/layer_._6/intermediate/dense/bias:0', 'tf_bert_model_2/bert/encoder/layer_._6/output/dense/kernel:0', 'tf_bert_model_2/bert/encoder/layer_._6/output/dense/bias:0', 'tf_bert_model_2/bert/encoder/layer_._6/output/LayerNorm/gamma:0', 'tf_bert_model_2/bert/encoder/layer_._6/output/LayerNorm/beta:0', 'tf_bert_model_2/bert/encoder/layer_._7/attention/self/query/kernel:0', 'tf_bert_model_2/bert/encoder/layer_._7/attention/self/query/bias:0', 'tf_bert_model_2/bert/encoder/layer_._7/attention/self/key/kernel:0', 'tf_bert_model_2/bert/encoder/layer_._7/attention/self/key/bias:0', 'tf_bert_model_2/bert/encoder/layer_._7/attention/self/value/kernel:0', 'tf_bert_model_2/bert/encoder/layer_._7/attention/self/value/bias:0', 'tf_bert_model_2/bert/encoder/layer_._7/attention/output/dense/kernel:0', 'tf_bert_model_2/bert/encoder/layer_._7/attention/output/dense/bias:0', 'tf_bert_model_2/bert/encoder/layer_._7/attention/output/LayerNorm/gamma:0', 'tf_bert_model_2/bert/encoder/layer_._7/attention/output/LayerNorm/beta:0', 'tf_bert_model_2/bert/encoder/layer_._7/intermediate/dense/kernel:0', 'tf_bert_model_2/bert/encoder/layer_._7/intermediate/dense/bias:0', 'tf_bert_model_2/bert/encoder/layer_._7/output/dense/kernel:0', 'tf_bert_model_2/bert/encoder/layer_._7/output/dense/bias:0', 'tf_bert_model_2/bert/encoder/layer_._7/output/LayerNorm/gamma:0', 'tf_bert_model_2/bert/encoder/layer_._7/output/LayerNorm/beta:0', 'tf_bert_model_2/bert/encoder/layer_._8/attention/self/query/kernel:0', 'tf_bert_model_2/bert/encoder/layer_._8/attention/self/query/bias:0', 'tf_bert_model_2/bert/encoder/layer_._8/attention/self/key/kernel:0', 'tf_bert_model_2/bert/encoder/layer_._8/attention/self/key/bias:0', 'tf_bert_model_2/bert/encoder/layer_._8/attention/self/value/kernel:0', 'tf_bert_model_2/bert/encoder/layer_._8/attention/self/value/bias:0', 'tf_bert_model_2/bert/encoder/layer_._8/attention/output/dense/kernel:0', 'tf_bert_model_2/bert/encoder/layer_._8/attention/output/dense/bias:0', 'tf_bert_model_2/bert/encoder/layer_._8/attention/output/LayerNorm/gamma:0', 'tf_bert_model_2/bert/encoder/layer_._8/attention/output/LayerNorm/beta:0', 'tf_bert_model_2/bert/encoder/layer_._8/intermediate/dense/kernel:0', 'tf_bert_model_2/bert/encoder/layer_._8/intermediate/dense/bias:0', 'tf_bert_model_2/bert/encoder/layer_._8/output/dense/kernel:0', 'tf_bert_model_2/bert/encoder/layer_._8/output/dense/bias:0', 'tf_bert_model_2/bert/encoder/layer_._8/output/LayerNorm/gamma:0', 'tf_bert_model_2/bert/encoder/layer_._8/output/LayerNorm/beta:0', 'tf_bert_model_2/bert/encoder/layer_._9/attention/self/query/kernel:0', 'tf_bert_model_2/bert/encoder/layer_._9/attention/self/query/bias:0', 'tf_bert_model_2/bert/encoder/layer_._9/attention/self/key/kernel:0', 'tf_bert_model_2/bert/encoder/layer_._9/attention/self/key/bias:0', 'tf_bert_model_2/bert/encoder/layer_._9/attention/self/value/kernel:0', 'tf_bert_model_2/bert/encoder/layer_._9/attention/self/value/bias:0', 'tf_bert_model_2/bert/encoder/layer_._9/attention/output/dense/kernel:0', 'tf_bert_model_2/bert/encoder/layer_._9/attention/output/dense/bias:0', 'tf_bert_model_2/bert/encoder/layer_._9/attention/output/LayerNorm/gamma:0', 'tf_bert_model_2/bert/encoder/layer_._9/attention/output/LayerNorm/beta:0', 'tf_bert_model_2/bert/encoder/layer_._9/intermediate/dense/kernel:0', 'tf_bert_model_2/bert/encoder/layer_._9/intermediate/dense/bias:0', 'tf_bert_model_2/bert/encoder/layer_._9/output/dense/kernel:0', 'tf_bert_model_2/bert/encoder/layer_._9/output/dense/bias:0', 'tf_bert_model_2/bert/encoder/layer_._9/output/LayerNorm/gamma:0', 'tf_bert_model_2/bert/encoder/layer_._9/output/LayerNorm/beta:0', 'tf_bert_model_2/bert/encoder/layer_._10/attention/self/query/kernel:0', 'tf_bert_model_2/bert/encoder/layer_._10/attention/self/query/bias:0', 'tf_bert_model_2/bert/encoder/layer_._10/attention/self/key/kernel:0', 'tf_bert_model_2/bert/encoder/layer_._10/attention/self/key/bias:0', 'tf_bert_model_2/bert/encoder/layer_._10/attention/self/value/kernel:0', 'tf_bert_model_2/bert/encoder/layer_._10/attention/self/value/bias:0', 'tf_bert_model_2/bert/encoder/layer_._10/attention/output/dense/kernel:0', 'tf_bert_model_2/bert/encoder/layer_._10/attention/output/dense/bias:0', 'tf_bert_model_2/bert/encoder/layer_._10/attention/output/LayerNorm/gamma:0', 'tf_bert_model_2/bert/encoder/layer_._10/attention/output/LayerNorm/beta:0', 'tf_bert_model_2/bert/encoder/layer_._10/intermediate/dense/kernel:0', 'tf_bert_model_2/bert/encoder/layer_._10/intermediate/dense/bias:0', 'tf_bert_model_2/bert/encoder/layer_._10/output/dense/kernel:0', 'tf_bert_model_2/bert/encoder/layer_._10/output/dense/bias:0', 'tf_bert_model_2/bert/encoder/layer_._10/output/LayerNorm/gamma:0', 'tf_bert_model_2/bert/encoder/layer_._10/output/LayerNorm/beta:0', 'tf_bert_model_2/bert/pooler/dense/kernel:0', 'tf_bert_model_2/bert/pooler/dense/bias:0'] when minimizing the loss. If you're using `model.compile()`, did you forget to provide a `loss` argument?\n",
            "WARNING:tensorflow:Gradients do not exist for variables ['tf_bert_model_2/bert/embeddings/word_embeddings/weight:0', 'tf_bert_model_2/bert/embeddings/token_type_embeddings/embeddings:0', 'tf_bert_model_2/bert/embeddings/position_embeddings/embeddings:0', 'tf_bert_model_2/bert/embeddings/LayerNorm/gamma:0', 'tf_bert_model_2/bert/embeddings/LayerNorm/beta:0', 'tf_bert_model_2/bert/encoder/layer_._0/attention/self/query/kernel:0', 'tf_bert_model_2/bert/encoder/layer_._0/attention/self/query/bias:0', 'tf_bert_model_2/bert/encoder/layer_._0/attention/self/key/kernel:0', 'tf_bert_model_2/bert/encoder/layer_._0/attention/self/key/bias:0', 'tf_bert_model_2/bert/encoder/layer_._0/attention/self/value/kernel:0', 'tf_bert_model_2/bert/encoder/layer_._0/attention/self/value/bias:0', 'tf_bert_model_2/bert/encoder/layer_._0/attention/output/dense/kernel:0', 'tf_bert_model_2/bert/encoder/layer_._0/attention/output/dense/bias:0', 'tf_bert_model_2/bert/encoder/layer_._0/attention/output/LayerNorm/gamma:0', 'tf_bert_model_2/bert/encoder/layer_._0/attention/output/LayerNorm/beta:0', 'tf_bert_model_2/bert/encoder/layer_._0/intermediate/dense/kernel:0', 'tf_bert_model_2/bert/encoder/layer_._0/intermediate/dense/bias:0', 'tf_bert_model_2/bert/encoder/layer_._0/output/dense/kernel:0', 'tf_bert_model_2/bert/encoder/layer_._0/output/dense/bias:0', 'tf_bert_model_2/bert/encoder/layer_._0/output/LayerNorm/gamma:0', 'tf_bert_model_2/bert/encoder/layer_._0/output/LayerNorm/beta:0', 'tf_bert_model_2/bert/encoder/layer_._1/attention/self/query/kernel:0', 'tf_bert_model_2/bert/encoder/layer_._1/attention/self/query/bias:0', 'tf_bert_model_2/bert/encoder/layer_._1/attention/self/key/kernel:0', 'tf_bert_model_2/bert/encoder/layer_._1/attention/self/key/bias:0', 'tf_bert_model_2/bert/encoder/layer_._1/attention/self/value/kernel:0', 'tf_bert_model_2/bert/encoder/layer_._1/attention/self/value/bias:0', 'tf_bert_model_2/bert/encoder/layer_._1/attention/output/dense/kernel:0', 'tf_bert_model_2/bert/encoder/layer_._1/attention/output/dense/bias:0', 'tf_bert_model_2/bert/encoder/layer_._1/attention/output/LayerNorm/gamma:0', 'tf_bert_model_2/bert/encoder/layer_._1/attention/output/LayerNorm/beta:0', 'tf_bert_model_2/bert/encoder/layer_._1/intermediate/dense/kernel:0', 'tf_bert_model_2/bert/encoder/layer_._1/intermediate/dense/bias:0', 'tf_bert_model_2/bert/encoder/layer_._1/output/dense/kernel:0', 'tf_bert_model_2/bert/encoder/layer_._1/output/dense/bias:0', 'tf_bert_model_2/bert/encoder/layer_._1/output/LayerNorm/gamma:0', 'tf_bert_model_2/bert/encoder/layer_._1/output/LayerNorm/beta:0', 'tf_bert_model_2/bert/encoder/layer_._2/attention/self/query/kernel:0', 'tf_bert_model_2/bert/encoder/layer_._2/attention/self/query/bias:0', 'tf_bert_model_2/bert/encoder/layer_._2/attention/self/key/kernel:0', 'tf_bert_model_2/bert/encoder/layer_._2/attention/self/key/bias:0', 'tf_bert_model_2/bert/encoder/layer_._2/attention/self/value/kernel:0', 'tf_bert_model_2/bert/encoder/layer_._2/attention/self/value/bias:0', 'tf_bert_model_2/bert/encoder/layer_._2/attention/output/dense/kernel:0', 'tf_bert_model_2/bert/encoder/layer_._2/attention/output/dense/bias:0', 'tf_bert_model_2/bert/encoder/layer_._2/attention/output/LayerNorm/gamma:0', 'tf_bert_model_2/bert/encoder/layer_._2/attention/output/LayerNorm/beta:0', 'tf_bert_model_2/bert/encoder/layer_._2/intermediate/dense/kernel:0', 'tf_bert_model_2/bert/encoder/layer_._2/intermediate/dense/bias:0', 'tf_bert_model_2/bert/encoder/layer_._2/output/dense/kernel:0', 'tf_bert_model_2/bert/encoder/layer_._2/output/dense/bias:0', 'tf_bert_model_2/bert/encoder/layer_._2/output/LayerNorm/gamma:0', 'tf_bert_model_2/bert/encoder/layer_._2/output/LayerNorm/beta:0', 'tf_bert_model_2/bert/encoder/layer_._3/attention/self/query/kernel:0', 'tf_bert_model_2/bert/encoder/layer_._3/attention/self/query/bias:0', 'tf_bert_model_2/bert/encoder/layer_._3/attention/self/key/kernel:0', 'tf_bert_model_2/bert/encoder/layer_._3/attention/self/key/bias:0', 'tf_bert_model_2/bert/encoder/layer_._3/attention/self/value/kernel:0', 'tf_bert_model_2/bert/encoder/layer_._3/attention/self/value/bias:0', 'tf_bert_model_2/bert/encoder/layer_._3/attention/output/dense/kernel:0', 'tf_bert_model_2/bert/encoder/layer_._3/attention/output/dense/bias:0', 'tf_bert_model_2/bert/encoder/layer_._3/attention/output/LayerNorm/gamma:0', 'tf_bert_model_2/bert/encoder/layer_._3/attention/output/LayerNorm/beta:0', 'tf_bert_model_2/bert/encoder/layer_._3/intermediate/dense/kernel:0', 'tf_bert_model_2/bert/encoder/layer_._3/intermediate/dense/bias:0', 'tf_bert_model_2/bert/encoder/layer_._3/output/dense/kernel:0', 'tf_bert_model_2/bert/encoder/layer_._3/output/dense/bias:0', 'tf_bert_model_2/bert/encoder/layer_._3/output/LayerNorm/gamma:0', 'tf_bert_model_2/bert/encoder/layer_._3/output/LayerNorm/beta:0', 'tf_bert_model_2/bert/encoder/layer_._4/attention/self/query/kernel:0', 'tf_bert_model_2/bert/encoder/layer_._4/attention/self/query/bias:0', 'tf_bert_model_2/bert/encoder/layer_._4/attention/self/key/kernel:0', 'tf_bert_model_2/bert/encoder/layer_._4/attention/self/key/bias:0', 'tf_bert_model_2/bert/encoder/layer_._4/attention/self/value/kernel:0', 'tf_bert_model_2/bert/encoder/layer_._4/attention/self/value/bias:0', 'tf_bert_model_2/bert/encoder/layer_._4/attention/output/dense/kernel:0', 'tf_bert_model_2/bert/encoder/layer_._4/attention/output/dense/bias:0', 'tf_bert_model_2/bert/encoder/layer_._4/attention/output/LayerNorm/gamma:0', 'tf_bert_model_2/bert/encoder/layer_._4/attention/output/LayerNorm/beta:0', 'tf_bert_model_2/bert/encoder/layer_._4/intermediate/dense/kernel:0', 'tf_bert_model_2/bert/encoder/layer_._4/intermediate/dense/bias:0', 'tf_bert_model_2/bert/encoder/layer_._4/output/dense/kernel:0', 'tf_bert_model_2/bert/encoder/layer_._4/output/dense/bias:0', 'tf_bert_model_2/bert/encoder/layer_._4/output/LayerNorm/gamma:0', 'tf_bert_model_2/bert/encoder/layer_._4/output/LayerNorm/beta:0', 'tf_bert_model_2/bert/encoder/layer_._5/attention/self/query/kernel:0', 'tf_bert_model_2/bert/encoder/layer_._5/attention/self/query/bias:0', 'tf_bert_model_2/bert/encoder/layer_._5/attention/self/key/kernel:0', 'tf_bert_model_2/bert/encoder/layer_._5/attention/self/key/bias:0', 'tf_bert_model_2/bert/encoder/layer_._5/attention/self/value/kernel:0', 'tf_bert_model_2/bert/encoder/layer_._5/attention/self/value/bias:0', 'tf_bert_model_2/bert/encoder/layer_._5/attention/output/dense/kernel:0', 'tf_bert_model_2/bert/encoder/layer_._5/attention/output/dense/bias:0', 'tf_bert_model_2/bert/encoder/layer_._5/attention/output/LayerNorm/gamma:0', 'tf_bert_model_2/bert/encoder/layer_._5/attention/output/LayerNorm/beta:0', 'tf_bert_model_2/bert/encoder/layer_._5/intermediate/dense/kernel:0', 'tf_bert_model_2/bert/encoder/layer_._5/intermediate/dense/bias:0', 'tf_bert_model_2/bert/encoder/layer_._5/output/dense/kernel:0', 'tf_bert_model_2/bert/encoder/layer_._5/output/dense/bias:0', 'tf_bert_model_2/bert/encoder/layer_._5/output/LayerNorm/gamma:0', 'tf_bert_model_2/bert/encoder/layer_._5/output/LayerNorm/beta:0', 'tf_bert_model_2/bert/encoder/layer_._6/attention/self/query/kernel:0', 'tf_bert_model_2/bert/encoder/layer_._6/attention/self/query/bias:0', 'tf_bert_model_2/bert/encoder/layer_._6/attention/self/key/kernel:0', 'tf_bert_model_2/bert/encoder/layer_._6/attention/self/key/bias:0', 'tf_bert_model_2/bert/encoder/layer_._6/attention/self/value/kernel:0', 'tf_bert_model_2/bert/encoder/layer_._6/attention/self/value/bias:0', 'tf_bert_model_2/bert/encoder/layer_._6/attention/output/dense/kernel:0', 'tf_bert_model_2/bert/encoder/layer_._6/attention/output/dense/bias:0', 'tf_bert_model_2/bert/encoder/layer_._6/attention/output/LayerNorm/gamma:0', 'tf_bert_model_2/bert/encoder/layer_._6/attention/output/LayerNorm/beta:0', 'tf_bert_model_2/bert/encoder/layer_._6/intermediate/dense/kernel:0', 'tf_bert_model_2/bert/encoder/layer_._6/intermediate/dense/bias:0', 'tf_bert_model_2/bert/encoder/layer_._6/output/dense/kernel:0', 'tf_bert_model_2/bert/encoder/layer_._6/output/dense/bias:0', 'tf_bert_model_2/bert/encoder/layer_._6/output/LayerNorm/gamma:0', 'tf_bert_model_2/bert/encoder/layer_._6/output/LayerNorm/beta:0', 'tf_bert_model_2/bert/encoder/layer_._7/attention/self/query/kernel:0', 'tf_bert_model_2/bert/encoder/layer_._7/attention/self/query/bias:0', 'tf_bert_model_2/bert/encoder/layer_._7/attention/self/key/kernel:0', 'tf_bert_model_2/bert/encoder/layer_._7/attention/self/key/bias:0', 'tf_bert_model_2/bert/encoder/layer_._7/attention/self/value/kernel:0', 'tf_bert_model_2/bert/encoder/layer_._7/attention/self/value/bias:0', 'tf_bert_model_2/bert/encoder/layer_._7/attention/output/dense/kernel:0', 'tf_bert_model_2/bert/encoder/layer_._7/attention/output/dense/bias:0', 'tf_bert_model_2/bert/encoder/layer_._7/attention/output/LayerNorm/gamma:0', 'tf_bert_model_2/bert/encoder/layer_._7/attention/output/LayerNorm/beta:0', 'tf_bert_model_2/bert/encoder/layer_._7/intermediate/dense/kernel:0', 'tf_bert_model_2/bert/encoder/layer_._7/intermediate/dense/bias:0', 'tf_bert_model_2/bert/encoder/layer_._7/output/dense/kernel:0', 'tf_bert_model_2/bert/encoder/layer_._7/output/dense/bias:0', 'tf_bert_model_2/bert/encoder/layer_._7/output/LayerNorm/gamma:0', 'tf_bert_model_2/bert/encoder/layer_._7/output/LayerNorm/beta:0', 'tf_bert_model_2/bert/encoder/layer_._8/attention/self/query/kernel:0', 'tf_bert_model_2/bert/encoder/layer_._8/attention/self/query/bias:0', 'tf_bert_model_2/bert/encoder/layer_._8/attention/self/key/kernel:0', 'tf_bert_model_2/bert/encoder/layer_._8/attention/self/key/bias:0', 'tf_bert_model_2/bert/encoder/layer_._8/attention/self/value/kernel:0', 'tf_bert_model_2/bert/encoder/layer_._8/attention/self/value/bias:0', 'tf_bert_model_2/bert/encoder/layer_._8/attention/output/dense/kernel:0', 'tf_bert_model_2/bert/encoder/layer_._8/attention/output/dense/bias:0', 'tf_bert_model_2/bert/encoder/layer_._8/attention/output/LayerNorm/gamma:0', 'tf_bert_model_2/bert/encoder/layer_._8/attention/output/LayerNorm/beta:0', 'tf_bert_model_2/bert/encoder/layer_._8/intermediate/dense/kernel:0', 'tf_bert_model_2/bert/encoder/layer_._8/intermediate/dense/bias:0', 'tf_bert_model_2/bert/encoder/layer_._8/output/dense/kernel:0', 'tf_bert_model_2/bert/encoder/layer_._8/output/dense/bias:0', 'tf_bert_model_2/bert/encoder/layer_._8/output/LayerNorm/gamma:0', 'tf_bert_model_2/bert/encoder/layer_._8/output/LayerNorm/beta:0', 'tf_bert_model_2/bert/encoder/layer_._9/attention/self/query/kernel:0', 'tf_bert_model_2/bert/encoder/layer_._9/attention/self/query/bias:0', 'tf_bert_model_2/bert/encoder/layer_._9/attention/self/key/kernel:0', 'tf_bert_model_2/bert/encoder/layer_._9/attention/self/key/bias:0', 'tf_bert_model_2/bert/encoder/layer_._9/attention/self/value/kernel:0', 'tf_bert_model_2/bert/encoder/layer_._9/attention/self/value/bias:0', 'tf_bert_model_2/bert/encoder/layer_._9/attention/output/dense/kernel:0', 'tf_bert_model_2/bert/encoder/layer_._9/attention/output/dense/bias:0', 'tf_bert_model_2/bert/encoder/layer_._9/attention/output/LayerNorm/gamma:0', 'tf_bert_model_2/bert/encoder/layer_._9/attention/output/LayerNorm/beta:0', 'tf_bert_model_2/bert/encoder/layer_._9/intermediate/dense/kernel:0', 'tf_bert_model_2/bert/encoder/layer_._9/intermediate/dense/bias:0', 'tf_bert_model_2/bert/encoder/layer_._9/output/dense/kernel:0', 'tf_bert_model_2/bert/encoder/layer_._9/output/dense/bias:0', 'tf_bert_model_2/bert/encoder/layer_._9/output/LayerNorm/gamma:0', 'tf_bert_model_2/bert/encoder/layer_._9/output/LayerNorm/beta:0', 'tf_bert_model_2/bert/encoder/layer_._10/attention/self/query/kernel:0', 'tf_bert_model_2/bert/encoder/layer_._10/attention/self/query/bias:0', 'tf_bert_model_2/bert/encoder/layer_._10/attention/self/key/kernel:0', 'tf_bert_model_2/bert/encoder/layer_._10/attention/self/key/bias:0', 'tf_bert_model_2/bert/encoder/layer_._10/attention/self/value/kernel:0', 'tf_bert_model_2/bert/encoder/layer_._10/attention/self/value/bias:0', 'tf_bert_model_2/bert/encoder/layer_._10/attention/output/dense/kernel:0', 'tf_bert_model_2/bert/encoder/layer_._10/attention/output/dense/bias:0', 'tf_bert_model_2/bert/encoder/layer_._10/attention/output/LayerNorm/gamma:0', 'tf_bert_model_2/bert/encoder/layer_._10/attention/output/LayerNorm/beta:0', 'tf_bert_model_2/bert/encoder/layer_._10/intermediate/dense/kernel:0', 'tf_bert_model_2/bert/encoder/layer_._10/intermediate/dense/bias:0', 'tf_bert_model_2/bert/encoder/layer_._10/output/dense/kernel:0', 'tf_bert_model_2/bert/encoder/layer_._10/output/dense/bias:0', 'tf_bert_model_2/bert/encoder/layer_._10/output/LayerNorm/gamma:0', 'tf_bert_model_2/bert/encoder/layer_._10/output/LayerNorm/beta:0', 'tf_bert_model_2/bert/pooler/dense/kernel:0', 'tf_bert_model_2/bert/pooler/dense/bias:0'] when minimizing the loss. If you're using `model.compile()`, did you forget to provide a `loss` argument?\n",
            "WARNING:tensorflow:Gradients do not exist for variables ['tf_bert_model_2/bert/embeddings/word_embeddings/weight:0', 'tf_bert_model_2/bert/embeddings/token_type_embeddings/embeddings:0', 'tf_bert_model_2/bert/embeddings/position_embeddings/embeddings:0', 'tf_bert_model_2/bert/embeddings/LayerNorm/gamma:0', 'tf_bert_model_2/bert/embeddings/LayerNorm/beta:0', 'tf_bert_model_2/bert/encoder/layer_._0/attention/self/query/kernel:0', 'tf_bert_model_2/bert/encoder/layer_._0/attention/self/query/bias:0', 'tf_bert_model_2/bert/encoder/layer_._0/attention/self/key/kernel:0', 'tf_bert_model_2/bert/encoder/layer_._0/attention/self/key/bias:0', 'tf_bert_model_2/bert/encoder/layer_._0/attention/self/value/kernel:0', 'tf_bert_model_2/bert/encoder/layer_._0/attention/self/value/bias:0', 'tf_bert_model_2/bert/encoder/layer_._0/attention/output/dense/kernel:0', 'tf_bert_model_2/bert/encoder/layer_._0/attention/output/dense/bias:0', 'tf_bert_model_2/bert/encoder/layer_._0/attention/output/LayerNorm/gamma:0', 'tf_bert_model_2/bert/encoder/layer_._0/attention/output/LayerNorm/beta:0', 'tf_bert_model_2/bert/encoder/layer_._0/intermediate/dense/kernel:0', 'tf_bert_model_2/bert/encoder/layer_._0/intermediate/dense/bias:0', 'tf_bert_model_2/bert/encoder/layer_._0/output/dense/kernel:0', 'tf_bert_model_2/bert/encoder/layer_._0/output/dense/bias:0', 'tf_bert_model_2/bert/encoder/layer_._0/output/LayerNorm/gamma:0', 'tf_bert_model_2/bert/encoder/layer_._0/output/LayerNorm/beta:0', 'tf_bert_model_2/bert/encoder/layer_._1/attention/self/query/kernel:0', 'tf_bert_model_2/bert/encoder/layer_._1/attention/self/query/bias:0', 'tf_bert_model_2/bert/encoder/layer_._1/attention/self/key/kernel:0', 'tf_bert_model_2/bert/encoder/layer_._1/attention/self/key/bias:0', 'tf_bert_model_2/bert/encoder/layer_._1/attention/self/value/kernel:0', 'tf_bert_model_2/bert/encoder/layer_._1/attention/self/value/bias:0', 'tf_bert_model_2/bert/encoder/layer_._1/attention/output/dense/kernel:0', 'tf_bert_model_2/bert/encoder/layer_._1/attention/output/dense/bias:0', 'tf_bert_model_2/bert/encoder/layer_._1/attention/output/LayerNorm/gamma:0', 'tf_bert_model_2/bert/encoder/layer_._1/attention/output/LayerNorm/beta:0', 'tf_bert_model_2/bert/encoder/layer_._1/intermediate/dense/kernel:0', 'tf_bert_model_2/bert/encoder/layer_._1/intermediate/dense/bias:0', 'tf_bert_model_2/bert/encoder/layer_._1/output/dense/kernel:0', 'tf_bert_model_2/bert/encoder/layer_._1/output/dense/bias:0', 'tf_bert_model_2/bert/encoder/layer_._1/output/LayerNorm/gamma:0', 'tf_bert_model_2/bert/encoder/layer_._1/output/LayerNorm/beta:0', 'tf_bert_model_2/bert/encoder/layer_._2/attention/self/query/kernel:0', 'tf_bert_model_2/bert/encoder/layer_._2/attention/self/query/bias:0', 'tf_bert_model_2/bert/encoder/layer_._2/attention/self/key/kernel:0', 'tf_bert_model_2/bert/encoder/layer_._2/attention/self/key/bias:0', 'tf_bert_model_2/bert/encoder/layer_._2/attention/self/value/kernel:0', 'tf_bert_model_2/bert/encoder/layer_._2/attention/self/value/bias:0', 'tf_bert_model_2/bert/encoder/layer_._2/attention/output/dense/kernel:0', 'tf_bert_model_2/bert/encoder/layer_._2/attention/output/dense/bias:0', 'tf_bert_model_2/bert/encoder/layer_._2/attention/output/LayerNorm/gamma:0', 'tf_bert_model_2/bert/encoder/layer_._2/attention/output/LayerNorm/beta:0', 'tf_bert_model_2/bert/encoder/layer_._2/intermediate/dense/kernel:0', 'tf_bert_model_2/bert/encoder/layer_._2/intermediate/dense/bias:0', 'tf_bert_model_2/bert/encoder/layer_._2/output/dense/kernel:0', 'tf_bert_model_2/bert/encoder/layer_._2/output/dense/bias:0', 'tf_bert_model_2/bert/encoder/layer_._2/output/LayerNorm/gamma:0', 'tf_bert_model_2/bert/encoder/layer_._2/output/LayerNorm/beta:0', 'tf_bert_model_2/bert/encoder/layer_._3/attention/self/query/kernel:0', 'tf_bert_model_2/bert/encoder/layer_._3/attention/self/query/bias:0', 'tf_bert_model_2/bert/encoder/layer_._3/attention/self/key/kernel:0', 'tf_bert_model_2/bert/encoder/layer_._3/attention/self/key/bias:0', 'tf_bert_model_2/bert/encoder/layer_._3/attention/self/value/kernel:0', 'tf_bert_model_2/bert/encoder/layer_._3/attention/self/value/bias:0', 'tf_bert_model_2/bert/encoder/layer_._3/attention/output/dense/kernel:0', 'tf_bert_model_2/bert/encoder/layer_._3/attention/output/dense/bias:0', 'tf_bert_model_2/bert/encoder/layer_._3/attention/output/LayerNorm/gamma:0', 'tf_bert_model_2/bert/encoder/layer_._3/attention/output/LayerNorm/beta:0', 'tf_bert_model_2/bert/encoder/layer_._3/intermediate/dense/kernel:0', 'tf_bert_model_2/bert/encoder/layer_._3/intermediate/dense/bias:0', 'tf_bert_model_2/bert/encoder/layer_._3/output/dense/kernel:0', 'tf_bert_model_2/bert/encoder/layer_._3/output/dense/bias:0', 'tf_bert_model_2/bert/encoder/layer_._3/output/LayerNorm/gamma:0', 'tf_bert_model_2/bert/encoder/layer_._3/output/LayerNorm/beta:0', 'tf_bert_model_2/bert/encoder/layer_._4/attention/self/query/kernel:0', 'tf_bert_model_2/bert/encoder/layer_._4/attention/self/query/bias:0', 'tf_bert_model_2/bert/encoder/layer_._4/attention/self/key/kernel:0', 'tf_bert_model_2/bert/encoder/layer_._4/attention/self/key/bias:0', 'tf_bert_model_2/bert/encoder/layer_._4/attention/self/value/kernel:0', 'tf_bert_model_2/bert/encoder/layer_._4/attention/self/value/bias:0', 'tf_bert_model_2/bert/encoder/layer_._4/attention/output/dense/kernel:0', 'tf_bert_model_2/bert/encoder/layer_._4/attention/output/dense/bias:0', 'tf_bert_model_2/bert/encoder/layer_._4/attention/output/LayerNorm/gamma:0', 'tf_bert_model_2/bert/encoder/layer_._4/attention/output/LayerNorm/beta:0', 'tf_bert_model_2/bert/encoder/layer_._4/intermediate/dense/kernel:0', 'tf_bert_model_2/bert/encoder/layer_._4/intermediate/dense/bias:0', 'tf_bert_model_2/bert/encoder/layer_._4/output/dense/kernel:0', 'tf_bert_model_2/bert/encoder/layer_._4/output/dense/bias:0', 'tf_bert_model_2/bert/encoder/layer_._4/output/LayerNorm/gamma:0', 'tf_bert_model_2/bert/encoder/layer_._4/output/LayerNorm/beta:0', 'tf_bert_model_2/bert/encoder/layer_._5/attention/self/query/kernel:0', 'tf_bert_model_2/bert/encoder/layer_._5/attention/self/query/bias:0', 'tf_bert_model_2/bert/encoder/layer_._5/attention/self/key/kernel:0', 'tf_bert_model_2/bert/encoder/layer_._5/attention/self/key/bias:0', 'tf_bert_model_2/bert/encoder/layer_._5/attention/self/value/kernel:0', 'tf_bert_model_2/bert/encoder/layer_._5/attention/self/value/bias:0', 'tf_bert_model_2/bert/encoder/layer_._5/attention/output/dense/kernel:0', 'tf_bert_model_2/bert/encoder/layer_._5/attention/output/dense/bias:0', 'tf_bert_model_2/bert/encoder/layer_._5/attention/output/LayerNorm/gamma:0', 'tf_bert_model_2/bert/encoder/layer_._5/attention/output/LayerNorm/beta:0', 'tf_bert_model_2/bert/encoder/layer_._5/intermediate/dense/kernel:0', 'tf_bert_model_2/bert/encoder/layer_._5/intermediate/dense/bias:0', 'tf_bert_model_2/bert/encoder/layer_._5/output/dense/kernel:0', 'tf_bert_model_2/bert/encoder/layer_._5/output/dense/bias:0', 'tf_bert_model_2/bert/encoder/layer_._5/output/LayerNorm/gamma:0', 'tf_bert_model_2/bert/encoder/layer_._5/output/LayerNorm/beta:0', 'tf_bert_model_2/bert/encoder/layer_._6/attention/self/query/kernel:0', 'tf_bert_model_2/bert/encoder/layer_._6/attention/self/query/bias:0', 'tf_bert_model_2/bert/encoder/layer_._6/attention/self/key/kernel:0', 'tf_bert_model_2/bert/encoder/layer_._6/attention/self/key/bias:0', 'tf_bert_model_2/bert/encoder/layer_._6/attention/self/value/kernel:0', 'tf_bert_model_2/bert/encoder/layer_._6/attention/self/value/bias:0', 'tf_bert_model_2/bert/encoder/layer_._6/attention/output/dense/kernel:0', 'tf_bert_model_2/bert/encoder/layer_._6/attention/output/dense/bias:0', 'tf_bert_model_2/bert/encoder/layer_._6/attention/output/LayerNorm/gamma:0', 'tf_bert_model_2/bert/encoder/layer_._6/attention/output/LayerNorm/beta:0', 'tf_bert_model_2/bert/encoder/layer_._6/intermediate/dense/kernel:0', 'tf_bert_model_2/bert/encoder/layer_._6/intermediate/dense/bias:0', 'tf_bert_model_2/bert/encoder/layer_._6/output/dense/kernel:0', 'tf_bert_model_2/bert/encoder/layer_._6/output/dense/bias:0', 'tf_bert_model_2/bert/encoder/layer_._6/output/LayerNorm/gamma:0', 'tf_bert_model_2/bert/encoder/layer_._6/output/LayerNorm/beta:0', 'tf_bert_model_2/bert/encoder/layer_._7/attention/self/query/kernel:0', 'tf_bert_model_2/bert/encoder/layer_._7/attention/self/query/bias:0', 'tf_bert_model_2/bert/encoder/layer_._7/attention/self/key/kernel:0', 'tf_bert_model_2/bert/encoder/layer_._7/attention/self/key/bias:0', 'tf_bert_model_2/bert/encoder/layer_._7/attention/self/value/kernel:0', 'tf_bert_model_2/bert/encoder/layer_._7/attention/self/value/bias:0', 'tf_bert_model_2/bert/encoder/layer_._7/attention/output/dense/kernel:0', 'tf_bert_model_2/bert/encoder/layer_._7/attention/output/dense/bias:0', 'tf_bert_model_2/bert/encoder/layer_._7/attention/output/LayerNorm/gamma:0', 'tf_bert_model_2/bert/encoder/layer_._7/attention/output/LayerNorm/beta:0', 'tf_bert_model_2/bert/encoder/layer_._7/intermediate/dense/kernel:0', 'tf_bert_model_2/bert/encoder/layer_._7/intermediate/dense/bias:0', 'tf_bert_model_2/bert/encoder/layer_._7/output/dense/kernel:0', 'tf_bert_model_2/bert/encoder/layer_._7/output/dense/bias:0', 'tf_bert_model_2/bert/encoder/layer_._7/output/LayerNorm/gamma:0', 'tf_bert_model_2/bert/encoder/layer_._7/output/LayerNorm/beta:0', 'tf_bert_model_2/bert/encoder/layer_._8/attention/self/query/kernel:0', 'tf_bert_model_2/bert/encoder/layer_._8/attention/self/query/bias:0', 'tf_bert_model_2/bert/encoder/layer_._8/attention/self/key/kernel:0', 'tf_bert_model_2/bert/encoder/layer_._8/attention/self/key/bias:0', 'tf_bert_model_2/bert/encoder/layer_._8/attention/self/value/kernel:0', 'tf_bert_model_2/bert/encoder/layer_._8/attention/self/value/bias:0', 'tf_bert_model_2/bert/encoder/layer_._8/attention/output/dense/kernel:0', 'tf_bert_model_2/bert/encoder/layer_._8/attention/output/dense/bias:0', 'tf_bert_model_2/bert/encoder/layer_._8/attention/output/LayerNorm/gamma:0', 'tf_bert_model_2/bert/encoder/layer_._8/attention/output/LayerNorm/beta:0', 'tf_bert_model_2/bert/encoder/layer_._8/intermediate/dense/kernel:0', 'tf_bert_model_2/bert/encoder/layer_._8/intermediate/dense/bias:0', 'tf_bert_model_2/bert/encoder/layer_._8/output/dense/kernel:0', 'tf_bert_model_2/bert/encoder/layer_._8/output/dense/bias:0', 'tf_bert_model_2/bert/encoder/layer_._8/output/LayerNorm/gamma:0', 'tf_bert_model_2/bert/encoder/layer_._8/output/LayerNorm/beta:0', 'tf_bert_model_2/bert/encoder/layer_._9/attention/self/query/kernel:0', 'tf_bert_model_2/bert/encoder/layer_._9/attention/self/query/bias:0', 'tf_bert_model_2/bert/encoder/layer_._9/attention/self/key/kernel:0', 'tf_bert_model_2/bert/encoder/layer_._9/attention/self/key/bias:0', 'tf_bert_model_2/bert/encoder/layer_._9/attention/self/value/kernel:0', 'tf_bert_model_2/bert/encoder/layer_._9/attention/self/value/bias:0', 'tf_bert_model_2/bert/encoder/layer_._9/attention/output/dense/kernel:0', 'tf_bert_model_2/bert/encoder/layer_._9/attention/output/dense/bias:0', 'tf_bert_model_2/bert/encoder/layer_._9/attention/output/LayerNorm/gamma:0', 'tf_bert_model_2/bert/encoder/layer_._9/attention/output/LayerNorm/beta:0', 'tf_bert_model_2/bert/encoder/layer_._9/intermediate/dense/kernel:0', 'tf_bert_model_2/bert/encoder/layer_._9/intermediate/dense/bias:0', 'tf_bert_model_2/bert/encoder/layer_._9/output/dense/kernel:0', 'tf_bert_model_2/bert/encoder/layer_._9/output/dense/bias:0', 'tf_bert_model_2/bert/encoder/layer_._9/output/LayerNorm/gamma:0', 'tf_bert_model_2/bert/encoder/layer_._9/output/LayerNorm/beta:0', 'tf_bert_model_2/bert/encoder/layer_._10/attention/self/query/kernel:0', 'tf_bert_model_2/bert/encoder/layer_._10/attention/self/query/bias:0', 'tf_bert_model_2/bert/encoder/layer_._10/attention/self/key/kernel:0', 'tf_bert_model_2/bert/encoder/layer_._10/attention/self/key/bias:0', 'tf_bert_model_2/bert/encoder/layer_._10/attention/self/value/kernel:0', 'tf_bert_model_2/bert/encoder/layer_._10/attention/self/value/bias:0', 'tf_bert_model_2/bert/encoder/layer_._10/attention/output/dense/kernel:0', 'tf_bert_model_2/bert/encoder/layer_._10/attention/output/dense/bias:0', 'tf_bert_model_2/bert/encoder/layer_._10/attention/output/LayerNorm/gamma:0', 'tf_bert_model_2/bert/encoder/layer_._10/attention/output/LayerNorm/beta:0', 'tf_bert_model_2/bert/encoder/layer_._10/intermediate/dense/kernel:0', 'tf_bert_model_2/bert/encoder/layer_._10/intermediate/dense/bias:0', 'tf_bert_model_2/bert/encoder/layer_._10/output/dense/kernel:0', 'tf_bert_model_2/bert/encoder/layer_._10/output/dense/bias:0', 'tf_bert_model_2/bert/encoder/layer_._10/output/LayerNorm/gamma:0', 'tf_bert_model_2/bert/encoder/layer_._10/output/LayerNorm/beta:0', 'tf_bert_model_2/bert/pooler/dense/kernel:0', 'tf_bert_model_2/bert/pooler/dense/bias:0'] when minimizing the loss. If you're using `model.compile()`, did you forget to provide a `loss` argument?\n",
            "WARNING:tensorflow:Gradients do not exist for variables ['tf_bert_model_2/bert/embeddings/word_embeddings/weight:0', 'tf_bert_model_2/bert/embeddings/token_type_embeddings/embeddings:0', 'tf_bert_model_2/bert/embeddings/position_embeddings/embeddings:0', 'tf_bert_model_2/bert/embeddings/LayerNorm/gamma:0', 'tf_bert_model_2/bert/embeddings/LayerNorm/beta:0', 'tf_bert_model_2/bert/encoder/layer_._0/attention/self/query/kernel:0', 'tf_bert_model_2/bert/encoder/layer_._0/attention/self/query/bias:0', 'tf_bert_model_2/bert/encoder/layer_._0/attention/self/key/kernel:0', 'tf_bert_model_2/bert/encoder/layer_._0/attention/self/key/bias:0', 'tf_bert_model_2/bert/encoder/layer_._0/attention/self/value/kernel:0', 'tf_bert_model_2/bert/encoder/layer_._0/attention/self/value/bias:0', 'tf_bert_model_2/bert/encoder/layer_._0/attention/output/dense/kernel:0', 'tf_bert_model_2/bert/encoder/layer_._0/attention/output/dense/bias:0', 'tf_bert_model_2/bert/encoder/layer_._0/attention/output/LayerNorm/gamma:0', 'tf_bert_model_2/bert/encoder/layer_._0/attention/output/LayerNorm/beta:0', 'tf_bert_model_2/bert/encoder/layer_._0/intermediate/dense/kernel:0', 'tf_bert_model_2/bert/encoder/layer_._0/intermediate/dense/bias:0', 'tf_bert_model_2/bert/encoder/layer_._0/output/dense/kernel:0', 'tf_bert_model_2/bert/encoder/layer_._0/output/dense/bias:0', 'tf_bert_model_2/bert/encoder/layer_._0/output/LayerNorm/gamma:0', 'tf_bert_model_2/bert/encoder/layer_._0/output/LayerNorm/beta:0', 'tf_bert_model_2/bert/encoder/layer_._1/attention/self/query/kernel:0', 'tf_bert_model_2/bert/encoder/layer_._1/attention/self/query/bias:0', 'tf_bert_model_2/bert/encoder/layer_._1/attention/self/key/kernel:0', 'tf_bert_model_2/bert/encoder/layer_._1/attention/self/key/bias:0', 'tf_bert_model_2/bert/encoder/layer_._1/attention/self/value/kernel:0', 'tf_bert_model_2/bert/encoder/layer_._1/attention/self/value/bias:0', 'tf_bert_model_2/bert/encoder/layer_._1/attention/output/dense/kernel:0', 'tf_bert_model_2/bert/encoder/layer_._1/attention/output/dense/bias:0', 'tf_bert_model_2/bert/encoder/layer_._1/attention/output/LayerNorm/gamma:0', 'tf_bert_model_2/bert/encoder/layer_._1/attention/output/LayerNorm/beta:0', 'tf_bert_model_2/bert/encoder/layer_._1/intermediate/dense/kernel:0', 'tf_bert_model_2/bert/encoder/layer_._1/intermediate/dense/bias:0', 'tf_bert_model_2/bert/encoder/layer_._1/output/dense/kernel:0', 'tf_bert_model_2/bert/encoder/layer_._1/output/dense/bias:0', 'tf_bert_model_2/bert/encoder/layer_._1/output/LayerNorm/gamma:0', 'tf_bert_model_2/bert/encoder/layer_._1/output/LayerNorm/beta:0', 'tf_bert_model_2/bert/encoder/layer_._2/attention/self/query/kernel:0', 'tf_bert_model_2/bert/encoder/layer_._2/attention/self/query/bias:0', 'tf_bert_model_2/bert/encoder/layer_._2/attention/self/key/kernel:0', 'tf_bert_model_2/bert/encoder/layer_._2/attention/self/key/bias:0', 'tf_bert_model_2/bert/encoder/layer_._2/attention/self/value/kernel:0', 'tf_bert_model_2/bert/encoder/layer_._2/attention/self/value/bias:0', 'tf_bert_model_2/bert/encoder/layer_._2/attention/output/dense/kernel:0', 'tf_bert_model_2/bert/encoder/layer_._2/attention/output/dense/bias:0', 'tf_bert_model_2/bert/encoder/layer_._2/attention/output/LayerNorm/gamma:0', 'tf_bert_model_2/bert/encoder/layer_._2/attention/output/LayerNorm/beta:0', 'tf_bert_model_2/bert/encoder/layer_._2/intermediate/dense/kernel:0', 'tf_bert_model_2/bert/encoder/layer_._2/intermediate/dense/bias:0', 'tf_bert_model_2/bert/encoder/layer_._2/output/dense/kernel:0', 'tf_bert_model_2/bert/encoder/layer_._2/output/dense/bias:0', 'tf_bert_model_2/bert/encoder/layer_._2/output/LayerNorm/gamma:0', 'tf_bert_model_2/bert/encoder/layer_._2/output/LayerNorm/beta:0', 'tf_bert_model_2/bert/encoder/layer_._3/attention/self/query/kernel:0', 'tf_bert_model_2/bert/encoder/layer_._3/attention/self/query/bias:0', 'tf_bert_model_2/bert/encoder/layer_._3/attention/self/key/kernel:0', 'tf_bert_model_2/bert/encoder/layer_._3/attention/self/key/bias:0', 'tf_bert_model_2/bert/encoder/layer_._3/attention/self/value/kernel:0', 'tf_bert_model_2/bert/encoder/layer_._3/attention/self/value/bias:0', 'tf_bert_model_2/bert/encoder/layer_._3/attention/output/dense/kernel:0', 'tf_bert_model_2/bert/encoder/layer_._3/attention/output/dense/bias:0', 'tf_bert_model_2/bert/encoder/layer_._3/attention/output/LayerNorm/gamma:0', 'tf_bert_model_2/bert/encoder/layer_._3/attention/output/LayerNorm/beta:0', 'tf_bert_model_2/bert/encoder/layer_._3/intermediate/dense/kernel:0', 'tf_bert_model_2/bert/encoder/layer_._3/intermediate/dense/bias:0', 'tf_bert_model_2/bert/encoder/layer_._3/output/dense/kernel:0', 'tf_bert_model_2/bert/encoder/layer_._3/output/dense/bias:0', 'tf_bert_model_2/bert/encoder/layer_._3/output/LayerNorm/gamma:0', 'tf_bert_model_2/bert/encoder/layer_._3/output/LayerNorm/beta:0', 'tf_bert_model_2/bert/encoder/layer_._4/attention/self/query/kernel:0', 'tf_bert_model_2/bert/encoder/layer_._4/attention/self/query/bias:0', 'tf_bert_model_2/bert/encoder/layer_._4/attention/self/key/kernel:0', 'tf_bert_model_2/bert/encoder/layer_._4/attention/self/key/bias:0', 'tf_bert_model_2/bert/encoder/layer_._4/attention/self/value/kernel:0', 'tf_bert_model_2/bert/encoder/layer_._4/attention/self/value/bias:0', 'tf_bert_model_2/bert/encoder/layer_._4/attention/output/dense/kernel:0', 'tf_bert_model_2/bert/encoder/layer_._4/attention/output/dense/bias:0', 'tf_bert_model_2/bert/encoder/layer_._4/attention/output/LayerNorm/gamma:0', 'tf_bert_model_2/bert/encoder/layer_._4/attention/output/LayerNorm/beta:0', 'tf_bert_model_2/bert/encoder/layer_._4/intermediate/dense/kernel:0', 'tf_bert_model_2/bert/encoder/layer_._4/intermediate/dense/bias:0', 'tf_bert_model_2/bert/encoder/layer_._4/output/dense/kernel:0', 'tf_bert_model_2/bert/encoder/layer_._4/output/dense/bias:0', 'tf_bert_model_2/bert/encoder/layer_._4/output/LayerNorm/gamma:0', 'tf_bert_model_2/bert/encoder/layer_._4/output/LayerNorm/beta:0', 'tf_bert_model_2/bert/encoder/layer_._5/attention/self/query/kernel:0', 'tf_bert_model_2/bert/encoder/layer_._5/attention/self/query/bias:0', 'tf_bert_model_2/bert/encoder/layer_._5/attention/self/key/kernel:0', 'tf_bert_model_2/bert/encoder/layer_._5/attention/self/key/bias:0', 'tf_bert_model_2/bert/encoder/layer_._5/attention/self/value/kernel:0', 'tf_bert_model_2/bert/encoder/layer_._5/attention/self/value/bias:0', 'tf_bert_model_2/bert/encoder/layer_._5/attention/output/dense/kernel:0', 'tf_bert_model_2/bert/encoder/layer_._5/attention/output/dense/bias:0', 'tf_bert_model_2/bert/encoder/layer_._5/attention/output/LayerNorm/gamma:0', 'tf_bert_model_2/bert/encoder/layer_._5/attention/output/LayerNorm/beta:0', 'tf_bert_model_2/bert/encoder/layer_._5/intermediate/dense/kernel:0', 'tf_bert_model_2/bert/encoder/layer_._5/intermediate/dense/bias:0', 'tf_bert_model_2/bert/encoder/layer_._5/output/dense/kernel:0', 'tf_bert_model_2/bert/encoder/layer_._5/output/dense/bias:0', 'tf_bert_model_2/bert/encoder/layer_._5/output/LayerNorm/gamma:0', 'tf_bert_model_2/bert/encoder/layer_._5/output/LayerNorm/beta:0', 'tf_bert_model_2/bert/encoder/layer_._6/attention/self/query/kernel:0', 'tf_bert_model_2/bert/encoder/layer_._6/attention/self/query/bias:0', 'tf_bert_model_2/bert/encoder/layer_._6/attention/self/key/kernel:0', 'tf_bert_model_2/bert/encoder/layer_._6/attention/self/key/bias:0', 'tf_bert_model_2/bert/encoder/layer_._6/attention/self/value/kernel:0', 'tf_bert_model_2/bert/encoder/layer_._6/attention/self/value/bias:0', 'tf_bert_model_2/bert/encoder/layer_._6/attention/output/dense/kernel:0', 'tf_bert_model_2/bert/encoder/layer_._6/attention/output/dense/bias:0', 'tf_bert_model_2/bert/encoder/layer_._6/attention/output/LayerNorm/gamma:0', 'tf_bert_model_2/bert/encoder/layer_._6/attention/output/LayerNorm/beta:0', 'tf_bert_model_2/bert/encoder/layer_._6/intermediate/dense/kernel:0', 'tf_bert_model_2/bert/encoder/layer_._6/intermediate/dense/bias:0', 'tf_bert_model_2/bert/encoder/layer_._6/output/dense/kernel:0', 'tf_bert_model_2/bert/encoder/layer_._6/output/dense/bias:0', 'tf_bert_model_2/bert/encoder/layer_._6/output/LayerNorm/gamma:0', 'tf_bert_model_2/bert/encoder/layer_._6/output/LayerNorm/beta:0', 'tf_bert_model_2/bert/encoder/layer_._7/attention/self/query/kernel:0', 'tf_bert_model_2/bert/encoder/layer_._7/attention/self/query/bias:0', 'tf_bert_model_2/bert/encoder/layer_._7/attention/self/key/kernel:0', 'tf_bert_model_2/bert/encoder/layer_._7/attention/self/key/bias:0', 'tf_bert_model_2/bert/encoder/layer_._7/attention/self/value/kernel:0', 'tf_bert_model_2/bert/encoder/layer_._7/attention/self/value/bias:0', 'tf_bert_model_2/bert/encoder/layer_._7/attention/output/dense/kernel:0', 'tf_bert_model_2/bert/encoder/layer_._7/attention/output/dense/bias:0', 'tf_bert_model_2/bert/encoder/layer_._7/attention/output/LayerNorm/gamma:0', 'tf_bert_model_2/bert/encoder/layer_._7/attention/output/LayerNorm/beta:0', 'tf_bert_model_2/bert/encoder/layer_._7/intermediate/dense/kernel:0', 'tf_bert_model_2/bert/encoder/layer_._7/intermediate/dense/bias:0', 'tf_bert_model_2/bert/encoder/layer_._7/output/dense/kernel:0', 'tf_bert_model_2/bert/encoder/layer_._7/output/dense/bias:0', 'tf_bert_model_2/bert/encoder/layer_._7/output/LayerNorm/gamma:0', 'tf_bert_model_2/bert/encoder/layer_._7/output/LayerNorm/beta:0', 'tf_bert_model_2/bert/encoder/layer_._8/attention/self/query/kernel:0', 'tf_bert_model_2/bert/encoder/layer_._8/attention/self/query/bias:0', 'tf_bert_model_2/bert/encoder/layer_._8/attention/self/key/kernel:0', 'tf_bert_model_2/bert/encoder/layer_._8/attention/self/key/bias:0', 'tf_bert_model_2/bert/encoder/layer_._8/attention/self/value/kernel:0', 'tf_bert_model_2/bert/encoder/layer_._8/attention/self/value/bias:0', 'tf_bert_model_2/bert/encoder/layer_._8/attention/output/dense/kernel:0', 'tf_bert_model_2/bert/encoder/layer_._8/attention/output/dense/bias:0', 'tf_bert_model_2/bert/encoder/layer_._8/attention/output/LayerNorm/gamma:0', 'tf_bert_model_2/bert/encoder/layer_._8/attention/output/LayerNorm/beta:0', 'tf_bert_model_2/bert/encoder/layer_._8/intermediate/dense/kernel:0', 'tf_bert_model_2/bert/encoder/layer_._8/intermediate/dense/bias:0', 'tf_bert_model_2/bert/encoder/layer_._8/output/dense/kernel:0', 'tf_bert_model_2/bert/encoder/layer_._8/output/dense/bias:0', 'tf_bert_model_2/bert/encoder/layer_._8/output/LayerNorm/gamma:0', 'tf_bert_model_2/bert/encoder/layer_._8/output/LayerNorm/beta:0', 'tf_bert_model_2/bert/encoder/layer_._9/attention/self/query/kernel:0', 'tf_bert_model_2/bert/encoder/layer_._9/attention/self/query/bias:0', 'tf_bert_model_2/bert/encoder/layer_._9/attention/self/key/kernel:0', 'tf_bert_model_2/bert/encoder/layer_._9/attention/self/key/bias:0', 'tf_bert_model_2/bert/encoder/layer_._9/attention/self/value/kernel:0', 'tf_bert_model_2/bert/encoder/layer_._9/attention/self/value/bias:0', 'tf_bert_model_2/bert/encoder/layer_._9/attention/output/dense/kernel:0', 'tf_bert_model_2/bert/encoder/layer_._9/attention/output/dense/bias:0', 'tf_bert_model_2/bert/encoder/layer_._9/attention/output/LayerNorm/gamma:0', 'tf_bert_model_2/bert/encoder/layer_._9/attention/output/LayerNorm/beta:0', 'tf_bert_model_2/bert/encoder/layer_._9/intermediate/dense/kernel:0', 'tf_bert_model_2/bert/encoder/layer_._9/intermediate/dense/bias:0', 'tf_bert_model_2/bert/encoder/layer_._9/output/dense/kernel:0', 'tf_bert_model_2/bert/encoder/layer_._9/output/dense/bias:0', 'tf_bert_model_2/bert/encoder/layer_._9/output/LayerNorm/gamma:0', 'tf_bert_model_2/bert/encoder/layer_._9/output/LayerNorm/beta:0', 'tf_bert_model_2/bert/encoder/layer_._10/attention/self/query/kernel:0', 'tf_bert_model_2/bert/encoder/layer_._10/attention/self/query/bias:0', 'tf_bert_model_2/bert/encoder/layer_._10/attention/self/key/kernel:0', 'tf_bert_model_2/bert/encoder/layer_._10/attention/self/key/bias:0', 'tf_bert_model_2/bert/encoder/layer_._10/attention/self/value/kernel:0', 'tf_bert_model_2/bert/encoder/layer_._10/attention/self/value/bias:0', 'tf_bert_model_2/bert/encoder/layer_._10/attention/output/dense/kernel:0', 'tf_bert_model_2/bert/encoder/layer_._10/attention/output/dense/bias:0', 'tf_bert_model_2/bert/encoder/layer_._10/attention/output/LayerNorm/gamma:0', 'tf_bert_model_2/bert/encoder/layer_._10/attention/output/LayerNorm/beta:0', 'tf_bert_model_2/bert/encoder/layer_._10/intermediate/dense/kernel:0', 'tf_bert_model_2/bert/encoder/layer_._10/intermediate/dense/bias:0', 'tf_bert_model_2/bert/encoder/layer_._10/output/dense/kernel:0', 'tf_bert_model_2/bert/encoder/layer_._10/output/dense/bias:0', 'tf_bert_model_2/bert/encoder/layer_._10/output/LayerNorm/gamma:0', 'tf_bert_model_2/bert/encoder/layer_._10/output/LayerNorm/beta:0', 'tf_bert_model_2/bert/pooler/dense/kernel:0', 'tf_bert_model_2/bert/pooler/dense/bias:0'] when minimizing the loss. If you're using `model.compile()`, did you forget to provide a `loss` argument?\n"
          ]
        },
        {
          "output_type": "stream",
          "name": "stdout",
          "text": [
            "164/164 [==============================] - 143s 803ms/step - loss: 2.4197 - accuracy: 0.1555 - val_loss: 2.0905 - val_accuracy: 0.3195\n",
            "Epoch 2/4\n",
            "164/164 [==============================] - 124s 756ms/step - loss: 1.9314 - accuracy: 0.3452 - val_loss: 1.6383 - val_accuracy: 0.4461\n",
            "Epoch 3/4\n",
            "164/164 [==============================] - 111s 675ms/step - loss: 1.6383 - accuracy: 0.4413 - val_loss: 1.4556 - val_accuracy: 0.5155\n",
            "Epoch 4/4\n",
            "164/164 [==============================] - 110s 674ms/step - loss: 1.4599 - accuracy: 0.5094 - val_loss: 1.3192 - val_accuracy: 0.5648\n"
          ]
        }
      ]
    },
    {
      "cell_type": "code",
      "source": [
        "del tf_bert_model\n",
        "del hs_bert_2\n",
        "del hs_bert_2_chkpt\n",
        "gc.collect()"
      ],
      "metadata": {
        "colab": {
          "base_uri": "https://localhost:8080/"
        },
        "id": "CRqvHb0X-OAU",
        "outputId": "cf774ad5-959f-44a9-cb8d-b71cda6012f2"
      },
      "execution_count": null,
      "outputs": [
        {
          "output_type": "execute_result",
          "data": {
            "text/plain": [
              "18993"
            ]
          },
          "metadata": {},
          "execution_count": 20
        }
      ]
    },
    {
      "cell_type": "code",
      "source": [
        "# Train the first layer and allow more epochs -- better?\n",
        "tf_bert_model = TFBertModel.from_pretrained(checkpoint)\n",
        "nr_bert_2, nr_bert_2_chkpt = create_bert_classification_model(tf_bert_model, checkpoint_name = 'BERT_shallow_train_NR', num_train_layers=1)"
      ],
      "metadata": {
        "colab": {
          "base_uri": "https://localhost:8080/"
        },
        "id": "vFDVY8meTLZu",
        "outputId": "78be1e8c-2348-443c-eb77-c195e01163f7"
      },
      "execution_count": null,
      "outputs": [
        {
          "output_type": "stream",
          "name": "stdout",
          "text": [
            "retrain layers:  ['_11']\n"
          ]
        },
        {
          "output_type": "stream",
          "name": "stderr",
          "text": [
            "WARNING:tensorflow:`period` argument is deprecated. Please use `save_freq` to specify the frequency in number of batches seen.\n"
          ]
        }
      ]
    },
    {
      "cell_type": "code",
      "source": [
        "nr_bert_2_history = nr_bert_2.fit(\n",
        "    [x_nr_train_tf.input_ids, x_nr_train_tf.token_type_ids, x_nr_train_tf.attention_mask],\n",
        "    y_nr_train_tf,\n",
        "    validation_data=([x_nr_test_tf.input_ids, x_nr_test_tf.token_type_ids, x_nr_test_tf.attention_mask], y_nr_test_tf),\n",
        "    batch_size=32,\n",
        "    epochs=4,\n",
        "    callbacks=[nr_bert_2_chkpt]\n",
        ")"
      ],
      "metadata": {
        "colab": {
          "base_uri": "https://localhost:8080/"
        },
        "id": "v_qTQUNTTRX4",
        "outputId": "6c5989b2-69ed-40e2-ce8a-f10b4fa5bea7"
      },
      "execution_count": null,
      "outputs": [
        {
          "output_type": "stream",
          "name": "stdout",
          "text": [
            "Epoch 1/4\n"
          ]
        },
        {
          "output_type": "stream",
          "name": "stderr",
          "text": [
            "WARNING:tensorflow:Gradients do not exist for variables ['tf_bert_model_3/bert/embeddings/word_embeddings/weight:0', 'tf_bert_model_3/bert/embeddings/token_type_embeddings/embeddings:0', 'tf_bert_model_3/bert/embeddings/position_embeddings/embeddings:0', 'tf_bert_model_3/bert/embeddings/LayerNorm/gamma:0', 'tf_bert_model_3/bert/embeddings/LayerNorm/beta:0', 'tf_bert_model_3/bert/encoder/layer_._0/attention/self/query/kernel:0', 'tf_bert_model_3/bert/encoder/layer_._0/attention/self/query/bias:0', 'tf_bert_model_3/bert/encoder/layer_._0/attention/self/key/kernel:0', 'tf_bert_model_3/bert/encoder/layer_._0/attention/self/key/bias:0', 'tf_bert_model_3/bert/encoder/layer_._0/attention/self/value/kernel:0', 'tf_bert_model_3/bert/encoder/layer_._0/attention/self/value/bias:0', 'tf_bert_model_3/bert/encoder/layer_._0/attention/output/dense/kernel:0', 'tf_bert_model_3/bert/encoder/layer_._0/attention/output/dense/bias:0', 'tf_bert_model_3/bert/encoder/layer_._0/attention/output/LayerNorm/gamma:0', 'tf_bert_model_3/bert/encoder/layer_._0/attention/output/LayerNorm/beta:0', 'tf_bert_model_3/bert/encoder/layer_._0/intermediate/dense/kernel:0', 'tf_bert_model_3/bert/encoder/layer_._0/intermediate/dense/bias:0', 'tf_bert_model_3/bert/encoder/layer_._0/output/dense/kernel:0', 'tf_bert_model_3/bert/encoder/layer_._0/output/dense/bias:0', 'tf_bert_model_3/bert/encoder/layer_._0/output/LayerNorm/gamma:0', 'tf_bert_model_3/bert/encoder/layer_._0/output/LayerNorm/beta:0', 'tf_bert_model_3/bert/encoder/layer_._1/attention/self/query/kernel:0', 'tf_bert_model_3/bert/encoder/layer_._1/attention/self/query/bias:0', 'tf_bert_model_3/bert/encoder/layer_._1/attention/self/key/kernel:0', 'tf_bert_model_3/bert/encoder/layer_._1/attention/self/key/bias:0', 'tf_bert_model_3/bert/encoder/layer_._1/attention/self/value/kernel:0', 'tf_bert_model_3/bert/encoder/layer_._1/attention/self/value/bias:0', 'tf_bert_model_3/bert/encoder/layer_._1/attention/output/dense/kernel:0', 'tf_bert_model_3/bert/encoder/layer_._1/attention/output/dense/bias:0', 'tf_bert_model_3/bert/encoder/layer_._1/attention/output/LayerNorm/gamma:0', 'tf_bert_model_3/bert/encoder/layer_._1/attention/output/LayerNorm/beta:0', 'tf_bert_model_3/bert/encoder/layer_._1/intermediate/dense/kernel:0', 'tf_bert_model_3/bert/encoder/layer_._1/intermediate/dense/bias:0', 'tf_bert_model_3/bert/encoder/layer_._1/output/dense/kernel:0', 'tf_bert_model_3/bert/encoder/layer_._1/output/dense/bias:0', 'tf_bert_model_3/bert/encoder/layer_._1/output/LayerNorm/gamma:0', 'tf_bert_model_3/bert/encoder/layer_._1/output/LayerNorm/beta:0', 'tf_bert_model_3/bert/encoder/layer_._2/attention/self/query/kernel:0', 'tf_bert_model_3/bert/encoder/layer_._2/attention/self/query/bias:0', 'tf_bert_model_3/bert/encoder/layer_._2/attention/self/key/kernel:0', 'tf_bert_model_3/bert/encoder/layer_._2/attention/self/key/bias:0', 'tf_bert_model_3/bert/encoder/layer_._2/attention/self/value/kernel:0', 'tf_bert_model_3/bert/encoder/layer_._2/attention/self/value/bias:0', 'tf_bert_model_3/bert/encoder/layer_._2/attention/output/dense/kernel:0', 'tf_bert_model_3/bert/encoder/layer_._2/attention/output/dense/bias:0', 'tf_bert_model_3/bert/encoder/layer_._2/attention/output/LayerNorm/gamma:0', 'tf_bert_model_3/bert/encoder/layer_._2/attention/output/LayerNorm/beta:0', 'tf_bert_model_3/bert/encoder/layer_._2/intermediate/dense/kernel:0', 'tf_bert_model_3/bert/encoder/layer_._2/intermediate/dense/bias:0', 'tf_bert_model_3/bert/encoder/layer_._2/output/dense/kernel:0', 'tf_bert_model_3/bert/encoder/layer_._2/output/dense/bias:0', 'tf_bert_model_3/bert/encoder/layer_._2/output/LayerNorm/gamma:0', 'tf_bert_model_3/bert/encoder/layer_._2/output/LayerNorm/beta:0', 'tf_bert_model_3/bert/encoder/layer_._3/attention/self/query/kernel:0', 'tf_bert_model_3/bert/encoder/layer_._3/attention/self/query/bias:0', 'tf_bert_model_3/bert/encoder/layer_._3/attention/self/key/kernel:0', 'tf_bert_model_3/bert/encoder/layer_._3/attention/self/key/bias:0', 'tf_bert_model_3/bert/encoder/layer_._3/attention/self/value/kernel:0', 'tf_bert_model_3/bert/encoder/layer_._3/attention/self/value/bias:0', 'tf_bert_model_3/bert/encoder/layer_._3/attention/output/dense/kernel:0', 'tf_bert_model_3/bert/encoder/layer_._3/attention/output/dense/bias:0', 'tf_bert_model_3/bert/encoder/layer_._3/attention/output/LayerNorm/gamma:0', 'tf_bert_model_3/bert/encoder/layer_._3/attention/output/LayerNorm/beta:0', 'tf_bert_model_3/bert/encoder/layer_._3/intermediate/dense/kernel:0', 'tf_bert_model_3/bert/encoder/layer_._3/intermediate/dense/bias:0', 'tf_bert_model_3/bert/encoder/layer_._3/output/dense/kernel:0', 'tf_bert_model_3/bert/encoder/layer_._3/output/dense/bias:0', 'tf_bert_model_3/bert/encoder/layer_._3/output/LayerNorm/gamma:0', 'tf_bert_model_3/bert/encoder/layer_._3/output/LayerNorm/beta:0', 'tf_bert_model_3/bert/encoder/layer_._4/attention/self/query/kernel:0', 'tf_bert_model_3/bert/encoder/layer_._4/attention/self/query/bias:0', 'tf_bert_model_3/bert/encoder/layer_._4/attention/self/key/kernel:0', 'tf_bert_model_3/bert/encoder/layer_._4/attention/self/key/bias:0', 'tf_bert_model_3/bert/encoder/layer_._4/attention/self/value/kernel:0', 'tf_bert_model_3/bert/encoder/layer_._4/attention/self/value/bias:0', 'tf_bert_model_3/bert/encoder/layer_._4/attention/output/dense/kernel:0', 'tf_bert_model_3/bert/encoder/layer_._4/attention/output/dense/bias:0', 'tf_bert_model_3/bert/encoder/layer_._4/attention/output/LayerNorm/gamma:0', 'tf_bert_model_3/bert/encoder/layer_._4/attention/output/LayerNorm/beta:0', 'tf_bert_model_3/bert/encoder/layer_._4/intermediate/dense/kernel:0', 'tf_bert_model_3/bert/encoder/layer_._4/intermediate/dense/bias:0', 'tf_bert_model_3/bert/encoder/layer_._4/output/dense/kernel:0', 'tf_bert_model_3/bert/encoder/layer_._4/output/dense/bias:0', 'tf_bert_model_3/bert/encoder/layer_._4/output/LayerNorm/gamma:0', 'tf_bert_model_3/bert/encoder/layer_._4/output/LayerNorm/beta:0', 'tf_bert_model_3/bert/encoder/layer_._5/attention/self/query/kernel:0', 'tf_bert_model_3/bert/encoder/layer_._5/attention/self/query/bias:0', 'tf_bert_model_3/bert/encoder/layer_._5/attention/self/key/kernel:0', 'tf_bert_model_3/bert/encoder/layer_._5/attention/self/key/bias:0', 'tf_bert_model_3/bert/encoder/layer_._5/attention/self/value/kernel:0', 'tf_bert_model_3/bert/encoder/layer_._5/attention/self/value/bias:0', 'tf_bert_model_3/bert/encoder/layer_._5/attention/output/dense/kernel:0', 'tf_bert_model_3/bert/encoder/layer_._5/attention/output/dense/bias:0', 'tf_bert_model_3/bert/encoder/layer_._5/attention/output/LayerNorm/gamma:0', 'tf_bert_model_3/bert/encoder/layer_._5/attention/output/LayerNorm/beta:0', 'tf_bert_model_3/bert/encoder/layer_._5/intermediate/dense/kernel:0', 'tf_bert_model_3/bert/encoder/layer_._5/intermediate/dense/bias:0', 'tf_bert_model_3/bert/encoder/layer_._5/output/dense/kernel:0', 'tf_bert_model_3/bert/encoder/layer_._5/output/dense/bias:0', 'tf_bert_model_3/bert/encoder/layer_._5/output/LayerNorm/gamma:0', 'tf_bert_model_3/bert/encoder/layer_._5/output/LayerNorm/beta:0', 'tf_bert_model_3/bert/encoder/layer_._6/attention/self/query/kernel:0', 'tf_bert_model_3/bert/encoder/layer_._6/attention/self/query/bias:0', 'tf_bert_model_3/bert/encoder/layer_._6/attention/self/key/kernel:0', 'tf_bert_model_3/bert/encoder/layer_._6/attention/self/key/bias:0', 'tf_bert_model_3/bert/encoder/layer_._6/attention/self/value/kernel:0', 'tf_bert_model_3/bert/encoder/layer_._6/attention/self/value/bias:0', 'tf_bert_model_3/bert/encoder/layer_._6/attention/output/dense/kernel:0', 'tf_bert_model_3/bert/encoder/layer_._6/attention/output/dense/bias:0', 'tf_bert_model_3/bert/encoder/layer_._6/attention/output/LayerNorm/gamma:0', 'tf_bert_model_3/bert/encoder/layer_._6/attention/output/LayerNorm/beta:0', 'tf_bert_model_3/bert/encoder/layer_._6/intermediate/dense/kernel:0', 'tf_bert_model_3/bert/encoder/layer_._6/intermediate/dense/bias:0', 'tf_bert_model_3/bert/encoder/layer_._6/output/dense/kernel:0', 'tf_bert_model_3/bert/encoder/layer_._6/output/dense/bias:0', 'tf_bert_model_3/bert/encoder/layer_._6/output/LayerNorm/gamma:0', 'tf_bert_model_3/bert/encoder/layer_._6/output/LayerNorm/beta:0', 'tf_bert_model_3/bert/encoder/layer_._7/attention/self/query/kernel:0', 'tf_bert_model_3/bert/encoder/layer_._7/attention/self/query/bias:0', 'tf_bert_model_3/bert/encoder/layer_._7/attention/self/key/kernel:0', 'tf_bert_model_3/bert/encoder/layer_._7/attention/self/key/bias:0', 'tf_bert_model_3/bert/encoder/layer_._7/attention/self/value/kernel:0', 'tf_bert_model_3/bert/encoder/layer_._7/attention/self/value/bias:0', 'tf_bert_model_3/bert/encoder/layer_._7/attention/output/dense/kernel:0', 'tf_bert_model_3/bert/encoder/layer_._7/attention/output/dense/bias:0', 'tf_bert_model_3/bert/encoder/layer_._7/attention/output/LayerNorm/gamma:0', 'tf_bert_model_3/bert/encoder/layer_._7/attention/output/LayerNorm/beta:0', 'tf_bert_model_3/bert/encoder/layer_._7/intermediate/dense/kernel:0', 'tf_bert_model_3/bert/encoder/layer_._7/intermediate/dense/bias:0', 'tf_bert_model_3/bert/encoder/layer_._7/output/dense/kernel:0', 'tf_bert_model_3/bert/encoder/layer_._7/output/dense/bias:0', 'tf_bert_model_3/bert/encoder/layer_._7/output/LayerNorm/gamma:0', 'tf_bert_model_3/bert/encoder/layer_._7/output/LayerNorm/beta:0', 'tf_bert_model_3/bert/encoder/layer_._8/attention/self/query/kernel:0', 'tf_bert_model_3/bert/encoder/layer_._8/attention/self/query/bias:0', 'tf_bert_model_3/bert/encoder/layer_._8/attention/self/key/kernel:0', 'tf_bert_model_3/bert/encoder/layer_._8/attention/self/key/bias:0', 'tf_bert_model_3/bert/encoder/layer_._8/attention/self/value/kernel:0', 'tf_bert_model_3/bert/encoder/layer_._8/attention/self/value/bias:0', 'tf_bert_model_3/bert/encoder/layer_._8/attention/output/dense/kernel:0', 'tf_bert_model_3/bert/encoder/layer_._8/attention/output/dense/bias:0', 'tf_bert_model_3/bert/encoder/layer_._8/attention/output/LayerNorm/gamma:0', 'tf_bert_model_3/bert/encoder/layer_._8/attention/output/LayerNorm/beta:0', 'tf_bert_model_3/bert/encoder/layer_._8/intermediate/dense/kernel:0', 'tf_bert_model_3/bert/encoder/layer_._8/intermediate/dense/bias:0', 'tf_bert_model_3/bert/encoder/layer_._8/output/dense/kernel:0', 'tf_bert_model_3/bert/encoder/layer_._8/output/dense/bias:0', 'tf_bert_model_3/bert/encoder/layer_._8/output/LayerNorm/gamma:0', 'tf_bert_model_3/bert/encoder/layer_._8/output/LayerNorm/beta:0', 'tf_bert_model_3/bert/encoder/layer_._9/attention/self/query/kernel:0', 'tf_bert_model_3/bert/encoder/layer_._9/attention/self/query/bias:0', 'tf_bert_model_3/bert/encoder/layer_._9/attention/self/key/kernel:0', 'tf_bert_model_3/bert/encoder/layer_._9/attention/self/key/bias:0', 'tf_bert_model_3/bert/encoder/layer_._9/attention/self/value/kernel:0', 'tf_bert_model_3/bert/encoder/layer_._9/attention/self/value/bias:0', 'tf_bert_model_3/bert/encoder/layer_._9/attention/output/dense/kernel:0', 'tf_bert_model_3/bert/encoder/layer_._9/attention/output/dense/bias:0', 'tf_bert_model_3/bert/encoder/layer_._9/attention/output/LayerNorm/gamma:0', 'tf_bert_model_3/bert/encoder/layer_._9/attention/output/LayerNorm/beta:0', 'tf_bert_model_3/bert/encoder/layer_._9/intermediate/dense/kernel:0', 'tf_bert_model_3/bert/encoder/layer_._9/intermediate/dense/bias:0', 'tf_bert_model_3/bert/encoder/layer_._9/output/dense/kernel:0', 'tf_bert_model_3/bert/encoder/layer_._9/output/dense/bias:0', 'tf_bert_model_3/bert/encoder/layer_._9/output/LayerNorm/gamma:0', 'tf_bert_model_3/bert/encoder/layer_._9/output/LayerNorm/beta:0', 'tf_bert_model_3/bert/encoder/layer_._10/attention/self/query/kernel:0', 'tf_bert_model_3/bert/encoder/layer_._10/attention/self/query/bias:0', 'tf_bert_model_3/bert/encoder/layer_._10/attention/self/key/kernel:0', 'tf_bert_model_3/bert/encoder/layer_._10/attention/self/key/bias:0', 'tf_bert_model_3/bert/encoder/layer_._10/attention/self/value/kernel:0', 'tf_bert_model_3/bert/encoder/layer_._10/attention/self/value/bias:0', 'tf_bert_model_3/bert/encoder/layer_._10/attention/output/dense/kernel:0', 'tf_bert_model_3/bert/encoder/layer_._10/attention/output/dense/bias:0', 'tf_bert_model_3/bert/encoder/layer_._10/attention/output/LayerNorm/gamma:0', 'tf_bert_model_3/bert/encoder/layer_._10/attention/output/LayerNorm/beta:0', 'tf_bert_model_3/bert/encoder/layer_._10/intermediate/dense/kernel:0', 'tf_bert_model_3/bert/encoder/layer_._10/intermediate/dense/bias:0', 'tf_bert_model_3/bert/encoder/layer_._10/output/dense/kernel:0', 'tf_bert_model_3/bert/encoder/layer_._10/output/dense/bias:0', 'tf_bert_model_3/bert/encoder/layer_._10/output/LayerNorm/gamma:0', 'tf_bert_model_3/bert/encoder/layer_._10/output/LayerNorm/beta:0', 'tf_bert_model_3/bert/pooler/dense/kernel:0', 'tf_bert_model_3/bert/pooler/dense/bias:0'] when minimizing the loss. If you're using `model.compile()`, did you forget to provide a `loss` argument?\n",
            "WARNING:tensorflow:Gradients do not exist for variables ['tf_bert_model_3/bert/embeddings/word_embeddings/weight:0', 'tf_bert_model_3/bert/embeddings/token_type_embeddings/embeddings:0', 'tf_bert_model_3/bert/embeddings/position_embeddings/embeddings:0', 'tf_bert_model_3/bert/embeddings/LayerNorm/gamma:0', 'tf_bert_model_3/bert/embeddings/LayerNorm/beta:0', 'tf_bert_model_3/bert/encoder/layer_._0/attention/self/query/kernel:0', 'tf_bert_model_3/bert/encoder/layer_._0/attention/self/query/bias:0', 'tf_bert_model_3/bert/encoder/layer_._0/attention/self/key/kernel:0', 'tf_bert_model_3/bert/encoder/layer_._0/attention/self/key/bias:0', 'tf_bert_model_3/bert/encoder/layer_._0/attention/self/value/kernel:0', 'tf_bert_model_3/bert/encoder/layer_._0/attention/self/value/bias:0', 'tf_bert_model_3/bert/encoder/layer_._0/attention/output/dense/kernel:0', 'tf_bert_model_3/bert/encoder/layer_._0/attention/output/dense/bias:0', 'tf_bert_model_3/bert/encoder/layer_._0/attention/output/LayerNorm/gamma:0', 'tf_bert_model_3/bert/encoder/layer_._0/attention/output/LayerNorm/beta:0', 'tf_bert_model_3/bert/encoder/layer_._0/intermediate/dense/kernel:0', 'tf_bert_model_3/bert/encoder/layer_._0/intermediate/dense/bias:0', 'tf_bert_model_3/bert/encoder/layer_._0/output/dense/kernel:0', 'tf_bert_model_3/bert/encoder/layer_._0/output/dense/bias:0', 'tf_bert_model_3/bert/encoder/layer_._0/output/LayerNorm/gamma:0', 'tf_bert_model_3/bert/encoder/layer_._0/output/LayerNorm/beta:0', 'tf_bert_model_3/bert/encoder/layer_._1/attention/self/query/kernel:0', 'tf_bert_model_3/bert/encoder/layer_._1/attention/self/query/bias:0', 'tf_bert_model_3/bert/encoder/layer_._1/attention/self/key/kernel:0', 'tf_bert_model_3/bert/encoder/layer_._1/attention/self/key/bias:0', 'tf_bert_model_3/bert/encoder/layer_._1/attention/self/value/kernel:0', 'tf_bert_model_3/bert/encoder/layer_._1/attention/self/value/bias:0', 'tf_bert_model_3/bert/encoder/layer_._1/attention/output/dense/kernel:0', 'tf_bert_model_3/bert/encoder/layer_._1/attention/output/dense/bias:0', 'tf_bert_model_3/bert/encoder/layer_._1/attention/output/LayerNorm/gamma:0', 'tf_bert_model_3/bert/encoder/layer_._1/attention/output/LayerNorm/beta:0', 'tf_bert_model_3/bert/encoder/layer_._1/intermediate/dense/kernel:0', 'tf_bert_model_3/bert/encoder/layer_._1/intermediate/dense/bias:0', 'tf_bert_model_3/bert/encoder/layer_._1/output/dense/kernel:0', 'tf_bert_model_3/bert/encoder/layer_._1/output/dense/bias:0', 'tf_bert_model_3/bert/encoder/layer_._1/output/LayerNorm/gamma:0', 'tf_bert_model_3/bert/encoder/layer_._1/output/LayerNorm/beta:0', 'tf_bert_model_3/bert/encoder/layer_._2/attention/self/query/kernel:0', 'tf_bert_model_3/bert/encoder/layer_._2/attention/self/query/bias:0', 'tf_bert_model_3/bert/encoder/layer_._2/attention/self/key/kernel:0', 'tf_bert_model_3/bert/encoder/layer_._2/attention/self/key/bias:0', 'tf_bert_model_3/bert/encoder/layer_._2/attention/self/value/kernel:0', 'tf_bert_model_3/bert/encoder/layer_._2/attention/self/value/bias:0', 'tf_bert_model_3/bert/encoder/layer_._2/attention/output/dense/kernel:0', 'tf_bert_model_3/bert/encoder/layer_._2/attention/output/dense/bias:0', 'tf_bert_model_3/bert/encoder/layer_._2/attention/output/LayerNorm/gamma:0', 'tf_bert_model_3/bert/encoder/layer_._2/attention/output/LayerNorm/beta:0', 'tf_bert_model_3/bert/encoder/layer_._2/intermediate/dense/kernel:0', 'tf_bert_model_3/bert/encoder/layer_._2/intermediate/dense/bias:0', 'tf_bert_model_3/bert/encoder/layer_._2/output/dense/kernel:0', 'tf_bert_model_3/bert/encoder/layer_._2/output/dense/bias:0', 'tf_bert_model_3/bert/encoder/layer_._2/output/LayerNorm/gamma:0', 'tf_bert_model_3/bert/encoder/layer_._2/output/LayerNorm/beta:0', 'tf_bert_model_3/bert/encoder/layer_._3/attention/self/query/kernel:0', 'tf_bert_model_3/bert/encoder/layer_._3/attention/self/query/bias:0', 'tf_bert_model_3/bert/encoder/layer_._3/attention/self/key/kernel:0', 'tf_bert_model_3/bert/encoder/layer_._3/attention/self/key/bias:0', 'tf_bert_model_3/bert/encoder/layer_._3/attention/self/value/kernel:0', 'tf_bert_model_3/bert/encoder/layer_._3/attention/self/value/bias:0', 'tf_bert_model_3/bert/encoder/layer_._3/attention/output/dense/kernel:0', 'tf_bert_model_3/bert/encoder/layer_._3/attention/output/dense/bias:0', 'tf_bert_model_3/bert/encoder/layer_._3/attention/output/LayerNorm/gamma:0', 'tf_bert_model_3/bert/encoder/layer_._3/attention/output/LayerNorm/beta:0', 'tf_bert_model_3/bert/encoder/layer_._3/intermediate/dense/kernel:0', 'tf_bert_model_3/bert/encoder/layer_._3/intermediate/dense/bias:0', 'tf_bert_model_3/bert/encoder/layer_._3/output/dense/kernel:0', 'tf_bert_model_3/bert/encoder/layer_._3/output/dense/bias:0', 'tf_bert_model_3/bert/encoder/layer_._3/output/LayerNorm/gamma:0', 'tf_bert_model_3/bert/encoder/layer_._3/output/LayerNorm/beta:0', 'tf_bert_model_3/bert/encoder/layer_._4/attention/self/query/kernel:0', 'tf_bert_model_3/bert/encoder/layer_._4/attention/self/query/bias:0', 'tf_bert_model_3/bert/encoder/layer_._4/attention/self/key/kernel:0', 'tf_bert_model_3/bert/encoder/layer_._4/attention/self/key/bias:0', 'tf_bert_model_3/bert/encoder/layer_._4/attention/self/value/kernel:0', 'tf_bert_model_3/bert/encoder/layer_._4/attention/self/value/bias:0', 'tf_bert_model_3/bert/encoder/layer_._4/attention/output/dense/kernel:0', 'tf_bert_model_3/bert/encoder/layer_._4/attention/output/dense/bias:0', 'tf_bert_model_3/bert/encoder/layer_._4/attention/output/LayerNorm/gamma:0', 'tf_bert_model_3/bert/encoder/layer_._4/attention/output/LayerNorm/beta:0', 'tf_bert_model_3/bert/encoder/layer_._4/intermediate/dense/kernel:0', 'tf_bert_model_3/bert/encoder/layer_._4/intermediate/dense/bias:0', 'tf_bert_model_3/bert/encoder/layer_._4/output/dense/kernel:0', 'tf_bert_model_3/bert/encoder/layer_._4/output/dense/bias:0', 'tf_bert_model_3/bert/encoder/layer_._4/output/LayerNorm/gamma:0', 'tf_bert_model_3/bert/encoder/layer_._4/output/LayerNorm/beta:0', 'tf_bert_model_3/bert/encoder/layer_._5/attention/self/query/kernel:0', 'tf_bert_model_3/bert/encoder/layer_._5/attention/self/query/bias:0', 'tf_bert_model_3/bert/encoder/layer_._5/attention/self/key/kernel:0', 'tf_bert_model_3/bert/encoder/layer_._5/attention/self/key/bias:0', 'tf_bert_model_3/bert/encoder/layer_._5/attention/self/value/kernel:0', 'tf_bert_model_3/bert/encoder/layer_._5/attention/self/value/bias:0', 'tf_bert_model_3/bert/encoder/layer_._5/attention/output/dense/kernel:0', 'tf_bert_model_3/bert/encoder/layer_._5/attention/output/dense/bias:0', 'tf_bert_model_3/bert/encoder/layer_._5/attention/output/LayerNorm/gamma:0', 'tf_bert_model_3/bert/encoder/layer_._5/attention/output/LayerNorm/beta:0', 'tf_bert_model_3/bert/encoder/layer_._5/intermediate/dense/kernel:0', 'tf_bert_model_3/bert/encoder/layer_._5/intermediate/dense/bias:0', 'tf_bert_model_3/bert/encoder/layer_._5/output/dense/kernel:0', 'tf_bert_model_3/bert/encoder/layer_._5/output/dense/bias:0', 'tf_bert_model_3/bert/encoder/layer_._5/output/LayerNorm/gamma:0', 'tf_bert_model_3/bert/encoder/layer_._5/output/LayerNorm/beta:0', 'tf_bert_model_3/bert/encoder/layer_._6/attention/self/query/kernel:0', 'tf_bert_model_3/bert/encoder/layer_._6/attention/self/query/bias:0', 'tf_bert_model_3/bert/encoder/layer_._6/attention/self/key/kernel:0', 'tf_bert_model_3/bert/encoder/layer_._6/attention/self/key/bias:0', 'tf_bert_model_3/bert/encoder/layer_._6/attention/self/value/kernel:0', 'tf_bert_model_3/bert/encoder/layer_._6/attention/self/value/bias:0', 'tf_bert_model_3/bert/encoder/layer_._6/attention/output/dense/kernel:0', 'tf_bert_model_3/bert/encoder/layer_._6/attention/output/dense/bias:0', 'tf_bert_model_3/bert/encoder/layer_._6/attention/output/LayerNorm/gamma:0', 'tf_bert_model_3/bert/encoder/layer_._6/attention/output/LayerNorm/beta:0', 'tf_bert_model_3/bert/encoder/layer_._6/intermediate/dense/kernel:0', 'tf_bert_model_3/bert/encoder/layer_._6/intermediate/dense/bias:0', 'tf_bert_model_3/bert/encoder/layer_._6/output/dense/kernel:0', 'tf_bert_model_3/bert/encoder/layer_._6/output/dense/bias:0', 'tf_bert_model_3/bert/encoder/layer_._6/output/LayerNorm/gamma:0', 'tf_bert_model_3/bert/encoder/layer_._6/output/LayerNorm/beta:0', 'tf_bert_model_3/bert/encoder/layer_._7/attention/self/query/kernel:0', 'tf_bert_model_3/bert/encoder/layer_._7/attention/self/query/bias:0', 'tf_bert_model_3/bert/encoder/layer_._7/attention/self/key/kernel:0', 'tf_bert_model_3/bert/encoder/layer_._7/attention/self/key/bias:0', 'tf_bert_model_3/bert/encoder/layer_._7/attention/self/value/kernel:0', 'tf_bert_model_3/bert/encoder/layer_._7/attention/self/value/bias:0', 'tf_bert_model_3/bert/encoder/layer_._7/attention/output/dense/kernel:0', 'tf_bert_model_3/bert/encoder/layer_._7/attention/output/dense/bias:0', 'tf_bert_model_3/bert/encoder/layer_._7/attention/output/LayerNorm/gamma:0', 'tf_bert_model_3/bert/encoder/layer_._7/attention/output/LayerNorm/beta:0', 'tf_bert_model_3/bert/encoder/layer_._7/intermediate/dense/kernel:0', 'tf_bert_model_3/bert/encoder/layer_._7/intermediate/dense/bias:0', 'tf_bert_model_3/bert/encoder/layer_._7/output/dense/kernel:0', 'tf_bert_model_3/bert/encoder/layer_._7/output/dense/bias:0', 'tf_bert_model_3/bert/encoder/layer_._7/output/LayerNorm/gamma:0', 'tf_bert_model_3/bert/encoder/layer_._7/output/LayerNorm/beta:0', 'tf_bert_model_3/bert/encoder/layer_._8/attention/self/query/kernel:0', 'tf_bert_model_3/bert/encoder/layer_._8/attention/self/query/bias:0', 'tf_bert_model_3/bert/encoder/layer_._8/attention/self/key/kernel:0', 'tf_bert_model_3/bert/encoder/layer_._8/attention/self/key/bias:0', 'tf_bert_model_3/bert/encoder/layer_._8/attention/self/value/kernel:0', 'tf_bert_model_3/bert/encoder/layer_._8/attention/self/value/bias:0', 'tf_bert_model_3/bert/encoder/layer_._8/attention/output/dense/kernel:0', 'tf_bert_model_3/bert/encoder/layer_._8/attention/output/dense/bias:0', 'tf_bert_model_3/bert/encoder/layer_._8/attention/output/LayerNorm/gamma:0', 'tf_bert_model_3/bert/encoder/layer_._8/attention/output/LayerNorm/beta:0', 'tf_bert_model_3/bert/encoder/layer_._8/intermediate/dense/kernel:0', 'tf_bert_model_3/bert/encoder/layer_._8/intermediate/dense/bias:0', 'tf_bert_model_3/bert/encoder/layer_._8/output/dense/kernel:0', 'tf_bert_model_3/bert/encoder/layer_._8/output/dense/bias:0', 'tf_bert_model_3/bert/encoder/layer_._8/output/LayerNorm/gamma:0', 'tf_bert_model_3/bert/encoder/layer_._8/output/LayerNorm/beta:0', 'tf_bert_model_3/bert/encoder/layer_._9/attention/self/query/kernel:0', 'tf_bert_model_3/bert/encoder/layer_._9/attention/self/query/bias:0', 'tf_bert_model_3/bert/encoder/layer_._9/attention/self/key/kernel:0', 'tf_bert_model_3/bert/encoder/layer_._9/attention/self/key/bias:0', 'tf_bert_model_3/bert/encoder/layer_._9/attention/self/value/kernel:0', 'tf_bert_model_3/bert/encoder/layer_._9/attention/self/value/bias:0', 'tf_bert_model_3/bert/encoder/layer_._9/attention/output/dense/kernel:0', 'tf_bert_model_3/bert/encoder/layer_._9/attention/output/dense/bias:0', 'tf_bert_model_3/bert/encoder/layer_._9/attention/output/LayerNorm/gamma:0', 'tf_bert_model_3/bert/encoder/layer_._9/attention/output/LayerNorm/beta:0', 'tf_bert_model_3/bert/encoder/layer_._9/intermediate/dense/kernel:0', 'tf_bert_model_3/bert/encoder/layer_._9/intermediate/dense/bias:0', 'tf_bert_model_3/bert/encoder/layer_._9/output/dense/kernel:0', 'tf_bert_model_3/bert/encoder/layer_._9/output/dense/bias:0', 'tf_bert_model_3/bert/encoder/layer_._9/output/LayerNorm/gamma:0', 'tf_bert_model_3/bert/encoder/layer_._9/output/LayerNorm/beta:0', 'tf_bert_model_3/bert/encoder/layer_._10/attention/self/query/kernel:0', 'tf_bert_model_3/bert/encoder/layer_._10/attention/self/query/bias:0', 'tf_bert_model_3/bert/encoder/layer_._10/attention/self/key/kernel:0', 'tf_bert_model_3/bert/encoder/layer_._10/attention/self/key/bias:0', 'tf_bert_model_3/bert/encoder/layer_._10/attention/self/value/kernel:0', 'tf_bert_model_3/bert/encoder/layer_._10/attention/self/value/bias:0', 'tf_bert_model_3/bert/encoder/layer_._10/attention/output/dense/kernel:0', 'tf_bert_model_3/bert/encoder/layer_._10/attention/output/dense/bias:0', 'tf_bert_model_3/bert/encoder/layer_._10/attention/output/LayerNorm/gamma:0', 'tf_bert_model_3/bert/encoder/layer_._10/attention/output/LayerNorm/beta:0', 'tf_bert_model_3/bert/encoder/layer_._10/intermediate/dense/kernel:0', 'tf_bert_model_3/bert/encoder/layer_._10/intermediate/dense/bias:0', 'tf_bert_model_3/bert/encoder/layer_._10/output/dense/kernel:0', 'tf_bert_model_3/bert/encoder/layer_._10/output/dense/bias:0', 'tf_bert_model_3/bert/encoder/layer_._10/output/LayerNorm/gamma:0', 'tf_bert_model_3/bert/encoder/layer_._10/output/LayerNorm/beta:0', 'tf_bert_model_3/bert/pooler/dense/kernel:0', 'tf_bert_model_3/bert/pooler/dense/bias:0'] when minimizing the loss. If you're using `model.compile()`, did you forget to provide a `loss` argument?\n",
            "WARNING:tensorflow:Gradients do not exist for variables ['tf_bert_model_3/bert/embeddings/word_embeddings/weight:0', 'tf_bert_model_3/bert/embeddings/token_type_embeddings/embeddings:0', 'tf_bert_model_3/bert/embeddings/position_embeddings/embeddings:0', 'tf_bert_model_3/bert/embeddings/LayerNorm/gamma:0', 'tf_bert_model_3/bert/embeddings/LayerNorm/beta:0', 'tf_bert_model_3/bert/encoder/layer_._0/attention/self/query/kernel:0', 'tf_bert_model_3/bert/encoder/layer_._0/attention/self/query/bias:0', 'tf_bert_model_3/bert/encoder/layer_._0/attention/self/key/kernel:0', 'tf_bert_model_3/bert/encoder/layer_._0/attention/self/key/bias:0', 'tf_bert_model_3/bert/encoder/layer_._0/attention/self/value/kernel:0', 'tf_bert_model_3/bert/encoder/layer_._0/attention/self/value/bias:0', 'tf_bert_model_3/bert/encoder/layer_._0/attention/output/dense/kernel:0', 'tf_bert_model_3/bert/encoder/layer_._0/attention/output/dense/bias:0', 'tf_bert_model_3/bert/encoder/layer_._0/attention/output/LayerNorm/gamma:0', 'tf_bert_model_3/bert/encoder/layer_._0/attention/output/LayerNorm/beta:0', 'tf_bert_model_3/bert/encoder/layer_._0/intermediate/dense/kernel:0', 'tf_bert_model_3/bert/encoder/layer_._0/intermediate/dense/bias:0', 'tf_bert_model_3/bert/encoder/layer_._0/output/dense/kernel:0', 'tf_bert_model_3/bert/encoder/layer_._0/output/dense/bias:0', 'tf_bert_model_3/bert/encoder/layer_._0/output/LayerNorm/gamma:0', 'tf_bert_model_3/bert/encoder/layer_._0/output/LayerNorm/beta:0', 'tf_bert_model_3/bert/encoder/layer_._1/attention/self/query/kernel:0', 'tf_bert_model_3/bert/encoder/layer_._1/attention/self/query/bias:0', 'tf_bert_model_3/bert/encoder/layer_._1/attention/self/key/kernel:0', 'tf_bert_model_3/bert/encoder/layer_._1/attention/self/key/bias:0', 'tf_bert_model_3/bert/encoder/layer_._1/attention/self/value/kernel:0', 'tf_bert_model_3/bert/encoder/layer_._1/attention/self/value/bias:0', 'tf_bert_model_3/bert/encoder/layer_._1/attention/output/dense/kernel:0', 'tf_bert_model_3/bert/encoder/layer_._1/attention/output/dense/bias:0', 'tf_bert_model_3/bert/encoder/layer_._1/attention/output/LayerNorm/gamma:0', 'tf_bert_model_3/bert/encoder/layer_._1/attention/output/LayerNorm/beta:0', 'tf_bert_model_3/bert/encoder/layer_._1/intermediate/dense/kernel:0', 'tf_bert_model_3/bert/encoder/layer_._1/intermediate/dense/bias:0', 'tf_bert_model_3/bert/encoder/layer_._1/output/dense/kernel:0', 'tf_bert_model_3/bert/encoder/layer_._1/output/dense/bias:0', 'tf_bert_model_3/bert/encoder/layer_._1/output/LayerNorm/gamma:0', 'tf_bert_model_3/bert/encoder/layer_._1/output/LayerNorm/beta:0', 'tf_bert_model_3/bert/encoder/layer_._2/attention/self/query/kernel:0', 'tf_bert_model_3/bert/encoder/layer_._2/attention/self/query/bias:0', 'tf_bert_model_3/bert/encoder/layer_._2/attention/self/key/kernel:0', 'tf_bert_model_3/bert/encoder/layer_._2/attention/self/key/bias:0', 'tf_bert_model_3/bert/encoder/layer_._2/attention/self/value/kernel:0', 'tf_bert_model_3/bert/encoder/layer_._2/attention/self/value/bias:0', 'tf_bert_model_3/bert/encoder/layer_._2/attention/output/dense/kernel:0', 'tf_bert_model_3/bert/encoder/layer_._2/attention/output/dense/bias:0', 'tf_bert_model_3/bert/encoder/layer_._2/attention/output/LayerNorm/gamma:0', 'tf_bert_model_3/bert/encoder/layer_._2/attention/output/LayerNorm/beta:0', 'tf_bert_model_3/bert/encoder/layer_._2/intermediate/dense/kernel:0', 'tf_bert_model_3/bert/encoder/layer_._2/intermediate/dense/bias:0', 'tf_bert_model_3/bert/encoder/layer_._2/output/dense/kernel:0', 'tf_bert_model_3/bert/encoder/layer_._2/output/dense/bias:0', 'tf_bert_model_3/bert/encoder/layer_._2/output/LayerNorm/gamma:0', 'tf_bert_model_3/bert/encoder/layer_._2/output/LayerNorm/beta:0', 'tf_bert_model_3/bert/encoder/layer_._3/attention/self/query/kernel:0', 'tf_bert_model_3/bert/encoder/layer_._3/attention/self/query/bias:0', 'tf_bert_model_3/bert/encoder/layer_._3/attention/self/key/kernel:0', 'tf_bert_model_3/bert/encoder/layer_._3/attention/self/key/bias:0', 'tf_bert_model_3/bert/encoder/layer_._3/attention/self/value/kernel:0', 'tf_bert_model_3/bert/encoder/layer_._3/attention/self/value/bias:0', 'tf_bert_model_3/bert/encoder/layer_._3/attention/output/dense/kernel:0', 'tf_bert_model_3/bert/encoder/layer_._3/attention/output/dense/bias:0', 'tf_bert_model_3/bert/encoder/layer_._3/attention/output/LayerNorm/gamma:0', 'tf_bert_model_3/bert/encoder/layer_._3/attention/output/LayerNorm/beta:0', 'tf_bert_model_3/bert/encoder/layer_._3/intermediate/dense/kernel:0', 'tf_bert_model_3/bert/encoder/layer_._3/intermediate/dense/bias:0', 'tf_bert_model_3/bert/encoder/layer_._3/output/dense/kernel:0', 'tf_bert_model_3/bert/encoder/layer_._3/output/dense/bias:0', 'tf_bert_model_3/bert/encoder/layer_._3/output/LayerNorm/gamma:0', 'tf_bert_model_3/bert/encoder/layer_._3/output/LayerNorm/beta:0', 'tf_bert_model_3/bert/encoder/layer_._4/attention/self/query/kernel:0', 'tf_bert_model_3/bert/encoder/layer_._4/attention/self/query/bias:0', 'tf_bert_model_3/bert/encoder/layer_._4/attention/self/key/kernel:0', 'tf_bert_model_3/bert/encoder/layer_._4/attention/self/key/bias:0', 'tf_bert_model_3/bert/encoder/layer_._4/attention/self/value/kernel:0', 'tf_bert_model_3/bert/encoder/layer_._4/attention/self/value/bias:0', 'tf_bert_model_3/bert/encoder/layer_._4/attention/output/dense/kernel:0', 'tf_bert_model_3/bert/encoder/layer_._4/attention/output/dense/bias:0', 'tf_bert_model_3/bert/encoder/layer_._4/attention/output/LayerNorm/gamma:0', 'tf_bert_model_3/bert/encoder/layer_._4/attention/output/LayerNorm/beta:0', 'tf_bert_model_3/bert/encoder/layer_._4/intermediate/dense/kernel:0', 'tf_bert_model_3/bert/encoder/layer_._4/intermediate/dense/bias:0', 'tf_bert_model_3/bert/encoder/layer_._4/output/dense/kernel:0', 'tf_bert_model_3/bert/encoder/layer_._4/output/dense/bias:0', 'tf_bert_model_3/bert/encoder/layer_._4/output/LayerNorm/gamma:0', 'tf_bert_model_3/bert/encoder/layer_._4/output/LayerNorm/beta:0', 'tf_bert_model_3/bert/encoder/layer_._5/attention/self/query/kernel:0', 'tf_bert_model_3/bert/encoder/layer_._5/attention/self/query/bias:0', 'tf_bert_model_3/bert/encoder/layer_._5/attention/self/key/kernel:0', 'tf_bert_model_3/bert/encoder/layer_._5/attention/self/key/bias:0', 'tf_bert_model_3/bert/encoder/layer_._5/attention/self/value/kernel:0', 'tf_bert_model_3/bert/encoder/layer_._5/attention/self/value/bias:0', 'tf_bert_model_3/bert/encoder/layer_._5/attention/output/dense/kernel:0', 'tf_bert_model_3/bert/encoder/layer_._5/attention/output/dense/bias:0', 'tf_bert_model_3/bert/encoder/layer_._5/attention/output/LayerNorm/gamma:0', 'tf_bert_model_3/bert/encoder/layer_._5/attention/output/LayerNorm/beta:0', 'tf_bert_model_3/bert/encoder/layer_._5/intermediate/dense/kernel:0', 'tf_bert_model_3/bert/encoder/layer_._5/intermediate/dense/bias:0', 'tf_bert_model_3/bert/encoder/layer_._5/output/dense/kernel:0', 'tf_bert_model_3/bert/encoder/layer_._5/output/dense/bias:0', 'tf_bert_model_3/bert/encoder/layer_._5/output/LayerNorm/gamma:0', 'tf_bert_model_3/bert/encoder/layer_._5/output/LayerNorm/beta:0', 'tf_bert_model_3/bert/encoder/layer_._6/attention/self/query/kernel:0', 'tf_bert_model_3/bert/encoder/layer_._6/attention/self/query/bias:0', 'tf_bert_model_3/bert/encoder/layer_._6/attention/self/key/kernel:0', 'tf_bert_model_3/bert/encoder/layer_._6/attention/self/key/bias:0', 'tf_bert_model_3/bert/encoder/layer_._6/attention/self/value/kernel:0', 'tf_bert_model_3/bert/encoder/layer_._6/attention/self/value/bias:0', 'tf_bert_model_3/bert/encoder/layer_._6/attention/output/dense/kernel:0', 'tf_bert_model_3/bert/encoder/layer_._6/attention/output/dense/bias:0', 'tf_bert_model_3/bert/encoder/layer_._6/attention/output/LayerNorm/gamma:0', 'tf_bert_model_3/bert/encoder/layer_._6/attention/output/LayerNorm/beta:0', 'tf_bert_model_3/bert/encoder/layer_._6/intermediate/dense/kernel:0', 'tf_bert_model_3/bert/encoder/layer_._6/intermediate/dense/bias:0', 'tf_bert_model_3/bert/encoder/layer_._6/output/dense/kernel:0', 'tf_bert_model_3/bert/encoder/layer_._6/output/dense/bias:0', 'tf_bert_model_3/bert/encoder/layer_._6/output/LayerNorm/gamma:0', 'tf_bert_model_3/bert/encoder/layer_._6/output/LayerNorm/beta:0', 'tf_bert_model_3/bert/encoder/layer_._7/attention/self/query/kernel:0', 'tf_bert_model_3/bert/encoder/layer_._7/attention/self/query/bias:0', 'tf_bert_model_3/bert/encoder/layer_._7/attention/self/key/kernel:0', 'tf_bert_model_3/bert/encoder/layer_._7/attention/self/key/bias:0', 'tf_bert_model_3/bert/encoder/layer_._7/attention/self/value/kernel:0', 'tf_bert_model_3/bert/encoder/layer_._7/attention/self/value/bias:0', 'tf_bert_model_3/bert/encoder/layer_._7/attention/output/dense/kernel:0', 'tf_bert_model_3/bert/encoder/layer_._7/attention/output/dense/bias:0', 'tf_bert_model_3/bert/encoder/layer_._7/attention/output/LayerNorm/gamma:0', 'tf_bert_model_3/bert/encoder/layer_._7/attention/output/LayerNorm/beta:0', 'tf_bert_model_3/bert/encoder/layer_._7/intermediate/dense/kernel:0', 'tf_bert_model_3/bert/encoder/layer_._7/intermediate/dense/bias:0', 'tf_bert_model_3/bert/encoder/layer_._7/output/dense/kernel:0', 'tf_bert_model_3/bert/encoder/layer_._7/output/dense/bias:0', 'tf_bert_model_3/bert/encoder/layer_._7/output/LayerNorm/gamma:0', 'tf_bert_model_3/bert/encoder/layer_._7/output/LayerNorm/beta:0', 'tf_bert_model_3/bert/encoder/layer_._8/attention/self/query/kernel:0', 'tf_bert_model_3/bert/encoder/layer_._8/attention/self/query/bias:0', 'tf_bert_model_3/bert/encoder/layer_._8/attention/self/key/kernel:0', 'tf_bert_model_3/bert/encoder/layer_._8/attention/self/key/bias:0', 'tf_bert_model_3/bert/encoder/layer_._8/attention/self/value/kernel:0', 'tf_bert_model_3/bert/encoder/layer_._8/attention/self/value/bias:0', 'tf_bert_model_3/bert/encoder/layer_._8/attention/output/dense/kernel:0', 'tf_bert_model_3/bert/encoder/layer_._8/attention/output/dense/bias:0', 'tf_bert_model_3/bert/encoder/layer_._8/attention/output/LayerNorm/gamma:0', 'tf_bert_model_3/bert/encoder/layer_._8/attention/output/LayerNorm/beta:0', 'tf_bert_model_3/bert/encoder/layer_._8/intermediate/dense/kernel:0', 'tf_bert_model_3/bert/encoder/layer_._8/intermediate/dense/bias:0', 'tf_bert_model_3/bert/encoder/layer_._8/output/dense/kernel:0', 'tf_bert_model_3/bert/encoder/layer_._8/output/dense/bias:0', 'tf_bert_model_3/bert/encoder/layer_._8/output/LayerNorm/gamma:0', 'tf_bert_model_3/bert/encoder/layer_._8/output/LayerNorm/beta:0', 'tf_bert_model_3/bert/encoder/layer_._9/attention/self/query/kernel:0', 'tf_bert_model_3/bert/encoder/layer_._9/attention/self/query/bias:0', 'tf_bert_model_3/bert/encoder/layer_._9/attention/self/key/kernel:0', 'tf_bert_model_3/bert/encoder/layer_._9/attention/self/key/bias:0', 'tf_bert_model_3/bert/encoder/layer_._9/attention/self/value/kernel:0', 'tf_bert_model_3/bert/encoder/layer_._9/attention/self/value/bias:0', 'tf_bert_model_3/bert/encoder/layer_._9/attention/output/dense/kernel:0', 'tf_bert_model_3/bert/encoder/layer_._9/attention/output/dense/bias:0', 'tf_bert_model_3/bert/encoder/layer_._9/attention/output/LayerNorm/gamma:0', 'tf_bert_model_3/bert/encoder/layer_._9/attention/output/LayerNorm/beta:0', 'tf_bert_model_3/bert/encoder/layer_._9/intermediate/dense/kernel:0', 'tf_bert_model_3/bert/encoder/layer_._9/intermediate/dense/bias:0', 'tf_bert_model_3/bert/encoder/layer_._9/output/dense/kernel:0', 'tf_bert_model_3/bert/encoder/layer_._9/output/dense/bias:0', 'tf_bert_model_3/bert/encoder/layer_._9/output/LayerNorm/gamma:0', 'tf_bert_model_3/bert/encoder/layer_._9/output/LayerNorm/beta:0', 'tf_bert_model_3/bert/encoder/layer_._10/attention/self/query/kernel:0', 'tf_bert_model_3/bert/encoder/layer_._10/attention/self/query/bias:0', 'tf_bert_model_3/bert/encoder/layer_._10/attention/self/key/kernel:0', 'tf_bert_model_3/bert/encoder/layer_._10/attention/self/key/bias:0', 'tf_bert_model_3/bert/encoder/layer_._10/attention/self/value/kernel:0', 'tf_bert_model_3/bert/encoder/layer_._10/attention/self/value/bias:0', 'tf_bert_model_3/bert/encoder/layer_._10/attention/output/dense/kernel:0', 'tf_bert_model_3/bert/encoder/layer_._10/attention/output/dense/bias:0', 'tf_bert_model_3/bert/encoder/layer_._10/attention/output/LayerNorm/gamma:0', 'tf_bert_model_3/bert/encoder/layer_._10/attention/output/LayerNorm/beta:0', 'tf_bert_model_3/bert/encoder/layer_._10/intermediate/dense/kernel:0', 'tf_bert_model_3/bert/encoder/layer_._10/intermediate/dense/bias:0', 'tf_bert_model_3/bert/encoder/layer_._10/output/dense/kernel:0', 'tf_bert_model_3/bert/encoder/layer_._10/output/dense/bias:0', 'tf_bert_model_3/bert/encoder/layer_._10/output/LayerNorm/gamma:0', 'tf_bert_model_3/bert/encoder/layer_._10/output/LayerNorm/beta:0', 'tf_bert_model_3/bert/pooler/dense/kernel:0', 'tf_bert_model_3/bert/pooler/dense/bias:0'] when minimizing the loss. If you're using `model.compile()`, did you forget to provide a `loss` argument?\n",
            "WARNING:tensorflow:Gradients do not exist for variables ['tf_bert_model_3/bert/embeddings/word_embeddings/weight:0', 'tf_bert_model_3/bert/embeddings/token_type_embeddings/embeddings:0', 'tf_bert_model_3/bert/embeddings/position_embeddings/embeddings:0', 'tf_bert_model_3/bert/embeddings/LayerNorm/gamma:0', 'tf_bert_model_3/bert/embeddings/LayerNorm/beta:0', 'tf_bert_model_3/bert/encoder/layer_._0/attention/self/query/kernel:0', 'tf_bert_model_3/bert/encoder/layer_._0/attention/self/query/bias:0', 'tf_bert_model_3/bert/encoder/layer_._0/attention/self/key/kernel:0', 'tf_bert_model_3/bert/encoder/layer_._0/attention/self/key/bias:0', 'tf_bert_model_3/bert/encoder/layer_._0/attention/self/value/kernel:0', 'tf_bert_model_3/bert/encoder/layer_._0/attention/self/value/bias:0', 'tf_bert_model_3/bert/encoder/layer_._0/attention/output/dense/kernel:0', 'tf_bert_model_3/bert/encoder/layer_._0/attention/output/dense/bias:0', 'tf_bert_model_3/bert/encoder/layer_._0/attention/output/LayerNorm/gamma:0', 'tf_bert_model_3/bert/encoder/layer_._0/attention/output/LayerNorm/beta:0', 'tf_bert_model_3/bert/encoder/layer_._0/intermediate/dense/kernel:0', 'tf_bert_model_3/bert/encoder/layer_._0/intermediate/dense/bias:0', 'tf_bert_model_3/bert/encoder/layer_._0/output/dense/kernel:0', 'tf_bert_model_3/bert/encoder/layer_._0/output/dense/bias:0', 'tf_bert_model_3/bert/encoder/layer_._0/output/LayerNorm/gamma:0', 'tf_bert_model_3/bert/encoder/layer_._0/output/LayerNorm/beta:0', 'tf_bert_model_3/bert/encoder/layer_._1/attention/self/query/kernel:0', 'tf_bert_model_3/bert/encoder/layer_._1/attention/self/query/bias:0', 'tf_bert_model_3/bert/encoder/layer_._1/attention/self/key/kernel:0', 'tf_bert_model_3/bert/encoder/layer_._1/attention/self/key/bias:0', 'tf_bert_model_3/bert/encoder/layer_._1/attention/self/value/kernel:0', 'tf_bert_model_3/bert/encoder/layer_._1/attention/self/value/bias:0', 'tf_bert_model_3/bert/encoder/layer_._1/attention/output/dense/kernel:0', 'tf_bert_model_3/bert/encoder/layer_._1/attention/output/dense/bias:0', 'tf_bert_model_3/bert/encoder/layer_._1/attention/output/LayerNorm/gamma:0', 'tf_bert_model_3/bert/encoder/layer_._1/attention/output/LayerNorm/beta:0', 'tf_bert_model_3/bert/encoder/layer_._1/intermediate/dense/kernel:0', 'tf_bert_model_3/bert/encoder/layer_._1/intermediate/dense/bias:0', 'tf_bert_model_3/bert/encoder/layer_._1/output/dense/kernel:0', 'tf_bert_model_3/bert/encoder/layer_._1/output/dense/bias:0', 'tf_bert_model_3/bert/encoder/layer_._1/output/LayerNorm/gamma:0', 'tf_bert_model_3/bert/encoder/layer_._1/output/LayerNorm/beta:0', 'tf_bert_model_3/bert/encoder/layer_._2/attention/self/query/kernel:0', 'tf_bert_model_3/bert/encoder/layer_._2/attention/self/query/bias:0', 'tf_bert_model_3/bert/encoder/layer_._2/attention/self/key/kernel:0', 'tf_bert_model_3/bert/encoder/layer_._2/attention/self/key/bias:0', 'tf_bert_model_3/bert/encoder/layer_._2/attention/self/value/kernel:0', 'tf_bert_model_3/bert/encoder/layer_._2/attention/self/value/bias:0', 'tf_bert_model_3/bert/encoder/layer_._2/attention/output/dense/kernel:0', 'tf_bert_model_3/bert/encoder/layer_._2/attention/output/dense/bias:0', 'tf_bert_model_3/bert/encoder/layer_._2/attention/output/LayerNorm/gamma:0', 'tf_bert_model_3/bert/encoder/layer_._2/attention/output/LayerNorm/beta:0', 'tf_bert_model_3/bert/encoder/layer_._2/intermediate/dense/kernel:0', 'tf_bert_model_3/bert/encoder/layer_._2/intermediate/dense/bias:0', 'tf_bert_model_3/bert/encoder/layer_._2/output/dense/kernel:0', 'tf_bert_model_3/bert/encoder/layer_._2/output/dense/bias:0', 'tf_bert_model_3/bert/encoder/layer_._2/output/LayerNorm/gamma:0', 'tf_bert_model_3/bert/encoder/layer_._2/output/LayerNorm/beta:0', 'tf_bert_model_3/bert/encoder/layer_._3/attention/self/query/kernel:0', 'tf_bert_model_3/bert/encoder/layer_._3/attention/self/query/bias:0', 'tf_bert_model_3/bert/encoder/layer_._3/attention/self/key/kernel:0', 'tf_bert_model_3/bert/encoder/layer_._3/attention/self/key/bias:0', 'tf_bert_model_3/bert/encoder/layer_._3/attention/self/value/kernel:0', 'tf_bert_model_3/bert/encoder/layer_._3/attention/self/value/bias:0', 'tf_bert_model_3/bert/encoder/layer_._3/attention/output/dense/kernel:0', 'tf_bert_model_3/bert/encoder/layer_._3/attention/output/dense/bias:0', 'tf_bert_model_3/bert/encoder/layer_._3/attention/output/LayerNorm/gamma:0', 'tf_bert_model_3/bert/encoder/layer_._3/attention/output/LayerNorm/beta:0', 'tf_bert_model_3/bert/encoder/layer_._3/intermediate/dense/kernel:0', 'tf_bert_model_3/bert/encoder/layer_._3/intermediate/dense/bias:0', 'tf_bert_model_3/bert/encoder/layer_._3/output/dense/kernel:0', 'tf_bert_model_3/bert/encoder/layer_._3/output/dense/bias:0', 'tf_bert_model_3/bert/encoder/layer_._3/output/LayerNorm/gamma:0', 'tf_bert_model_3/bert/encoder/layer_._3/output/LayerNorm/beta:0', 'tf_bert_model_3/bert/encoder/layer_._4/attention/self/query/kernel:0', 'tf_bert_model_3/bert/encoder/layer_._4/attention/self/query/bias:0', 'tf_bert_model_3/bert/encoder/layer_._4/attention/self/key/kernel:0', 'tf_bert_model_3/bert/encoder/layer_._4/attention/self/key/bias:0', 'tf_bert_model_3/bert/encoder/layer_._4/attention/self/value/kernel:0', 'tf_bert_model_3/bert/encoder/layer_._4/attention/self/value/bias:0', 'tf_bert_model_3/bert/encoder/layer_._4/attention/output/dense/kernel:0', 'tf_bert_model_3/bert/encoder/layer_._4/attention/output/dense/bias:0', 'tf_bert_model_3/bert/encoder/layer_._4/attention/output/LayerNorm/gamma:0', 'tf_bert_model_3/bert/encoder/layer_._4/attention/output/LayerNorm/beta:0', 'tf_bert_model_3/bert/encoder/layer_._4/intermediate/dense/kernel:0', 'tf_bert_model_3/bert/encoder/layer_._4/intermediate/dense/bias:0', 'tf_bert_model_3/bert/encoder/layer_._4/output/dense/kernel:0', 'tf_bert_model_3/bert/encoder/layer_._4/output/dense/bias:0', 'tf_bert_model_3/bert/encoder/layer_._4/output/LayerNorm/gamma:0', 'tf_bert_model_3/bert/encoder/layer_._4/output/LayerNorm/beta:0', 'tf_bert_model_3/bert/encoder/layer_._5/attention/self/query/kernel:0', 'tf_bert_model_3/bert/encoder/layer_._5/attention/self/query/bias:0', 'tf_bert_model_3/bert/encoder/layer_._5/attention/self/key/kernel:0', 'tf_bert_model_3/bert/encoder/layer_._5/attention/self/key/bias:0', 'tf_bert_model_3/bert/encoder/layer_._5/attention/self/value/kernel:0', 'tf_bert_model_3/bert/encoder/layer_._5/attention/self/value/bias:0', 'tf_bert_model_3/bert/encoder/layer_._5/attention/output/dense/kernel:0', 'tf_bert_model_3/bert/encoder/layer_._5/attention/output/dense/bias:0', 'tf_bert_model_3/bert/encoder/layer_._5/attention/output/LayerNorm/gamma:0', 'tf_bert_model_3/bert/encoder/layer_._5/attention/output/LayerNorm/beta:0', 'tf_bert_model_3/bert/encoder/layer_._5/intermediate/dense/kernel:0', 'tf_bert_model_3/bert/encoder/layer_._5/intermediate/dense/bias:0', 'tf_bert_model_3/bert/encoder/layer_._5/output/dense/kernel:0', 'tf_bert_model_3/bert/encoder/layer_._5/output/dense/bias:0', 'tf_bert_model_3/bert/encoder/layer_._5/output/LayerNorm/gamma:0', 'tf_bert_model_3/bert/encoder/layer_._5/output/LayerNorm/beta:0', 'tf_bert_model_3/bert/encoder/layer_._6/attention/self/query/kernel:0', 'tf_bert_model_3/bert/encoder/layer_._6/attention/self/query/bias:0', 'tf_bert_model_3/bert/encoder/layer_._6/attention/self/key/kernel:0', 'tf_bert_model_3/bert/encoder/layer_._6/attention/self/key/bias:0', 'tf_bert_model_3/bert/encoder/layer_._6/attention/self/value/kernel:0', 'tf_bert_model_3/bert/encoder/layer_._6/attention/self/value/bias:0', 'tf_bert_model_3/bert/encoder/layer_._6/attention/output/dense/kernel:0', 'tf_bert_model_3/bert/encoder/layer_._6/attention/output/dense/bias:0', 'tf_bert_model_3/bert/encoder/layer_._6/attention/output/LayerNorm/gamma:0', 'tf_bert_model_3/bert/encoder/layer_._6/attention/output/LayerNorm/beta:0', 'tf_bert_model_3/bert/encoder/layer_._6/intermediate/dense/kernel:0', 'tf_bert_model_3/bert/encoder/layer_._6/intermediate/dense/bias:0', 'tf_bert_model_3/bert/encoder/layer_._6/output/dense/kernel:0', 'tf_bert_model_3/bert/encoder/layer_._6/output/dense/bias:0', 'tf_bert_model_3/bert/encoder/layer_._6/output/LayerNorm/gamma:0', 'tf_bert_model_3/bert/encoder/layer_._6/output/LayerNorm/beta:0', 'tf_bert_model_3/bert/encoder/layer_._7/attention/self/query/kernel:0', 'tf_bert_model_3/bert/encoder/layer_._7/attention/self/query/bias:0', 'tf_bert_model_3/bert/encoder/layer_._7/attention/self/key/kernel:0', 'tf_bert_model_3/bert/encoder/layer_._7/attention/self/key/bias:0', 'tf_bert_model_3/bert/encoder/layer_._7/attention/self/value/kernel:0', 'tf_bert_model_3/bert/encoder/layer_._7/attention/self/value/bias:0', 'tf_bert_model_3/bert/encoder/layer_._7/attention/output/dense/kernel:0', 'tf_bert_model_3/bert/encoder/layer_._7/attention/output/dense/bias:0', 'tf_bert_model_3/bert/encoder/layer_._7/attention/output/LayerNorm/gamma:0', 'tf_bert_model_3/bert/encoder/layer_._7/attention/output/LayerNorm/beta:0', 'tf_bert_model_3/bert/encoder/layer_._7/intermediate/dense/kernel:0', 'tf_bert_model_3/bert/encoder/layer_._7/intermediate/dense/bias:0', 'tf_bert_model_3/bert/encoder/layer_._7/output/dense/kernel:0', 'tf_bert_model_3/bert/encoder/layer_._7/output/dense/bias:0', 'tf_bert_model_3/bert/encoder/layer_._7/output/LayerNorm/gamma:0', 'tf_bert_model_3/bert/encoder/layer_._7/output/LayerNorm/beta:0', 'tf_bert_model_3/bert/encoder/layer_._8/attention/self/query/kernel:0', 'tf_bert_model_3/bert/encoder/layer_._8/attention/self/query/bias:0', 'tf_bert_model_3/bert/encoder/layer_._8/attention/self/key/kernel:0', 'tf_bert_model_3/bert/encoder/layer_._8/attention/self/key/bias:0', 'tf_bert_model_3/bert/encoder/layer_._8/attention/self/value/kernel:0', 'tf_bert_model_3/bert/encoder/layer_._8/attention/self/value/bias:0', 'tf_bert_model_3/bert/encoder/layer_._8/attention/output/dense/kernel:0', 'tf_bert_model_3/bert/encoder/layer_._8/attention/output/dense/bias:0', 'tf_bert_model_3/bert/encoder/layer_._8/attention/output/LayerNorm/gamma:0', 'tf_bert_model_3/bert/encoder/layer_._8/attention/output/LayerNorm/beta:0', 'tf_bert_model_3/bert/encoder/layer_._8/intermediate/dense/kernel:0', 'tf_bert_model_3/bert/encoder/layer_._8/intermediate/dense/bias:0', 'tf_bert_model_3/bert/encoder/layer_._8/output/dense/kernel:0', 'tf_bert_model_3/bert/encoder/layer_._8/output/dense/bias:0', 'tf_bert_model_3/bert/encoder/layer_._8/output/LayerNorm/gamma:0', 'tf_bert_model_3/bert/encoder/layer_._8/output/LayerNorm/beta:0', 'tf_bert_model_3/bert/encoder/layer_._9/attention/self/query/kernel:0', 'tf_bert_model_3/bert/encoder/layer_._9/attention/self/query/bias:0', 'tf_bert_model_3/bert/encoder/layer_._9/attention/self/key/kernel:0', 'tf_bert_model_3/bert/encoder/layer_._9/attention/self/key/bias:0', 'tf_bert_model_3/bert/encoder/layer_._9/attention/self/value/kernel:0', 'tf_bert_model_3/bert/encoder/layer_._9/attention/self/value/bias:0', 'tf_bert_model_3/bert/encoder/layer_._9/attention/output/dense/kernel:0', 'tf_bert_model_3/bert/encoder/layer_._9/attention/output/dense/bias:0', 'tf_bert_model_3/bert/encoder/layer_._9/attention/output/LayerNorm/gamma:0', 'tf_bert_model_3/bert/encoder/layer_._9/attention/output/LayerNorm/beta:0', 'tf_bert_model_3/bert/encoder/layer_._9/intermediate/dense/kernel:0', 'tf_bert_model_3/bert/encoder/layer_._9/intermediate/dense/bias:0', 'tf_bert_model_3/bert/encoder/layer_._9/output/dense/kernel:0', 'tf_bert_model_3/bert/encoder/layer_._9/output/dense/bias:0', 'tf_bert_model_3/bert/encoder/layer_._9/output/LayerNorm/gamma:0', 'tf_bert_model_3/bert/encoder/layer_._9/output/LayerNorm/beta:0', 'tf_bert_model_3/bert/encoder/layer_._10/attention/self/query/kernel:0', 'tf_bert_model_3/bert/encoder/layer_._10/attention/self/query/bias:0', 'tf_bert_model_3/bert/encoder/layer_._10/attention/self/key/kernel:0', 'tf_bert_model_3/bert/encoder/layer_._10/attention/self/key/bias:0', 'tf_bert_model_3/bert/encoder/layer_._10/attention/self/value/kernel:0', 'tf_bert_model_3/bert/encoder/layer_._10/attention/self/value/bias:0', 'tf_bert_model_3/bert/encoder/layer_._10/attention/output/dense/kernel:0', 'tf_bert_model_3/bert/encoder/layer_._10/attention/output/dense/bias:0', 'tf_bert_model_3/bert/encoder/layer_._10/attention/output/LayerNorm/gamma:0', 'tf_bert_model_3/bert/encoder/layer_._10/attention/output/LayerNorm/beta:0', 'tf_bert_model_3/bert/encoder/layer_._10/intermediate/dense/kernel:0', 'tf_bert_model_3/bert/encoder/layer_._10/intermediate/dense/bias:0', 'tf_bert_model_3/bert/encoder/layer_._10/output/dense/kernel:0', 'tf_bert_model_3/bert/encoder/layer_._10/output/dense/bias:0', 'tf_bert_model_3/bert/encoder/layer_._10/output/LayerNorm/gamma:0', 'tf_bert_model_3/bert/encoder/layer_._10/output/LayerNorm/beta:0', 'tf_bert_model_3/bert/pooler/dense/kernel:0', 'tf_bert_model_3/bert/pooler/dense/bias:0'] when minimizing the loss. If you're using `model.compile()`, did you forget to provide a `loss` argument?\n"
          ]
        },
        {
          "output_type": "stream",
          "name": "stdout",
          "text": [
            "47/47 [==============================] - 55s 918ms/step - loss: 2.3341 - accuracy: 0.1291 - val_loss: 2.1658 - val_accuracy: 0.1720\n",
            "Epoch 2/4\n",
            "47/47 [==============================] - 36s 783ms/step - loss: 2.1310 - accuracy: 0.2047 - val_loss: 1.8892 - val_accuracy: 0.2627\n",
            "Epoch 3/4\n",
            "47/47 [==============================] - 35s 757ms/step - loss: 1.8083 - accuracy: 0.2916 - val_loss: 1.5180 - val_accuracy: 0.4124\n",
            "Epoch 4/4\n",
            "47/47 [==============================] - 33s 702ms/step - loss: 1.5211 - accuracy: 0.4007 - val_loss: 1.2926 - val_accuracy: 0.4825\n"
          ]
        }
      ]
    },
    {
      "cell_type": "code",
      "source": [
        "del tf_bert_model\n",
        "del nr_bert_2\n",
        "del nr_bert_2_chkpt\n",
        "gc.collect()"
      ],
      "metadata": {
        "colab": {
          "base_uri": "https://localhost:8080/"
        },
        "id": "BLv80kiPTZpW",
        "outputId": "bd2800d6-672c-40e0-a402-f1690db71252"
      },
      "execution_count": null,
      "outputs": [
        {
          "output_type": "execute_result",
          "data": {
            "text/plain": [
              "18985"
            ]
          },
          "metadata": {},
          "execution_count": 23
        }
      ]
    },
    {
      "cell_type": "code",
      "source": [
        "# Train the first layer and allow more epochs -- better?\n",
        "tf_bert_model = TFBertModel.from_pretrained(checkpoint)\n",
        "hs_bert_3, hs_bert_3_chkpt = create_bert_classification_model(tf_bert_model, checkpoint_name = 'BERT_medium_train_HS', num_train_layers=4)"
      ],
      "metadata": {
        "colab": {
          "base_uri": "https://localhost:8080/"
        },
        "id": "1XtkPQ6oHgbA",
        "outputId": "8915dd68-2ebe-4acc-b920-588b63d04aa8"
      },
      "execution_count": null,
      "outputs": [
        {
          "output_type": "stream",
          "name": "stdout",
          "text": [
            "retrain layers:  ['_11', '_10', '_9', '_8']\n"
          ]
        },
        {
          "output_type": "stream",
          "name": "stderr",
          "text": [
            "WARNING:tensorflow:`period` argument is deprecated. Please use `save_freq` to specify the frequency in number of batches seen.\n"
          ]
        }
      ]
    },
    {
      "cell_type": "code",
      "source": [
        "hs_bert_3_history = hs_bert_3.fit(\n",
        "    [x_hs_train_tf.input_ids, x_hs_train_tf.token_type_ids, x_hs_train_tf.attention_mask],\n",
        "    y_hs_train_tf,\n",
        "    validation_data=([x_hs_test_tf.input_ids, x_hs_test_tf.token_type_ids, x_hs_test_tf.attention_mask], y_hs_test_tf),\n",
        "    batch_size=32,\n",
        "    epochs=8,\n",
        "    callbacks=[hs_bert_3_chkpt]\n",
        ")"
      ],
      "metadata": {
        "colab": {
          "base_uri": "https://localhost:8080/"
        },
        "id": "YEYieKGrHlJT",
        "outputId": "f46a26e5-165f-4a4b-e22a-62e073d811b3"
      },
      "execution_count": null,
      "outputs": [
        {
          "output_type": "stream",
          "name": "stdout",
          "text": [
            "Epoch 1/8\n"
          ]
        },
        {
          "output_type": "stream",
          "name": "stderr",
          "text": [
            "WARNING:tensorflow:Gradients do not exist for variables ['tf_bert_model_4/bert/embeddings/word_embeddings/weight:0', 'tf_bert_model_4/bert/embeddings/token_type_embeddings/embeddings:0', 'tf_bert_model_4/bert/embeddings/position_embeddings/embeddings:0', 'tf_bert_model_4/bert/embeddings/LayerNorm/gamma:0', 'tf_bert_model_4/bert/embeddings/LayerNorm/beta:0', 'tf_bert_model_4/bert/encoder/layer_._0/attention/self/query/kernel:0', 'tf_bert_model_4/bert/encoder/layer_._0/attention/self/query/bias:0', 'tf_bert_model_4/bert/encoder/layer_._0/attention/self/key/kernel:0', 'tf_bert_model_4/bert/encoder/layer_._0/attention/self/key/bias:0', 'tf_bert_model_4/bert/encoder/layer_._0/attention/self/value/kernel:0', 'tf_bert_model_4/bert/encoder/layer_._0/attention/self/value/bias:0', 'tf_bert_model_4/bert/encoder/layer_._0/attention/output/dense/kernel:0', 'tf_bert_model_4/bert/encoder/layer_._0/attention/output/dense/bias:0', 'tf_bert_model_4/bert/encoder/layer_._0/attention/output/LayerNorm/gamma:0', 'tf_bert_model_4/bert/encoder/layer_._0/attention/output/LayerNorm/beta:0', 'tf_bert_model_4/bert/encoder/layer_._0/intermediate/dense/kernel:0', 'tf_bert_model_4/bert/encoder/layer_._0/intermediate/dense/bias:0', 'tf_bert_model_4/bert/encoder/layer_._0/output/dense/kernel:0', 'tf_bert_model_4/bert/encoder/layer_._0/output/dense/bias:0', 'tf_bert_model_4/bert/encoder/layer_._0/output/LayerNorm/gamma:0', 'tf_bert_model_4/bert/encoder/layer_._0/output/LayerNorm/beta:0', 'tf_bert_model_4/bert/encoder/layer_._1/attention/self/query/kernel:0', 'tf_bert_model_4/bert/encoder/layer_._1/attention/self/query/bias:0', 'tf_bert_model_4/bert/encoder/layer_._1/attention/self/key/kernel:0', 'tf_bert_model_4/bert/encoder/layer_._1/attention/self/key/bias:0', 'tf_bert_model_4/bert/encoder/layer_._1/attention/self/value/kernel:0', 'tf_bert_model_4/bert/encoder/layer_._1/attention/self/value/bias:0', 'tf_bert_model_4/bert/encoder/layer_._1/attention/output/dense/kernel:0', 'tf_bert_model_4/bert/encoder/layer_._1/attention/output/dense/bias:0', 'tf_bert_model_4/bert/encoder/layer_._1/attention/output/LayerNorm/gamma:0', 'tf_bert_model_4/bert/encoder/layer_._1/attention/output/LayerNorm/beta:0', 'tf_bert_model_4/bert/encoder/layer_._1/intermediate/dense/kernel:0', 'tf_bert_model_4/bert/encoder/layer_._1/intermediate/dense/bias:0', 'tf_bert_model_4/bert/encoder/layer_._1/output/dense/kernel:0', 'tf_bert_model_4/bert/encoder/layer_._1/output/dense/bias:0', 'tf_bert_model_4/bert/encoder/layer_._1/output/LayerNorm/gamma:0', 'tf_bert_model_4/bert/encoder/layer_._1/output/LayerNorm/beta:0', 'tf_bert_model_4/bert/encoder/layer_._2/attention/self/query/kernel:0', 'tf_bert_model_4/bert/encoder/layer_._2/attention/self/query/bias:0', 'tf_bert_model_4/bert/encoder/layer_._2/attention/self/key/kernel:0', 'tf_bert_model_4/bert/encoder/layer_._2/attention/self/key/bias:0', 'tf_bert_model_4/bert/encoder/layer_._2/attention/self/value/kernel:0', 'tf_bert_model_4/bert/encoder/layer_._2/attention/self/value/bias:0', 'tf_bert_model_4/bert/encoder/layer_._2/attention/output/dense/kernel:0', 'tf_bert_model_4/bert/encoder/layer_._2/attention/output/dense/bias:0', 'tf_bert_model_4/bert/encoder/layer_._2/attention/output/LayerNorm/gamma:0', 'tf_bert_model_4/bert/encoder/layer_._2/attention/output/LayerNorm/beta:0', 'tf_bert_model_4/bert/encoder/layer_._2/intermediate/dense/kernel:0', 'tf_bert_model_4/bert/encoder/layer_._2/intermediate/dense/bias:0', 'tf_bert_model_4/bert/encoder/layer_._2/output/dense/kernel:0', 'tf_bert_model_4/bert/encoder/layer_._2/output/dense/bias:0', 'tf_bert_model_4/bert/encoder/layer_._2/output/LayerNorm/gamma:0', 'tf_bert_model_4/bert/encoder/layer_._2/output/LayerNorm/beta:0', 'tf_bert_model_4/bert/encoder/layer_._3/attention/self/query/kernel:0', 'tf_bert_model_4/bert/encoder/layer_._3/attention/self/query/bias:0', 'tf_bert_model_4/bert/encoder/layer_._3/attention/self/key/kernel:0', 'tf_bert_model_4/bert/encoder/layer_._3/attention/self/key/bias:0', 'tf_bert_model_4/bert/encoder/layer_._3/attention/self/value/kernel:0', 'tf_bert_model_4/bert/encoder/layer_._3/attention/self/value/bias:0', 'tf_bert_model_4/bert/encoder/layer_._3/attention/output/dense/kernel:0', 'tf_bert_model_4/bert/encoder/layer_._3/attention/output/dense/bias:0', 'tf_bert_model_4/bert/encoder/layer_._3/attention/output/LayerNorm/gamma:0', 'tf_bert_model_4/bert/encoder/layer_._3/attention/output/LayerNorm/beta:0', 'tf_bert_model_4/bert/encoder/layer_._3/intermediate/dense/kernel:0', 'tf_bert_model_4/bert/encoder/layer_._3/intermediate/dense/bias:0', 'tf_bert_model_4/bert/encoder/layer_._3/output/dense/kernel:0', 'tf_bert_model_4/bert/encoder/layer_._3/output/dense/bias:0', 'tf_bert_model_4/bert/encoder/layer_._3/output/LayerNorm/gamma:0', 'tf_bert_model_4/bert/encoder/layer_._3/output/LayerNorm/beta:0', 'tf_bert_model_4/bert/encoder/layer_._4/attention/self/query/kernel:0', 'tf_bert_model_4/bert/encoder/layer_._4/attention/self/query/bias:0', 'tf_bert_model_4/bert/encoder/layer_._4/attention/self/key/kernel:0', 'tf_bert_model_4/bert/encoder/layer_._4/attention/self/key/bias:0', 'tf_bert_model_4/bert/encoder/layer_._4/attention/self/value/kernel:0', 'tf_bert_model_4/bert/encoder/layer_._4/attention/self/value/bias:0', 'tf_bert_model_4/bert/encoder/layer_._4/attention/output/dense/kernel:0', 'tf_bert_model_4/bert/encoder/layer_._4/attention/output/dense/bias:0', 'tf_bert_model_4/bert/encoder/layer_._4/attention/output/LayerNorm/gamma:0', 'tf_bert_model_4/bert/encoder/layer_._4/attention/output/LayerNorm/beta:0', 'tf_bert_model_4/bert/encoder/layer_._4/intermediate/dense/kernel:0', 'tf_bert_model_4/bert/encoder/layer_._4/intermediate/dense/bias:0', 'tf_bert_model_4/bert/encoder/layer_._4/output/dense/kernel:0', 'tf_bert_model_4/bert/encoder/layer_._4/output/dense/bias:0', 'tf_bert_model_4/bert/encoder/layer_._4/output/LayerNorm/gamma:0', 'tf_bert_model_4/bert/encoder/layer_._4/output/LayerNorm/beta:0', 'tf_bert_model_4/bert/encoder/layer_._5/attention/self/query/kernel:0', 'tf_bert_model_4/bert/encoder/layer_._5/attention/self/query/bias:0', 'tf_bert_model_4/bert/encoder/layer_._5/attention/self/key/kernel:0', 'tf_bert_model_4/bert/encoder/layer_._5/attention/self/key/bias:0', 'tf_bert_model_4/bert/encoder/layer_._5/attention/self/value/kernel:0', 'tf_bert_model_4/bert/encoder/layer_._5/attention/self/value/bias:0', 'tf_bert_model_4/bert/encoder/layer_._5/attention/output/dense/kernel:0', 'tf_bert_model_4/bert/encoder/layer_._5/attention/output/dense/bias:0', 'tf_bert_model_4/bert/encoder/layer_._5/attention/output/LayerNorm/gamma:0', 'tf_bert_model_4/bert/encoder/layer_._5/attention/output/LayerNorm/beta:0', 'tf_bert_model_4/bert/encoder/layer_._5/intermediate/dense/kernel:0', 'tf_bert_model_4/bert/encoder/layer_._5/intermediate/dense/bias:0', 'tf_bert_model_4/bert/encoder/layer_._5/output/dense/kernel:0', 'tf_bert_model_4/bert/encoder/layer_._5/output/dense/bias:0', 'tf_bert_model_4/bert/encoder/layer_._5/output/LayerNorm/gamma:0', 'tf_bert_model_4/bert/encoder/layer_._5/output/LayerNorm/beta:0', 'tf_bert_model_4/bert/encoder/layer_._6/attention/self/query/kernel:0', 'tf_bert_model_4/bert/encoder/layer_._6/attention/self/query/bias:0', 'tf_bert_model_4/bert/encoder/layer_._6/attention/self/key/kernel:0', 'tf_bert_model_4/bert/encoder/layer_._6/attention/self/key/bias:0', 'tf_bert_model_4/bert/encoder/layer_._6/attention/self/value/kernel:0', 'tf_bert_model_4/bert/encoder/layer_._6/attention/self/value/bias:0', 'tf_bert_model_4/bert/encoder/layer_._6/attention/output/dense/kernel:0', 'tf_bert_model_4/bert/encoder/layer_._6/attention/output/dense/bias:0', 'tf_bert_model_4/bert/encoder/layer_._6/attention/output/LayerNorm/gamma:0', 'tf_bert_model_4/bert/encoder/layer_._6/attention/output/LayerNorm/beta:0', 'tf_bert_model_4/bert/encoder/layer_._6/intermediate/dense/kernel:0', 'tf_bert_model_4/bert/encoder/layer_._6/intermediate/dense/bias:0', 'tf_bert_model_4/bert/encoder/layer_._6/output/dense/kernel:0', 'tf_bert_model_4/bert/encoder/layer_._6/output/dense/bias:0', 'tf_bert_model_4/bert/encoder/layer_._6/output/LayerNorm/gamma:0', 'tf_bert_model_4/bert/encoder/layer_._6/output/LayerNorm/beta:0', 'tf_bert_model_4/bert/encoder/layer_._7/attention/self/query/kernel:0', 'tf_bert_model_4/bert/encoder/layer_._7/attention/self/query/bias:0', 'tf_bert_model_4/bert/encoder/layer_._7/attention/self/key/kernel:0', 'tf_bert_model_4/bert/encoder/layer_._7/attention/self/key/bias:0', 'tf_bert_model_4/bert/encoder/layer_._7/attention/self/value/kernel:0', 'tf_bert_model_4/bert/encoder/layer_._7/attention/self/value/bias:0', 'tf_bert_model_4/bert/encoder/layer_._7/attention/output/dense/kernel:0', 'tf_bert_model_4/bert/encoder/layer_._7/attention/output/dense/bias:0', 'tf_bert_model_4/bert/encoder/layer_._7/attention/output/LayerNorm/gamma:0', 'tf_bert_model_4/bert/encoder/layer_._7/attention/output/LayerNorm/beta:0', 'tf_bert_model_4/bert/encoder/layer_._7/intermediate/dense/kernel:0', 'tf_bert_model_4/bert/encoder/layer_._7/intermediate/dense/bias:0', 'tf_bert_model_4/bert/encoder/layer_._7/output/dense/kernel:0', 'tf_bert_model_4/bert/encoder/layer_._7/output/dense/bias:0', 'tf_bert_model_4/bert/encoder/layer_._7/output/LayerNorm/gamma:0', 'tf_bert_model_4/bert/encoder/layer_._7/output/LayerNorm/beta:0', 'tf_bert_model_4/bert/pooler/dense/kernel:0', 'tf_bert_model_4/bert/pooler/dense/bias:0'] when minimizing the loss. If you're using `model.compile()`, did you forget to provide a `loss` argument?\n",
            "WARNING:tensorflow:Gradients do not exist for variables ['tf_bert_model_4/bert/embeddings/word_embeddings/weight:0', 'tf_bert_model_4/bert/embeddings/token_type_embeddings/embeddings:0', 'tf_bert_model_4/bert/embeddings/position_embeddings/embeddings:0', 'tf_bert_model_4/bert/embeddings/LayerNorm/gamma:0', 'tf_bert_model_4/bert/embeddings/LayerNorm/beta:0', 'tf_bert_model_4/bert/encoder/layer_._0/attention/self/query/kernel:0', 'tf_bert_model_4/bert/encoder/layer_._0/attention/self/query/bias:0', 'tf_bert_model_4/bert/encoder/layer_._0/attention/self/key/kernel:0', 'tf_bert_model_4/bert/encoder/layer_._0/attention/self/key/bias:0', 'tf_bert_model_4/bert/encoder/layer_._0/attention/self/value/kernel:0', 'tf_bert_model_4/bert/encoder/layer_._0/attention/self/value/bias:0', 'tf_bert_model_4/bert/encoder/layer_._0/attention/output/dense/kernel:0', 'tf_bert_model_4/bert/encoder/layer_._0/attention/output/dense/bias:0', 'tf_bert_model_4/bert/encoder/layer_._0/attention/output/LayerNorm/gamma:0', 'tf_bert_model_4/bert/encoder/layer_._0/attention/output/LayerNorm/beta:0', 'tf_bert_model_4/bert/encoder/layer_._0/intermediate/dense/kernel:0', 'tf_bert_model_4/bert/encoder/layer_._0/intermediate/dense/bias:0', 'tf_bert_model_4/bert/encoder/layer_._0/output/dense/kernel:0', 'tf_bert_model_4/bert/encoder/layer_._0/output/dense/bias:0', 'tf_bert_model_4/bert/encoder/layer_._0/output/LayerNorm/gamma:0', 'tf_bert_model_4/bert/encoder/layer_._0/output/LayerNorm/beta:0', 'tf_bert_model_4/bert/encoder/layer_._1/attention/self/query/kernel:0', 'tf_bert_model_4/bert/encoder/layer_._1/attention/self/query/bias:0', 'tf_bert_model_4/bert/encoder/layer_._1/attention/self/key/kernel:0', 'tf_bert_model_4/bert/encoder/layer_._1/attention/self/key/bias:0', 'tf_bert_model_4/bert/encoder/layer_._1/attention/self/value/kernel:0', 'tf_bert_model_4/bert/encoder/layer_._1/attention/self/value/bias:0', 'tf_bert_model_4/bert/encoder/layer_._1/attention/output/dense/kernel:0', 'tf_bert_model_4/bert/encoder/layer_._1/attention/output/dense/bias:0', 'tf_bert_model_4/bert/encoder/layer_._1/attention/output/LayerNorm/gamma:0', 'tf_bert_model_4/bert/encoder/layer_._1/attention/output/LayerNorm/beta:0', 'tf_bert_model_4/bert/encoder/layer_._1/intermediate/dense/kernel:0', 'tf_bert_model_4/bert/encoder/layer_._1/intermediate/dense/bias:0', 'tf_bert_model_4/bert/encoder/layer_._1/output/dense/kernel:0', 'tf_bert_model_4/bert/encoder/layer_._1/output/dense/bias:0', 'tf_bert_model_4/bert/encoder/layer_._1/output/LayerNorm/gamma:0', 'tf_bert_model_4/bert/encoder/layer_._1/output/LayerNorm/beta:0', 'tf_bert_model_4/bert/encoder/layer_._2/attention/self/query/kernel:0', 'tf_bert_model_4/bert/encoder/layer_._2/attention/self/query/bias:0', 'tf_bert_model_4/bert/encoder/layer_._2/attention/self/key/kernel:0', 'tf_bert_model_4/bert/encoder/layer_._2/attention/self/key/bias:0', 'tf_bert_model_4/bert/encoder/layer_._2/attention/self/value/kernel:0', 'tf_bert_model_4/bert/encoder/layer_._2/attention/self/value/bias:0', 'tf_bert_model_4/bert/encoder/layer_._2/attention/output/dense/kernel:0', 'tf_bert_model_4/bert/encoder/layer_._2/attention/output/dense/bias:0', 'tf_bert_model_4/bert/encoder/layer_._2/attention/output/LayerNorm/gamma:0', 'tf_bert_model_4/bert/encoder/layer_._2/attention/output/LayerNorm/beta:0', 'tf_bert_model_4/bert/encoder/layer_._2/intermediate/dense/kernel:0', 'tf_bert_model_4/bert/encoder/layer_._2/intermediate/dense/bias:0', 'tf_bert_model_4/bert/encoder/layer_._2/output/dense/kernel:0', 'tf_bert_model_4/bert/encoder/layer_._2/output/dense/bias:0', 'tf_bert_model_4/bert/encoder/layer_._2/output/LayerNorm/gamma:0', 'tf_bert_model_4/bert/encoder/layer_._2/output/LayerNorm/beta:0', 'tf_bert_model_4/bert/encoder/layer_._3/attention/self/query/kernel:0', 'tf_bert_model_4/bert/encoder/layer_._3/attention/self/query/bias:0', 'tf_bert_model_4/bert/encoder/layer_._3/attention/self/key/kernel:0', 'tf_bert_model_4/bert/encoder/layer_._3/attention/self/key/bias:0', 'tf_bert_model_4/bert/encoder/layer_._3/attention/self/value/kernel:0', 'tf_bert_model_4/bert/encoder/layer_._3/attention/self/value/bias:0', 'tf_bert_model_4/bert/encoder/layer_._3/attention/output/dense/kernel:0', 'tf_bert_model_4/bert/encoder/layer_._3/attention/output/dense/bias:0', 'tf_bert_model_4/bert/encoder/layer_._3/attention/output/LayerNorm/gamma:0', 'tf_bert_model_4/bert/encoder/layer_._3/attention/output/LayerNorm/beta:0', 'tf_bert_model_4/bert/encoder/layer_._3/intermediate/dense/kernel:0', 'tf_bert_model_4/bert/encoder/layer_._3/intermediate/dense/bias:0', 'tf_bert_model_4/bert/encoder/layer_._3/output/dense/kernel:0', 'tf_bert_model_4/bert/encoder/layer_._3/output/dense/bias:0', 'tf_bert_model_4/bert/encoder/layer_._3/output/LayerNorm/gamma:0', 'tf_bert_model_4/bert/encoder/layer_._3/output/LayerNorm/beta:0', 'tf_bert_model_4/bert/encoder/layer_._4/attention/self/query/kernel:0', 'tf_bert_model_4/bert/encoder/layer_._4/attention/self/query/bias:0', 'tf_bert_model_4/bert/encoder/layer_._4/attention/self/key/kernel:0', 'tf_bert_model_4/bert/encoder/layer_._4/attention/self/key/bias:0', 'tf_bert_model_4/bert/encoder/layer_._4/attention/self/value/kernel:0', 'tf_bert_model_4/bert/encoder/layer_._4/attention/self/value/bias:0', 'tf_bert_model_4/bert/encoder/layer_._4/attention/output/dense/kernel:0', 'tf_bert_model_4/bert/encoder/layer_._4/attention/output/dense/bias:0', 'tf_bert_model_4/bert/encoder/layer_._4/attention/output/LayerNorm/gamma:0', 'tf_bert_model_4/bert/encoder/layer_._4/attention/output/LayerNorm/beta:0', 'tf_bert_model_4/bert/encoder/layer_._4/intermediate/dense/kernel:0', 'tf_bert_model_4/bert/encoder/layer_._4/intermediate/dense/bias:0', 'tf_bert_model_4/bert/encoder/layer_._4/output/dense/kernel:0', 'tf_bert_model_4/bert/encoder/layer_._4/output/dense/bias:0', 'tf_bert_model_4/bert/encoder/layer_._4/output/LayerNorm/gamma:0', 'tf_bert_model_4/bert/encoder/layer_._4/output/LayerNorm/beta:0', 'tf_bert_model_4/bert/encoder/layer_._5/attention/self/query/kernel:0', 'tf_bert_model_4/bert/encoder/layer_._5/attention/self/query/bias:0', 'tf_bert_model_4/bert/encoder/layer_._5/attention/self/key/kernel:0', 'tf_bert_model_4/bert/encoder/layer_._5/attention/self/key/bias:0', 'tf_bert_model_4/bert/encoder/layer_._5/attention/self/value/kernel:0', 'tf_bert_model_4/bert/encoder/layer_._5/attention/self/value/bias:0', 'tf_bert_model_4/bert/encoder/layer_._5/attention/output/dense/kernel:0', 'tf_bert_model_4/bert/encoder/layer_._5/attention/output/dense/bias:0', 'tf_bert_model_4/bert/encoder/layer_._5/attention/output/LayerNorm/gamma:0', 'tf_bert_model_4/bert/encoder/layer_._5/attention/output/LayerNorm/beta:0', 'tf_bert_model_4/bert/encoder/layer_._5/intermediate/dense/kernel:0', 'tf_bert_model_4/bert/encoder/layer_._5/intermediate/dense/bias:0', 'tf_bert_model_4/bert/encoder/layer_._5/output/dense/kernel:0', 'tf_bert_model_4/bert/encoder/layer_._5/output/dense/bias:0', 'tf_bert_model_4/bert/encoder/layer_._5/output/LayerNorm/gamma:0', 'tf_bert_model_4/bert/encoder/layer_._5/output/LayerNorm/beta:0', 'tf_bert_model_4/bert/encoder/layer_._6/attention/self/query/kernel:0', 'tf_bert_model_4/bert/encoder/layer_._6/attention/self/query/bias:0', 'tf_bert_model_4/bert/encoder/layer_._6/attention/self/key/kernel:0', 'tf_bert_model_4/bert/encoder/layer_._6/attention/self/key/bias:0', 'tf_bert_model_4/bert/encoder/layer_._6/attention/self/value/kernel:0', 'tf_bert_model_4/bert/encoder/layer_._6/attention/self/value/bias:0', 'tf_bert_model_4/bert/encoder/layer_._6/attention/output/dense/kernel:0', 'tf_bert_model_4/bert/encoder/layer_._6/attention/output/dense/bias:0', 'tf_bert_model_4/bert/encoder/layer_._6/attention/output/LayerNorm/gamma:0', 'tf_bert_model_4/bert/encoder/layer_._6/attention/output/LayerNorm/beta:0', 'tf_bert_model_4/bert/encoder/layer_._6/intermediate/dense/kernel:0', 'tf_bert_model_4/bert/encoder/layer_._6/intermediate/dense/bias:0', 'tf_bert_model_4/bert/encoder/layer_._6/output/dense/kernel:0', 'tf_bert_model_4/bert/encoder/layer_._6/output/dense/bias:0', 'tf_bert_model_4/bert/encoder/layer_._6/output/LayerNorm/gamma:0', 'tf_bert_model_4/bert/encoder/layer_._6/output/LayerNorm/beta:0', 'tf_bert_model_4/bert/encoder/layer_._7/attention/self/query/kernel:0', 'tf_bert_model_4/bert/encoder/layer_._7/attention/self/query/bias:0', 'tf_bert_model_4/bert/encoder/layer_._7/attention/self/key/kernel:0', 'tf_bert_model_4/bert/encoder/layer_._7/attention/self/key/bias:0', 'tf_bert_model_4/bert/encoder/layer_._7/attention/self/value/kernel:0', 'tf_bert_model_4/bert/encoder/layer_._7/attention/self/value/bias:0', 'tf_bert_model_4/bert/encoder/layer_._7/attention/output/dense/kernel:0', 'tf_bert_model_4/bert/encoder/layer_._7/attention/output/dense/bias:0', 'tf_bert_model_4/bert/encoder/layer_._7/attention/output/LayerNorm/gamma:0', 'tf_bert_model_4/bert/encoder/layer_._7/attention/output/LayerNorm/beta:0', 'tf_bert_model_4/bert/encoder/layer_._7/intermediate/dense/kernel:0', 'tf_bert_model_4/bert/encoder/layer_._7/intermediate/dense/bias:0', 'tf_bert_model_4/bert/encoder/layer_._7/output/dense/kernel:0', 'tf_bert_model_4/bert/encoder/layer_._7/output/dense/bias:0', 'tf_bert_model_4/bert/encoder/layer_._7/output/LayerNorm/gamma:0', 'tf_bert_model_4/bert/encoder/layer_._7/output/LayerNorm/beta:0', 'tf_bert_model_4/bert/pooler/dense/kernel:0', 'tf_bert_model_4/bert/pooler/dense/bias:0'] when minimizing the loss. If you're using `model.compile()`, did you forget to provide a `loss` argument?\n",
            "WARNING:tensorflow:Gradients do not exist for variables ['tf_bert_model_4/bert/embeddings/word_embeddings/weight:0', 'tf_bert_model_4/bert/embeddings/token_type_embeddings/embeddings:0', 'tf_bert_model_4/bert/embeddings/position_embeddings/embeddings:0', 'tf_bert_model_4/bert/embeddings/LayerNorm/gamma:0', 'tf_bert_model_4/bert/embeddings/LayerNorm/beta:0', 'tf_bert_model_4/bert/encoder/layer_._0/attention/self/query/kernel:0', 'tf_bert_model_4/bert/encoder/layer_._0/attention/self/query/bias:0', 'tf_bert_model_4/bert/encoder/layer_._0/attention/self/key/kernel:0', 'tf_bert_model_4/bert/encoder/layer_._0/attention/self/key/bias:0', 'tf_bert_model_4/bert/encoder/layer_._0/attention/self/value/kernel:0', 'tf_bert_model_4/bert/encoder/layer_._0/attention/self/value/bias:0', 'tf_bert_model_4/bert/encoder/layer_._0/attention/output/dense/kernel:0', 'tf_bert_model_4/bert/encoder/layer_._0/attention/output/dense/bias:0', 'tf_bert_model_4/bert/encoder/layer_._0/attention/output/LayerNorm/gamma:0', 'tf_bert_model_4/bert/encoder/layer_._0/attention/output/LayerNorm/beta:0', 'tf_bert_model_4/bert/encoder/layer_._0/intermediate/dense/kernel:0', 'tf_bert_model_4/bert/encoder/layer_._0/intermediate/dense/bias:0', 'tf_bert_model_4/bert/encoder/layer_._0/output/dense/kernel:0', 'tf_bert_model_4/bert/encoder/layer_._0/output/dense/bias:0', 'tf_bert_model_4/bert/encoder/layer_._0/output/LayerNorm/gamma:0', 'tf_bert_model_4/bert/encoder/layer_._0/output/LayerNorm/beta:0', 'tf_bert_model_4/bert/encoder/layer_._1/attention/self/query/kernel:0', 'tf_bert_model_4/bert/encoder/layer_._1/attention/self/query/bias:0', 'tf_bert_model_4/bert/encoder/layer_._1/attention/self/key/kernel:0', 'tf_bert_model_4/bert/encoder/layer_._1/attention/self/key/bias:0', 'tf_bert_model_4/bert/encoder/layer_._1/attention/self/value/kernel:0', 'tf_bert_model_4/bert/encoder/layer_._1/attention/self/value/bias:0', 'tf_bert_model_4/bert/encoder/layer_._1/attention/output/dense/kernel:0', 'tf_bert_model_4/bert/encoder/layer_._1/attention/output/dense/bias:0', 'tf_bert_model_4/bert/encoder/layer_._1/attention/output/LayerNorm/gamma:0', 'tf_bert_model_4/bert/encoder/layer_._1/attention/output/LayerNorm/beta:0', 'tf_bert_model_4/bert/encoder/layer_._1/intermediate/dense/kernel:0', 'tf_bert_model_4/bert/encoder/layer_._1/intermediate/dense/bias:0', 'tf_bert_model_4/bert/encoder/layer_._1/output/dense/kernel:0', 'tf_bert_model_4/bert/encoder/layer_._1/output/dense/bias:0', 'tf_bert_model_4/bert/encoder/layer_._1/output/LayerNorm/gamma:0', 'tf_bert_model_4/bert/encoder/layer_._1/output/LayerNorm/beta:0', 'tf_bert_model_4/bert/encoder/layer_._2/attention/self/query/kernel:0', 'tf_bert_model_4/bert/encoder/layer_._2/attention/self/query/bias:0', 'tf_bert_model_4/bert/encoder/layer_._2/attention/self/key/kernel:0', 'tf_bert_model_4/bert/encoder/layer_._2/attention/self/key/bias:0', 'tf_bert_model_4/bert/encoder/layer_._2/attention/self/value/kernel:0', 'tf_bert_model_4/bert/encoder/layer_._2/attention/self/value/bias:0', 'tf_bert_model_4/bert/encoder/layer_._2/attention/output/dense/kernel:0', 'tf_bert_model_4/bert/encoder/layer_._2/attention/output/dense/bias:0', 'tf_bert_model_4/bert/encoder/layer_._2/attention/output/LayerNorm/gamma:0', 'tf_bert_model_4/bert/encoder/layer_._2/attention/output/LayerNorm/beta:0', 'tf_bert_model_4/bert/encoder/layer_._2/intermediate/dense/kernel:0', 'tf_bert_model_4/bert/encoder/layer_._2/intermediate/dense/bias:0', 'tf_bert_model_4/bert/encoder/layer_._2/output/dense/kernel:0', 'tf_bert_model_4/bert/encoder/layer_._2/output/dense/bias:0', 'tf_bert_model_4/bert/encoder/layer_._2/output/LayerNorm/gamma:0', 'tf_bert_model_4/bert/encoder/layer_._2/output/LayerNorm/beta:0', 'tf_bert_model_4/bert/encoder/layer_._3/attention/self/query/kernel:0', 'tf_bert_model_4/bert/encoder/layer_._3/attention/self/query/bias:0', 'tf_bert_model_4/bert/encoder/layer_._3/attention/self/key/kernel:0', 'tf_bert_model_4/bert/encoder/layer_._3/attention/self/key/bias:0', 'tf_bert_model_4/bert/encoder/layer_._3/attention/self/value/kernel:0', 'tf_bert_model_4/bert/encoder/layer_._3/attention/self/value/bias:0', 'tf_bert_model_4/bert/encoder/layer_._3/attention/output/dense/kernel:0', 'tf_bert_model_4/bert/encoder/layer_._3/attention/output/dense/bias:0', 'tf_bert_model_4/bert/encoder/layer_._3/attention/output/LayerNorm/gamma:0', 'tf_bert_model_4/bert/encoder/layer_._3/attention/output/LayerNorm/beta:0', 'tf_bert_model_4/bert/encoder/layer_._3/intermediate/dense/kernel:0', 'tf_bert_model_4/bert/encoder/layer_._3/intermediate/dense/bias:0', 'tf_bert_model_4/bert/encoder/layer_._3/output/dense/kernel:0', 'tf_bert_model_4/bert/encoder/layer_._3/output/dense/bias:0', 'tf_bert_model_4/bert/encoder/layer_._3/output/LayerNorm/gamma:0', 'tf_bert_model_4/bert/encoder/layer_._3/output/LayerNorm/beta:0', 'tf_bert_model_4/bert/encoder/layer_._4/attention/self/query/kernel:0', 'tf_bert_model_4/bert/encoder/layer_._4/attention/self/query/bias:0', 'tf_bert_model_4/bert/encoder/layer_._4/attention/self/key/kernel:0', 'tf_bert_model_4/bert/encoder/layer_._4/attention/self/key/bias:0', 'tf_bert_model_4/bert/encoder/layer_._4/attention/self/value/kernel:0', 'tf_bert_model_4/bert/encoder/layer_._4/attention/self/value/bias:0', 'tf_bert_model_4/bert/encoder/layer_._4/attention/output/dense/kernel:0', 'tf_bert_model_4/bert/encoder/layer_._4/attention/output/dense/bias:0', 'tf_bert_model_4/bert/encoder/layer_._4/attention/output/LayerNorm/gamma:0', 'tf_bert_model_4/bert/encoder/layer_._4/attention/output/LayerNorm/beta:0', 'tf_bert_model_4/bert/encoder/layer_._4/intermediate/dense/kernel:0', 'tf_bert_model_4/bert/encoder/layer_._4/intermediate/dense/bias:0', 'tf_bert_model_4/bert/encoder/layer_._4/output/dense/kernel:0', 'tf_bert_model_4/bert/encoder/layer_._4/output/dense/bias:0', 'tf_bert_model_4/bert/encoder/layer_._4/output/LayerNorm/gamma:0', 'tf_bert_model_4/bert/encoder/layer_._4/output/LayerNorm/beta:0', 'tf_bert_model_4/bert/encoder/layer_._5/attention/self/query/kernel:0', 'tf_bert_model_4/bert/encoder/layer_._5/attention/self/query/bias:0', 'tf_bert_model_4/bert/encoder/layer_._5/attention/self/key/kernel:0', 'tf_bert_model_4/bert/encoder/layer_._5/attention/self/key/bias:0', 'tf_bert_model_4/bert/encoder/layer_._5/attention/self/value/kernel:0', 'tf_bert_model_4/bert/encoder/layer_._5/attention/self/value/bias:0', 'tf_bert_model_4/bert/encoder/layer_._5/attention/output/dense/kernel:0', 'tf_bert_model_4/bert/encoder/layer_._5/attention/output/dense/bias:0', 'tf_bert_model_4/bert/encoder/layer_._5/attention/output/LayerNorm/gamma:0', 'tf_bert_model_4/bert/encoder/layer_._5/attention/output/LayerNorm/beta:0', 'tf_bert_model_4/bert/encoder/layer_._5/intermediate/dense/kernel:0', 'tf_bert_model_4/bert/encoder/layer_._5/intermediate/dense/bias:0', 'tf_bert_model_4/bert/encoder/layer_._5/output/dense/kernel:0', 'tf_bert_model_4/bert/encoder/layer_._5/output/dense/bias:0', 'tf_bert_model_4/bert/encoder/layer_._5/output/LayerNorm/gamma:0', 'tf_bert_model_4/bert/encoder/layer_._5/output/LayerNorm/beta:0', 'tf_bert_model_4/bert/encoder/layer_._6/attention/self/query/kernel:0', 'tf_bert_model_4/bert/encoder/layer_._6/attention/self/query/bias:0', 'tf_bert_model_4/bert/encoder/layer_._6/attention/self/key/kernel:0', 'tf_bert_model_4/bert/encoder/layer_._6/attention/self/key/bias:0', 'tf_bert_model_4/bert/encoder/layer_._6/attention/self/value/kernel:0', 'tf_bert_model_4/bert/encoder/layer_._6/attention/self/value/bias:0', 'tf_bert_model_4/bert/encoder/layer_._6/attention/output/dense/kernel:0', 'tf_bert_model_4/bert/encoder/layer_._6/attention/output/dense/bias:0', 'tf_bert_model_4/bert/encoder/layer_._6/attention/output/LayerNorm/gamma:0', 'tf_bert_model_4/bert/encoder/layer_._6/attention/output/LayerNorm/beta:0', 'tf_bert_model_4/bert/encoder/layer_._6/intermediate/dense/kernel:0', 'tf_bert_model_4/bert/encoder/layer_._6/intermediate/dense/bias:0', 'tf_bert_model_4/bert/encoder/layer_._6/output/dense/kernel:0', 'tf_bert_model_4/bert/encoder/layer_._6/output/dense/bias:0', 'tf_bert_model_4/bert/encoder/layer_._6/output/LayerNorm/gamma:0', 'tf_bert_model_4/bert/encoder/layer_._6/output/LayerNorm/beta:0', 'tf_bert_model_4/bert/encoder/layer_._7/attention/self/query/kernel:0', 'tf_bert_model_4/bert/encoder/layer_._7/attention/self/query/bias:0', 'tf_bert_model_4/bert/encoder/layer_._7/attention/self/key/kernel:0', 'tf_bert_model_4/bert/encoder/layer_._7/attention/self/key/bias:0', 'tf_bert_model_4/bert/encoder/layer_._7/attention/self/value/kernel:0', 'tf_bert_model_4/bert/encoder/layer_._7/attention/self/value/bias:0', 'tf_bert_model_4/bert/encoder/layer_._7/attention/output/dense/kernel:0', 'tf_bert_model_4/bert/encoder/layer_._7/attention/output/dense/bias:0', 'tf_bert_model_4/bert/encoder/layer_._7/attention/output/LayerNorm/gamma:0', 'tf_bert_model_4/bert/encoder/layer_._7/attention/output/LayerNorm/beta:0', 'tf_bert_model_4/bert/encoder/layer_._7/intermediate/dense/kernel:0', 'tf_bert_model_4/bert/encoder/layer_._7/intermediate/dense/bias:0', 'tf_bert_model_4/bert/encoder/layer_._7/output/dense/kernel:0', 'tf_bert_model_4/bert/encoder/layer_._7/output/dense/bias:0', 'tf_bert_model_4/bert/encoder/layer_._7/output/LayerNorm/gamma:0', 'tf_bert_model_4/bert/encoder/layer_._7/output/LayerNorm/beta:0', 'tf_bert_model_4/bert/pooler/dense/kernel:0', 'tf_bert_model_4/bert/pooler/dense/bias:0'] when minimizing the loss. If you're using `model.compile()`, did you forget to provide a `loss` argument?\n",
            "WARNING:tensorflow:Gradients do not exist for variables ['tf_bert_model_4/bert/embeddings/word_embeddings/weight:0', 'tf_bert_model_4/bert/embeddings/token_type_embeddings/embeddings:0', 'tf_bert_model_4/bert/embeddings/position_embeddings/embeddings:0', 'tf_bert_model_4/bert/embeddings/LayerNorm/gamma:0', 'tf_bert_model_4/bert/embeddings/LayerNorm/beta:0', 'tf_bert_model_4/bert/encoder/layer_._0/attention/self/query/kernel:0', 'tf_bert_model_4/bert/encoder/layer_._0/attention/self/query/bias:0', 'tf_bert_model_4/bert/encoder/layer_._0/attention/self/key/kernel:0', 'tf_bert_model_4/bert/encoder/layer_._0/attention/self/key/bias:0', 'tf_bert_model_4/bert/encoder/layer_._0/attention/self/value/kernel:0', 'tf_bert_model_4/bert/encoder/layer_._0/attention/self/value/bias:0', 'tf_bert_model_4/bert/encoder/layer_._0/attention/output/dense/kernel:0', 'tf_bert_model_4/bert/encoder/layer_._0/attention/output/dense/bias:0', 'tf_bert_model_4/bert/encoder/layer_._0/attention/output/LayerNorm/gamma:0', 'tf_bert_model_4/bert/encoder/layer_._0/attention/output/LayerNorm/beta:0', 'tf_bert_model_4/bert/encoder/layer_._0/intermediate/dense/kernel:0', 'tf_bert_model_4/bert/encoder/layer_._0/intermediate/dense/bias:0', 'tf_bert_model_4/bert/encoder/layer_._0/output/dense/kernel:0', 'tf_bert_model_4/bert/encoder/layer_._0/output/dense/bias:0', 'tf_bert_model_4/bert/encoder/layer_._0/output/LayerNorm/gamma:0', 'tf_bert_model_4/bert/encoder/layer_._0/output/LayerNorm/beta:0', 'tf_bert_model_4/bert/encoder/layer_._1/attention/self/query/kernel:0', 'tf_bert_model_4/bert/encoder/layer_._1/attention/self/query/bias:0', 'tf_bert_model_4/bert/encoder/layer_._1/attention/self/key/kernel:0', 'tf_bert_model_4/bert/encoder/layer_._1/attention/self/key/bias:0', 'tf_bert_model_4/bert/encoder/layer_._1/attention/self/value/kernel:0', 'tf_bert_model_4/bert/encoder/layer_._1/attention/self/value/bias:0', 'tf_bert_model_4/bert/encoder/layer_._1/attention/output/dense/kernel:0', 'tf_bert_model_4/bert/encoder/layer_._1/attention/output/dense/bias:0', 'tf_bert_model_4/bert/encoder/layer_._1/attention/output/LayerNorm/gamma:0', 'tf_bert_model_4/bert/encoder/layer_._1/attention/output/LayerNorm/beta:0', 'tf_bert_model_4/bert/encoder/layer_._1/intermediate/dense/kernel:0', 'tf_bert_model_4/bert/encoder/layer_._1/intermediate/dense/bias:0', 'tf_bert_model_4/bert/encoder/layer_._1/output/dense/kernel:0', 'tf_bert_model_4/bert/encoder/layer_._1/output/dense/bias:0', 'tf_bert_model_4/bert/encoder/layer_._1/output/LayerNorm/gamma:0', 'tf_bert_model_4/bert/encoder/layer_._1/output/LayerNorm/beta:0', 'tf_bert_model_4/bert/encoder/layer_._2/attention/self/query/kernel:0', 'tf_bert_model_4/bert/encoder/layer_._2/attention/self/query/bias:0', 'tf_bert_model_4/bert/encoder/layer_._2/attention/self/key/kernel:0', 'tf_bert_model_4/bert/encoder/layer_._2/attention/self/key/bias:0', 'tf_bert_model_4/bert/encoder/layer_._2/attention/self/value/kernel:0', 'tf_bert_model_4/bert/encoder/layer_._2/attention/self/value/bias:0', 'tf_bert_model_4/bert/encoder/layer_._2/attention/output/dense/kernel:0', 'tf_bert_model_4/bert/encoder/layer_._2/attention/output/dense/bias:0', 'tf_bert_model_4/bert/encoder/layer_._2/attention/output/LayerNorm/gamma:0', 'tf_bert_model_4/bert/encoder/layer_._2/attention/output/LayerNorm/beta:0', 'tf_bert_model_4/bert/encoder/layer_._2/intermediate/dense/kernel:0', 'tf_bert_model_4/bert/encoder/layer_._2/intermediate/dense/bias:0', 'tf_bert_model_4/bert/encoder/layer_._2/output/dense/kernel:0', 'tf_bert_model_4/bert/encoder/layer_._2/output/dense/bias:0', 'tf_bert_model_4/bert/encoder/layer_._2/output/LayerNorm/gamma:0', 'tf_bert_model_4/bert/encoder/layer_._2/output/LayerNorm/beta:0', 'tf_bert_model_4/bert/encoder/layer_._3/attention/self/query/kernel:0', 'tf_bert_model_4/bert/encoder/layer_._3/attention/self/query/bias:0', 'tf_bert_model_4/bert/encoder/layer_._3/attention/self/key/kernel:0', 'tf_bert_model_4/bert/encoder/layer_._3/attention/self/key/bias:0', 'tf_bert_model_4/bert/encoder/layer_._3/attention/self/value/kernel:0', 'tf_bert_model_4/bert/encoder/layer_._3/attention/self/value/bias:0', 'tf_bert_model_4/bert/encoder/layer_._3/attention/output/dense/kernel:0', 'tf_bert_model_4/bert/encoder/layer_._3/attention/output/dense/bias:0', 'tf_bert_model_4/bert/encoder/layer_._3/attention/output/LayerNorm/gamma:0', 'tf_bert_model_4/bert/encoder/layer_._3/attention/output/LayerNorm/beta:0', 'tf_bert_model_4/bert/encoder/layer_._3/intermediate/dense/kernel:0', 'tf_bert_model_4/bert/encoder/layer_._3/intermediate/dense/bias:0', 'tf_bert_model_4/bert/encoder/layer_._3/output/dense/kernel:0', 'tf_bert_model_4/bert/encoder/layer_._3/output/dense/bias:0', 'tf_bert_model_4/bert/encoder/layer_._3/output/LayerNorm/gamma:0', 'tf_bert_model_4/bert/encoder/layer_._3/output/LayerNorm/beta:0', 'tf_bert_model_4/bert/encoder/layer_._4/attention/self/query/kernel:0', 'tf_bert_model_4/bert/encoder/layer_._4/attention/self/query/bias:0', 'tf_bert_model_4/bert/encoder/layer_._4/attention/self/key/kernel:0', 'tf_bert_model_4/bert/encoder/layer_._4/attention/self/key/bias:0', 'tf_bert_model_4/bert/encoder/layer_._4/attention/self/value/kernel:0', 'tf_bert_model_4/bert/encoder/layer_._4/attention/self/value/bias:0', 'tf_bert_model_4/bert/encoder/layer_._4/attention/output/dense/kernel:0', 'tf_bert_model_4/bert/encoder/layer_._4/attention/output/dense/bias:0', 'tf_bert_model_4/bert/encoder/layer_._4/attention/output/LayerNorm/gamma:0', 'tf_bert_model_4/bert/encoder/layer_._4/attention/output/LayerNorm/beta:0', 'tf_bert_model_4/bert/encoder/layer_._4/intermediate/dense/kernel:0', 'tf_bert_model_4/bert/encoder/layer_._4/intermediate/dense/bias:0', 'tf_bert_model_4/bert/encoder/layer_._4/output/dense/kernel:0', 'tf_bert_model_4/bert/encoder/layer_._4/output/dense/bias:0', 'tf_bert_model_4/bert/encoder/layer_._4/output/LayerNorm/gamma:0', 'tf_bert_model_4/bert/encoder/layer_._4/output/LayerNorm/beta:0', 'tf_bert_model_4/bert/encoder/layer_._5/attention/self/query/kernel:0', 'tf_bert_model_4/bert/encoder/layer_._5/attention/self/query/bias:0', 'tf_bert_model_4/bert/encoder/layer_._5/attention/self/key/kernel:0', 'tf_bert_model_4/bert/encoder/layer_._5/attention/self/key/bias:0', 'tf_bert_model_4/bert/encoder/layer_._5/attention/self/value/kernel:0', 'tf_bert_model_4/bert/encoder/layer_._5/attention/self/value/bias:0', 'tf_bert_model_4/bert/encoder/layer_._5/attention/output/dense/kernel:0', 'tf_bert_model_4/bert/encoder/layer_._5/attention/output/dense/bias:0', 'tf_bert_model_4/bert/encoder/layer_._5/attention/output/LayerNorm/gamma:0', 'tf_bert_model_4/bert/encoder/layer_._5/attention/output/LayerNorm/beta:0', 'tf_bert_model_4/bert/encoder/layer_._5/intermediate/dense/kernel:0', 'tf_bert_model_4/bert/encoder/layer_._5/intermediate/dense/bias:0', 'tf_bert_model_4/bert/encoder/layer_._5/output/dense/kernel:0', 'tf_bert_model_4/bert/encoder/layer_._5/output/dense/bias:0', 'tf_bert_model_4/bert/encoder/layer_._5/output/LayerNorm/gamma:0', 'tf_bert_model_4/bert/encoder/layer_._5/output/LayerNorm/beta:0', 'tf_bert_model_4/bert/encoder/layer_._6/attention/self/query/kernel:0', 'tf_bert_model_4/bert/encoder/layer_._6/attention/self/query/bias:0', 'tf_bert_model_4/bert/encoder/layer_._6/attention/self/key/kernel:0', 'tf_bert_model_4/bert/encoder/layer_._6/attention/self/key/bias:0', 'tf_bert_model_4/bert/encoder/layer_._6/attention/self/value/kernel:0', 'tf_bert_model_4/bert/encoder/layer_._6/attention/self/value/bias:0', 'tf_bert_model_4/bert/encoder/layer_._6/attention/output/dense/kernel:0', 'tf_bert_model_4/bert/encoder/layer_._6/attention/output/dense/bias:0', 'tf_bert_model_4/bert/encoder/layer_._6/attention/output/LayerNorm/gamma:0', 'tf_bert_model_4/bert/encoder/layer_._6/attention/output/LayerNorm/beta:0', 'tf_bert_model_4/bert/encoder/layer_._6/intermediate/dense/kernel:0', 'tf_bert_model_4/bert/encoder/layer_._6/intermediate/dense/bias:0', 'tf_bert_model_4/bert/encoder/layer_._6/output/dense/kernel:0', 'tf_bert_model_4/bert/encoder/layer_._6/output/dense/bias:0', 'tf_bert_model_4/bert/encoder/layer_._6/output/LayerNorm/gamma:0', 'tf_bert_model_4/bert/encoder/layer_._6/output/LayerNorm/beta:0', 'tf_bert_model_4/bert/encoder/layer_._7/attention/self/query/kernel:0', 'tf_bert_model_4/bert/encoder/layer_._7/attention/self/query/bias:0', 'tf_bert_model_4/bert/encoder/layer_._7/attention/self/key/kernel:0', 'tf_bert_model_4/bert/encoder/layer_._7/attention/self/key/bias:0', 'tf_bert_model_4/bert/encoder/layer_._7/attention/self/value/kernel:0', 'tf_bert_model_4/bert/encoder/layer_._7/attention/self/value/bias:0', 'tf_bert_model_4/bert/encoder/layer_._7/attention/output/dense/kernel:0', 'tf_bert_model_4/bert/encoder/layer_._7/attention/output/dense/bias:0', 'tf_bert_model_4/bert/encoder/layer_._7/attention/output/LayerNorm/gamma:0', 'tf_bert_model_4/bert/encoder/layer_._7/attention/output/LayerNorm/beta:0', 'tf_bert_model_4/bert/encoder/layer_._7/intermediate/dense/kernel:0', 'tf_bert_model_4/bert/encoder/layer_._7/intermediate/dense/bias:0', 'tf_bert_model_4/bert/encoder/layer_._7/output/dense/kernel:0', 'tf_bert_model_4/bert/encoder/layer_._7/output/dense/bias:0', 'tf_bert_model_4/bert/encoder/layer_._7/output/LayerNorm/gamma:0', 'tf_bert_model_4/bert/encoder/layer_._7/output/LayerNorm/beta:0', 'tf_bert_model_4/bert/pooler/dense/kernel:0', 'tf_bert_model_4/bert/pooler/dense/bias:0'] when minimizing the loss. If you're using `model.compile()`, did you forget to provide a `loss` argument?\n"
          ]
        },
        {
          "output_type": "stream",
          "name": "stdout",
          "text": [
            "164/164 [==============================] - 165s 899ms/step - loss: 2.2793 - accuracy: 0.2184 - val_loss: 1.7090 - val_accuracy: 0.4435\n",
            "Epoch 2/8\n",
            "164/164 [==============================] - 152s 929ms/step - loss: 1.5939 - accuracy: 0.4561 - val_loss: 1.3505 - val_accuracy: 0.5500\n",
            "Epoch 3/8\n",
            "164/164 [==============================] - 152s 928ms/step - loss: 1.2089 - accuracy: 0.5894 - val_loss: 1.1615 - val_accuracy: 0.6072\n",
            "Epoch 4/8\n",
            "164/164 [==============================] - 152s 929ms/step - loss: 0.9503 - accuracy: 0.6741 - val_loss: 1.0311 - val_accuracy: 0.6748\n",
            "Epoch 5/8\n",
            "164/164 [==============================] - 152s 928ms/step - loss: 0.7078 - accuracy: 0.7606 - val_loss: 0.9753 - val_accuracy: 0.7041\n",
            "Epoch 6/8\n",
            "164/164 [==============================] - 152s 928ms/step - loss: 0.5521 - accuracy: 0.8172 - val_loss: 0.9525 - val_accuracy: 0.7359\n",
            "Epoch 7/8\n",
            "164/164 [==============================] - 152s 929ms/step - loss: 0.4204 - accuracy: 0.8661 - val_loss: 0.9269 - val_accuracy: 0.7691\n",
            "Epoch 8/8\n",
            "164/164 [==============================] - 152s 929ms/step - loss: 0.3325 - accuracy: 0.8963 - val_loss: 0.9593 - val_accuracy: 0.7796\n"
          ]
        }
      ]
    },
    {
      "cell_type": "code",
      "source": [
        "del tf_bert_model\n",
        "del hs_bert_3\n",
        "del hs_bert_3_chkpt\n",
        "gc.collect()"
      ],
      "metadata": {
        "id": "6HNQ3ekPHBXH"
      },
      "execution_count": null,
      "outputs": []
    },
    {
      "cell_type": "code",
      "source": [
        "# Train the first layer and allow more epochs -- better?\n",
        "tf_bert_model = TFBertModel.from_pretrained(checkpoint)\n",
        "nr_bert_3, nr_bert_3_chkpt = create_bert_classification_model(tf_bert_model, checkpoint_name = 'BERT_medium_train_NR', num_train_layers=4)"
      ],
      "metadata": {
        "colab": {
          "base_uri": "https://localhost:8080/"
        },
        "id": "7Lz9PmnSk5YD",
        "outputId": "7e0ec652-f374-4271-852e-3b7fe466bd71"
      },
      "execution_count": null,
      "outputs": [
        {
          "output_type": "stream",
          "name": "stdout",
          "text": [
            "retrain layers:  ['_11', '_10', '_9', '_8']\n"
          ]
        },
        {
          "output_type": "stream",
          "name": "stderr",
          "text": [
            "WARNING:tensorflow:`period` argument is deprecated. Please use `save_freq` to specify the frequency in number of batches seen.\n"
          ]
        }
      ]
    },
    {
      "cell_type": "code",
      "source": [
        "nr_bert_3_history = nr_bert_3.fit(\n",
        "    [x_nr_train_tf.input_ids, x_nr_train_tf.token_type_ids, x_nr_train_tf.attention_mask],\n",
        "    y_nr_train_tf,\n",
        "    validation_data=([x_nr_test_tf.input_ids, x_nr_test_tf.token_type_ids, x_nr_test_tf.attention_mask], y_nr_test_tf),\n",
        "    batch_size=32,\n",
        "    epochs=8,\n",
        "    callbacks=[nr_bert_3_chkpt]\n",
        ")"
      ],
      "metadata": {
        "colab": {
          "base_uri": "https://localhost:8080/"
        },
        "id": "bC_kZyRylAYY",
        "outputId": "ec7bb874-3314-4ee6-bba8-d3d7817f8e54"
      },
      "execution_count": null,
      "outputs": [
        {
          "output_type": "stream",
          "name": "stdout",
          "text": [
            "Epoch 1/8\n"
          ]
        },
        {
          "output_type": "stream",
          "name": "stderr",
          "text": [
            "WARNING:tensorflow:Gradients do not exist for variables ['tf_bert_model/bert/embeddings/word_embeddings/weight:0', 'tf_bert_model/bert/embeddings/token_type_embeddings/embeddings:0', 'tf_bert_model/bert/embeddings/position_embeddings/embeddings:0', 'tf_bert_model/bert/embeddings/LayerNorm/gamma:0', 'tf_bert_model/bert/embeddings/LayerNorm/beta:0', 'tf_bert_model/bert/encoder/layer_._0/attention/self/query/kernel:0', 'tf_bert_model/bert/encoder/layer_._0/attention/self/query/bias:0', 'tf_bert_model/bert/encoder/layer_._0/attention/self/key/kernel:0', 'tf_bert_model/bert/encoder/layer_._0/attention/self/key/bias:0', 'tf_bert_model/bert/encoder/layer_._0/attention/self/value/kernel:0', 'tf_bert_model/bert/encoder/layer_._0/attention/self/value/bias:0', 'tf_bert_model/bert/encoder/layer_._0/attention/output/dense/kernel:0', 'tf_bert_model/bert/encoder/layer_._0/attention/output/dense/bias:0', 'tf_bert_model/bert/encoder/layer_._0/attention/output/LayerNorm/gamma:0', 'tf_bert_model/bert/encoder/layer_._0/attention/output/LayerNorm/beta:0', 'tf_bert_model/bert/encoder/layer_._0/intermediate/dense/kernel:0', 'tf_bert_model/bert/encoder/layer_._0/intermediate/dense/bias:0', 'tf_bert_model/bert/encoder/layer_._0/output/dense/kernel:0', 'tf_bert_model/bert/encoder/layer_._0/output/dense/bias:0', 'tf_bert_model/bert/encoder/layer_._0/output/LayerNorm/gamma:0', 'tf_bert_model/bert/encoder/layer_._0/output/LayerNorm/beta:0', 'tf_bert_model/bert/encoder/layer_._1/attention/self/query/kernel:0', 'tf_bert_model/bert/encoder/layer_._1/attention/self/query/bias:0', 'tf_bert_model/bert/encoder/layer_._1/attention/self/key/kernel:0', 'tf_bert_model/bert/encoder/layer_._1/attention/self/key/bias:0', 'tf_bert_model/bert/encoder/layer_._1/attention/self/value/kernel:0', 'tf_bert_model/bert/encoder/layer_._1/attention/self/value/bias:0', 'tf_bert_model/bert/encoder/layer_._1/attention/output/dense/kernel:0', 'tf_bert_model/bert/encoder/layer_._1/attention/output/dense/bias:0', 'tf_bert_model/bert/encoder/layer_._1/attention/output/LayerNorm/gamma:0', 'tf_bert_model/bert/encoder/layer_._1/attention/output/LayerNorm/beta:0', 'tf_bert_model/bert/encoder/layer_._1/intermediate/dense/kernel:0', 'tf_bert_model/bert/encoder/layer_._1/intermediate/dense/bias:0', 'tf_bert_model/bert/encoder/layer_._1/output/dense/kernel:0', 'tf_bert_model/bert/encoder/layer_._1/output/dense/bias:0', 'tf_bert_model/bert/encoder/layer_._1/output/LayerNorm/gamma:0', 'tf_bert_model/bert/encoder/layer_._1/output/LayerNorm/beta:0', 'tf_bert_model/bert/encoder/layer_._2/attention/self/query/kernel:0', 'tf_bert_model/bert/encoder/layer_._2/attention/self/query/bias:0', 'tf_bert_model/bert/encoder/layer_._2/attention/self/key/kernel:0', 'tf_bert_model/bert/encoder/layer_._2/attention/self/key/bias:0', 'tf_bert_model/bert/encoder/layer_._2/attention/self/value/kernel:0', 'tf_bert_model/bert/encoder/layer_._2/attention/self/value/bias:0', 'tf_bert_model/bert/encoder/layer_._2/attention/output/dense/kernel:0', 'tf_bert_model/bert/encoder/layer_._2/attention/output/dense/bias:0', 'tf_bert_model/bert/encoder/layer_._2/attention/output/LayerNorm/gamma:0', 'tf_bert_model/bert/encoder/layer_._2/attention/output/LayerNorm/beta:0', 'tf_bert_model/bert/encoder/layer_._2/intermediate/dense/kernel:0', 'tf_bert_model/bert/encoder/layer_._2/intermediate/dense/bias:0', 'tf_bert_model/bert/encoder/layer_._2/output/dense/kernel:0', 'tf_bert_model/bert/encoder/layer_._2/output/dense/bias:0', 'tf_bert_model/bert/encoder/layer_._2/output/LayerNorm/gamma:0', 'tf_bert_model/bert/encoder/layer_._2/output/LayerNorm/beta:0', 'tf_bert_model/bert/encoder/layer_._3/attention/self/query/kernel:0', 'tf_bert_model/bert/encoder/layer_._3/attention/self/query/bias:0', 'tf_bert_model/bert/encoder/layer_._3/attention/self/key/kernel:0', 'tf_bert_model/bert/encoder/layer_._3/attention/self/key/bias:0', 'tf_bert_model/bert/encoder/layer_._3/attention/self/value/kernel:0', 'tf_bert_model/bert/encoder/layer_._3/attention/self/value/bias:0', 'tf_bert_model/bert/encoder/layer_._3/attention/output/dense/kernel:0', 'tf_bert_model/bert/encoder/layer_._3/attention/output/dense/bias:0', 'tf_bert_model/bert/encoder/layer_._3/attention/output/LayerNorm/gamma:0', 'tf_bert_model/bert/encoder/layer_._3/attention/output/LayerNorm/beta:0', 'tf_bert_model/bert/encoder/layer_._3/intermediate/dense/kernel:0', 'tf_bert_model/bert/encoder/layer_._3/intermediate/dense/bias:0', 'tf_bert_model/bert/encoder/layer_._3/output/dense/kernel:0', 'tf_bert_model/bert/encoder/layer_._3/output/dense/bias:0', 'tf_bert_model/bert/encoder/layer_._3/output/LayerNorm/gamma:0', 'tf_bert_model/bert/encoder/layer_._3/output/LayerNorm/beta:0', 'tf_bert_model/bert/encoder/layer_._4/attention/self/query/kernel:0', 'tf_bert_model/bert/encoder/layer_._4/attention/self/query/bias:0', 'tf_bert_model/bert/encoder/layer_._4/attention/self/key/kernel:0', 'tf_bert_model/bert/encoder/layer_._4/attention/self/key/bias:0', 'tf_bert_model/bert/encoder/layer_._4/attention/self/value/kernel:0', 'tf_bert_model/bert/encoder/layer_._4/attention/self/value/bias:0', 'tf_bert_model/bert/encoder/layer_._4/attention/output/dense/kernel:0', 'tf_bert_model/bert/encoder/layer_._4/attention/output/dense/bias:0', 'tf_bert_model/bert/encoder/layer_._4/attention/output/LayerNorm/gamma:0', 'tf_bert_model/bert/encoder/layer_._4/attention/output/LayerNorm/beta:0', 'tf_bert_model/bert/encoder/layer_._4/intermediate/dense/kernel:0', 'tf_bert_model/bert/encoder/layer_._4/intermediate/dense/bias:0', 'tf_bert_model/bert/encoder/layer_._4/output/dense/kernel:0', 'tf_bert_model/bert/encoder/layer_._4/output/dense/bias:0', 'tf_bert_model/bert/encoder/layer_._4/output/LayerNorm/gamma:0', 'tf_bert_model/bert/encoder/layer_._4/output/LayerNorm/beta:0', 'tf_bert_model/bert/encoder/layer_._5/attention/self/query/kernel:0', 'tf_bert_model/bert/encoder/layer_._5/attention/self/query/bias:0', 'tf_bert_model/bert/encoder/layer_._5/attention/self/key/kernel:0', 'tf_bert_model/bert/encoder/layer_._5/attention/self/key/bias:0', 'tf_bert_model/bert/encoder/layer_._5/attention/self/value/kernel:0', 'tf_bert_model/bert/encoder/layer_._5/attention/self/value/bias:0', 'tf_bert_model/bert/encoder/layer_._5/attention/output/dense/kernel:0', 'tf_bert_model/bert/encoder/layer_._5/attention/output/dense/bias:0', 'tf_bert_model/bert/encoder/layer_._5/attention/output/LayerNorm/gamma:0', 'tf_bert_model/bert/encoder/layer_._5/attention/output/LayerNorm/beta:0', 'tf_bert_model/bert/encoder/layer_._5/intermediate/dense/kernel:0', 'tf_bert_model/bert/encoder/layer_._5/intermediate/dense/bias:0', 'tf_bert_model/bert/encoder/layer_._5/output/dense/kernel:0', 'tf_bert_model/bert/encoder/layer_._5/output/dense/bias:0', 'tf_bert_model/bert/encoder/layer_._5/output/LayerNorm/gamma:0', 'tf_bert_model/bert/encoder/layer_._5/output/LayerNorm/beta:0', 'tf_bert_model/bert/encoder/layer_._6/attention/self/query/kernel:0', 'tf_bert_model/bert/encoder/layer_._6/attention/self/query/bias:0', 'tf_bert_model/bert/encoder/layer_._6/attention/self/key/kernel:0', 'tf_bert_model/bert/encoder/layer_._6/attention/self/key/bias:0', 'tf_bert_model/bert/encoder/layer_._6/attention/self/value/kernel:0', 'tf_bert_model/bert/encoder/layer_._6/attention/self/value/bias:0', 'tf_bert_model/bert/encoder/layer_._6/attention/output/dense/kernel:0', 'tf_bert_model/bert/encoder/layer_._6/attention/output/dense/bias:0', 'tf_bert_model/bert/encoder/layer_._6/attention/output/LayerNorm/gamma:0', 'tf_bert_model/bert/encoder/layer_._6/attention/output/LayerNorm/beta:0', 'tf_bert_model/bert/encoder/layer_._6/intermediate/dense/kernel:0', 'tf_bert_model/bert/encoder/layer_._6/intermediate/dense/bias:0', 'tf_bert_model/bert/encoder/layer_._6/output/dense/kernel:0', 'tf_bert_model/bert/encoder/layer_._6/output/dense/bias:0', 'tf_bert_model/bert/encoder/layer_._6/output/LayerNorm/gamma:0', 'tf_bert_model/bert/encoder/layer_._6/output/LayerNorm/beta:0', 'tf_bert_model/bert/encoder/layer_._7/attention/self/query/kernel:0', 'tf_bert_model/bert/encoder/layer_._7/attention/self/query/bias:0', 'tf_bert_model/bert/encoder/layer_._7/attention/self/key/kernel:0', 'tf_bert_model/bert/encoder/layer_._7/attention/self/key/bias:0', 'tf_bert_model/bert/encoder/layer_._7/attention/self/value/kernel:0', 'tf_bert_model/bert/encoder/layer_._7/attention/self/value/bias:0', 'tf_bert_model/bert/encoder/layer_._7/attention/output/dense/kernel:0', 'tf_bert_model/bert/encoder/layer_._7/attention/output/dense/bias:0', 'tf_bert_model/bert/encoder/layer_._7/attention/output/LayerNorm/gamma:0', 'tf_bert_model/bert/encoder/layer_._7/attention/output/LayerNorm/beta:0', 'tf_bert_model/bert/encoder/layer_._7/intermediate/dense/kernel:0', 'tf_bert_model/bert/encoder/layer_._7/intermediate/dense/bias:0', 'tf_bert_model/bert/encoder/layer_._7/output/dense/kernel:0', 'tf_bert_model/bert/encoder/layer_._7/output/dense/bias:0', 'tf_bert_model/bert/encoder/layer_._7/output/LayerNorm/gamma:0', 'tf_bert_model/bert/encoder/layer_._7/output/LayerNorm/beta:0', 'tf_bert_model/bert/pooler/dense/kernel:0', 'tf_bert_model/bert/pooler/dense/bias:0'] when minimizing the loss. If you're using `model.compile()`, did you forget to provide a `loss` argument?\n",
            "WARNING:tensorflow:Gradients do not exist for variables ['tf_bert_model/bert/embeddings/word_embeddings/weight:0', 'tf_bert_model/bert/embeddings/token_type_embeddings/embeddings:0', 'tf_bert_model/bert/embeddings/position_embeddings/embeddings:0', 'tf_bert_model/bert/embeddings/LayerNorm/gamma:0', 'tf_bert_model/bert/embeddings/LayerNorm/beta:0', 'tf_bert_model/bert/encoder/layer_._0/attention/self/query/kernel:0', 'tf_bert_model/bert/encoder/layer_._0/attention/self/query/bias:0', 'tf_bert_model/bert/encoder/layer_._0/attention/self/key/kernel:0', 'tf_bert_model/bert/encoder/layer_._0/attention/self/key/bias:0', 'tf_bert_model/bert/encoder/layer_._0/attention/self/value/kernel:0', 'tf_bert_model/bert/encoder/layer_._0/attention/self/value/bias:0', 'tf_bert_model/bert/encoder/layer_._0/attention/output/dense/kernel:0', 'tf_bert_model/bert/encoder/layer_._0/attention/output/dense/bias:0', 'tf_bert_model/bert/encoder/layer_._0/attention/output/LayerNorm/gamma:0', 'tf_bert_model/bert/encoder/layer_._0/attention/output/LayerNorm/beta:0', 'tf_bert_model/bert/encoder/layer_._0/intermediate/dense/kernel:0', 'tf_bert_model/bert/encoder/layer_._0/intermediate/dense/bias:0', 'tf_bert_model/bert/encoder/layer_._0/output/dense/kernel:0', 'tf_bert_model/bert/encoder/layer_._0/output/dense/bias:0', 'tf_bert_model/bert/encoder/layer_._0/output/LayerNorm/gamma:0', 'tf_bert_model/bert/encoder/layer_._0/output/LayerNorm/beta:0', 'tf_bert_model/bert/encoder/layer_._1/attention/self/query/kernel:0', 'tf_bert_model/bert/encoder/layer_._1/attention/self/query/bias:0', 'tf_bert_model/bert/encoder/layer_._1/attention/self/key/kernel:0', 'tf_bert_model/bert/encoder/layer_._1/attention/self/key/bias:0', 'tf_bert_model/bert/encoder/layer_._1/attention/self/value/kernel:0', 'tf_bert_model/bert/encoder/layer_._1/attention/self/value/bias:0', 'tf_bert_model/bert/encoder/layer_._1/attention/output/dense/kernel:0', 'tf_bert_model/bert/encoder/layer_._1/attention/output/dense/bias:0', 'tf_bert_model/bert/encoder/layer_._1/attention/output/LayerNorm/gamma:0', 'tf_bert_model/bert/encoder/layer_._1/attention/output/LayerNorm/beta:0', 'tf_bert_model/bert/encoder/layer_._1/intermediate/dense/kernel:0', 'tf_bert_model/bert/encoder/layer_._1/intermediate/dense/bias:0', 'tf_bert_model/bert/encoder/layer_._1/output/dense/kernel:0', 'tf_bert_model/bert/encoder/layer_._1/output/dense/bias:0', 'tf_bert_model/bert/encoder/layer_._1/output/LayerNorm/gamma:0', 'tf_bert_model/bert/encoder/layer_._1/output/LayerNorm/beta:0', 'tf_bert_model/bert/encoder/layer_._2/attention/self/query/kernel:0', 'tf_bert_model/bert/encoder/layer_._2/attention/self/query/bias:0', 'tf_bert_model/bert/encoder/layer_._2/attention/self/key/kernel:0', 'tf_bert_model/bert/encoder/layer_._2/attention/self/key/bias:0', 'tf_bert_model/bert/encoder/layer_._2/attention/self/value/kernel:0', 'tf_bert_model/bert/encoder/layer_._2/attention/self/value/bias:0', 'tf_bert_model/bert/encoder/layer_._2/attention/output/dense/kernel:0', 'tf_bert_model/bert/encoder/layer_._2/attention/output/dense/bias:0', 'tf_bert_model/bert/encoder/layer_._2/attention/output/LayerNorm/gamma:0', 'tf_bert_model/bert/encoder/layer_._2/attention/output/LayerNorm/beta:0', 'tf_bert_model/bert/encoder/layer_._2/intermediate/dense/kernel:0', 'tf_bert_model/bert/encoder/layer_._2/intermediate/dense/bias:0', 'tf_bert_model/bert/encoder/layer_._2/output/dense/kernel:0', 'tf_bert_model/bert/encoder/layer_._2/output/dense/bias:0', 'tf_bert_model/bert/encoder/layer_._2/output/LayerNorm/gamma:0', 'tf_bert_model/bert/encoder/layer_._2/output/LayerNorm/beta:0', 'tf_bert_model/bert/encoder/layer_._3/attention/self/query/kernel:0', 'tf_bert_model/bert/encoder/layer_._3/attention/self/query/bias:0', 'tf_bert_model/bert/encoder/layer_._3/attention/self/key/kernel:0', 'tf_bert_model/bert/encoder/layer_._3/attention/self/key/bias:0', 'tf_bert_model/bert/encoder/layer_._3/attention/self/value/kernel:0', 'tf_bert_model/bert/encoder/layer_._3/attention/self/value/bias:0', 'tf_bert_model/bert/encoder/layer_._3/attention/output/dense/kernel:0', 'tf_bert_model/bert/encoder/layer_._3/attention/output/dense/bias:0', 'tf_bert_model/bert/encoder/layer_._3/attention/output/LayerNorm/gamma:0', 'tf_bert_model/bert/encoder/layer_._3/attention/output/LayerNorm/beta:0', 'tf_bert_model/bert/encoder/layer_._3/intermediate/dense/kernel:0', 'tf_bert_model/bert/encoder/layer_._3/intermediate/dense/bias:0', 'tf_bert_model/bert/encoder/layer_._3/output/dense/kernel:0', 'tf_bert_model/bert/encoder/layer_._3/output/dense/bias:0', 'tf_bert_model/bert/encoder/layer_._3/output/LayerNorm/gamma:0', 'tf_bert_model/bert/encoder/layer_._3/output/LayerNorm/beta:0', 'tf_bert_model/bert/encoder/layer_._4/attention/self/query/kernel:0', 'tf_bert_model/bert/encoder/layer_._4/attention/self/query/bias:0', 'tf_bert_model/bert/encoder/layer_._4/attention/self/key/kernel:0', 'tf_bert_model/bert/encoder/layer_._4/attention/self/key/bias:0', 'tf_bert_model/bert/encoder/layer_._4/attention/self/value/kernel:0', 'tf_bert_model/bert/encoder/layer_._4/attention/self/value/bias:0', 'tf_bert_model/bert/encoder/layer_._4/attention/output/dense/kernel:0', 'tf_bert_model/bert/encoder/layer_._4/attention/output/dense/bias:0', 'tf_bert_model/bert/encoder/layer_._4/attention/output/LayerNorm/gamma:0', 'tf_bert_model/bert/encoder/layer_._4/attention/output/LayerNorm/beta:0', 'tf_bert_model/bert/encoder/layer_._4/intermediate/dense/kernel:0', 'tf_bert_model/bert/encoder/layer_._4/intermediate/dense/bias:0', 'tf_bert_model/bert/encoder/layer_._4/output/dense/kernel:0', 'tf_bert_model/bert/encoder/layer_._4/output/dense/bias:0', 'tf_bert_model/bert/encoder/layer_._4/output/LayerNorm/gamma:0', 'tf_bert_model/bert/encoder/layer_._4/output/LayerNorm/beta:0', 'tf_bert_model/bert/encoder/layer_._5/attention/self/query/kernel:0', 'tf_bert_model/bert/encoder/layer_._5/attention/self/query/bias:0', 'tf_bert_model/bert/encoder/layer_._5/attention/self/key/kernel:0', 'tf_bert_model/bert/encoder/layer_._5/attention/self/key/bias:0', 'tf_bert_model/bert/encoder/layer_._5/attention/self/value/kernel:0', 'tf_bert_model/bert/encoder/layer_._5/attention/self/value/bias:0', 'tf_bert_model/bert/encoder/layer_._5/attention/output/dense/kernel:0', 'tf_bert_model/bert/encoder/layer_._5/attention/output/dense/bias:0', 'tf_bert_model/bert/encoder/layer_._5/attention/output/LayerNorm/gamma:0', 'tf_bert_model/bert/encoder/layer_._5/attention/output/LayerNorm/beta:0', 'tf_bert_model/bert/encoder/layer_._5/intermediate/dense/kernel:0', 'tf_bert_model/bert/encoder/layer_._5/intermediate/dense/bias:0', 'tf_bert_model/bert/encoder/layer_._5/output/dense/kernel:0', 'tf_bert_model/bert/encoder/layer_._5/output/dense/bias:0', 'tf_bert_model/bert/encoder/layer_._5/output/LayerNorm/gamma:0', 'tf_bert_model/bert/encoder/layer_._5/output/LayerNorm/beta:0', 'tf_bert_model/bert/encoder/layer_._6/attention/self/query/kernel:0', 'tf_bert_model/bert/encoder/layer_._6/attention/self/query/bias:0', 'tf_bert_model/bert/encoder/layer_._6/attention/self/key/kernel:0', 'tf_bert_model/bert/encoder/layer_._6/attention/self/key/bias:0', 'tf_bert_model/bert/encoder/layer_._6/attention/self/value/kernel:0', 'tf_bert_model/bert/encoder/layer_._6/attention/self/value/bias:0', 'tf_bert_model/bert/encoder/layer_._6/attention/output/dense/kernel:0', 'tf_bert_model/bert/encoder/layer_._6/attention/output/dense/bias:0', 'tf_bert_model/bert/encoder/layer_._6/attention/output/LayerNorm/gamma:0', 'tf_bert_model/bert/encoder/layer_._6/attention/output/LayerNorm/beta:0', 'tf_bert_model/bert/encoder/layer_._6/intermediate/dense/kernel:0', 'tf_bert_model/bert/encoder/layer_._6/intermediate/dense/bias:0', 'tf_bert_model/bert/encoder/layer_._6/output/dense/kernel:0', 'tf_bert_model/bert/encoder/layer_._6/output/dense/bias:0', 'tf_bert_model/bert/encoder/layer_._6/output/LayerNorm/gamma:0', 'tf_bert_model/bert/encoder/layer_._6/output/LayerNorm/beta:0', 'tf_bert_model/bert/encoder/layer_._7/attention/self/query/kernel:0', 'tf_bert_model/bert/encoder/layer_._7/attention/self/query/bias:0', 'tf_bert_model/bert/encoder/layer_._7/attention/self/key/kernel:0', 'tf_bert_model/bert/encoder/layer_._7/attention/self/key/bias:0', 'tf_bert_model/bert/encoder/layer_._7/attention/self/value/kernel:0', 'tf_bert_model/bert/encoder/layer_._7/attention/self/value/bias:0', 'tf_bert_model/bert/encoder/layer_._7/attention/output/dense/kernel:0', 'tf_bert_model/bert/encoder/layer_._7/attention/output/dense/bias:0', 'tf_bert_model/bert/encoder/layer_._7/attention/output/LayerNorm/gamma:0', 'tf_bert_model/bert/encoder/layer_._7/attention/output/LayerNorm/beta:0', 'tf_bert_model/bert/encoder/layer_._7/intermediate/dense/kernel:0', 'tf_bert_model/bert/encoder/layer_._7/intermediate/dense/bias:0', 'tf_bert_model/bert/encoder/layer_._7/output/dense/kernel:0', 'tf_bert_model/bert/encoder/layer_._7/output/dense/bias:0', 'tf_bert_model/bert/encoder/layer_._7/output/LayerNorm/gamma:0', 'tf_bert_model/bert/encoder/layer_._7/output/LayerNorm/beta:0', 'tf_bert_model/bert/pooler/dense/kernel:0', 'tf_bert_model/bert/pooler/dense/bias:0'] when minimizing the loss. If you're using `model.compile()`, did you forget to provide a `loss` argument?\n",
            "WARNING:tensorflow:Gradients do not exist for variables ['tf_bert_model/bert/embeddings/word_embeddings/weight:0', 'tf_bert_model/bert/embeddings/token_type_embeddings/embeddings:0', 'tf_bert_model/bert/embeddings/position_embeddings/embeddings:0', 'tf_bert_model/bert/embeddings/LayerNorm/gamma:0', 'tf_bert_model/bert/embeddings/LayerNorm/beta:0', 'tf_bert_model/bert/encoder/layer_._0/attention/self/query/kernel:0', 'tf_bert_model/bert/encoder/layer_._0/attention/self/query/bias:0', 'tf_bert_model/bert/encoder/layer_._0/attention/self/key/kernel:0', 'tf_bert_model/bert/encoder/layer_._0/attention/self/key/bias:0', 'tf_bert_model/bert/encoder/layer_._0/attention/self/value/kernel:0', 'tf_bert_model/bert/encoder/layer_._0/attention/self/value/bias:0', 'tf_bert_model/bert/encoder/layer_._0/attention/output/dense/kernel:0', 'tf_bert_model/bert/encoder/layer_._0/attention/output/dense/bias:0', 'tf_bert_model/bert/encoder/layer_._0/attention/output/LayerNorm/gamma:0', 'tf_bert_model/bert/encoder/layer_._0/attention/output/LayerNorm/beta:0', 'tf_bert_model/bert/encoder/layer_._0/intermediate/dense/kernel:0', 'tf_bert_model/bert/encoder/layer_._0/intermediate/dense/bias:0', 'tf_bert_model/bert/encoder/layer_._0/output/dense/kernel:0', 'tf_bert_model/bert/encoder/layer_._0/output/dense/bias:0', 'tf_bert_model/bert/encoder/layer_._0/output/LayerNorm/gamma:0', 'tf_bert_model/bert/encoder/layer_._0/output/LayerNorm/beta:0', 'tf_bert_model/bert/encoder/layer_._1/attention/self/query/kernel:0', 'tf_bert_model/bert/encoder/layer_._1/attention/self/query/bias:0', 'tf_bert_model/bert/encoder/layer_._1/attention/self/key/kernel:0', 'tf_bert_model/bert/encoder/layer_._1/attention/self/key/bias:0', 'tf_bert_model/bert/encoder/layer_._1/attention/self/value/kernel:0', 'tf_bert_model/bert/encoder/layer_._1/attention/self/value/bias:0', 'tf_bert_model/bert/encoder/layer_._1/attention/output/dense/kernel:0', 'tf_bert_model/bert/encoder/layer_._1/attention/output/dense/bias:0', 'tf_bert_model/bert/encoder/layer_._1/attention/output/LayerNorm/gamma:0', 'tf_bert_model/bert/encoder/layer_._1/attention/output/LayerNorm/beta:0', 'tf_bert_model/bert/encoder/layer_._1/intermediate/dense/kernel:0', 'tf_bert_model/bert/encoder/layer_._1/intermediate/dense/bias:0', 'tf_bert_model/bert/encoder/layer_._1/output/dense/kernel:0', 'tf_bert_model/bert/encoder/layer_._1/output/dense/bias:0', 'tf_bert_model/bert/encoder/layer_._1/output/LayerNorm/gamma:0', 'tf_bert_model/bert/encoder/layer_._1/output/LayerNorm/beta:0', 'tf_bert_model/bert/encoder/layer_._2/attention/self/query/kernel:0', 'tf_bert_model/bert/encoder/layer_._2/attention/self/query/bias:0', 'tf_bert_model/bert/encoder/layer_._2/attention/self/key/kernel:0', 'tf_bert_model/bert/encoder/layer_._2/attention/self/key/bias:0', 'tf_bert_model/bert/encoder/layer_._2/attention/self/value/kernel:0', 'tf_bert_model/bert/encoder/layer_._2/attention/self/value/bias:0', 'tf_bert_model/bert/encoder/layer_._2/attention/output/dense/kernel:0', 'tf_bert_model/bert/encoder/layer_._2/attention/output/dense/bias:0', 'tf_bert_model/bert/encoder/layer_._2/attention/output/LayerNorm/gamma:0', 'tf_bert_model/bert/encoder/layer_._2/attention/output/LayerNorm/beta:0', 'tf_bert_model/bert/encoder/layer_._2/intermediate/dense/kernel:0', 'tf_bert_model/bert/encoder/layer_._2/intermediate/dense/bias:0', 'tf_bert_model/bert/encoder/layer_._2/output/dense/kernel:0', 'tf_bert_model/bert/encoder/layer_._2/output/dense/bias:0', 'tf_bert_model/bert/encoder/layer_._2/output/LayerNorm/gamma:0', 'tf_bert_model/bert/encoder/layer_._2/output/LayerNorm/beta:0', 'tf_bert_model/bert/encoder/layer_._3/attention/self/query/kernel:0', 'tf_bert_model/bert/encoder/layer_._3/attention/self/query/bias:0', 'tf_bert_model/bert/encoder/layer_._3/attention/self/key/kernel:0', 'tf_bert_model/bert/encoder/layer_._3/attention/self/key/bias:0', 'tf_bert_model/bert/encoder/layer_._3/attention/self/value/kernel:0', 'tf_bert_model/bert/encoder/layer_._3/attention/self/value/bias:0', 'tf_bert_model/bert/encoder/layer_._3/attention/output/dense/kernel:0', 'tf_bert_model/bert/encoder/layer_._3/attention/output/dense/bias:0', 'tf_bert_model/bert/encoder/layer_._3/attention/output/LayerNorm/gamma:0', 'tf_bert_model/bert/encoder/layer_._3/attention/output/LayerNorm/beta:0', 'tf_bert_model/bert/encoder/layer_._3/intermediate/dense/kernel:0', 'tf_bert_model/bert/encoder/layer_._3/intermediate/dense/bias:0', 'tf_bert_model/bert/encoder/layer_._3/output/dense/kernel:0', 'tf_bert_model/bert/encoder/layer_._3/output/dense/bias:0', 'tf_bert_model/bert/encoder/layer_._3/output/LayerNorm/gamma:0', 'tf_bert_model/bert/encoder/layer_._3/output/LayerNorm/beta:0', 'tf_bert_model/bert/encoder/layer_._4/attention/self/query/kernel:0', 'tf_bert_model/bert/encoder/layer_._4/attention/self/query/bias:0', 'tf_bert_model/bert/encoder/layer_._4/attention/self/key/kernel:0', 'tf_bert_model/bert/encoder/layer_._4/attention/self/key/bias:0', 'tf_bert_model/bert/encoder/layer_._4/attention/self/value/kernel:0', 'tf_bert_model/bert/encoder/layer_._4/attention/self/value/bias:0', 'tf_bert_model/bert/encoder/layer_._4/attention/output/dense/kernel:0', 'tf_bert_model/bert/encoder/layer_._4/attention/output/dense/bias:0', 'tf_bert_model/bert/encoder/layer_._4/attention/output/LayerNorm/gamma:0', 'tf_bert_model/bert/encoder/layer_._4/attention/output/LayerNorm/beta:0', 'tf_bert_model/bert/encoder/layer_._4/intermediate/dense/kernel:0', 'tf_bert_model/bert/encoder/layer_._4/intermediate/dense/bias:0', 'tf_bert_model/bert/encoder/layer_._4/output/dense/kernel:0', 'tf_bert_model/bert/encoder/layer_._4/output/dense/bias:0', 'tf_bert_model/bert/encoder/layer_._4/output/LayerNorm/gamma:0', 'tf_bert_model/bert/encoder/layer_._4/output/LayerNorm/beta:0', 'tf_bert_model/bert/encoder/layer_._5/attention/self/query/kernel:0', 'tf_bert_model/bert/encoder/layer_._5/attention/self/query/bias:0', 'tf_bert_model/bert/encoder/layer_._5/attention/self/key/kernel:0', 'tf_bert_model/bert/encoder/layer_._5/attention/self/key/bias:0', 'tf_bert_model/bert/encoder/layer_._5/attention/self/value/kernel:0', 'tf_bert_model/bert/encoder/layer_._5/attention/self/value/bias:0', 'tf_bert_model/bert/encoder/layer_._5/attention/output/dense/kernel:0', 'tf_bert_model/bert/encoder/layer_._5/attention/output/dense/bias:0', 'tf_bert_model/bert/encoder/layer_._5/attention/output/LayerNorm/gamma:0', 'tf_bert_model/bert/encoder/layer_._5/attention/output/LayerNorm/beta:0', 'tf_bert_model/bert/encoder/layer_._5/intermediate/dense/kernel:0', 'tf_bert_model/bert/encoder/layer_._5/intermediate/dense/bias:0', 'tf_bert_model/bert/encoder/layer_._5/output/dense/kernel:0', 'tf_bert_model/bert/encoder/layer_._5/output/dense/bias:0', 'tf_bert_model/bert/encoder/layer_._5/output/LayerNorm/gamma:0', 'tf_bert_model/bert/encoder/layer_._5/output/LayerNorm/beta:0', 'tf_bert_model/bert/encoder/layer_._6/attention/self/query/kernel:0', 'tf_bert_model/bert/encoder/layer_._6/attention/self/query/bias:0', 'tf_bert_model/bert/encoder/layer_._6/attention/self/key/kernel:0', 'tf_bert_model/bert/encoder/layer_._6/attention/self/key/bias:0', 'tf_bert_model/bert/encoder/layer_._6/attention/self/value/kernel:0', 'tf_bert_model/bert/encoder/layer_._6/attention/self/value/bias:0', 'tf_bert_model/bert/encoder/layer_._6/attention/output/dense/kernel:0', 'tf_bert_model/bert/encoder/layer_._6/attention/output/dense/bias:0', 'tf_bert_model/bert/encoder/layer_._6/attention/output/LayerNorm/gamma:0', 'tf_bert_model/bert/encoder/layer_._6/attention/output/LayerNorm/beta:0', 'tf_bert_model/bert/encoder/layer_._6/intermediate/dense/kernel:0', 'tf_bert_model/bert/encoder/layer_._6/intermediate/dense/bias:0', 'tf_bert_model/bert/encoder/layer_._6/output/dense/kernel:0', 'tf_bert_model/bert/encoder/layer_._6/output/dense/bias:0', 'tf_bert_model/bert/encoder/layer_._6/output/LayerNorm/gamma:0', 'tf_bert_model/bert/encoder/layer_._6/output/LayerNorm/beta:0', 'tf_bert_model/bert/encoder/layer_._7/attention/self/query/kernel:0', 'tf_bert_model/bert/encoder/layer_._7/attention/self/query/bias:0', 'tf_bert_model/bert/encoder/layer_._7/attention/self/key/kernel:0', 'tf_bert_model/bert/encoder/layer_._7/attention/self/key/bias:0', 'tf_bert_model/bert/encoder/layer_._7/attention/self/value/kernel:0', 'tf_bert_model/bert/encoder/layer_._7/attention/self/value/bias:0', 'tf_bert_model/bert/encoder/layer_._7/attention/output/dense/kernel:0', 'tf_bert_model/bert/encoder/layer_._7/attention/output/dense/bias:0', 'tf_bert_model/bert/encoder/layer_._7/attention/output/LayerNorm/gamma:0', 'tf_bert_model/bert/encoder/layer_._7/attention/output/LayerNorm/beta:0', 'tf_bert_model/bert/encoder/layer_._7/intermediate/dense/kernel:0', 'tf_bert_model/bert/encoder/layer_._7/intermediate/dense/bias:0', 'tf_bert_model/bert/encoder/layer_._7/output/dense/kernel:0', 'tf_bert_model/bert/encoder/layer_._7/output/dense/bias:0', 'tf_bert_model/bert/encoder/layer_._7/output/LayerNorm/gamma:0', 'tf_bert_model/bert/encoder/layer_._7/output/LayerNorm/beta:0', 'tf_bert_model/bert/pooler/dense/kernel:0', 'tf_bert_model/bert/pooler/dense/bias:0'] when minimizing the loss. If you're using `model.compile()`, did you forget to provide a `loss` argument?\n",
            "WARNING:tensorflow:Gradients do not exist for variables ['tf_bert_model/bert/embeddings/word_embeddings/weight:0', 'tf_bert_model/bert/embeddings/token_type_embeddings/embeddings:0', 'tf_bert_model/bert/embeddings/position_embeddings/embeddings:0', 'tf_bert_model/bert/embeddings/LayerNorm/gamma:0', 'tf_bert_model/bert/embeddings/LayerNorm/beta:0', 'tf_bert_model/bert/encoder/layer_._0/attention/self/query/kernel:0', 'tf_bert_model/bert/encoder/layer_._0/attention/self/query/bias:0', 'tf_bert_model/bert/encoder/layer_._0/attention/self/key/kernel:0', 'tf_bert_model/bert/encoder/layer_._0/attention/self/key/bias:0', 'tf_bert_model/bert/encoder/layer_._0/attention/self/value/kernel:0', 'tf_bert_model/bert/encoder/layer_._0/attention/self/value/bias:0', 'tf_bert_model/bert/encoder/layer_._0/attention/output/dense/kernel:0', 'tf_bert_model/bert/encoder/layer_._0/attention/output/dense/bias:0', 'tf_bert_model/bert/encoder/layer_._0/attention/output/LayerNorm/gamma:0', 'tf_bert_model/bert/encoder/layer_._0/attention/output/LayerNorm/beta:0', 'tf_bert_model/bert/encoder/layer_._0/intermediate/dense/kernel:0', 'tf_bert_model/bert/encoder/layer_._0/intermediate/dense/bias:0', 'tf_bert_model/bert/encoder/layer_._0/output/dense/kernel:0', 'tf_bert_model/bert/encoder/layer_._0/output/dense/bias:0', 'tf_bert_model/bert/encoder/layer_._0/output/LayerNorm/gamma:0', 'tf_bert_model/bert/encoder/layer_._0/output/LayerNorm/beta:0', 'tf_bert_model/bert/encoder/layer_._1/attention/self/query/kernel:0', 'tf_bert_model/bert/encoder/layer_._1/attention/self/query/bias:0', 'tf_bert_model/bert/encoder/layer_._1/attention/self/key/kernel:0', 'tf_bert_model/bert/encoder/layer_._1/attention/self/key/bias:0', 'tf_bert_model/bert/encoder/layer_._1/attention/self/value/kernel:0', 'tf_bert_model/bert/encoder/layer_._1/attention/self/value/bias:0', 'tf_bert_model/bert/encoder/layer_._1/attention/output/dense/kernel:0', 'tf_bert_model/bert/encoder/layer_._1/attention/output/dense/bias:0', 'tf_bert_model/bert/encoder/layer_._1/attention/output/LayerNorm/gamma:0', 'tf_bert_model/bert/encoder/layer_._1/attention/output/LayerNorm/beta:0', 'tf_bert_model/bert/encoder/layer_._1/intermediate/dense/kernel:0', 'tf_bert_model/bert/encoder/layer_._1/intermediate/dense/bias:0', 'tf_bert_model/bert/encoder/layer_._1/output/dense/kernel:0', 'tf_bert_model/bert/encoder/layer_._1/output/dense/bias:0', 'tf_bert_model/bert/encoder/layer_._1/output/LayerNorm/gamma:0', 'tf_bert_model/bert/encoder/layer_._1/output/LayerNorm/beta:0', 'tf_bert_model/bert/encoder/layer_._2/attention/self/query/kernel:0', 'tf_bert_model/bert/encoder/layer_._2/attention/self/query/bias:0', 'tf_bert_model/bert/encoder/layer_._2/attention/self/key/kernel:0', 'tf_bert_model/bert/encoder/layer_._2/attention/self/key/bias:0', 'tf_bert_model/bert/encoder/layer_._2/attention/self/value/kernel:0', 'tf_bert_model/bert/encoder/layer_._2/attention/self/value/bias:0', 'tf_bert_model/bert/encoder/layer_._2/attention/output/dense/kernel:0', 'tf_bert_model/bert/encoder/layer_._2/attention/output/dense/bias:0', 'tf_bert_model/bert/encoder/layer_._2/attention/output/LayerNorm/gamma:0', 'tf_bert_model/bert/encoder/layer_._2/attention/output/LayerNorm/beta:0', 'tf_bert_model/bert/encoder/layer_._2/intermediate/dense/kernel:0', 'tf_bert_model/bert/encoder/layer_._2/intermediate/dense/bias:0', 'tf_bert_model/bert/encoder/layer_._2/output/dense/kernel:0', 'tf_bert_model/bert/encoder/layer_._2/output/dense/bias:0', 'tf_bert_model/bert/encoder/layer_._2/output/LayerNorm/gamma:0', 'tf_bert_model/bert/encoder/layer_._2/output/LayerNorm/beta:0', 'tf_bert_model/bert/encoder/layer_._3/attention/self/query/kernel:0', 'tf_bert_model/bert/encoder/layer_._3/attention/self/query/bias:0', 'tf_bert_model/bert/encoder/layer_._3/attention/self/key/kernel:0', 'tf_bert_model/bert/encoder/layer_._3/attention/self/key/bias:0', 'tf_bert_model/bert/encoder/layer_._3/attention/self/value/kernel:0', 'tf_bert_model/bert/encoder/layer_._3/attention/self/value/bias:0', 'tf_bert_model/bert/encoder/layer_._3/attention/output/dense/kernel:0', 'tf_bert_model/bert/encoder/layer_._3/attention/output/dense/bias:0', 'tf_bert_model/bert/encoder/layer_._3/attention/output/LayerNorm/gamma:0', 'tf_bert_model/bert/encoder/layer_._3/attention/output/LayerNorm/beta:0', 'tf_bert_model/bert/encoder/layer_._3/intermediate/dense/kernel:0', 'tf_bert_model/bert/encoder/layer_._3/intermediate/dense/bias:0', 'tf_bert_model/bert/encoder/layer_._3/output/dense/kernel:0', 'tf_bert_model/bert/encoder/layer_._3/output/dense/bias:0', 'tf_bert_model/bert/encoder/layer_._3/output/LayerNorm/gamma:0', 'tf_bert_model/bert/encoder/layer_._3/output/LayerNorm/beta:0', 'tf_bert_model/bert/encoder/layer_._4/attention/self/query/kernel:0', 'tf_bert_model/bert/encoder/layer_._4/attention/self/query/bias:0', 'tf_bert_model/bert/encoder/layer_._4/attention/self/key/kernel:0', 'tf_bert_model/bert/encoder/layer_._4/attention/self/key/bias:0', 'tf_bert_model/bert/encoder/layer_._4/attention/self/value/kernel:0', 'tf_bert_model/bert/encoder/layer_._4/attention/self/value/bias:0', 'tf_bert_model/bert/encoder/layer_._4/attention/output/dense/kernel:0', 'tf_bert_model/bert/encoder/layer_._4/attention/output/dense/bias:0', 'tf_bert_model/bert/encoder/layer_._4/attention/output/LayerNorm/gamma:0', 'tf_bert_model/bert/encoder/layer_._4/attention/output/LayerNorm/beta:0', 'tf_bert_model/bert/encoder/layer_._4/intermediate/dense/kernel:0', 'tf_bert_model/bert/encoder/layer_._4/intermediate/dense/bias:0', 'tf_bert_model/bert/encoder/layer_._4/output/dense/kernel:0', 'tf_bert_model/bert/encoder/layer_._4/output/dense/bias:0', 'tf_bert_model/bert/encoder/layer_._4/output/LayerNorm/gamma:0', 'tf_bert_model/bert/encoder/layer_._4/output/LayerNorm/beta:0', 'tf_bert_model/bert/encoder/layer_._5/attention/self/query/kernel:0', 'tf_bert_model/bert/encoder/layer_._5/attention/self/query/bias:0', 'tf_bert_model/bert/encoder/layer_._5/attention/self/key/kernel:0', 'tf_bert_model/bert/encoder/layer_._5/attention/self/key/bias:0', 'tf_bert_model/bert/encoder/layer_._5/attention/self/value/kernel:0', 'tf_bert_model/bert/encoder/layer_._5/attention/self/value/bias:0', 'tf_bert_model/bert/encoder/layer_._5/attention/output/dense/kernel:0', 'tf_bert_model/bert/encoder/layer_._5/attention/output/dense/bias:0', 'tf_bert_model/bert/encoder/layer_._5/attention/output/LayerNorm/gamma:0', 'tf_bert_model/bert/encoder/layer_._5/attention/output/LayerNorm/beta:0', 'tf_bert_model/bert/encoder/layer_._5/intermediate/dense/kernel:0', 'tf_bert_model/bert/encoder/layer_._5/intermediate/dense/bias:0', 'tf_bert_model/bert/encoder/layer_._5/output/dense/kernel:0', 'tf_bert_model/bert/encoder/layer_._5/output/dense/bias:0', 'tf_bert_model/bert/encoder/layer_._5/output/LayerNorm/gamma:0', 'tf_bert_model/bert/encoder/layer_._5/output/LayerNorm/beta:0', 'tf_bert_model/bert/encoder/layer_._6/attention/self/query/kernel:0', 'tf_bert_model/bert/encoder/layer_._6/attention/self/query/bias:0', 'tf_bert_model/bert/encoder/layer_._6/attention/self/key/kernel:0', 'tf_bert_model/bert/encoder/layer_._6/attention/self/key/bias:0', 'tf_bert_model/bert/encoder/layer_._6/attention/self/value/kernel:0', 'tf_bert_model/bert/encoder/layer_._6/attention/self/value/bias:0', 'tf_bert_model/bert/encoder/layer_._6/attention/output/dense/kernel:0', 'tf_bert_model/bert/encoder/layer_._6/attention/output/dense/bias:0', 'tf_bert_model/bert/encoder/layer_._6/attention/output/LayerNorm/gamma:0', 'tf_bert_model/bert/encoder/layer_._6/attention/output/LayerNorm/beta:0', 'tf_bert_model/bert/encoder/layer_._6/intermediate/dense/kernel:0', 'tf_bert_model/bert/encoder/layer_._6/intermediate/dense/bias:0', 'tf_bert_model/bert/encoder/layer_._6/output/dense/kernel:0', 'tf_bert_model/bert/encoder/layer_._6/output/dense/bias:0', 'tf_bert_model/bert/encoder/layer_._6/output/LayerNorm/gamma:0', 'tf_bert_model/bert/encoder/layer_._6/output/LayerNorm/beta:0', 'tf_bert_model/bert/encoder/layer_._7/attention/self/query/kernel:0', 'tf_bert_model/bert/encoder/layer_._7/attention/self/query/bias:0', 'tf_bert_model/bert/encoder/layer_._7/attention/self/key/kernel:0', 'tf_bert_model/bert/encoder/layer_._7/attention/self/key/bias:0', 'tf_bert_model/bert/encoder/layer_._7/attention/self/value/kernel:0', 'tf_bert_model/bert/encoder/layer_._7/attention/self/value/bias:0', 'tf_bert_model/bert/encoder/layer_._7/attention/output/dense/kernel:0', 'tf_bert_model/bert/encoder/layer_._7/attention/output/dense/bias:0', 'tf_bert_model/bert/encoder/layer_._7/attention/output/LayerNorm/gamma:0', 'tf_bert_model/bert/encoder/layer_._7/attention/output/LayerNorm/beta:0', 'tf_bert_model/bert/encoder/layer_._7/intermediate/dense/kernel:0', 'tf_bert_model/bert/encoder/layer_._7/intermediate/dense/bias:0', 'tf_bert_model/bert/encoder/layer_._7/output/dense/kernel:0', 'tf_bert_model/bert/encoder/layer_._7/output/dense/bias:0', 'tf_bert_model/bert/encoder/layer_._7/output/LayerNorm/gamma:0', 'tf_bert_model/bert/encoder/layer_._7/output/LayerNorm/beta:0', 'tf_bert_model/bert/pooler/dense/kernel:0', 'tf_bert_model/bert/pooler/dense/bias:0'] when minimizing the loss. If you're using `model.compile()`, did you forget to provide a `loss` argument?\n"
          ]
        },
        {
          "output_type": "stream",
          "name": "stdout",
          "text": [
            "47/47 [==============================] - 71s 1s/step - loss: 2.2541 - accuracy: 0.1505 - val_loss: 1.9505 - val_accuracy: 0.2357\n",
            "Epoch 2/8\n",
            "47/47 [==============================] - 43s 928ms/step - loss: 1.7506 - accuracy: 0.3064 - val_loss: 1.3070 - val_accuracy: 0.4841\n",
            "Epoch 3/8\n",
            "47/47 [==============================] - 44s 933ms/step - loss: 1.2845 - accuracy: 0.4930 - val_loss: 1.0639 - val_accuracy: 0.5525\n",
            "Epoch 4/8\n",
            "47/47 [==============================] - 43s 926ms/step - loss: 1.0117 - accuracy: 0.6054 - val_loss: 0.9477 - val_accuracy: 0.6146\n",
            "Epoch 5/8\n",
            "47/47 [==============================] - 44s 938ms/step - loss: 0.8653 - accuracy: 0.6649 - val_loss: 0.8651 - val_accuracy: 0.6465\n",
            "Epoch 6/8\n",
            "47/47 [==============================] - 43s 930ms/step - loss: 0.7104 - accuracy: 0.7237 - val_loss: 0.9314 - val_accuracy: 0.6640\n",
            "Epoch 7/8\n",
            "47/47 [==============================] - 43s 927ms/step - loss: 0.5537 - accuracy: 0.7860 - val_loss: 0.9169 - val_accuracy: 0.6959\n",
            "Epoch 8/8\n",
            "47/47 [==============================] - 43s 931ms/step - loss: 0.3962 - accuracy: 0.8615 - val_loss: 0.9207 - val_accuracy: 0.6975\n"
          ]
        }
      ]
    },
    {
      "cell_type": "code",
      "source": [
        "del tf_bert_model\n",
        "del nr_bert_3\n",
        "del nr_bert_3_chkpt\n",
        "del nr_bert_3_history\n",
        "gc.collect()"
      ],
      "metadata": {
        "colab": {
          "base_uri": "https://localhost:8080/"
        },
        "id": "iWXqDeF2o101",
        "outputId": "a939daab-9846-4499-8b37-fdf8339a32ac"
      },
      "execution_count": null,
      "outputs": [
        {
          "output_type": "execute_result",
          "data": {
            "text/plain": [
              "1689"
            ]
          },
          "metadata": {},
          "execution_count": 21
        }
      ]
    },
    {
      "cell_type": "code",
      "source": [
        "# Clear the GPU cache\n",
        "device = cuda.get_current_device()\n",
        "device.reset()"
      ],
      "metadata": {
        "id": "DviS97cdqUZw"
      },
      "execution_count": null,
      "outputs": []
    },
    {
      "cell_type": "code",
      "source": [
        "## Attempt to train a deeper model\n",
        "mixed_precision.set_global_policy('mixed_float16')"
      ],
      "metadata": {
        "id": "MZiCoOf4s5g6"
      },
      "execution_count": null,
      "outputs": []
    },
    {
      "cell_type": "code",
      "source": [
        "# Train the first layer and allow more epochs -- better?\n",
        "tf_bert_model = TFBertModel.from_pretrained(checkpoint)\n",
        "hs_bert_4, hs_bert_4_chkpt = create_bert_classification_model(tf_bert_model, checkpoint_name = 'BERT_twothirds_train_HS', num_train_layers=12)"
      ],
      "metadata": {
        "colab": {
          "base_uri": "https://localhost:8080/"
        },
        "id": "rvVw6sl0uLz8",
        "outputId": "39b03a0c-28b2-4055-a8de-956093462677"
      },
      "execution_count": null,
      "outputs": [
        {
          "output_type": "stream",
          "name": "stderr",
          "text": [
            "WARNING:tensorflow:`period` argument is deprecated. Please use `save_freq` to specify the frequency in number of batches seen.\n"
          ]
        }
      ]
    },
    {
      "cell_type": "code",
      "source": [
        "hs_bert_4_history = hs_bert_4.fit(\n",
        "    [x_hs_train_tf.input_ids, x_hs_train_tf.token_type_ids, x_hs_train_tf.attention_mask],\n",
        "    y_hs_train_tf,\n",
        "    validation_data=([x_hs_test_tf.input_ids, x_hs_test_tf.token_type_ids, x_hs_test_tf.attention_mask], y_hs_test_tf),\n",
        "    batch_size=16,\n",
        "    epochs=8,\n",
        "    callbacks=[hs_bert_4_chkpt]\n",
        ")"
      ],
      "metadata": {
        "colab": {
          "base_uri": "https://localhost:8080/"
        },
        "id": "7djOFC4lyQPI",
        "outputId": "1cfb329f-1061-447a-9b9c-06a7e04b3764"
      },
      "execution_count": null,
      "outputs": [
        {
          "output_type": "stream",
          "name": "stdout",
          "text": [
            "Epoch 1/8\n"
          ]
        },
        {
          "output_type": "stream",
          "name": "stderr",
          "text": [
            "WARNING:tensorflow:Gradients do not exist for variables ['tf_bert_model/bert/pooler/dense/kernel:0', 'tf_bert_model/bert/pooler/dense/bias:0'] when minimizing the loss. If you're using `model.compile()`, did you forget to provide a `loss` argument?\n",
            "WARNING:tensorflow:Gradients do not exist for variables ['tf_bert_model/bert/pooler/dense/kernel:0', 'tf_bert_model/bert/pooler/dense/bias:0'] when minimizing the loss. If you're using `model.compile()`, did you forget to provide a `loss` argument?\n"
          ]
        },
        {
          "output_type": "stream",
          "name": "stdout",
          "text": [
            "328/328 [==============================] - 177s 384ms/step - loss: 2.0532 - accuracy: 0.3034 - val_loss: 1.4257 - val_accuracy: 0.5338\n",
            "Epoch 2/8\n",
            "328/328 [==============================] - 124s 379ms/step - loss: 1.2602 - accuracy: 0.5955 - val_loss: 1.1613 - val_accuracy: 0.6451\n",
            "Epoch 3/8\n",
            "328/328 [==============================] - 123s 376ms/step - loss: 0.7847 - accuracy: 0.7484 - val_loss: 1.0231 - val_accuracy: 0.7089\n",
            "Epoch 4/8\n",
            "328/328 [==============================] - 129s 394ms/step - loss: 0.4943 - accuracy: 0.8487 - val_loss: 1.0337 - val_accuracy: 0.7538\n",
            "Epoch 5/8\n",
            "328/328 [==============================] - 133s 405ms/step - loss: 0.3335 - accuracy: 0.9035 - val_loss: 0.9442 - val_accuracy: 0.7735\n",
            "Epoch 6/8\n",
            "328/328 [==============================] - 124s 377ms/step - loss: 0.2197 - accuracy: 0.9291 - val_loss: 1.1391 - val_accuracy: 0.7730\n",
            "Epoch 7/8\n",
            "328/328 [==============================] - 123s 376ms/step - loss: 0.1974 - accuracy: 0.9348 - val_loss: 1.1402 - val_accuracy: 0.7852\n",
            "Epoch 8/8\n",
            "328/328 [==============================] - 130s 398ms/step - loss: 0.1620 - accuracy: 0.9482 - val_loss: 1.2188 - val_accuracy: 0.7778\n"
          ]
        }
      ]
    },
    {
      "cell_type": "code",
      "source": [
        "# Train the first layer and allow more epochs -- better?\n",
        "tf_bert_model = TFBertModel.from_pretrained(checkpoint)\n",
        "nr_bert_4, nr_bert_4_chkpt = create_bert_classification_model(tf_bert_model, checkpoint_name = 'BERT_full_train_NR', num_train_layers=12)"
      ],
      "metadata": {
        "colab": {
          "base_uri": "https://localhost:8080/"
        },
        "id": "osgPUpRzCZ2K",
        "outputId": "82957053-3c26-422d-99c6-826c65b7c26a"
      },
      "execution_count": null,
      "outputs": [
        {
          "output_type": "stream",
          "name": "stderr",
          "text": [
            "WARNING:tensorflow:`period` argument is deprecated. Please use `save_freq` to specify the frequency in number of batches seen.\n"
          ]
        }
      ]
    },
    {
      "cell_type": "code",
      "source": [
        "nr_bert_4_history = nr_bert_4.fit(\n",
        "    [x_nr_train_tf.input_ids, x_nr_train_tf.token_type_ids, x_nr_train_tf.attention_mask],\n",
        "    y_nr_train_tf,\n",
        "    validation_data=([x_nr_test_tf.input_ids, x_nr_test_tf.token_type_ids, x_nr_test_tf.attention_mask], y_nr_test_tf),\n",
        "    batch_size=16,\n",
        "    epochs=8,\n",
        "    callbacks=[nr_bert_4_chkpt]\n",
        ")"
      ],
      "metadata": {
        "colab": {
          "base_uri": "https://localhost:8080/"
        },
        "id": "bYAVwt7pCgwX",
        "outputId": "857d2368-fc0d-40c7-dd90-eab5aab28e37"
      },
      "execution_count": null,
      "outputs": [
        {
          "output_type": "stream",
          "name": "stdout",
          "text": [
            "Epoch 1/8\n"
          ]
        },
        {
          "output_type": "stream",
          "name": "stderr",
          "text": [
            "WARNING:tensorflow:Gradients do not exist for variables ['tf_bert_model/bert/pooler/dense/kernel:0', 'tf_bert_model/bert/pooler/dense/bias:0'] when minimizing the loss. If you're using `model.compile()`, did you forget to provide a `loss` argument?\n",
            "WARNING:tensorflow:Gradients do not exist for variables ['tf_bert_model/bert/pooler/dense/kernel:0', 'tf_bert_model/bert/pooler/dense/bias:0'] when minimizing the loss. If you're using `model.compile()`, did you forget to provide a `loss` argument?\n"
          ]
        },
        {
          "output_type": "stream",
          "name": "stdout",
          "text": [
            "94/94 [==============================] - 101s 494ms/step - loss: 2.0879 - accuracy: 0.2054 - val_loss: 1.5593 - val_accuracy: 0.2994\n",
            "Epoch 2/8\n",
            "94/94 [==============================] - 37s 396ms/step - loss: 1.3128 - accuracy: 0.4729 - val_loss: 1.0330 - val_accuracy: 0.5462\n",
            "Epoch 3/8\n",
            "94/94 [==============================] - 37s 393ms/step - loss: 0.9028 - accuracy: 0.6415 - val_loss: 0.9149 - val_accuracy: 0.6274\n",
            "Epoch 4/8\n",
            "94/94 [==============================] - 37s 399ms/step - loss: 0.6852 - accuracy: 0.7378 - val_loss: 0.8356 - val_accuracy: 0.6879\n",
            "Epoch 5/8\n",
            "94/94 [==============================] - 36s 388ms/step - loss: 0.4415 - accuracy: 0.8401 - val_loss: 0.9513 - val_accuracy: 0.6815\n",
            "Epoch 6/8\n",
            "94/94 [==============================] - 36s 388ms/step - loss: 0.2778 - accuracy: 0.8990 - val_loss: 1.0301 - val_accuracy: 0.6879\n",
            "Epoch 7/8\n",
            "94/94 [==============================] - 36s 380ms/step - loss: 0.1435 - accuracy: 0.9498 - val_loss: 1.2917 - val_accuracy: 0.6752\n",
            "Epoch 8/8\n",
            "94/94 [==============================] - 36s 387ms/step - loss: 0.0760 - accuracy: 0.9746 - val_loss: 1.4000 - val_accuracy: 0.6911\n"
          ]
        }
      ]
    }
  ]
}